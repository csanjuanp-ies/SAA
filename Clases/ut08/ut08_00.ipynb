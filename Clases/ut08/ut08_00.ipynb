{
 "cells": [
  {
   "cell_type": "markdown",
   "source": [
    "# U.T.8 Retos.\n",
    "## Conseguir el mejor resultado posible"
   ],
   "metadata": {
    "collapsed": false,
    "pycharm": {
     "name": "#%% md\n"
    }
   }
  },
  {
   "cell_type": "code",
   "execution_count": null,
   "outputs": [],
   "source": [
    "import openml\n",
    "!pip install openml openml_speed_dating_pipeline_steps\n",
    "\n",
    "dataset = openml.datasets.get_dataset(40536)\n",
    "\n",
    "X, y, categorical_indicator, _ = dataset.get_data(dataset_format='DataFrame', target=dataset.default_target_attribute)"
   ],
   "metadata": {
    "collapsed": false,
    "pycharm": {
     "name": "#%%\n"
    }
   }
  },
  {
   "cell_type": "markdown",
   "source": [
    "## Conseguir el mejor resultado posible\n",
    "\n",
    "Se utilizará como marco de trabajo la competición que sobre este problema está propuesta dentro de DrivenData,\n",
    "concretamente en https://www.drivendata.org/competitions/44/dengai-predicting-disease-spread/\n",
    "Para participar será necesario registrarse en la plataforma y seguir las instrucciones correspondientes.\n",
    "\n",
    "El objetivo del trabajo de evaluación es crear un modelo mediante técnicas de aprendizaje supervisado que sirva\n",
    "para la predicción sobre los casos de dengue en una semana a partir de los datos metereológicos de la misma.\n",
    "Estos datos provienen de dos ciudades distintas, por un lado San Juan de Puerto Rico y por otro Iquitos (Perú).\n",
    "\n",
    "Entregable: alumnos deben participar en la competición y entregar el fichero Python correspondiente como una\n",
    "imagen del resultado obtenido\n"
   ],
   "metadata": {
    "collapsed": false,
    "pycharm": {
     "name": "#%% md\n"
    }
   }
  }
 ],
 "metadata": {
  "kernelspec": {
   "display_name": "Python 3",
   "language": "python",
   "name": "python3"
  },
  "language_info": {
   "codemirror_mode": {
    "name": "ipython",
    "version": 2
   },
   "file_extension": ".py",
   "mimetype": "text/x-python",
   "name": "python",
   "nbconvert_exporter": "python",
   "pygments_lexer": "ipython2",
   "version": "2.7.6"
  }
 },
 "nbformat": 4,
 "nbformat_minor": 0
}