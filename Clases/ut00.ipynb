{
 "cells": [
  {
   "cell_type": "markdown",
   "metadata": {
    "collapsed": true,
    "pycharm": {
     "name": "#%% md\n"
    }
   },
   "source": [
    "# Introducción\n",
    "El aprendizaje automático o aprendizaje automatizado o aprendizaje de máquinas (del inglés, machine learning) es el\n",
    "subcampo de las ciencias de la computación y una rama de la inteligencia artificial, cuyo objetivo es desarrollar\n",
    "técnicas que permitan que las computadoras aprendan. Se dice que un agente aprende cuando su desempeño mejora con la\n",
    "experiencia y mediante el uso de datos; es decir, cuando la habilidad no estaba presente en su genotipo o rasgos de\n",
    "nacimiento.\n",
    "\n",
    "\"En el aprendizaje de máquinas un computador observa datos, construye un modelo basado en esos datos y utiliza ese\n",
    "modelo a la vez como una hipótesis acerca del mundo y una pieza de software que puede resolver problemas\".\n",
    "\n",
    "En muchas ocasiones el campo de actuación del aprendizaje automático se solapa con el de la estadística inferencial,\n",
    "ya que las dos disciplinas se basan en el análisis de datos. Sin embargo, el aprendizaje automático incorpora las\n",
    "preocupaciones de la complejidad computacional de los problemas. Muchos problemas son de clase NP-hard, por lo que\n",
    "gran parte de la investigación realizada en aprendizaje automático está enfocada al diseño de soluciones factibles a\n",
    "esos problemas. El aprendizaje automático también está estrechamente relacionado con el reconocimiento de patrones.\n",
    "El aprendizaje automático puede ser visto como un intento de automatizar algunas partes del método científico mediante\n",
    "métodos matemáticos. Por lo tanto es un proceso de inducción del conocimiento.\n",
    "\n",
    "\n",
    "\n",
    "El aprendizaje automático tiene una amplia gama de aplicaciones, incluyendo motores de búsqueda, diagnósticos médicos,\n",
    "detección de fraude en el uso de tarjetas de crédito, análisis del mercado de valores, clasificación de secuencias\n",
    "de ADN, reconocimiento del habla y del lenguaje escrito, juegos y robótica.\n",
    "\n",
    "Fuente: Wikipedia"
   ]
  },
  {
   "cell_type": "markdown",
   "source": [
    "## Contenido del curso\n",
    "- Introducción. Conceptos de machine learning.\n",
    "- Aprendizaje supervisado (I). Clasificación.\n",
    "- Metodología del ML\n",
    "- Aprendizaje supervisado (II). Regresión\n",
    "- Aprendizaje no supervisado\n",
    "- Redes neuronales"
   ],
   "metadata": {
    "collapsed": false
   }
  },
  {
   "cell_type": "markdown",
   "source": [
    "## Requerimientos\n",
    "- Los apuntes proporcionados\n",
    "- Asistir a clase\n",
    "- Conocer Python a nivel básico\n",
    "- Conocer álgebra a nivel básico\n",
    "- Tener un hardware decente\n",
    "    - Un procesador de los últimos cinco años\n",
    "    - Memoria 8GB o más\n",
    "    - Mejor una GPU RTX 20xx o 30xx\n"
   ],
   "metadata": {
    "collapsed": false
   }
  },
  {
   "cell_type": "markdown",
   "source": [
    "## Qué se está haciendo en el ML\n",
    "- Animación realística https://www.youtube.com/watch?v=Yewm6TfLZ3Q\n",
    "- Transferencia de estilos fotográficos\n",
    "https://blog.universidadeuropea.es/sites/default/files/media/u34/adobe-s-deep-photo-style-transfer-tech-is-and-works-exactly-how-it-sounds-514425-3.png\n",
    "- Incremento de valor. El valor empresarial creado por la IA alcanzará los 3,9 billones de dólares en 2022, según Gartner. IDC dice que el gasto mundial en inteligencia cognitiva y artificial los sistemas alcanzarán los 77.600 millones de dólares durante el mismo año.\n",
    "- Incremento de los puestos de trabajo. La cantidad de trabajos de inteligencia artificial enumerados en Indeed desde mayo de 2018 hasta mayo de 2019 creció un 29 por ciento\n",
    "- etc..."
   ],
   "metadata": {
    "collapsed": false
   }
  },
  {
   "cell_type": "markdown",
   "source": [
    "# Corta historia del ML\n",
    "![](imgs/ut00_00.png)\n",
    "<img src=\"./imgs/ut00_00.png\">\n",
    "\n"
   ],
   "metadata": {
    "collapsed": false
   }
  },
  {
   "cell_type": "markdown",
   "source": [
    "## Hitos del ML\n",
    "![](imgs/ut00_01.png)\n",
    "<img src=\"./imgs/ut00_01.png\">"
   ],
   "metadata": {
    "collapsed": false
   }
  },
  {
   "cell_type": "markdown",
   "source": [
    "# Recursos\n",
    "- https://scikit-learn.org/stable/tutorial/index.html\n",
    "- https://scikit-learn.org/stable/user_guide.html\n",
    "- https://www.tensorflow.org/guide/\n",
    "- https://www.tensorflow.org/api_docs/python/tf\n",
    "- https://keras.io/guides/\n",
    "- https://keras.io/api/\n",
    "- https://opencv.org\n",
    "- https://towardsdatascience.com/real-time-face-recognition-an-end-to-end-project-b738bb0f7348\n",
    "- https://towardsdatascience.com/training-a-neural-network-to-detect-gestures-with-opencv-in-python-e09b0a12bdf1\n",
    "- https://nanonets.com/blog/how-to-do-semantic-segmentation-using-deep-learning/\n",
    "- https://divamgupta.com/image-segmentation/2019/06/06/deep-learning-semantic-segmentation-keras.html"
   ],
   "metadata": {
    "collapsed": false
   }
  }
 ],
 "metadata": {
  "kernelspec": {
   "display_name": "Python 3",
   "language": "python",
   "name": "python3"
  },
  "language_info": {
   "codemirror_mode": {
    "name": "ipython",
    "version": 2
   },
   "file_extension": ".py",
   "mimetype": "text/x-python",
   "name": "python",
   "nbconvert_exporter": "python",
   "pygments_lexer": "ipython2",
   "version": "2.7.6"
  }
 },
 "nbformat": 4,
 "nbformat_minor": 0
}