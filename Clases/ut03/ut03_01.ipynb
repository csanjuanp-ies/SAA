{
 "cells": [
  {
   "cell_type": "markdown",
   "source": [
    "# U.T.3 Metodología del ML.\n",
    "## Ajuste de problemas\n",
    "### Sobreajuste\n",
    "Si un modelo predice los datos mucho mejor en los de entrenamiento que en los de test,\n",
    "es muy posible que sea un sobreajuste.\n",
    "La posible razón es que nuestro modelo es muy complejo para los datos de entrenamiento.\n",
    "\n",
    "Las soluciones más comunes para esto son:\n",
    "- Conseguir más datos para entrenar el modelo.\n",
    "- Elegir un modelo más simple.\n",
    "- Introducir una penalización a la complejidad del modelo vía regularización.\n",
    "- Reducir la dimensionalidad de los datos.\n",
    "    - Eliminando características con baja varianza\n",
    "    - Selección de características invariables\n",
    "    - Con bosques aleatorios\n",
    "    - Extracción de características\n",
    "\n",
    "### Regularización\n",
    "La regularización es una manera para manejar la colinealidad (alta correlación entre las características),\n",
    "filtrar el ruido y prevenir el sobreajuste.\n",
    "\n",
    "La correlación de dos atributos indica la semejanza entre ambas variables. Este valor va desde menos uno (-1)\n",
    "hasta uno (1), siendo el cero el punto donde mayor independencia hay entre las variables y los extremos donde mayor.\n",
    "\n",
    "Se puede detectar con la matriz de correlación"
   ],
   "metadata": {
    "collapsed": false
   }
  },
  {
   "cell_type": "code",
   "execution_count": 1,
   "outputs": [
    {
     "name": "stdout",
     "output_type": "stream",
     "text": [
      "[[1.    0.656]\n",
      " [0.656 1.   ]]\n",
      "[[ 1.    -0.085]\n",
      " [-0.085  1.   ]]\n",
      "[[ 1.    -0.179]\n",
      " [-0.179  1.   ]]\n"
     ]
    }
   ],
   "source": [
    "import numpy as np\n",
    "import pandas as pd\n",
    "import seaborn as sns\n",
    "\n",
    "np.random.seed(1)\n",
    "\n",
    "x_1 = np.random.randn(10)\n",
    "x_2 = np.random.randn(10)\n",
    "x_3 = np.random.randn(10)\n",
    "\n",
    "print(np.corrcoef(x_1, x_2).round(3))\n",
    "print(np.corrcoef(x_1, x_3).round(3))\n",
    "print(np.corrcoef(x_2, x_3).round(3))"
   ],
   "metadata": {
    "collapsed": false,
    "pycharm": {
     "name": "#%%\n"
    }
   }
  },
  {
   "cell_type": "code",
   "execution_count": 2,
   "outputs": [
    {
     "data": {
      "text/plain": "<AxesSubplot:>"
     },
     "execution_count": 2,
     "metadata": {},
     "output_type": "execute_result"
    },
    {
     "data": {
      "text/plain": "<Figure size 432x288 with 2 Axes>",
      "image/png": "[encoded data removed]"
     },
     "metadata": {
      "needs_background": "light"
     },
     "output_type": "display_data"
    }
   ],
   "source": [
    "df = pd.DataFrame({\"x_1\":x_1, \"x_2\":x_2, \"x_3\":x_3})\n",
    "sns.heatmap(df.corr(), annot=True)\n"
   ],
   "metadata": {
    "collapsed": false,
    "pycharm": {
     "name": "#%%\n"
    }
   }
  },
  {
   "cell_type": "markdown",
   "source": [
    "El significado de los valores son los siguientes:\n",
    "- Un valor cercano a 1, si crece uno crece el otro\n",
    "- Un valor cercano a -1, si crece uno decrece el otro\n",
    "- Un valor cercano a 0 no están correlacionados"
   ],
   "metadata": {
    "collapsed": false,
    "pycharm": {
     "name": "#%% md\n"
    }
   }
  },
  {
   "cell_type": "markdown",
   "source": [
    "La regularización introduce información adicional para penalizar los valores extremos de los parámetros.\n",
    "\n",
    "Para que la regularización funcione es imprescindible que las características sean comparables (se hayan escalado).\n",
    "\n",
    "**Tipos**\n",
    "- La regularización **L2** reduce la complejidad del modelo penalizando los valores altos de los pesos, con lo que se tiende\n",
    "a que los pesos sean cercanos a cero\n",
    "- La regularización **L1** hace que muchos de los pesos valgan cero, con lo que el efecto es que algunas características\n",
    "no cuentan y por tanto es una reducción de las mismas\n",
    "- La regularización **Elástica**. A medio camino entre la regularización L1 y la L2 se encuentra la regularización elástica\n",
    "Tiene un parámetro que determina la cantidad de regularización.En caso de valer 0, es equivalente la L2,\n",
    "en caso de valer 1 es equivalente a L1, y el resto de valores entre\n",
    "cero y uno hacer que se aplique n de forma proporcional las regularizaciones L2 y L1.\n",
    "\n",
    "\n",
    "Las penalizaciones incluyen un parámetro **C** que determina la cantidad de regularización.\n",
    "Cuanto más pequeño es este parámetro, más fuerte es la regularización."
   ],
   "metadata": {
    "collapsed": false,
    "pycharm": {
     "name": "#%% md\n"
    }
   }
  },
  {
   "cell_type": "code",
   "execution_count": 3,
   "outputs": [
    {
     "name": "stdout",
     "output_type": "stream",
     "text": [
      "Class labels: [0 1]\n",
      "Tasa(L1): 1 - 0.96\n",
      "Tasa(L1): 0.1 - 0.955\n",
      "Tasa(L1): 0.01 - 0.955\n",
      "Tasa(L1): 0.001 - 0.93\n",
      "Tasa(L2): 1 - 0.955\n",
      "Tasa(L2): 0.1 - 0.96\n",
      "Tasa(L2): 0.01 - 0.955\n",
      "Tasa(L2): 0.001 - 0.955\n",
      "Tasa(Elastic): 1 - 0.955\n",
      "Tasa(Elastic): 0.1 - 0.955\n",
      "Tasa(Elastic): 0.01 - 0.955\n",
      "Tasa(Elastic): 0.001 - 0.955\n"
     ]
    }
   ],
   "source": [
    "from sklearn.linear_model import LogisticRegression\n",
    "\n",
    "df = pd.read_csv(\"train_data.txt\", encoding='utf-8')\n",
    "X_train = df.iloc[:, [0, 1]].values\n",
    "y_train = df.iloc[:, 2].values\n",
    "print('Class labels:', np.unique(y_train))\n",
    "\n",
    "df = pd.read_csv(\"test_data.txt\", encoding='utf-8')\n",
    "X_test = df.iloc[:, [0, 1]].values\n",
    "y_test = df.iloc[:, 2].values\n",
    "\n",
    "c_params = [1, 0.1, 0.01, 0.001]\n",
    "\n",
    "for C in c_params:\n",
    "    lrn = LogisticRegression(C=C, random_state=1, solver='liblinear', penalty='l1')\n",
    "    lrn.fit(X_train, y_train)\n",
    "    print(\"Tasa(L1):\", C, \"-\", lrn.score(X_test, y_test))\n",
    "    y_pred = lrn.predict(X_test)\n",
    "\n",
    "for C in c_params:\n",
    "    lrn = LogisticRegression(C=C, random_state=1, solver='liblinear', penalty='l2')\n",
    "    lrn.fit(X_train, y_train)\n",
    "    print(\"Tasa(L2):\", C, \"-\", lrn.score(X_test, y_test))\n",
    "    y_pred = lrn.predict(X_test)\n",
    "\n",
    "for C in c_params:\n",
    "    lrn = LogisticRegression(l1_ratio=C, random_state=1, solver='saga', penalty='elasticnet')\n",
    "    lrn.fit(X_train, y_train)\n",
    "    print(\"Tasa(Elastic):\", C, \"-\", lrn.score(X_test, y_test))\n",
    "    y_pred = lrn.predict(X_test)\n"
   ],
   "metadata": {
    "collapsed": false,
    "pycharm": {
     "name": "#%%\n"
    }
   }
  },
  {
   "cell_type": "markdown",
   "source": [
    "# Reducción de la dimensionalidad\n",
    "## Introducción\n",
    "Proceso de reducción del número de variables aleatorias con las que trabajar.\n",
    "Partiendo de un número de características n llegaremos a otro similar con m características donde m < n.\n",
    "\n",
    "https://scikit-learn.org/stable/modules/feature_selection.html\n",
    "\n",
    "Cuanto mayor número de dimensiones tenemos, mayor es el riego de sobreajuste del algoritmo, y cuanto más reduzcamos\n",
    "las dimensiones más rápido se efectuará el entrenamiento, pero no siempre nos llevará a un resultado más óptimo.\n",
    "\n",
    "**El mayor problema de estos algoritmos es determinar el número de componentes en la reducción**\n",
    "\n",
    "Tipos:\n",
    "- Reducción de características\n",
    "    - Selección de características invariables\n",
    "    - Eliminando características con baja varianza\n",
    "    - Selección con bosques aleatorios\n",
    "- Extracción de características\n",
    "\n",
    "## Selección de características invariables\n",
    "Selecciona las mejores características basándose en test de invarianza estadística.\n",
    "Este algoritmo utiliza una función de selección que debe ser:\n",
    "- Para problemas de clasificación: chi2, f_classif, mutual_info_classif.\n",
    "- Para problemas de regresión: f_regression, mutual_info_regression (más adelante)."
   ],
   "metadata": {
    "collapsed": false,
    "pycharm": {
     "name": "#%% md\n"
    }
   }
  },
  {
   "cell_type": "code",
   "execution_count": 4,
   "outputs": [
    {
     "name": "stdout",
     "output_type": "stream",
     "text": [
      "(150, 4)\n",
      "(150, 2)\n"
     ]
    }
   ],
   "source": [
    "from sklearn.datasets import load_iris\n",
    "from sklearn.feature_selection import SelectKBest\n",
    "from sklearn.feature_selection import chi2, f_classif, mutual_info_classif\n",
    "\n",
    "X, y = load_iris(return_X_y=True)\n",
    "print(X.shape)  # (150, 4)\n",
    "funciones_de_seleccion  = [chi2, f_classif, mutual_info_classif]\n",
    "for funcion in funciones_de_seleccion:\n",
    "    # K número de características, también se puede ajustar\n",
    "    X_new = SelectKBest(funcion, k=2).fit_transform(X, y)\n",
    "print(X_new.shape)  # (150, 2)\n",
    "    # métrica y comprobar"
   ],
   "metadata": {
    "collapsed": false,
    "pycharm": {
     "name": "#%%\n"
    }
   }
  },
  {
   "cell_type": "markdown",
   "source": [
    "## Eliminando características con baja varianza\n",
    "Se eliminan aquellas características que tienen varianza cero, o el mismo valor en todas las características,\n",
    "**threshold** si la varianza de la característica es menor que este valor se elimina."
   ],
   "metadata": {
    "collapsed": false,
    "pycharm": {
     "name": "#%% md\n"
    }
   }
  },
  {
   "cell_type": "code",
   "execution_count": 5,
   "outputs": [
    {
     "name": "stdout",
     "output_type": "stream",
     "text": [
      "   0  1  2\n",
      "0  0  0  1\n",
      "1  0  1  0\n",
      "2  1  0  0\n",
      "3  0  1  1\n",
      "4  0  1  0\n",
      "5  0  1  1\n",
      "\n",
      "   0  1\n",
      "0  0  1\n",
      "1  1  0\n",
      "2  0  0\n",
      "3  1  1\n",
      "4  1  0\n",
      "5  1  1\n"
     ]
    }
   ],
   "source": [
    "import pandas as pd\n",
    "from sklearn.feature_selection import VarianceThreshold\n",
    "\n",
    "X = [[0, 0, 1], [0, 1, 0], [1, 0, 0], [0, 1, 1], [0, 1, 0], [0, 1, 1]]\n",
    "sel = VarianceThreshold(threshold=(.8 * (1 - .8)))\n",
    "print(pd.DataFrame(X))\n",
    "print()\n",
    "print(pd.DataFrame(sel.fit_transform(X)))"
   ],
   "metadata": {
    "collapsed": false,
    "pycharm": {
     "name": "#%%\n"
    }
   }
  },
  {
   "cell_type": "markdown",
   "source": [
    "## Con bosques aleatorios\n",
    "Los bosques aleatorios pueden determinar la importancia de cada característica sin hacer supuestos sobre si los datos\n",
    "son linealmente separables o no.\n",
    "Una vez realizado el bosque podremos ver las características más relevantes con el atributo **feature_importances**.\n",
    "\n",
    "El mayor problema que tiene este mecanismo para la elección de características es que si dos características están\n",
    "altamente correlacionadas, una obtendrá una alta puntuación a cambio de no recoger todas las características de los\n",
    "datos de la otra."
   ],
   "metadata": {
    "collapsed": false,
    "pycharm": {
     "name": "#%% md\n"
    }
   }
  },
  {
   "cell_type": "code",
   "execution_count": 6,
   "outputs": [
    {
     "name": "stdout",
     "output_type": "stream",
     "text": [
      " 1) 13                             0.185453\n",
      " 2) 7                              0.174751\n",
      " 3) 10                             0.143920\n",
      " 4) 12                             0.136162\n",
      " 5) 1                              0.118529\n",
      " 6) 11                             0.058739\n",
      " 7) 6                              0.050872\n",
      " 8) 5                              0.031357\n",
      " 9) 2                              0.025648\n",
      "10) 9                              0.025570\n",
      "11) 4                              0.022366\n",
      "12) 8                              0.013354\n",
      "13) 3                              0.013279\n"
     ]
    },
    {
     "data": {
      "text/plain": "<Figure size 432x288 with 1 Axes>",
      "image/png": "[encoded data removed]"
     },
     "metadata": {
      "needs_background": "light"
     },
     "output_type": "display_data"
    }
   ],
   "source": [
    "import numpy as np\n",
    "import pandas as pd\n",
    "from matplotlib import pyplot as plt\n",
    "from sklearn.ensemble import RandomForestClassifier\n",
    "from sklearn.model_selection import train_test_split\n",
    "\n",
    "df_wine = pd.read_csv('wine.data', header=None)\n",
    "X, y = df_wine.iloc[:, 1:].values, df_wine.iloc[:, 0].values\n",
    "X_train, X_test, y_train, y_test = train_test_split(X, y, test_size=0.3,\n",
    "\t\t\trandom_state=0, stratify=y)\n",
    "feat_labels = df_wine.columns[1:]\n",
    "forest = RandomForestClassifier(n_estimators=500,  random_state=1)\n",
    "forest.fit(X_train, y_train)\n",
    "importances = forest.feature_importances_\n",
    "\n",
    "indices = np.argsort(importances)[::-1]\n",
    "for f in range(X_train.shape[1]):\n",
    "    print(\"%2d) %-*s %f\" % (f + 1, 30,\n",
    "                            feat_labels[indices[f]],\n",
    "                            importances[indices[f]]))\n",
    "\n",
    "plt.title('Feature Importance')\n",
    "plt.bar(range(X_train.shape[1]), importances[indices],  align='center')\n",
    "\n",
    "plt.xticks(range(X_train.shape[1]),\n",
    "           feat_labels[indices], rotation=90)\n",
    "plt.xlim([-1, X_train.shape[1]])\n",
    "plt.tight_layout()\n",
    "plt.show()"
   ],
   "metadata": {
    "collapsed": false,
    "pycharm": {
     "name": "#%%\n"
    }
   }
  },
  {
   "cell_type": "markdown",
   "source": [
    "Del gráfico anterior se elegirían las 4 o cinco primeras características: 13, 7, 10, 12, 1."
   ],
   "metadata": {
    "collapsed": false,
    "pycharm": {
     "name": "#%% md\n"
    }
   }
  },
  {
   "cell_type": "markdown",
   "source": [
    "## Extracción\n",
    "Se genera un espacio nuevo de dimensiones a partir del original, pero con menos dimensiones manteniendo toda la\n",
    "información del espacio original\n",
    "\n",
    "Tipos\n",
    "- PCA\n",
    "- LDA\n",
    "- Kernel no lineal\n",
    "- Otros"
   ],
   "metadata": {
    "collapsed": false,
    "pycharm": {
     "name": "#%% md\n"
    }
   }
  },
  {
   "cell_type": "markdown",
   "source": [
    "### PCA\n",
    "Análisis de componentes principales\n",
    "\n",
    "Buscar una matriz de transformaciones desde el espacio original al espacio buscado (W), realizar la transformación\n",
    "z = Wx, dónde z es el nuevo vector y x el antiguo.\n",
    "El algoritmo PCA intenta buscar las direcciones de máxima varianza en el espacio de partida y proyectarlo en otro\n",
    "con menos dimensiones\n",
    "\n",
    "Los ejes (componentes principales) serán ortogonales en el nuevo espacio, se interpretan como las direcciones de\n",
    "máxima varianza con respecto a los ejes ya definidos.\n",
    "Hay que tener en cuenta que las direcciones (las componentes extraídas) son muy dependientes al escalado de los datos,\n",
    "por lo que se tienen que estandarizar los datos antes si queremos dar la misma importancia a todas las características\n",
    "originales."
   ],
   "metadata": {
    "collapsed": false,
    "pycharm": {
     "name": "#%% md\n"
    }
   }
  },
  {
   "cell_type": "code",
   "execution_count": 7,
   "outputs": [
    {
     "name": "stdout",
     "output_type": "stream",
     "text": [
      "Tasa: 1.0\n",
      "Tasa: 0.9259259259259259\n"
     ]
    }
   ],
   "source": [
    "from sklearn.decomposition import PCA\n",
    "from sklearn.preprocessing import StandardScaler\n",
    "\n",
    "df_wine = pd.read_csv('wine.data', header=None)\n",
    "df_wine.columns = ['Class label', 'Alcohol', 'Malic acid', 'Ash',\n",
    "                   'Alcalinity of ash', 'Magnesium', 'Total phenols',\n",
    "                   'Flavanoids', 'Nonflavanoid phenols',  'Proanthocyanins',\n",
    "                   'Color intensity', 'Hue', 'OD280/OD315 of diluted wines', 'Proline']\n",
    "\n",
    "df_wine.head()\n",
    "X, y = df_wine.iloc[:, 1:].values, df_wine.iloc[:, 0].values\n",
    "X_train, X_test, y_train, y_test = train_test_split(X, y, test_size=0.3,  stratify=y,  random_state=0)\n",
    "\n",
    "# Standardizing the data.\n",
    "sc = StandardScaler()\n",
    "X_train_std = sc.fit_transform(X_train)\n",
    "X_test_std = sc.transform(X_test)\n",
    "\n",
    "pca = PCA(n_components=2)   # n_components se puede ajustar 2, 6 y 7\n",
    "X_train_pca = pca.fit_transform(X_train_std)\n",
    "X_test_pca = pca.transform(X_test_std)\n",
    "\n",
    "lr = LogisticRegression(multi_class='ovr', random_state=1, solver='lbfgs')\n",
    "lr = lr.fit(X_train_std, y_train)\n",
    "print(\"Tasa:\", lr.score(X_test_std, y_test))\n",
    "\n",
    "lr = LogisticRegression(multi_class='ovr', random_state=1, solver='lbfgs')\n",
    "lr = lr.fit(X_train_pca, y_train)\n",
    "print(\"Tasa:\", lr.score(X_test_pca, y_test))\n"
   ],
   "metadata": {
    "collapsed": false,
    "pycharm": {
     "name": "#%%\n"
    }
   }
  },
  {
   "cell_type": "markdown",
   "source": [
    "### LDA\n",
    "Análisis discriminante lineal.\n",
    "\n",
    "Este mecanismo se basa en usar un método supervisado frente al no supervisado del anterior.\n",
    "Esta técnica la podemos usar con datos no regularizados.\n",
    "Para que el método sea óptimo hay que tener en cuenta que las clases deben tener idéntica matriz de covarianza y los\n",
    "ejemplos deben ser estadísticamente independientes.\n",
    "Pero incluso sin que se cumplan estas restricciones el algoritmo funciona bien."
   ],
   "metadata": {
    "collapsed": false,
    "pycharm": {
     "name": "#%% md\n"
    }
   }
  },
  {
   "cell_type": "code",
   "execution_count": 8,
   "outputs": [
    {
     "name": "stdout",
     "output_type": "stream",
     "text": [
      "Tasa: 1.0\n"
     ]
    }
   ],
   "source": [
    "from sklearn.discriminant_analysis import LinearDiscriminantAnalysis as LDA\n",
    "df_wine = pd.read_csv('wine.data', header=None)\n",
    "df_wine.columns = ['Class label', 'Alcohol', 'Malic acid', 'Ash',\n",
    "                   'Alcalinity of ash', 'Magnesium', 'Total phenols',\n",
    "                   'Flavanoids', 'Nonflavanoid phenols',  'Proanthocyanins',\n",
    "                   'Color intensity', 'Hue', 'OD280/OD315 of diluted wines', 'Proline']\n",
    "\n",
    "df_wine.head()\n",
    "X, y = df_wine.iloc[:, 1:].values, df_wine.iloc[:, 0].values\n",
    "X_train, X_test, y_train, y_test = train_test_split(X, y, test_size=0.3,  stratify=y,  random_state=0)\n",
    "\n",
    "# Standardizing the data.\n",
    "sc = StandardScaler()\n",
    "X_train_std = sc.fit_transform(X_train)\n",
    "X_test_std = sc.transform(X_test)\n",
    "\n",
    "lda = LDA(n_components=2) # n_components se puede ajustar\n",
    "X_train_lda = lda.fit_transform(X_train_std, y_train)\n",
    "X_test_lda = lda.transform(X_test_std)\n",
    "\n",
    "lr = LogisticRegression(multi_class='ovr', random_state=1, solver='lbfgs')\n",
    "lr = lr.fit(X_train_pca, y_train)\n",
    "\n",
    "print(\"Tasa:\", lr.score(X_test_lda, y_test))"
   ],
   "metadata": {
    "collapsed": false,
    "pycharm": {
     "name": "#%%\n"
    }
   }
  },
  {
   "cell_type": "markdown",
   "source": [
    "### Kernel no lineal\n",
    "Gestionar problemas no lineares proyectándolos en un espacio mayor que sea lineal y posteriormente realizar la\n",
    "reducción de dimensionalidad con PCA al espacio deseado"
   ],
   "metadata": {
    "collapsed": false,
    "pycharm": {
     "name": "#%% md\n"
    }
   }
  },
  {
   "cell_type": "code",
   "execution_count": 9,
   "outputs": [
    {
     "data": {
      "text/plain": "<Figure size 432x288 with 1 Axes>",
      "image/png": "[encoded data removed]"
     },
     "metadata": {
      "needs_background": "light"
     },
     "output_type": "display_data"
    }
   ],
   "source": [
    "import matplotlib.pyplot as plt\n",
    "from sklearn.datasets import make_moons\n",
    "from sklearn.decomposition import KernelPCA\n",
    "\n",
    "\n",
    "X, y = make_moons(n_samples=100, random_state=123)\n",
    "scikit_kpca = KernelPCA(n_components=2, kernel='rbf', gamma=15)\n",
    "X_skernpca = scikit_kpca.fit_transform(X)\n",
    "\n",
    "plt.scatter(X_skernpca[y == 0, 0], X_skernpca[y == 0, 1],\n",
    "            color='red', marker='^', alpha=0.5)\n",
    "plt.scatter(X_skernpca[y == 1, 0], X_skernpca[y == 1, 1],\n",
    "            color='blue', marker='o', alpha=0.5)\n",
    "\n",
    "plt.xlabel('PC1')\n",
    "plt.ylabel('PC2')\n",
    "plt.tight_layout()\n",
    "plt.show()"
   ],
   "metadata": {
    "collapsed": false,
    "pycharm": {
     "name": "#%%\n"
    }
   }
  },
  {
   "cell_type": "markdown",
   "source": [
    "### Otros\n",
    "- **PCA Incremental**. Permite dividir el conjunto de entrada en partes más pequeñas y alimentar el algoritmo con ellas.\n",
    "De esta manera se puede entrenar de forma online y con datasets muy grandes.\n",
    "- **LLE**. Se mide primero cada instancia de forma lineal con sus vecinos y se busca una representación de menor\n",
    "dimensionalidad que preserve dichas relaciones.\n",
    "- **Proyecciones aleatorias**. Se elige al azar las dimensiones.\n",
    "- **MDS**. Reduce la dimensionalidad preservando la distancia entre las instancias.\n",
    "- **Isomapas**. Crea un grafo de interconexión con los vecinos e intentar mantener la distancia geodésica.\n"
   ],
   "metadata": {
    "collapsed": false,
    "pycharm": {
     "name": "#%% md\n"
    }
   }
  }
 ],
 "metadata": {
  "kernelspec": {
   "display_name": "Python 3",
   "language": "python",
   "name": "python3"
  },
  "language_info": {
   "codemirror_mode": {
    "name": "ipython",
    "version": 2
   },
   "file_extension": ".py",
   "mimetype": "text/x-python",
   "name": "python",
   "nbconvert_exporter": "python",
   "pygments_lexer": "ipython2",
   "version": "2.7.6"
  }
 },
 "nbformat": 4,
 "nbformat_minor": 0
}