{
 "cells": [
  {
   "cell_type": "markdown",
   "source": [
    "# U.T.5 Aprendizaje supervisado (II).\n",
    "## Introducción\n",
    "Son las técnicas que nos permiten descubrir la estructura intrínseca de los datos sin conocer de antemano la solución.\n",
    "\n",
    "## k-means y k-means++\n",
    "### K-MEANS\n",
    "Para cada bloque se buscará el centroide (el punto en media) o el mediode (el punto más representativo) y se minimizará\n",
    "la distancia con el resto de puntos para formar los grupos.\n",
    "Especialmente bueno para divisiones esféricas.\n",
    "\n",
    "El mayor problema es que debemos establecer a priori el número de grupos (k) a crear, no se deducen de los datos\n",
    "además de que alguno pueda estar vacío y que no se ajusta bien a datos con diferentes tamaños, densidades o formas\n",
    "no esféricas.\n",
    "\n",
    "Deberemos asegurarnos que todas las características están medidas aplicando la misma escala, por lo que habrá que\n",
    "hacer una estandarización o un escalado Max-min"
   ],
   "metadata": {
    "collapsed": false,
    "pycharm": {
     "name": "#%% md\n"
    }
   }
  },
  {
   "cell_type": "code",
   "execution_count": null,
   "outputs": [],
   "source": [
    "from sklearn.cluster import KMeans\n",
    "\n",
    "km = KMeans(n_clusters=3, init='random', n_init=10, max_iter=300, tol=1e-04, random_state=0)\n",
    "\n",
    "y_km = km.fit_predict(X)"
   ],
   "metadata": {
    "collapsed": false,
    "pycharm": {
     "name": "#%%\n"
    }
   }
  },
  {
   "cell_type": "markdown",
   "source": [
    "### KmeNS +\n",
    "Mejora el algoritmo anterior aplicando la estrategia de situar los centroides lo más separados posibles unos de otros,\n",
    " haciendo que converja mejor y sea más consistente en sus resultados"
   ],
   "metadata": {
    "collapsed": false,
    "pycharm": {
     "name": "#%% md\n"
    }
   }
  },
  {
   "cell_type": "code",
   "execution_count": null,
   "outputs": [],
   "source": [
    "from sklearn.cluster import KMeans\n",
    "\n",
    "km = KMeans(n_clusters=3, init='k-means++', n_init=10, max_iter=300, tol=1e-04, random_state=0)\n",
    "\n",
    "y_km = km.fit_predict(X)\n"
   ],
   "metadata": {
    "collapsed": false,
    "pycharm": {
     "name": "#%%\n"
    }
   }
  },
  {
   "cell_type": "markdown",
   "source": [
    "## FMC\n",
    "Este algoritmo en vez de utilizar una asignación dura de puntos (solo en un clúster) permite que un ejemplo pertenezca\n",
    "a varios clústeres (asignación débil).\n",
    "\n",
    "Proporcionan porcentajes de proximidad para un ejemplo en cada clúster"
   ],
   "metadata": {
    "collapsed": false,
    "pycharm": {
     "name": "#%% md\n"
    }
   }
  },
  {
   "cell_type": "code",
   "execution_count": null,
   "outputs": [],
   "source": [
    "# https://pythonhosted.org/scikit-fuzzy/\n",
    "\n",
    "fuzz.cluster.cmeans(alldata, ncenters, 2, error=0.005, maxiter=1000, init=None)"
   ],
   "metadata": {
    "collapsed": false,
    "pycharm": {
     "name": "#%%\n"
    }
   }
  },
  {
   "cell_type": "markdown",
   "source": [
    "## DBSCAN\n",
    "No predispone nada sobre la forma de los clúster, pudiendo ser de cualquier forma.\n",
    "\n",
    "Asigna clústeres en función de la densidad de zonas a partir de un radio específico bien separadas con áreas de\n",
    "baja densidad de puntos."
   ],
   "metadata": {
    "collapsed": false,
    "pycharm": {
     "name": "#%% md\n"
    }
   }
  },
  {
   "cell_type": "code",
   "execution_count": 1,
   "outputs": [
    {
     "data": {
      "text/plain": "<Figure size 432x288 with 1 Axes>",
      "image/png": "[encoded data removed]"
     },
     "metadata": {
      "needs_background": "light"
     },
     "output_type": "display_data"
    }
   ],
   "source": [
    "from matplotlib import pyplot as plt\n",
    "from sklearn.cluster import DBSCAN\n",
    "from sklearn import datasets\n",
    "\n",
    "X, y = datasets.make_moons(n_samples=150, noise=.05)\n",
    "\n",
    "db = DBSCAN(eps=0.2, min_samples=5, metric='euclidean')\n",
    "y_db = db.fit_predict(X)\n",
    "plt.scatter(X[y_db == 0, 0], X[y_db == 0, 1],\n",
    "            c='lightblue', marker='o', s=40,\n",
    "            edgecolor='black',\n",
    "            label='Cluster 1')\n",
    "plt.scatter(X[y_db == 1, 0], X[y_db == 1, 1],\n",
    "            c='red', marker='s', s=40,\n",
    "            edgecolor='black',\n",
    "            label='Cluster 2')\n",
    "plt.legend()\n",
    "plt.tight_layout()\n",
    "plt.show()"
   ],
   "metadata": {
    "collapsed": false,
    "pycharm": {
     "name": "#%%\n"
    }
   }
  },
  {
   "cell_type": "markdown",
   "source": [
    "## Árbol Jerárquico\n",
    "Las dos aproximaciones más comunes de los árboles jerárquicos son acumulativos y divisibles.\n",
    "\n",
    "Divisibles empezamos con un cluster grande y lo vamos dividiendo haciéndolos más pequeños .\n",
    "\n",
    "En los acumulativos es al revés. Las dos implementaciones que se utilizan son single linkage y complete linkage.\n",
    "En el primero calculamos las distancias entre los miembros más similares para cada par de clusters y los unimos.\n",
    "En el segundo en vez de calcular las distancias entre los más similares, se miden los menos similares."
   ],
   "metadata": {
    "collapsed": false,
    "pycharm": {
     "name": "#%% md\n"
    }
   }
  },
  {
   "cell_type": "code",
   "execution_count": null,
   "outputs": [],
   "source": [
    "ac = AgglomerativeClustering(n_clusters=3, affinity='euclidean', linkage='complete')\n",
    "labels = ac.fit_predict(X)\n",
    "print('Cluster labels: %s' % labels)"
   ],
   "metadata": {
    "collapsed": false,
    "pycharm": {
     "name": "#%%\n"
    }
   }
  },
  {
   "cell_type": "markdown",
   "source": [
    "## Elección del número de clusters\n",
    "### Inercia\n",
    "Uno de los mayores retos de estos algoritmos es determinar el número de clústeres.\n",
    "Podemos usar un conjunto de técnicas gráficas (métricas) para determinar el número más apropiado."
   ],
   "metadata": {
    "collapsed": false,
    "pycharm": {
     "name": "#%% md\n"
    }
   }
  },
  {
   "cell_type": "code",
   "execution_count": 3,
   "outputs": [
    {
     "data": {
      "text/plain": "<Figure size 432x288 with 1 Axes>",
      "image/png": "[encoded data removed]"
     },
     "metadata": {
      "needs_background": "light"
     },
     "output_type": "display_data"
    }
   ],
   "source": [
    "from sklearn.datasets import make_blobs\n",
    "from matplotlib import pyplot as plt\n",
    "from sklearn.cluster import KMeans\n",
    "\n",
    "X, y = make_blobs(n_samples=150,n_features=2, centers=3,\n",
    "                  cluster_std=0.5, shuffle=True, random_state=0)\n",
    "distortions = []\n",
    "for i in range(1, 11):\n",
    "    km = KMeans(n_clusters=i, init='k-means++', n_init=10,\n",
    "                max_iter=300, random_state=0)\n",
    "    km.fit(X)\n",
    "    distortions.append(km.inertia_)\n",
    "\n",
    "plt.plot(range(1, 11), distortions, marker='o')\n",
    "plt.xlabel('Number of clusters')\n",
    "plt.ylabel('Distortion')\n",
    "plt.tight_layout()\n",
    "plt.show()"
   ],
   "metadata": {
    "collapsed": false,
    "pycharm": {
     "name": "#%%\n"
    }
   }
  },
  {
   "cell_type": "markdown",
   "source": [
    "Se usa la medida de inercia, accesible a través del parámetro inertia_ de los algoritmos.\n",
    "\n",
    "Fijar como óptimo aquel valor en el que la pendiente cambie drásticamente a otra más plana (El tres)."
   ],
   "metadata": {
    "collapsed": false,
    "pycharm": {
     "name": "#%% md\n"
    }
   }
  },
  {
   "cell_type": "markdown",
   "source": [
    "### gráficos silhouette\n",
    "Intentan describir el tamaño de cada clúster con respecto a los demás basados en un coeficiente.\n",
    "\n",
    "![](img/ut05_00.png)\n",
    "\n",
    "Vemos la representación para 4 tipos de clústeres, siendo k=4 y k=5 los que deberíamos elegir, estando mejor situado\n",
    "k=5 al tener todos las clases por encima de la media del coeficiente silhouette (línea de puntos) y estar más balanceado."
   ],
   "metadata": {
    "collapsed": false,
    "pycharm": {
     "name": "#%% md\n"
    }
   }
  },
  {
   "cell_type": "code",
   "execution_count": 4,
   "outputs": [
    {
     "data": {
      "text/plain": "<Figure size 432x288 with 1 Axes>",
      "image/png": "[encoded data removed]"
     },
     "metadata": {
      "needs_background": "light"
     },
     "output_type": "display_data"
    }
   ],
   "source": [
    "import numpy as np\n",
    "from matplotlib import cm\n",
    "from sklearn.metrics import silhouette_samples\n",
    "from sklearn.datasets import make_blobs\n",
    "\n",
    "X, y = make_blobs(n_samples=150,n_features=2, centers=3,\n",
    "                  cluster_std=0.5, shuffle=True, random_state=0)\n",
    "\n",
    "km = KMeans(n_clusters=3,  init='k-means++', n_init=10,\n",
    "            max_iter=300, tol=1e-04, random_state=0)\n",
    "y_km = km.fit_predict(X)\n",
    "\n",
    "\n",
    "cluster_labels = np.unique(y_km)\n",
    "n_clusters = cluster_labels.shape[0]\n",
    "silhouette_vals = silhouette_samples(X, y_km, metric='euclidean')\n",
    "y_ax_lower, y_ax_upper = 0, 0\n",
    "yticks = []\n",
    "for i, c in enumerate(cluster_labels):\n",
    "    c_silhouette_vals = silhouette_vals[y_km == c]\n",
    "    c_silhouette_vals.sort()\n",
    "    y_ax_upper += len(c_silhouette_vals)\n",
    "    color = cm.jet(float(i) / n_clusters)\n",
    "    plt.barh(range(y_ax_lower, y_ax_upper),\n",
    "\t\tc_silhouette_vals, height=1.0,\n",
    "\t\tedgecolor='none', color=color)\n",
    "\n",
    "    yticks.append((y_ax_lower + y_ax_upper) / 2.)\n",
    "    y_ax_lower += len(c_silhouette_vals)\n",
    "\n",
    "silhouette_avg = np.mean(silhouette_vals)\n",
    "plt.axvline(silhouette_avg, color=\"red\", linestyle=\"--\")\n",
    "\n",
    "plt.yticks(yticks, cluster_labels + 1)\n",
    "plt.ylabel('Cluster')\n",
    "plt.xlabel('Silhouette coefficient')\n",
    "\n",
    "plt.tight_layout()\n",
    "plt.show()"
   ],
   "metadata": {
    "collapsed": false,
    "pycharm": {
     "name": "#%%\n"
    }
   }
  },
  {
   "cell_type": "markdown",
   "source": [
    "## Otros algoritmos\n",
    "![](img/ut05_01.png)\n",
    "\n",
    "![](img/ut05_02.png)"
   ],
   "metadata": {
    "collapsed": false,
    "pycharm": {
     "name": "#%% md\n"
    }
   }
  }
 ],
 "metadata": {
  "kernelspec": {
   "display_name": "Python 3",
   "language": "python",
   "name": "python3"
  },
  "language_info": {
   "codemirror_mode": {
    "name": "ipython",
    "version": 2
   },
   "file_extension": ".py",
   "mimetype": "text/x-python",
   "name": "python",
   "nbconvert_exporter": "python",
   "pygments_lexer": "ipython2",
   "version": "2.7.6"
  }
 },
 "nbformat": 4,
 "nbformat_minor": 0
}