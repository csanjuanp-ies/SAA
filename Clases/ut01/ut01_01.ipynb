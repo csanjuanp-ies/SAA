{
 "cells": [
  {
   "cell_type": "markdown",
   "metadata": {
    "collapsed": true,
    "pycharm": {
     "name": "#%% md\n"
    }
   },
   "source": [
    "# U.T. 1. Introducción. Conceptos de machine learning.\n",
    "\n",
    "# Nuestra primera red neuronal\n",
    "## Qué es una neurona\n",
    "![](img/ut01_10.png)\n",
    "\n",
    "- El concepto matemático de neurona viene del concepto fisiológico\n",
    "- El funcionamiento tradicional de una neurona se basa en recibir estímulos de diferentes fuentes y si la activación supera un umbral la neurona física se activará\n",
    "- La neurona artificial tiene una serie de entradas\n",
    "- Cada entrada está ponderada por un valor (w)\n",
    "- La función de activación determinará con todos los datos si se debe transmitir o no el resultado a la salida\n",
    "- La primera implementación que se hizo fue el perceptron\n",
    "\n",
    "![](img/ut01_11.png)\n",
    "\n",
    "- Una neurona es capaz de realizar un ajuste lineal, es decir, separar un conjunto de datos mediante una recta.\n",
    "- Geométricamente el parámetro $w_0x_0$ representa el desplazamiento con respecto al eje Y o BIAS (tendencia)\n",
    "- El resto de parámetros indicarán la pendiente de la recta con respecto al eje X\n",
    "\n",
    "![](img/ut01_12.png)"
   ]
  },
  {
   "cell_type": "markdown",
   "source": [
    "## Programación del Perceptron\n",
    "\n",
    "El algoritmo para implementar un perceptron es:\n",
    "- Inicialización de pesos (w) a cero o un valor aleatorio pero no todos a cero o no converge el algoritmo.\n",
    "- Para cada ejemplo.\n",
    "    - Calcular el valor de salida.\n",
    "    - Actualizar los pesos $w_j≔w_j+ Δw_j$.\n",
    "        - El incremento de cambio ($Δw_j$) se calcula como: La tasa de aprendizaje por La diferencia entre\n",
    "      el valor real menos el predicho, todo ello por el valor de entrada.  $Δw_j = η*(valorReal – valorPred) * x_j$\n",
    "        - Todos los pesos se actualizan a la vez, por lo que el cálculo del cambio solo se hace una vez.\n",
    "        - La tasa de cambio (η) suele estar entre 0 y 1.\n",
    "        - La convergencia del perceptrón solo será posible si los datos son linealmente separables."
   ],
   "metadata": {
    "collapsed": false
   }
  },
  {
   "cell_type": "code",
   "execution_count": 1,
   "outputs": [
    {
     "name": "stdout",
     "output_type": "stream",
     "text": [
      "Pesos antes: [0.09796323 0.26925845]\n",
      "Errores por época: [[0.0, 0.0, 0.0, 0.1], [0.0, 0.0, 0.0, 0.0], [0.0, 0.0, 0.0, 0.0], [0.0, 0.0, 0.0, 0.0], [0.0, 0.0, 0.0, 0.0], [0.0, 0.0, 0.0, 0.0], [0.0, 0.0, 0.0, 0.0], [0.0, 0.0, 0.0, 0.0], [0.0, 0.0, 0.0, 0.0], [0.0, 0.0, 0.0, 0.0]]\n",
      "Pesos después: [0.19796323 0.36925845]\n",
      "aciertos: 4 errores: 0\n",
      "Porcentaje error: 0.0\n",
      "1\n",
      "0\n",
      "0\n",
      "0\n"
     ]
    }
   ],
   "source": [
    "import numpy as np\n",
    "# Vamos a separar la función And a través de un perceptron\n",
    "#              0      1\n",
    "#       0     0      0\n",
    "#       1     0      1\n",
    "# Cumple el requisito que sea linealmente separable.\n",
    "\n",
    "X = np.array([[0, 0],\n",
    "                       [0, 1],\n",
    "                       [1, 0],\n",
    "                       [1, 1]])  # Entradas\n",
    "Y = np.array([0,   # poner a 1 para probar el OR\n",
    "                       0,\n",
    "                       0,\n",
    "                       1])  # Salidas\n",
    "W = np.random.rand(2)  # Pesos aleatorios a dos características\n",
    "print(\"Pesos antes:\", W)\n",
    "E = []  # Errores producidos en todas las épocas\n",
    "def func_activacion(X_actual, W_actual):\n",
    "    salida = 0\n",
    "    if len(X_actual) == len(W_actual):\n",
    "        salida = np.sum(X_actual * W_actual)\n",
    "    umbral = 0.5\n",
    "    if salida > umbral:\n",
    "        return 1\n",
    "    else:\n",
    "        return 0\n",
    "\n",
    "\n",
    "#  probar tasas de aprendizaje mayores a .5 para ver qué pasa\n",
    "#  se llamará una vez por cada ejemplo\n",
    "def actualizar_pesos(valor_real, valor_predicho, ejemplo, tasa_aprendizaje=0.1):\n",
    "    global W  # Para poder modificar los pesos\n",
    "    # ejemplo es el array de entradas (X1, X2) una fila completa\n",
    "    # W es el array de pesos. entrada y pesos deben tener la misma dimensión\n",
    "    # los operadores + y * en numpy operan elemento a elemento\n",
    "\n",
    "    incremento_de_los_pesos = 0\n",
    "    if len(ejemplo) == len(W):\n",
    "        incremento_de_los_pesos = tasa_aprendizaje * (valor_real - valor_predicho)\n",
    "                                                     # 0.1 * (0 - 1) = 0.1 * -1 = -0.1\n",
    "    # se actualizan todos los pesos con la entrada actual a la vez\n",
    "    W = W + incremento_de_los_pesos * ejemplo\n",
    "          # [0.1, 0] + -0.1 * [0, 1] = [0.1, 0] + [0, -0.1] = [0.1, -0.1]\n",
    "    return incremento_de_los_pesos\n",
    "\n",
    "def fit():\n",
    "    # Variar este parámetro para ver qué ocurre si damos menos vueltas\n",
    "    epocas = 10\n",
    "    # con una única vuelta no se entrena al perceptron, hace falta varias\n",
    "    for epoca in range(epocas):\n",
    "       # se almacenarán los errores por cada ejemplo en cada vuelta\n",
    "      errores_epoca = []\n",
    "      for inx in range(len(X)):  # recorremos todos los datos de ejemplo\n",
    "            predicho = func_activacion(X[inx], W)\n",
    "            # retroporpagación\n",
    "            errores = actualizar_pesos(Y[inx], predicho, X[inx])\n",
    "            errores_epoca.append(errores)\n",
    "\n",
    "      # Guardamos los errores de todas las épocas\n",
    "      E.append(errores_epoca)\n",
    "\n",
    "fit()\n",
    "print(\"Errores por época:\", E)\n",
    "print(\"Pesos después:\", W)\n",
    "\n",
    "# Validación\n",
    "acierto = error = 0\n",
    "for elemento, resultado in zip(X, Y):\n",
    "    if func_activacion(elemento, W) == resultado:\n",
    "        acierto += 1\n",
    "    else:\n",
    "        error += 1\n",
    "\n",
    "print(\"aciertos:\", acierto, \"errores:\", error)\n",
    "print(\"Porcentaje error:\", error/(error+acierto))\n",
    "\n",
    "\n",
    "print(func_activacion([1, 1], W))  # 1\n",
    "print(func_activacion([1, 0], W))  # 0\n",
    "print(func_activacion([0, 1], W))  # 0\n",
    "print(func_activacion([0, 0], W))  # 0\n"
   ],
   "metadata": {
    "collapsed": false,
    "pycharm": {
     "name": "#%%\n"
    }
   }
  },
  {
   "cell_type": "markdown",
   "source": [
    "## Con el dataset Iris"
   ],
   "metadata": {
    "collapsed": false
   }
  },
  {
   "cell_type": "code",
   "execution_count": 2,
   "outputs": [],
   "source": [
    "class Perceptron:\n",
    "    def __init__(self, eta=0.01, n_iter=50, random_state=1):\n",
    "        self.eta = eta   # tasa de aprendizaje\n",
    "        self.n_iter = n_iter  # número de épocas\n",
    "        self.random_state = random_state   # para reproducir los resultados\n",
    "        self.w_ = []    # pesos del perceptron\n",
    "        self.errors_ = []\n",
    "\n",
    "    def net_input(self, X):   # valor de la red\n",
    "        return np.dot(X, self.w_[1:]) + self.w_[0]\n",
    "\n",
    "    def predict(self, X):\n",
    "        return np.where(self.net_input(X) >= 0.0, 1, -1)\n",
    "\n",
    "    def fit(self, X, y):\n",
    "        rgen = np.random.RandomState(self.random_state)\n",
    "        self.w_ = rgen.normal(loc=0.0, scale=0.01, size=1 + X.shape[1])\n",
    "        self.errors_ = []\n",
    "\n",
    "        for _ in range(self.n_iter):\n",
    "            errors = 0\n",
    "            for xi, target in zip(X, y):\n",
    "                update = self.eta * (target - self.predict(xi))\n",
    "                self.w_[1:] += update * xi\n",
    "                self.w_[0] += update\n",
    "                errors += int(update != 0.0)\n",
    "            self.errors_.append(errors)\n",
    "        return self\n",
    "\n",
    "    def __str__(self):\n",
    "        return str(self.w_)\n",
    "\n",
    "    def fit(self, X, y):\n",
    "        rgen = np.random.RandomState(self.random_state)\n",
    "        # Habrá tantos pesos como características en X + uno para X0\n",
    "        # se inicializan a la normal\n",
    "        self.w_ = rgen.normal(loc=0.0, scale=0.01, size=X.shape[1] + 1)\n",
    "        self.errors_ = []\n",
    "\n",
    "        for _ in range(self.n_iter):   #Número deépocas\n",
    "            errors = 0\n",
    "            for xi, target in zip(X, y):   # recorremos todos los ejemplos\n",
    "                #  Δwj = η*(target – valor_pred) * xj\n",
    "                update = self.eta * (target - self.predict(xi))\n",
    "                # wj ≔wj+ Δwj.\n",
    "                self.w_[1:] += update * xi   #  todos los pesos menos W0\n",
    "                self.w_[0] += update     # actualizar W0\n",
    "                errors += int(update != 0.0)\n",
    "            self.errors_.append(errors)\n",
    "        return self\n"
   ],
   "metadata": {
    "collapsed": false,
    "pycharm": {
     "name": "#%%\n"
    }
   }
  },
  {
   "cell_type": "code",
   "execution_count": 3,
   "outputs": [
    {
     "name": "stdout",
     "output_type": "stream",
     "text": [
      "[ 0.41624345 -0.40611756 -0.20528172]\n",
      "-1\n",
      "1\n",
      "1\n",
      "1\n"
     ]
    }
   ],
   "source": [
    "X = [[0, 0], [0, 1], [1, 0], [1, 1]]\n",
    "y = [1, 1, 1, -1]\n",
    "ppn = Perceptron(eta=0.1, n_iter=10)\n",
    "ppn.fit(np.array(X), y)  # Función AND  -1 Verdadero 1 Falso\n",
    "print(ppn)\n",
    "print(ppn.predict([1, 1]))\n",
    "print(ppn.predict([0, 1]))\n",
    "print(ppn.predict([1, 0]))\n",
    "print(ppn.predict([0, 0]))"
   ],
   "metadata": {
    "collapsed": false,
    "pycharm": {
     "name": "#%%\n"
    }
   }
  },
  {
   "cell_type": "code",
   "execution_count": 4,
   "outputs": [
    {
     "name": "stdout",
     "output_type": "stream",
     "text": [
      "       0    1    2    3               4\n",
      "145  6.7  3.0  5.2  2.3  Iris-virginica\n",
      "146  6.3  2.5  5.0  1.9  Iris-virginica\n",
      "147  6.5  3.0  5.2  2.0  Iris-virginica\n",
      "148  6.2  3.4  5.4  2.3  Iris-virginica\n",
      "149  5.9  3.0  5.1  1.8  Iris-virginica\n"
     ]
    },
    {
     "data": {
      "text/plain": "<Figure size 432x288 with 1 Axes>",
      "image/png": "[encoded data removed]"
     },
     "metadata": {
      "needs_background": "light"
     },
     "output_type": "display_data"
    },
    {
     "name": "stdout",
     "output_type": "stream",
     "text": [
      "(100, 2) (100,)\n"
     ]
    },
    {
     "data": {
      "text/plain": "<Figure size 432x288 with 1 Axes>",
      "image/png": "[encoded data removed]"
     },
     "metadata": {
      "needs_background": "light"
     },
     "output_type": "display_data"
    },
    {
     "name": "stdout",
     "output_type": "stream",
     "text": [
      "[-0.38375655 -0.70611756  1.83471828]\n",
      "1\n",
      "-1\n"
     ]
    }
   ],
   "source": [
    "import pandas as pd\n",
    "import matplotlib.pyplot as plt\n",
    "\n",
    "#Preparación de los datos (Preprocesado)\n",
    "df = pd.read_csv(\"iris.data\", header=None, encoding='utf-8')\n",
    "print(df.tail())\n",
    "y = df.iloc[0:100, 4].values   # cogemos solo los 100 primeros de la última caract.\n",
    "y = np.where(y == 'Iris-setosa', -1, 1)  # -1 Iris-setosa  # convertir a números\n",
    "X = df.iloc[0:100, [0, 2]].values   # cogemos 100, solo dos características la 0 y la 2\n",
    "\n",
    "# Visualización de los datos\n",
    "plt.scatter(X[:50, 0], X[:50, 1], color='red', marker='o', label='setosa')\n",
    "plt.scatter(X[50:, 0], X[50:, 1], color='blue', marker='x', label='versicolor')\n",
    "plt.xlabel('sepal length [cm]')\n",
    "plt.ylabel('petal length [cm]')\n",
    "plt.legend(loc='upper left')\n",
    "plt.show()\n",
    "\n",
    "# Elección del algoritmo y Entrenamiento\n",
    "ppn = Perceptron(eta=0.1, n_iter=10)\n",
    "print(X.shape, y.shape)\n",
    "ppn.fit(X, y)\n",
    "\n",
    "# Validación\n",
    "plt.plot(range(1, len(ppn.errors_) + 1), ppn.errors_, marker='o')\n",
    "plt.xlabel('Épocas')\n",
    "plt.ylabel('Número de actualizaciones')\n",
    "plt.show()\n",
    "\n",
    "# Predicciones\n",
    "print(ppn)\n",
    "print(ppn.predict([5, 3]))   # versicolor  (1)\n",
    "print(ppn.predict([5, 1]))   # setosa   (-1)\n"
   ],
   "metadata": {
    "collapsed": false,
    "pycharm": {
     "name": "#%%\n"
    }
   }
  },
  {
   "cell_type": "markdown",
   "source": [
    "![](img/ut01_13.png)\n"
   ],
   "metadata": {
    "collapsed": false
   }
  },
  {
   "cell_type": "markdown",
   "source": [
    "# Convergencia del aprendizaje\n",
    "## Adeline\n",
    "La principal diferencia es que los pesos se actualizan con base a una función lineal de activación en vez de la\n",
    "función del perceptrón basada en un umbral\n",
    "\n",
    "![](img/ut01_14.png)\n",
    "\n",
    "## Qué es el gradiente matemático\n",
    "\n",
    "- El gradiente representa la pendiente de la recta tangente a la gráfica de una función en un punto con respecto al\n",
    "eje X. Más precisamente, el gradiente apunta a la parte de la gráfica en la cual tiene un mayor incremento.\n",
    "\n",
    "![](img/ut01_15.png)\n",
    "\n",
    "- La pendiente se calcula a partir de las derivadas parciales y por tanto es un vector\n",
    "\n",
    "![](img/ut01_16.png)\n",
    "\n",
    "- El vector gradiente siempre es perpendicular a las componentes\n",
    "- El vector gradiente siempre indica la dirección de máximo cambio\n",
    "- Cada una de las coordenadas del vector gradiente son las derivadas parciales en la correspondientes variables\n",
    "- Cada una de las coordenadas son perpendiculares entre sí\n",
    "\n",
    "![](img/ut01_17.jpg)\n",
    "\n",
    "En la imagen vemos un vector gradiente en rojo correspondiente a las dos componentes del mismo según los ejes x, y\n",
    "en morado.\n",
    "\n",
    "## Mejora en la convergencia\n",
    "- La mayoría de los algoritmos se beneficiarán de que las características sean comparables o similares\n",
    "- **Estandarización**: Se cambiarán los datos de una característica para ajustarse a la Normal\n",
    "- Se hace calculando la media y la desviación típica de la característica.\n",
    "- A cada dato se le resta la media y se le divide por la desviación típica $ x_j=(x_j-η_j)/σ_j $."
   ],
   "metadata": {
    "collapsed": false
   }
  }
 ],
 "metadata": {
  "kernelspec": {
   "display_name": "Python 3",
   "language": "python",
   "name": "python3"
  },
  "language_info": {
   "codemirror_mode": {
    "name": "ipython",
    "version": 2
   },
   "file_extension": ".py",
   "mimetype": "text/x-python",
   "name": "python",
   "nbconvert_exporter": "python",
   "pygments_lexer": "ipython2",
   "version": "2.7.6"
  }
 },
 "nbformat": 4,
 "nbformat_minor": 0
}