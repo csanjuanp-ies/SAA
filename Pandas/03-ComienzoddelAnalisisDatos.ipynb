{
 "cells": [
  {
   "cell_type": "markdown",
   "source": [
    "# Comienzo del Análisis de datos"
   ],
   "metadata": {
    "collapsed": false,
    "pycharm": {
     "name": "#%% md\n"
    }
   }
  },
  {
   "cell_type": "code",
   "execution_count": 1,
   "outputs": [
    {
     "data": {
      "text/plain": "                                INSTNM        CITY STABBR  HBCU  MENONLY  \\\n0             Alabama A & M University      Normal     AL   1.0      0.0   \n1  University of Alabama at Birmingham  Birmingham     AL   0.0      0.0   \n2                   Amridge University  Montgomery     AL   0.0      0.0   \n3  University of Alabama in Huntsville  Huntsville     AL   0.0      0.0   \n4             Alabama State University  Montgomery     AL   1.0      0.0   \n\n   WOMENONLY  RELAFFIL  SATVRMID  SATMTMID  DISTANCEONLY  ...  UGDS_2MOR  \\\n0        0.0         0     424.0     420.0           0.0  ...     0.0000   \n1        0.0         0     570.0     565.0           0.0  ...     0.0368   \n2        0.0         1       NaN       NaN           1.0  ...     0.0000   \n3        0.0         0     595.0     590.0           0.0  ...     0.0172   \n4        0.0         0     425.0     430.0           0.0  ...     0.0098   \n\n   UGDS_NRA  UGDS_UNKN  PPTUG_EF  CURROPER  PCTPELL  PCTFLOAN  UG25ABV  \\\n0    0.0059     0.0138    0.0656         1   0.7356    0.8284   0.1049   \n1    0.0179     0.0100    0.2607         1   0.3460    0.5214   0.2422   \n2    0.0000     0.2715    0.4536         1   0.6801    0.7795   0.8540   \n3    0.0332     0.0350    0.2146         1   0.3072    0.4596   0.2640   \n4    0.0243     0.0137    0.0892         1   0.7347    0.7554   0.1270   \n\n   MD_EARN_WNE_P10  GRAD_DEBT_MDN_SUPP  \n0            30300               33888  \n1            39700             21941.5  \n2            40100               23370  \n3            45500               24097  \n4            26600             33118.5  \n\n[5 rows x 27 columns]",
      "text/html": "<div>\n<style scoped>\n    .dataframe tbody tr th:only-of-type {\n        vertical-align: middle;\n    }\n\n    .dataframe tbody tr th {\n        vertical-align: top;\n    }\n\n    .dataframe thead th {\n        text-align: right;\n    }\n</style>\n<table border=\"1\" class=\"dataframe\">\n  <thead>\n    <tr style=\"text-align: right;\">\n      <th></th>\n      <th>INSTNM</th>\n      <th>CITY</th>\n      <th>STABBR</th>\n      <th>HBCU</th>\n      <th>MENONLY</th>\n      <th>WOMENONLY</th>\n      <th>RELAFFIL</th>\n      <th>SATVRMID</th>\n      <th>SATMTMID</th>\n      <th>DISTANCEONLY</th>\n      <th>...</th>\n      <th>UGDS_2MOR</th>\n      <th>UGDS_NRA</th>\n      <th>UGDS_UNKN</th>\n      <th>PPTUG_EF</th>\n      <th>CURROPER</th>\n      <th>PCTPELL</th>\n      <th>PCTFLOAN</th>\n      <th>UG25ABV</th>\n      <th>MD_EARN_WNE_P10</th>\n      <th>GRAD_DEBT_MDN_SUPP</th>\n    </tr>\n  </thead>\n  <tbody>\n    <tr>\n      <th>0</th>\n      <td>Alabama A &amp; M University</td>\n      <td>Normal</td>\n      <td>AL</td>\n      <td>1.0</td>\n      <td>0.0</td>\n      <td>0.0</td>\n      <td>0</td>\n      <td>424.0</td>\n      <td>420.0</td>\n      <td>0.0</td>\n      <td>...</td>\n      <td>0.0000</td>\n      <td>0.0059</td>\n      <td>0.0138</td>\n      <td>0.0656</td>\n      <td>1</td>\n      <td>0.7356</td>\n      <td>0.8284</td>\n      <td>0.1049</td>\n      <td>30300</td>\n      <td>33888</td>\n    </tr>\n    <tr>\n      <th>1</th>\n      <td>University of Alabama at Birmingham</td>\n      <td>Birmingham</td>\n      <td>AL</td>\n      <td>0.0</td>\n      <td>0.0</td>\n      <td>0.0</td>\n      <td>0</td>\n      <td>570.0</td>\n      <td>565.0</td>\n      <td>0.0</td>\n      <td>...</td>\n      <td>0.0368</td>\n      <td>0.0179</td>\n      <td>0.0100</td>\n      <td>0.2607</td>\n      <td>1</td>\n      <td>0.3460</td>\n      <td>0.5214</td>\n      <td>0.2422</td>\n      <td>39700</td>\n      <td>21941.5</td>\n    </tr>\n    <tr>\n      <th>2</th>\n      <td>Amridge University</td>\n      <td>Montgomery</td>\n      <td>AL</td>\n      <td>0.0</td>\n      <td>0.0</td>\n      <td>0.0</td>\n      <td>1</td>\n      <td>NaN</td>\n      <td>NaN</td>\n      <td>1.0</td>\n      <td>...</td>\n      <td>0.0000</td>\n      <td>0.0000</td>\n      <td>0.2715</td>\n      <td>0.4536</td>\n      <td>1</td>\n      <td>0.6801</td>\n      <td>0.7795</td>\n      <td>0.8540</td>\n      <td>40100</td>\n      <td>23370</td>\n    </tr>\n    <tr>\n      <th>3</th>\n      <td>University of Alabama in Huntsville</td>\n      <td>Huntsville</td>\n      <td>AL</td>\n      <td>0.0</td>\n      <td>0.0</td>\n      <td>0.0</td>\n      <td>0</td>\n      <td>595.0</td>\n      <td>590.0</td>\n      <td>0.0</td>\n      <td>...</td>\n      <td>0.0172</td>\n      <td>0.0332</td>\n      <td>0.0350</td>\n      <td>0.2146</td>\n      <td>1</td>\n      <td>0.3072</td>\n      <td>0.4596</td>\n      <td>0.2640</td>\n      <td>45500</td>\n      <td>24097</td>\n    </tr>\n    <tr>\n      <th>4</th>\n      <td>Alabama State University</td>\n      <td>Montgomery</td>\n      <td>AL</td>\n      <td>1.0</td>\n      <td>0.0</td>\n      <td>0.0</td>\n      <td>0</td>\n      <td>425.0</td>\n      <td>430.0</td>\n      <td>0.0</td>\n      <td>...</td>\n      <td>0.0098</td>\n      <td>0.0243</td>\n      <td>0.0137</td>\n      <td>0.0892</td>\n      <td>1</td>\n      <td>0.7347</td>\n      <td>0.7554</td>\n      <td>0.1270</td>\n      <td>26600</td>\n      <td>33118.5</td>\n    </tr>\n  </tbody>\n</table>\n<p>5 rows × 27 columns</p>\n</div>"
     },
     "execution_count": 1,
     "metadata": {},
     "output_type": "execute_result"
    }
   ],
   "source": [
    "import pandas as pd\n",
    "import numpy as np\n",
    "import matplotlib.pyplot as plt\n",
    "%matplotlib inline\n",
    "\n",
    "college = pd.read_csv('data/college.csv')\n",
    "college.head()"
   ],
   "metadata": {
    "collapsed": false,
    "pycharm": {
     "name": "#%%\n"
    }
   }
  },
  {
   "cell_type": "code",
   "execution_count": 2,
   "outputs": [
    {
     "data": {
      "text/plain": "Index(['INSTNM', 'CITY', 'STABBR', 'HBCU', 'MENONLY', 'WOMENONLY', 'RELAFFIL',\n       'SATVRMID', 'SATMTMID', 'DISTANCEONLY', 'UGDS', 'UGDS_WHITE',\n       'UGDS_BLACK', 'UGDS_HISP', 'UGDS_ASIAN', 'UGDS_AIAN', 'UGDS_NHPI',\n       'UGDS_2MOR', 'UGDS_NRA', 'UGDS_UNKN', 'PPTUG_EF', 'CURROPER', 'PCTPELL',\n       'PCTFLOAN', 'UG25ABV', 'MD_EARN_WNE_P10', 'GRAD_DEBT_MDN_SUPP'],\n      dtype='object')"
     },
     "execution_count": 2,
     "metadata": {},
     "output_type": "execute_result"
    }
   ],
   "source": [
    "college.columns"
   ],
   "metadata": {
    "collapsed": false,
    "pycharm": {
     "name": "#%%\n"
    }
   }
  },
  {
   "cell_type": "code",
   "execution_count": 3,
   "outputs": [
    {
     "data": {
      "text/plain": "(7535, 27)"
     },
     "execution_count": 3,
     "metadata": {},
     "output_type": "execute_result"
    }
   ],
   "source": [
    "college.shape\n"
   ],
   "metadata": {
    "collapsed": false,
    "pycharm": {
     "name": "#%%\n"
    }
   }
  },
  {
   "cell_type": "code",
   "execution_count": 4,
   "outputs": [
    {
     "name": "stdout",
     "output_type": "stream",
     "text": [
      "<class 'pandas.core.frame.DataFrame'>\n",
      "RangeIndex: 7535 entries, 0 to 7534\n",
      "Data columns (total 27 columns):\n",
      " #   Column              Non-Null Count  Dtype  \n",
      "---  ------              --------------  -----  \n",
      " 0   INSTNM              7535 non-null   object \n",
      " 1   CITY                7535 non-null   object \n",
      " 2   STABBR              7535 non-null   object \n",
      " 3   HBCU                7164 non-null   float64\n",
      " 4   MENONLY             7164 non-null   float64\n",
      " 5   WOMENONLY           7164 non-null   float64\n",
      " 6   RELAFFIL            7535 non-null   int64  \n",
      " 7   SATVRMID            1185 non-null   float64\n",
      " 8   SATMTMID            1196 non-null   float64\n",
      " 9   DISTANCEONLY        7164 non-null   float64\n",
      " 10  UGDS                6874 non-null   float64\n",
      " 11  UGDS_WHITE          6874 non-null   float64\n",
      " 12  UGDS_BLACK          6874 non-null   float64\n",
      " 13  UGDS_HISP           6874 non-null   float64\n",
      " 14  UGDS_ASIAN          6874 non-null   float64\n",
      " 15  UGDS_AIAN           6874 non-null   float64\n",
      " 16  UGDS_NHPI           6874 non-null   float64\n",
      " 17  UGDS_2MOR           6874 non-null   float64\n",
      " 18  UGDS_NRA            6874 non-null   float64\n",
      " 19  UGDS_UNKN           6874 non-null   float64\n",
      " 20  PPTUG_EF            6853 non-null   float64\n",
      " 21  CURROPER            7535 non-null   int64  \n",
      " 22  PCTPELL             6849 non-null   float64\n",
      " 23  PCTFLOAN            6849 non-null   float64\n",
      " 24  UG25ABV             6718 non-null   float64\n",
      " 25  MD_EARN_WNE_P10     6413 non-null   object \n",
      " 26  GRAD_DEBT_MDN_SUPP  7503 non-null   object \n",
      "dtypes: float64(20), int64(2), object(5)\n",
      "memory usage: 1.6+ MB\n"
     ]
    }
   ],
   "source": [
    "college.info()"
   ],
   "metadata": {
    "collapsed": false,
    "pycharm": {
     "name": "#%%\n"
    }
   }
  },
  {
   "cell_type": "code",
   "execution_count": 5,
   "outputs": [
    {
     "data": {
      "text/plain": "               count         mean          std    min         25%        50%  \\\nHBCU          7164.0     0.014238     0.118478    0.0    0.000000    0.00000   \nMENONLY       7164.0     0.009213     0.095546    0.0    0.000000    0.00000   \nWOMENONLY     7164.0     0.005304     0.072642    0.0    0.000000    0.00000   \nRELAFFIL      7535.0     0.190975     0.393096    0.0    0.000000    0.00000   \nSATVRMID      1185.0   522.819409    68.578862  290.0  475.000000  510.00000   \nSATMTMID      1196.0   530.765050    73.469767  310.0  482.000000  520.00000   \nDISTANCEONLY  7164.0     0.005583     0.074519    0.0    0.000000    0.00000   \nUGDS          6874.0  2356.837940  5474.275871    0.0  117.000000  412.50000   \nUGDS_WHITE    6874.0     0.510207     0.286958    0.0    0.267500    0.55570   \nUGDS_BLACK    6874.0     0.189997     0.224587    0.0    0.036125    0.10005   \nUGDS_HISP     6874.0     0.161635     0.221854    0.0    0.027600    0.07140   \nUGDS_ASIAN    6874.0     0.033544     0.073777    0.0    0.002500    0.01290   \nUGDS_AIAN     6874.0     0.013813     0.070196    0.0    0.000000    0.00260   \nUGDS_NHPI     6874.0     0.004569     0.033125    0.0    0.000000    0.00000   \nUGDS_2MOR     6874.0     0.023950     0.031288    0.0    0.000000    0.01750   \nUGDS_NRA      6874.0     0.016086     0.050172    0.0    0.000000    0.00000   \nUGDS_UNKN     6874.0     0.045181     0.093440    0.0    0.000000    0.01430   \nPPTUG_EF      6853.0     0.226639     0.246470    0.0    0.000000    0.15040   \nCURROPER      7535.0     0.923291     0.266146    0.0    1.000000    1.00000   \nPCTPELL       6849.0     0.530643     0.225544    0.0    0.357800    0.52150   \nPCTFLOAN      6849.0     0.522211     0.283616    0.0    0.332900    0.58330   \nUG25ABV       6718.0     0.410021     0.228939    0.0    0.241500    0.40075   \n\n                      75%          max  \nHBCU             0.000000       1.0000  \nMENONLY          0.000000       1.0000  \nWOMENONLY        0.000000       1.0000  \nRELAFFIL         0.000000       1.0000  \nSATVRMID       555.000000     765.0000  \nSATMTMID       565.000000     785.0000  \nDISTANCEONLY     0.000000       1.0000  \nUGDS          1929.500000  151558.0000  \nUGDS_WHITE       0.747875       1.0000  \nUGDS_BLACK       0.257700       1.0000  \nUGDS_HISP        0.198875       1.0000  \nUGDS_ASIAN       0.032700       0.9727  \nUGDS_AIAN        0.007300       1.0000  \nUGDS_NHPI        0.002500       0.9983  \nUGDS_2MOR        0.033900       0.5333  \nUGDS_NRA         0.011700       0.9286  \nUGDS_UNKN        0.045400       0.9027  \nPPTUG_EF         0.376900       1.0000  \nCURROPER         1.000000       1.0000  \nPCTPELL          0.712900       1.0000  \nPCTFLOAN         0.745000       1.0000  \nUG25ABV          0.572275       1.0000  ",
      "text/html": "<div>\n<style scoped>\n    .dataframe tbody tr th:only-of-type {\n        vertical-align: middle;\n    }\n\n    .dataframe tbody tr th {\n        vertical-align: top;\n    }\n\n    .dataframe thead th {\n        text-align: right;\n    }\n</style>\n<table border=\"1\" class=\"dataframe\">\n  <thead>\n    <tr style=\"text-align: right;\">\n      <th></th>\n      <th>count</th>\n      <th>mean</th>\n      <th>std</th>\n      <th>min</th>\n      <th>25%</th>\n      <th>50%</th>\n      <th>75%</th>\n      <th>max</th>\n    </tr>\n  </thead>\n  <tbody>\n    <tr>\n      <th>HBCU</th>\n      <td>7164.0</td>\n      <td>0.014238</td>\n      <td>0.118478</td>\n      <td>0.0</td>\n      <td>0.000000</td>\n      <td>0.00000</td>\n      <td>0.000000</td>\n      <td>1.0000</td>\n    </tr>\n    <tr>\n      <th>MENONLY</th>\n      <td>7164.0</td>\n      <td>0.009213</td>\n      <td>0.095546</td>\n      <td>0.0</td>\n      <td>0.000000</td>\n      <td>0.00000</td>\n      <td>0.000000</td>\n      <td>1.0000</td>\n    </tr>\n    <tr>\n      <th>WOMENONLY</th>\n      <td>7164.0</td>\n      <td>0.005304</td>\n      <td>0.072642</td>\n      <td>0.0</td>\n      <td>0.000000</td>\n      <td>0.00000</td>\n      <td>0.000000</td>\n      <td>1.0000</td>\n    </tr>\n    <tr>\n      <th>RELAFFIL</th>\n      <td>7535.0</td>\n      <td>0.190975</td>\n      <td>0.393096</td>\n      <td>0.0</td>\n      <td>0.000000</td>\n      <td>0.00000</td>\n      <td>0.000000</td>\n      <td>1.0000</td>\n    </tr>\n    <tr>\n      <th>SATVRMID</th>\n      <td>1185.0</td>\n      <td>522.819409</td>\n      <td>68.578862</td>\n      <td>290.0</td>\n      <td>475.000000</td>\n      <td>510.00000</td>\n      <td>555.000000</td>\n      <td>765.0000</td>\n    </tr>\n    <tr>\n      <th>SATMTMID</th>\n      <td>1196.0</td>\n      <td>530.765050</td>\n      <td>73.469767</td>\n      <td>310.0</td>\n      <td>482.000000</td>\n      <td>520.00000</td>\n      <td>565.000000</td>\n      <td>785.0000</td>\n    </tr>\n    <tr>\n      <th>DISTANCEONLY</th>\n      <td>7164.0</td>\n      <td>0.005583</td>\n      <td>0.074519</td>\n      <td>0.0</td>\n      <td>0.000000</td>\n      <td>0.00000</td>\n      <td>0.000000</td>\n      <td>1.0000</td>\n    </tr>\n    <tr>\n      <th>UGDS</th>\n      <td>6874.0</td>\n      <td>2356.837940</td>\n      <td>5474.275871</td>\n      <td>0.0</td>\n      <td>117.000000</td>\n      <td>412.50000</td>\n      <td>1929.500000</td>\n      <td>151558.0000</td>\n    </tr>\n    <tr>\n      <th>UGDS_WHITE</th>\n      <td>6874.0</td>\n      <td>0.510207</td>\n      <td>0.286958</td>\n      <td>0.0</td>\n      <td>0.267500</td>\n      <td>0.55570</td>\n      <td>0.747875</td>\n      <td>1.0000</td>\n    </tr>\n    <tr>\n      <th>UGDS_BLACK</th>\n      <td>6874.0</td>\n      <td>0.189997</td>\n      <td>0.224587</td>\n      <td>0.0</td>\n      <td>0.036125</td>\n      <td>0.10005</td>\n      <td>0.257700</td>\n      <td>1.0000</td>\n    </tr>\n    <tr>\n      <th>UGDS_HISP</th>\n      <td>6874.0</td>\n      <td>0.161635</td>\n      <td>0.221854</td>\n      <td>0.0</td>\n      <td>0.027600</td>\n      <td>0.07140</td>\n      <td>0.198875</td>\n      <td>1.0000</td>\n    </tr>\n    <tr>\n      <th>UGDS_ASIAN</th>\n      <td>6874.0</td>\n      <td>0.033544</td>\n      <td>0.073777</td>\n      <td>0.0</td>\n      <td>0.002500</td>\n      <td>0.01290</td>\n      <td>0.032700</td>\n      <td>0.9727</td>\n    </tr>\n    <tr>\n      <th>UGDS_AIAN</th>\n      <td>6874.0</td>\n      <td>0.013813</td>\n      <td>0.070196</td>\n      <td>0.0</td>\n      <td>0.000000</td>\n      <td>0.00260</td>\n      <td>0.007300</td>\n      <td>1.0000</td>\n    </tr>\n    <tr>\n      <th>UGDS_NHPI</th>\n      <td>6874.0</td>\n      <td>0.004569</td>\n      <td>0.033125</td>\n      <td>0.0</td>\n      <td>0.000000</td>\n      <td>0.00000</td>\n      <td>0.002500</td>\n      <td>0.9983</td>\n    </tr>\n    <tr>\n      <th>UGDS_2MOR</th>\n      <td>6874.0</td>\n      <td>0.023950</td>\n      <td>0.031288</td>\n      <td>0.0</td>\n      <td>0.000000</td>\n      <td>0.01750</td>\n      <td>0.033900</td>\n      <td>0.5333</td>\n    </tr>\n    <tr>\n      <th>UGDS_NRA</th>\n      <td>6874.0</td>\n      <td>0.016086</td>\n      <td>0.050172</td>\n      <td>0.0</td>\n      <td>0.000000</td>\n      <td>0.00000</td>\n      <td>0.011700</td>\n      <td>0.9286</td>\n    </tr>\n    <tr>\n      <th>UGDS_UNKN</th>\n      <td>6874.0</td>\n      <td>0.045181</td>\n      <td>0.093440</td>\n      <td>0.0</td>\n      <td>0.000000</td>\n      <td>0.01430</td>\n      <td>0.045400</td>\n      <td>0.9027</td>\n    </tr>\n    <tr>\n      <th>PPTUG_EF</th>\n      <td>6853.0</td>\n      <td>0.226639</td>\n      <td>0.246470</td>\n      <td>0.0</td>\n      <td>0.000000</td>\n      <td>0.15040</td>\n      <td>0.376900</td>\n      <td>1.0000</td>\n    </tr>\n    <tr>\n      <th>CURROPER</th>\n      <td>7535.0</td>\n      <td>0.923291</td>\n      <td>0.266146</td>\n      <td>0.0</td>\n      <td>1.000000</td>\n      <td>1.00000</td>\n      <td>1.000000</td>\n      <td>1.0000</td>\n    </tr>\n    <tr>\n      <th>PCTPELL</th>\n      <td>6849.0</td>\n      <td>0.530643</td>\n      <td>0.225544</td>\n      <td>0.0</td>\n      <td>0.357800</td>\n      <td>0.52150</td>\n      <td>0.712900</td>\n      <td>1.0000</td>\n    </tr>\n    <tr>\n      <th>PCTFLOAN</th>\n      <td>6849.0</td>\n      <td>0.522211</td>\n      <td>0.283616</td>\n      <td>0.0</td>\n      <td>0.332900</td>\n      <td>0.58330</td>\n      <td>0.745000</td>\n      <td>1.0000</td>\n    </tr>\n    <tr>\n      <th>UG25ABV</th>\n      <td>6718.0</td>\n      <td>0.410021</td>\n      <td>0.228939</td>\n      <td>0.0</td>\n      <td>0.241500</td>\n      <td>0.40075</td>\n      <td>0.572275</td>\n      <td>1.0000</td>\n    </tr>\n  </tbody>\n</table>\n</div>"
     },
     "execution_count": 5,
     "metadata": {},
     "output_type": "execute_result"
    }
   ],
   "source": [
    "college.describe().T"
   ],
   "metadata": {
    "collapsed": false,
    "pycharm": {
     "name": "#%%\n"
    }
   }
  },
  {
   "cell_type": "markdown",
   "source": [
    "## Reduciendo la memoria cambiando los tipos de datos\n",
    "El almacenamiento de los datos es un problema crucial en los problemas de ML. Se debería ver los tipos de todas las\n",
    "columnas al inicio del preprocesado de datos e intentar cambiar todos los tipos al menor posible que almacene el\n",
    "contenido, reduciendo de esa manera la memoria de uso."
   ],
   "metadata": {
    "collapsed": false,
    "pycharm": {
     "name": "#%% md\n"
    }
   }
  },
  {
   "cell_type": "code",
   "execution_count": 6,
   "outputs": [
    {
     "data": {
      "text/plain": "Index          128\nRELAFFIL     60280\nSATMTMID     60280\nCURROPER     60280\nINSTNM      660240\nSTABBR      444565\ndtype: int64"
     },
     "execution_count": 6,
     "metadata": {},
     "output_type": "execute_result"
    }
   ],
   "source": [
    "different_cols = ['RELAFFIL', 'SATMTMID', 'CURROPER', 'INSTNM', 'STABBR']\n",
    "col2 = college.loc[:, different_cols]\n",
    "col2.memory_usage(deep=True)"
   ],
   "metadata": {
    "collapsed": false,
    "pycharm": {
     "name": "#%%\n"
    }
   }
  },
  {
   "cell_type": "code",
   "execution_count": 7,
   "outputs": [
    {
     "data": {
      "text/plain": "Index          128\nRELAFFIL      7535\nSATMTMID     60280\nCURROPER     60280\nINSTNM      660240\nSTABBR      444565\ndtype: int64"
     },
     "execution_count": 7,
     "metadata": {},
     "output_type": "execute_result"
    }
   ],
   "source": [
    "col2['RELAFFIL'] = col2['RELAFFIL'].astype(np.int8)\n",
    "col2.memory_usage(deep=True)"
   ],
   "metadata": {
    "collapsed": false,
    "pycharm": {
     "name": "#%%\n"
    }
   }
  },
  {
   "cell_type": "code",
   "execution_count": 8,
   "outputs": [
    {
     "data": {
      "text/plain": "Index          128\nCURROPER     60280\nINSTNM      660240\ndtype: int64"
     },
     "execution_count": 8,
     "metadata": {},
     "output_type": "execute_result"
    }
   ],
   "source": [
    "college[['CURROPER', 'INSTNM']].memory_usage(deep=True)\n"
   ],
   "metadata": {
    "collapsed": false,
    "pycharm": {
     "name": "#%%\n"
    }
   }
  },
  {
   "cell_type": "code",
   "execution_count": 9,
   "outputs": [
    {
     "data": {
      "text/plain": "Index         128\nCURROPER    60280\nINSTNM      60280\ndtype: int64"
     },
     "execution_count": 9,
     "metadata": {},
     "output_type": "execute_result"
    }
   ],
   "source": [
    "college['MENONLY'] = college['MENONLY'].astype('float16')\n",
    "college['RELAFFIL'] = college['RELAFFIL'].astype('int8')\n",
    "college[['CURROPER', 'INSTNM']].memory_usage()"
   ],
   "metadata": {
    "collapsed": false,
    "pycharm": {
     "name": "#%%\n"
    }
   }
  },
  {
   "cell_type": "markdown",
   "source": [
    "## Seleccionar el más pequeño de lo más largo"
   ],
   "metadata": {
    "collapsed": false,
    "pycharm": {
     "name": "#%% md\n"
    }
   }
  },
  {
   "cell_type": "code",
   "execution_count": 10,
   "outputs": [
    {
     "data": {
      "text/plain": "                   movie_title  imdb_score      budget\n2725          Towering Inferno         9.5         NaN\n1920  The Shawshank Redemption         9.3  25000000.0\n3402             The Godfather         9.2   6000000.0\n2779                   Dekalog         9.1         NaN\n4312      Kickboxer: Vengeance         9.1  17000000.0",
      "text/html": "<div>\n<style scoped>\n    .dataframe tbody tr th:only-of-type {\n        vertical-align: middle;\n    }\n\n    .dataframe tbody tr th {\n        vertical-align: top;\n    }\n\n    .dataframe thead th {\n        text-align: right;\n    }\n</style>\n<table border=\"1\" class=\"dataframe\">\n  <thead>\n    <tr style=\"text-align: right;\">\n      <th></th>\n      <th>movie_title</th>\n      <th>imdb_score</th>\n      <th>budget</th>\n    </tr>\n  </thead>\n  <tbody>\n    <tr>\n      <th>2725</th>\n      <td>Towering Inferno</td>\n      <td>9.5</td>\n      <td>NaN</td>\n    </tr>\n    <tr>\n      <th>1920</th>\n      <td>The Shawshank Redemption</td>\n      <td>9.3</td>\n      <td>25000000.0</td>\n    </tr>\n    <tr>\n      <th>3402</th>\n      <td>The Godfather</td>\n      <td>9.2</td>\n      <td>6000000.0</td>\n    </tr>\n    <tr>\n      <th>2779</th>\n      <td>Dekalog</td>\n      <td>9.1</td>\n      <td>NaN</td>\n    </tr>\n    <tr>\n      <th>4312</th>\n      <td>Kickboxer: Vengeance</td>\n      <td>9.1</td>\n      <td>17000000.0</td>\n    </tr>\n  </tbody>\n</table>\n</div>"
     },
     "execution_count": 10,
     "metadata": {},
     "output_type": "execute_result"
    }
   ],
   "source": [
    "movie = pd.read_csv('data/movie.csv')\n",
    "movie2 = movie[['movie_title', 'imdb_score', 'budget']]\n",
    "\n",
    "movie2.nlargest(100, 'imdb_score').head()"
   ],
   "metadata": {
    "collapsed": false,
    "pycharm": {
     "name": "#%%\n"
    }
   }
  },
  {
   "cell_type": "code",
   "execution_count": 11,
   "outputs": [
    {
     "data": {
      "text/plain": "               movie_title  imdb_score    budget\n4804        Butterfly Girl         8.7  180000.0\n4801    Children of Heaven         8.5  180000.0\n4706          12 Angry Men         8.9  350000.0\n4550          A Separation         8.4  500000.0\n4636  The Other Dream Team         8.4  500000.0",
      "text/html": "<div>\n<style scoped>\n    .dataframe tbody tr th:only-of-type {\n        vertical-align: middle;\n    }\n\n    .dataframe tbody tr th {\n        vertical-align: top;\n    }\n\n    .dataframe thead th {\n        text-align: right;\n    }\n</style>\n<table border=\"1\" class=\"dataframe\">\n  <thead>\n    <tr style=\"text-align: right;\">\n      <th></th>\n      <th>movie_title</th>\n      <th>imdb_score</th>\n      <th>budget</th>\n    </tr>\n  </thead>\n  <tbody>\n    <tr>\n      <th>4804</th>\n      <td>Butterfly Girl</td>\n      <td>8.7</td>\n      <td>180000.0</td>\n    </tr>\n    <tr>\n      <th>4801</th>\n      <td>Children of Heaven</td>\n      <td>8.5</td>\n      <td>180000.0</td>\n    </tr>\n    <tr>\n      <th>4706</th>\n      <td>12 Angry Men</td>\n      <td>8.9</td>\n      <td>350000.0</td>\n    </tr>\n    <tr>\n      <th>4550</th>\n      <td>A Separation</td>\n      <td>8.4</td>\n      <td>500000.0</td>\n    </tr>\n    <tr>\n      <th>4636</th>\n      <td>The Other Dream Team</td>\n      <td>8.4</td>\n      <td>500000.0</td>\n    </tr>\n  </tbody>\n</table>\n</div>"
     },
     "execution_count": 11,
     "metadata": {},
     "output_type": "execute_result"
    }
   ],
   "source": [
    "movie2.nlargest(100, 'imdb_score').nsmallest(5, 'budget')"
   ],
   "metadata": {
    "collapsed": false,
    "pycharm": {
     "name": "#%%\n"
    }
   }
  },
  {
   "cell_type": "markdown",
   "source": [
    "## Selecionar el más grande de cada grupo ordenando"
   ],
   "metadata": {
    "collapsed": false,
    "pycharm": {
     "name": "#%% md\n"
    }
   }
  },
  {
   "cell_type": "code",
   "execution_count": 12,
   "outputs": [
    {
     "data": {
      "text/plain": "                       movie_title  title_year  imdb_score\n3884                      The Veil      2016.0         4.7\n2375    My Big Fat Greek Wedding 2      2016.0         6.1\n2794          Miracles from Heaven      2016.0         6.8\n92    Independence Day: Resurgence      2016.0         5.5\n153                Kung Fu Panda 3      2016.0         7.2",
      "text/html": "<div>\n<style scoped>\n    .dataframe tbody tr th:only-of-type {\n        vertical-align: middle;\n    }\n\n    .dataframe tbody tr th {\n        vertical-align: top;\n    }\n\n    .dataframe thead th {\n        text-align: right;\n    }\n</style>\n<table border=\"1\" class=\"dataframe\">\n  <thead>\n    <tr style=\"text-align: right;\">\n      <th></th>\n      <th>movie_title</th>\n      <th>title_year</th>\n      <th>imdb_score</th>\n    </tr>\n  </thead>\n  <tbody>\n    <tr>\n      <th>3884</th>\n      <td>The Veil</td>\n      <td>2016.0</td>\n      <td>4.7</td>\n    </tr>\n    <tr>\n      <th>2375</th>\n      <td>My Big Fat Greek Wedding 2</td>\n      <td>2016.0</td>\n      <td>6.1</td>\n    </tr>\n    <tr>\n      <th>2794</th>\n      <td>Miracles from Heaven</td>\n      <td>2016.0</td>\n      <td>6.8</td>\n    </tr>\n    <tr>\n      <th>92</th>\n      <td>Independence Day: Resurgence</td>\n      <td>2016.0</td>\n      <td>5.5</td>\n    </tr>\n    <tr>\n      <th>153</th>\n      <td>Kung Fu Panda 3</td>\n      <td>2016.0</td>\n      <td>7.2</td>\n    </tr>\n  </tbody>\n</table>\n</div>"
     },
     "execution_count": 12,
     "metadata": {},
     "output_type": "execute_result"
    }
   ],
   "source": [
    "movie2 = movie[['movie_title', 'title_year', 'imdb_score']]\n",
    "movie2.sort_values('title_year', ascending=False).head()\n"
   ],
   "metadata": {
    "collapsed": false,
    "pycharm": {
     "name": "#%%\n"
    }
   }
  },
  {
   "cell_type": "code",
   "execution_count": 13,
   "outputs": [
    {
     "data": {
      "text/plain": "                      movie_title  title_year  imdb_score\n4312         Kickboxer: Vengeance      2016.0         9.1\n4277  A Beginner's Guide to Snuff      2016.0         8.7\n3798                      Airlift      2016.0         8.5\n27     Captain America: Civil War      2016.0         8.2\n98            Godzilla Resurgence      2016.0         8.2",
      "text/html": "<div>\n<style scoped>\n    .dataframe tbody tr th:only-of-type {\n        vertical-align: middle;\n    }\n\n    .dataframe tbody tr th {\n        vertical-align: top;\n    }\n\n    .dataframe thead th {\n        text-align: right;\n    }\n</style>\n<table border=\"1\" class=\"dataframe\">\n  <thead>\n    <tr style=\"text-align: right;\">\n      <th></th>\n      <th>movie_title</th>\n      <th>title_year</th>\n      <th>imdb_score</th>\n    </tr>\n  </thead>\n  <tbody>\n    <tr>\n      <th>4312</th>\n      <td>Kickboxer: Vengeance</td>\n      <td>2016.0</td>\n      <td>9.1</td>\n    </tr>\n    <tr>\n      <th>4277</th>\n      <td>A Beginner's Guide to Snuff</td>\n      <td>2016.0</td>\n      <td>8.7</td>\n    </tr>\n    <tr>\n      <th>3798</th>\n      <td>Airlift</td>\n      <td>2016.0</td>\n      <td>8.5</td>\n    </tr>\n    <tr>\n      <th>27</th>\n      <td>Captain America: Civil War</td>\n      <td>2016.0</td>\n      <td>8.2</td>\n    </tr>\n    <tr>\n      <th>98</th>\n      <td>Godzilla Resurgence</td>\n      <td>2016.0</td>\n      <td>8.2</td>\n    </tr>\n  </tbody>\n</table>\n</div>"
     },
     "execution_count": 13,
     "metadata": {},
     "output_type": "execute_result"
    }
   ],
   "source": [
    "movie3 = movie2.sort_values(['title_year','imdb_score'], ascending=False)\n",
    "movie3.head()"
   ],
   "metadata": {
    "collapsed": false,
    "pycharm": {
     "name": "#%%\n"
    }
   }
  },
  {
   "cell_type": "code",
   "execution_count": 14,
   "outputs": [
    {
     "data": {
      "text/plain": "                                  movie_title  title_year  imdb_score\n4312                     Kickboxer: Vengeance      2016.0         9.1\n3745                          Running Forever      2015.0         8.6\n4369                   Queen of the Mountains      2014.0         8.7\n3935  Batman: The Dark Knight Returns, Part 2      2013.0         8.4\n3                       The Dark Knight Rises      2012.0         8.5",
      "text/html": "<div>\n<style scoped>\n    .dataframe tbody tr th:only-of-type {\n        vertical-align: middle;\n    }\n\n    .dataframe tbody tr th {\n        vertical-align: top;\n    }\n\n    .dataframe thead th {\n        text-align: right;\n    }\n</style>\n<table border=\"1\" class=\"dataframe\">\n  <thead>\n    <tr style=\"text-align: right;\">\n      <th></th>\n      <th>movie_title</th>\n      <th>title_year</th>\n      <th>imdb_score</th>\n    </tr>\n  </thead>\n  <tbody>\n    <tr>\n      <th>4312</th>\n      <td>Kickboxer: Vengeance</td>\n      <td>2016.0</td>\n      <td>9.1</td>\n    </tr>\n    <tr>\n      <th>3745</th>\n      <td>Running Forever</td>\n      <td>2015.0</td>\n      <td>8.6</td>\n    </tr>\n    <tr>\n      <th>4369</th>\n      <td>Queen of the Mountains</td>\n      <td>2014.0</td>\n      <td>8.7</td>\n    </tr>\n    <tr>\n      <th>3935</th>\n      <td>Batman: The Dark Knight Returns, Part 2</td>\n      <td>2013.0</td>\n      <td>8.4</td>\n    </tr>\n    <tr>\n      <th>3</th>\n      <td>The Dark Knight Rises</td>\n      <td>2012.0</td>\n      <td>8.5</td>\n    </tr>\n  </tbody>\n</table>\n</div>"
     },
     "execution_count": 14,
     "metadata": {},
     "output_type": "execute_result"
    }
   ],
   "source": [
    "movie_top_year = movie3.drop_duplicates(subset='title_year')\n",
    "movie_top_year.head()"
   ],
   "metadata": {
    "collapsed": false,
    "pycharm": {
     "name": "#%%\n"
    }
   }
  },
  {
   "cell_type": "code",
   "execution_count": 15,
   "outputs": [
    {
     "data": {
      "text/plain": "                                          movie_title  title_year  \\\n4026                                        Compadres      2016.0   \n4658                              Fight to the Finish      2016.0   \n4661                                       Rodeo Girl      2016.0   \n3252                                      The Wailing      2016.0   \n4659                   Alleluia! The Devil's Carnival      2016.0   \n4731                                          Bizarre      2015.0   \n812                                  The Ridiculous 6      2015.0   \n4831                                      The Gallows      2015.0   \n4825                                 Romantic Schemer      2015.0   \n3796  R.L. Stine's Monsterville: The Cabinet of Souls      2015.0   \n\n     content_rating     budget  \n4026              R  3000000.0  \n4658          PG-13   150000.0  \n4661             PG   500000.0  \n3252      Not Rated        NaN  \n4659            NaN   500000.0  \n4731        Unrated   500000.0  \n812           TV-14        NaN  \n4831              R   100000.0  \n4825          PG-13   125000.0  \n3796             PG  4400000.0  ",
      "text/html": "<div>\n<style scoped>\n    .dataframe tbody tr th:only-of-type {\n        vertical-align: middle;\n    }\n\n    .dataframe tbody tr th {\n        vertical-align: top;\n    }\n\n    .dataframe thead th {\n        text-align: right;\n    }\n</style>\n<table border=\"1\" class=\"dataframe\">\n  <thead>\n    <tr style=\"text-align: right;\">\n      <th></th>\n      <th>movie_title</th>\n      <th>title_year</th>\n      <th>content_rating</th>\n      <th>budget</th>\n    </tr>\n  </thead>\n  <tbody>\n    <tr>\n      <th>4026</th>\n      <td>Compadres</td>\n      <td>2016.0</td>\n      <td>R</td>\n      <td>3000000.0</td>\n    </tr>\n    <tr>\n      <th>4658</th>\n      <td>Fight to the Finish</td>\n      <td>2016.0</td>\n      <td>PG-13</td>\n      <td>150000.0</td>\n    </tr>\n    <tr>\n      <th>4661</th>\n      <td>Rodeo Girl</td>\n      <td>2016.0</td>\n      <td>PG</td>\n      <td>500000.0</td>\n    </tr>\n    <tr>\n      <th>3252</th>\n      <td>The Wailing</td>\n      <td>2016.0</td>\n      <td>Not Rated</td>\n      <td>NaN</td>\n    </tr>\n    <tr>\n      <th>4659</th>\n      <td>Alleluia! The Devil's Carnival</td>\n      <td>2016.0</td>\n      <td>NaN</td>\n      <td>500000.0</td>\n    </tr>\n    <tr>\n      <th>4731</th>\n      <td>Bizarre</td>\n      <td>2015.0</td>\n      <td>Unrated</td>\n      <td>500000.0</td>\n    </tr>\n    <tr>\n      <th>812</th>\n      <td>The Ridiculous 6</td>\n      <td>2015.0</td>\n      <td>TV-14</td>\n      <td>NaN</td>\n    </tr>\n    <tr>\n      <th>4831</th>\n      <td>The Gallows</td>\n      <td>2015.0</td>\n      <td>R</td>\n      <td>100000.0</td>\n    </tr>\n    <tr>\n      <th>4825</th>\n      <td>Romantic Schemer</td>\n      <td>2015.0</td>\n      <td>PG-13</td>\n      <td>125000.0</td>\n    </tr>\n    <tr>\n      <th>3796</th>\n      <td>R.L. Stine's Monsterville: The Cabinet of Souls</td>\n      <td>2015.0</td>\n      <td>PG</td>\n      <td>4400000.0</td>\n    </tr>\n  </tbody>\n</table>\n</div>"
     },
     "execution_count": 15,
     "metadata": {},
     "output_type": "execute_result"
    }
   ],
   "source": [
    "movie4 = movie[['movie_title', 'title_year', 'content_rating', 'budget']]\n",
    "movie4_sorted = movie4.sort_values(['title_year', 'content_rating', 'budget'], ascending=[False, False, True])\n",
    "movie4_sorted.drop_duplicates(subset=['title_year', 'content_rating']).head(10)"
   ],
   "metadata": {
    "collapsed": false,
    "pycharm": {
     "name": "#%%\n"
    }
   }
  },
  {
   "cell_type": "markdown",
   "source": [
    "## Repicando nlargest con sort_values"
   ],
   "metadata": {
    "collapsed": false,
    "pycharm": {
     "name": "#%% md\n"
    }
   }
  },
  {
   "cell_type": "code",
   "execution_count": 16,
   "outputs": [
    {
     "data": {
      "text/plain": "               movie_title  imdb_score    budget\n4804        Butterfly Girl         8.7  180000.0\n4801    Children of Heaven         8.5  180000.0\n4706          12 Angry Men         8.9  350000.0\n4550          A Separation         8.4  500000.0\n4636  The Other Dream Team         8.4  500000.0",
      "text/html": "<div>\n<style scoped>\n    .dataframe tbody tr th:only-of-type {\n        vertical-align: middle;\n    }\n\n    .dataframe tbody tr th {\n        vertical-align: top;\n    }\n\n    .dataframe thead th {\n        text-align: right;\n    }\n</style>\n<table border=\"1\" class=\"dataframe\">\n  <thead>\n    <tr style=\"text-align: right;\">\n      <th></th>\n      <th>movie_title</th>\n      <th>imdb_score</th>\n      <th>budget</th>\n    </tr>\n  </thead>\n  <tbody>\n    <tr>\n      <th>4804</th>\n      <td>Butterfly Girl</td>\n      <td>8.7</td>\n      <td>180000.0</td>\n    </tr>\n    <tr>\n      <th>4801</th>\n      <td>Children of Heaven</td>\n      <td>8.5</td>\n      <td>180000.0</td>\n    </tr>\n    <tr>\n      <th>4706</th>\n      <td>12 Angry Men</td>\n      <td>8.9</td>\n      <td>350000.0</td>\n    </tr>\n    <tr>\n      <th>4550</th>\n      <td>A Separation</td>\n      <td>8.4</td>\n      <td>500000.0</td>\n    </tr>\n    <tr>\n      <th>4636</th>\n      <td>The Other Dream Team</td>\n      <td>8.4</td>\n      <td>500000.0</td>\n    </tr>\n  </tbody>\n</table>\n</div>"
     },
     "execution_count": 16,
     "metadata": {},
     "output_type": "execute_result"
    }
   ],
   "source": [
    "movie = pd.read_csv('data/movie.csv')\n",
    "movie2 = movie[['movie_title', 'imdb_score', 'budget']]\n",
    "movie_smallest_largest = movie2.nlargest(100, 'imdb_score').nsmallest(5, 'budget')\n",
    "movie_smallest_largest\n"
   ],
   "metadata": {
    "collapsed": false,
    "pycharm": {
     "name": "#%%\n"
    }
   }
  },
  {
   "cell_type": "code",
   "execution_count": 17,
   "outputs": [
    {
     "data": {
      "text/plain": "                   movie_title  imdb_score      budget\n2725          Towering Inferno         9.5         NaN\n1920  The Shawshank Redemption         9.3  25000000.0\n3402             The Godfather         9.2   6000000.0\n2779                   Dekalog         9.1         NaN\n4312      Kickboxer: Vengeance         9.1  17000000.0",
      "text/html": "<div>\n<style scoped>\n    .dataframe tbody tr th:only-of-type {\n        vertical-align: middle;\n    }\n\n    .dataframe tbody tr th {\n        vertical-align: top;\n    }\n\n    .dataframe thead th {\n        text-align: right;\n    }\n</style>\n<table border=\"1\" class=\"dataframe\">\n  <thead>\n    <tr style=\"text-align: right;\">\n      <th></th>\n      <th>movie_title</th>\n      <th>imdb_score</th>\n      <th>budget</th>\n    </tr>\n  </thead>\n  <tbody>\n    <tr>\n      <th>2725</th>\n      <td>Towering Inferno</td>\n      <td>9.5</td>\n      <td>NaN</td>\n    </tr>\n    <tr>\n      <th>1920</th>\n      <td>The Shawshank Redemption</td>\n      <td>9.3</td>\n      <td>25000000.0</td>\n    </tr>\n    <tr>\n      <th>3402</th>\n      <td>The Godfather</td>\n      <td>9.2</td>\n      <td>6000000.0</td>\n    </tr>\n    <tr>\n      <th>2779</th>\n      <td>Dekalog</td>\n      <td>9.1</td>\n      <td>NaN</td>\n    </tr>\n    <tr>\n      <th>4312</th>\n      <td>Kickboxer: Vengeance</td>\n      <td>9.1</td>\n      <td>17000000.0</td>\n    </tr>\n  </tbody>\n</table>\n</div>"
     },
     "execution_count": 17,
     "metadata": {},
     "output_type": "execute_result"
    }
   ],
   "source": [
    "movie2.sort_values('imdb_score', ascending=False).head(100).head()"
   ],
   "metadata": {
    "collapsed": false,
    "pycharm": {
     "name": "#%%\n"
    }
   }
  },
  {
   "cell_type": "code",
   "execution_count": 18,
   "outputs": [
    {
     "data": {
      "text/plain": "                    movie_title  imdb_score    budget\n4815  A Charlie Brown Christmas         8.4  150000.0\n4801         Children of Heaven         8.5  180000.0\n4804             Butterfly Girl         8.7  180000.0\n4706               12 Angry Men         8.9  350000.0\n4636       The Other Dream Team         8.4  500000.0",
      "text/html": "<div>\n<style scoped>\n    .dataframe tbody tr th:only-of-type {\n        vertical-align: middle;\n    }\n\n    .dataframe tbody tr th {\n        vertical-align: top;\n    }\n\n    .dataframe thead th {\n        text-align: right;\n    }\n</style>\n<table border=\"1\" class=\"dataframe\">\n  <thead>\n    <tr style=\"text-align: right;\">\n      <th></th>\n      <th>movie_title</th>\n      <th>imdb_score</th>\n      <th>budget</th>\n    </tr>\n  </thead>\n  <tbody>\n    <tr>\n      <th>4815</th>\n      <td>A Charlie Brown Christmas</td>\n      <td>8.4</td>\n      <td>150000.0</td>\n    </tr>\n    <tr>\n      <th>4801</th>\n      <td>Children of Heaven</td>\n      <td>8.5</td>\n      <td>180000.0</td>\n    </tr>\n    <tr>\n      <th>4804</th>\n      <td>Butterfly Girl</td>\n      <td>8.7</td>\n      <td>180000.0</td>\n    </tr>\n    <tr>\n      <th>4706</th>\n      <td>12 Angry Men</td>\n      <td>8.9</td>\n      <td>350000.0</td>\n    </tr>\n    <tr>\n      <th>4636</th>\n      <td>The Other Dream Team</td>\n      <td>8.4</td>\n      <td>500000.0</td>\n    </tr>\n  </tbody>\n</table>\n</div>"
     },
     "execution_count": 18,
     "metadata": {},
     "output_type": "execute_result"
    }
   ],
   "source": [
    "movie2.sort_values('imdb_score', ascending=False).head(100).sort_values('budget').head()\n",
    "\n"
   ],
   "metadata": {
    "collapsed": false,
    "pycharm": {
     "name": "#%%\n"
    }
   }
  }
 ],
 "metadata": {
  "kernelspec": {
   "display_name": "Python 3",
   "language": "python",
   "name": "python3"
  },
  "language_info": {
   "codemirror_mode": {
    "name": "ipython",
    "version": 2
   },
   "file_extension": ".py",
   "mimetype": "text/x-python",
   "name": "python",
   "nbconvert_exporter": "python",
   "pygments_lexer": "ipython2",
   "version": "2.7.6"
  }
 },
 "nbformat": 4,
 "nbformat_minor": 0
}