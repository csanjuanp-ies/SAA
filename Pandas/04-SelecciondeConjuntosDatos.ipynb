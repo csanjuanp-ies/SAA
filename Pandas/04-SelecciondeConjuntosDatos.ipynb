{
 "cells": [
  {
   "cell_type": "markdown",
   "source": [
    "# Selecionando conjuntos de datos\n",
    "Cada fila de un dataset está indexada generalmente con un valor númerico empezando desde cero (a menos que se indique\n",
    "lo contrario en la carga de datos con **index_col**). Del mismo modo, las\n",
    "columnas utiliza etiquetas para el acceso. La selección en Pandas es lo suficientemente potente como para realizarla\n",
    "conmjuntamente en filas y columnas.\n",
    "\n",
    "La selección de datos no tiene por qué ser exclusivamente a través de la notación de corchetes, las funciones **loc** y\n",
    "**iloc** proporcionan otro modo de acceso. La primera se usa para selección por etiquetas exclusivamente, mientras que\n",
    "la segunda permite selección por índices numéricos."
   ],
   "metadata": {
    "collapsed": false,
    "pycharm": {
     "name": "#%% md\n"
    }
   }
  },
  {
   "cell_type": "code",
   "execution_count": 55,
   "outputs": [
    {
     "data": {
      "text/plain": "INSTNM\nAlabama A & M University                   Normal\nUniversity of Alabama at Birmingham    Birmingham\nAmridge University                     Montgomery\nUniversity of Alabama in Huntsville    Huntsville\nAlabama State University               Montgomery\nName: CITY, dtype: object"
     },
     "execution_count": 55,
     "metadata": {},
     "output_type": "execute_result"
    }
   ],
   "source": [
    "import pandas as pd\n",
    "import numpy as np\n",
    "import matplotlib.pyplot as plt\n",
    "%matplotlib inline\n",
    "college = pd.read_csv('data/college.csv', index_col='INSTNM')\n",
    "city = college['CITY']\n",
    "city.head()"
   ],
   "metadata": {
    "collapsed": false,
    "pycharm": {
     "name": "#%%\n"
    }
   }
  },
  {
   "cell_type": "markdown",
   "source": [
    "## Seleccionar Series\n",
    "### Selección por índice"
   ],
   "metadata": {
    "collapsed": false,
    "pycharm": {
     "name": "#%% md\n"
    }
   }
  },
  {
   "cell_type": "code",
   "execution_count": 56,
   "outputs": [
    {
     "data": {
      "text/plain": "'Huntsville'"
     },
     "execution_count": 56,
     "metadata": {},
     "output_type": "execute_result"
    }
   ],
   "source": [
    "# una fila\n",
    "city.iloc[3]"
   ],
   "metadata": {
    "collapsed": false,
    "pycharm": {
     "name": "#%%\n"
    }
   }
  },
  {
   "cell_type": "code",
   "execution_count": 57,
   "outputs": [
    {
     "data": {
      "text/plain": "INSTNM\nBirmingham Southern College                            Birmingham\nGeorge C Wallace State Community College-Hanceville    Hanceville\nJudson College                                             Marion\nName: CITY, dtype: object"
     },
     "execution_count": 57,
     "metadata": {},
     "output_type": "execute_result"
    }
   ],
   "source": [
    "# tres filas\n",
    "city.iloc[[10,20,30]]"
   ],
   "metadata": {
    "collapsed": false,
    "pycharm": {
     "name": "#%%\n"
    }
   }
  },
  {
   "cell_type": "code",
   "execution_count": 58,
   "outputs": [
    {
     "data": {
      "text/plain": "INSTNM\nAlabama State University              Montgomery\nEnterprise State Community College    Enterprise\nHeritage Christian University           Florence\nMarion Military Institute                 Marion\nReid State Technical College           Evergreen\nName: CITY, dtype: object"
     },
     "execution_count": 58,
     "metadata": {},
     "output_type": "execute_result"
    }
   ],
   "source": [
    "# El rango desde 4 a 50 de 10 en 10, recordar que 50 no entra\n",
    "city.iloc[4:50:10]"
   ],
   "metadata": {
    "collapsed": false,
    "pycharm": {
     "name": "#%%\n"
    }
   }
  },
  {
   "cell_type": "markdown",
   "source": [
    "### Selección por etiqueta"
   ],
   "metadata": {
    "collapsed": false,
    "pycharm": {
     "name": "#%% md\n"
    }
   }
  },
  {
   "cell_type": "code",
   "execution_count": 59,
   "outputs": [
    {
     "data": {
      "text/plain": "'Florence'"
     },
     "execution_count": 59,
     "metadata": {},
     "output_type": "execute_result"
    }
   ],
   "source": [
    "# selección por etiqueta de una fila, se utilizó al cargar INSTNM como índice de filas por lo que\n",
    "# Heritage Christian University es el índice de una fila.\n",
    "city.loc['Heritage Christian University']"
   ],
   "metadata": {
    "collapsed": false,
    "pycharm": {
     "name": "#%%\n"
    }
   }
  },
  {
   "cell_type": "code",
   "execution_count": 60,
   "outputs": [
    {
     "data": {
      "text/plain": "['Northwest HVAC/R Training Center',\n 'California State University-Dominguez Hills',\n 'Lower Columbia College',\n 'Southwest Acupuncture College-Boulder']"
     },
     "execution_count": 60,
     "metadata": {},
     "output_type": "execute_result"
    }
   ],
   "source": [
    "np.random.seed(1)\n",
    "# elegimos 4 filas al azar\n",
    "labels = list(np.random.choice(city.index, 4))\n",
    "labels"
   ],
   "metadata": {
    "collapsed": false,
    "pycharm": {
     "name": "#%%\n"
    }
   }
  },
  {
   "cell_type": "code",
   "execution_count": 61,
   "outputs": [
    {
     "data": {
      "text/plain": "INSTNM\nNorthwest HVAC/R Training Center                Spokane\nCalifornia State University-Dominguez Hills      Carson\nLower Columbia College                         Longview\nSouthwest Acupuncture College-Boulder           Boulder\nName: CITY, dtype: object"
     },
     "execution_count": 61,
     "metadata": {},
     "output_type": "execute_result"
    }
   ],
   "source": [
    "# varias filas por etiqueta\n",
    "city.loc[labels]"
   ],
   "metadata": {
    "collapsed": false,
    "pycharm": {
     "name": "#%%\n"
    }
   }
  },
  {
   "cell_type": "code",
   "execution_count": 62,
   "outputs": [
    {
     "data": {
      "text/plain": "INSTNM\nAlabama State University              Montgomery\nEnterprise State Community College    Enterprise\nHeritage Christian University           Florence\nMarion Military Institute                 Marion\nReid State Technical College           Evergreen\nName: CITY, dtype: object"
     },
     "execution_count": 62,
     "metadata": {},
     "output_type": "execute_result"
    }
   ],
   "source": [
    "# El rango desde Alabama... a Reid.. de 10 en 10\n",
    "city.loc['Alabama State University':'Reid State Technical College':10]"
   ],
   "metadata": {
    "collapsed": false,
    "pycharm": {
     "name": "#%%\n"
    }
   }
  },
  {
   "cell_type": "markdown",
   "source": [
    "### Selecionar filas en el dataset\n",
    "Todo lo hablado en los párrafos anteriores se puede aplicar al dataset"
   ],
   "metadata": {
    "collapsed": false,
    "pycharm": {
     "name": "#%% md\n"
    }
   }
  },
  {
   "cell_type": "code",
   "execution_count": 63,
   "outputs": [
    {
     "data": {
      "text/plain": "CITY                  Anchorage\nSTABBR                       AK\nHBCU                        0.0\nMENONLY                     0.0\nWOMENONLY                   0.0\nRELAFFIL                      0\nSATVRMID                    NaN\nSATMTMID                    NaN\nDISTANCEONLY                0.0\nUGDS                    12865.0\nUGDS_WHITE               0.5747\nUGDS_BLACK               0.0358\nUGDS_HISP                0.0761\nUGDS_ASIAN               0.0778\nUGDS_AIAN                0.0653\nUGDS_NHPI                0.0086\nUGDS_2MOR                 0.098\nUGDS_NRA                 0.0181\nUGDS_UNKN                0.0457\nPPTUG_EF                 0.4539\nCURROPER                      1\nPCTPELL                  0.2385\nPCTFLOAN                 0.2647\nUG25ABV                  0.4386\nMD_EARN_WNE_P10           42500\nGRAD_DEBT_MDN_SUPP      19449.5\nName: University of Alaska Anchorage, dtype: object"
     },
     "execution_count": 63,
     "metadata": {},
     "output_type": "execute_result"
    }
   ],
   "source": [
    "college.iloc[60]"
   ],
   "metadata": {
    "collapsed": false,
    "pycharm": {
     "name": "#%%\n"
    }
   }
  },
  {
   "cell_type": "code",
   "execution_count": 64,
   "outputs": [
    {
     "data": {
      "text/plain": "                                            CITY STABBR  HBCU  MENONLY  \\\nINSTNM                                                                   \nUniversity of Alaska Anchorage         Anchorage     AK   0.0      0.0   \nInternational Academy of Hair Design       Tempe     AZ   0.0      0.0   \nUniversity of Alabama in Huntsville   Huntsville     AL   0.0      0.0   \n\n                                      WOMENONLY  RELAFFIL  SATVRMID  SATMTMID  \\\nINSTNM                                                                          \nUniversity of Alaska Anchorage              0.0         0       NaN       NaN   \nInternational Academy of Hair Design        0.0         0       NaN       NaN   \nUniversity of Alabama in Huntsville         0.0         0     595.0     590.0   \n\n                                      DISTANCEONLY     UGDS  ...  UGDS_2MOR  \\\nINSTNM                                                       ...              \nUniversity of Alaska Anchorage                 0.0  12865.0  ...     0.0980   \nInternational Academy of Hair Design           0.0    188.0  ...     0.0160   \nUniversity of Alabama in Huntsville            0.0   5451.0  ...     0.0172   \n\n                                      UGDS_NRA  UGDS_UNKN  PPTUG_EF  CURROPER  \\\nINSTNM                                                                          \nUniversity of Alaska Anchorage          0.0181     0.0457    0.4539         1   \nInternational Academy of Hair Design    0.0000     0.0638    0.0000         0   \nUniversity of Alabama in Huntsville     0.0332     0.0350    0.2146         1   \n\n                                      PCTPELL  PCTFLOAN  UG25ABV  \\\nINSTNM                                                             \nUniversity of Alaska Anchorage         0.2385    0.2647   0.4386   \nInternational Academy of Hair Design   0.7185    0.7346   0.3905   \nUniversity of Alabama in Huntsville    0.3072    0.4596   0.2640   \n\n                                      MD_EARN_WNE_P10  GRAD_DEBT_MDN_SUPP  \nINSTNM                                                                     \nUniversity of Alaska Anchorage                  42500             19449.5  \nInternational Academy of Hair Design            22200               10556  \nUniversity of Alabama in Huntsville             45500               24097  \n\n[3 rows x 26 columns]",
      "text/html": "<div>\n<style scoped>\n    .dataframe tbody tr th:only-of-type {\n        vertical-align: middle;\n    }\n\n    .dataframe tbody tr th {\n        vertical-align: top;\n    }\n\n    .dataframe thead th {\n        text-align: right;\n    }\n</style>\n<table border=\"1\" class=\"dataframe\">\n  <thead>\n    <tr style=\"text-align: right;\">\n      <th></th>\n      <th>CITY</th>\n      <th>STABBR</th>\n      <th>HBCU</th>\n      <th>MENONLY</th>\n      <th>WOMENONLY</th>\n      <th>RELAFFIL</th>\n      <th>SATVRMID</th>\n      <th>SATMTMID</th>\n      <th>DISTANCEONLY</th>\n      <th>UGDS</th>\n      <th>...</th>\n      <th>UGDS_2MOR</th>\n      <th>UGDS_NRA</th>\n      <th>UGDS_UNKN</th>\n      <th>PPTUG_EF</th>\n      <th>CURROPER</th>\n      <th>PCTPELL</th>\n      <th>PCTFLOAN</th>\n      <th>UG25ABV</th>\n      <th>MD_EARN_WNE_P10</th>\n      <th>GRAD_DEBT_MDN_SUPP</th>\n    </tr>\n    <tr>\n      <th>INSTNM</th>\n      <th></th>\n      <th></th>\n      <th></th>\n      <th></th>\n      <th></th>\n      <th></th>\n      <th></th>\n      <th></th>\n      <th></th>\n      <th></th>\n      <th></th>\n      <th></th>\n      <th></th>\n      <th></th>\n      <th></th>\n      <th></th>\n      <th></th>\n      <th></th>\n      <th></th>\n      <th></th>\n      <th></th>\n    </tr>\n  </thead>\n  <tbody>\n    <tr>\n      <th>University of Alaska Anchorage</th>\n      <td>Anchorage</td>\n      <td>AK</td>\n      <td>0.0</td>\n      <td>0.0</td>\n      <td>0.0</td>\n      <td>0</td>\n      <td>NaN</td>\n      <td>NaN</td>\n      <td>0.0</td>\n      <td>12865.0</td>\n      <td>...</td>\n      <td>0.0980</td>\n      <td>0.0181</td>\n      <td>0.0457</td>\n      <td>0.4539</td>\n      <td>1</td>\n      <td>0.2385</td>\n      <td>0.2647</td>\n      <td>0.4386</td>\n      <td>42500</td>\n      <td>19449.5</td>\n    </tr>\n    <tr>\n      <th>International Academy of Hair Design</th>\n      <td>Tempe</td>\n      <td>AZ</td>\n      <td>0.0</td>\n      <td>0.0</td>\n      <td>0.0</td>\n      <td>0</td>\n      <td>NaN</td>\n      <td>NaN</td>\n      <td>0.0</td>\n      <td>188.0</td>\n      <td>...</td>\n      <td>0.0160</td>\n      <td>0.0000</td>\n      <td>0.0638</td>\n      <td>0.0000</td>\n      <td>0</td>\n      <td>0.7185</td>\n      <td>0.7346</td>\n      <td>0.3905</td>\n      <td>22200</td>\n      <td>10556</td>\n    </tr>\n    <tr>\n      <th>University of Alabama in Huntsville</th>\n      <td>Huntsville</td>\n      <td>AL</td>\n      <td>0.0</td>\n      <td>0.0</td>\n      <td>0.0</td>\n      <td>0</td>\n      <td>595.0</td>\n      <td>590.0</td>\n      <td>0.0</td>\n      <td>5451.0</td>\n      <td>...</td>\n      <td>0.0172</td>\n      <td>0.0332</td>\n      <td>0.0350</td>\n      <td>0.2146</td>\n      <td>1</td>\n      <td>0.3072</td>\n      <td>0.4596</td>\n      <td>0.2640</td>\n      <td>45500</td>\n      <td>24097</td>\n    </tr>\n  </tbody>\n</table>\n<p>3 rows × 26 columns</p>\n</div>"
     },
     "execution_count": 64,
     "metadata": {},
     "output_type": "execute_result"
    }
   ],
   "source": [
    "college.iloc[[60, 99, 3]]"
   ],
   "metadata": {
    "collapsed": false,
    "pycharm": {
     "name": "#%%\n"
    }
   }
  },
  {
   "cell_type": "code",
   "execution_count": 65,
   "outputs": [
    {
     "data": {
      "text/plain": "CITY                  Anchorage\nSTABBR                       AK\nHBCU                        0.0\nMENONLY                     0.0\nWOMENONLY                   0.0\nRELAFFIL                      0\nSATVRMID                    NaN\nSATMTMID                    NaN\nDISTANCEONLY                0.0\nUGDS                    12865.0\nUGDS_WHITE               0.5747\nUGDS_BLACK               0.0358\nUGDS_HISP                0.0761\nUGDS_ASIAN               0.0778\nUGDS_AIAN                0.0653\nUGDS_NHPI                0.0086\nUGDS_2MOR                 0.098\nUGDS_NRA                 0.0181\nUGDS_UNKN                0.0457\nPPTUG_EF                 0.4539\nCURROPER                      1\nPCTPELL                  0.2385\nPCTFLOAN                 0.2647\nUG25ABV                  0.4386\nMD_EARN_WNE_P10           42500\nGRAD_DEBT_MDN_SUPP      19449.5\nName: University of Alaska Anchorage, dtype: object"
     },
     "execution_count": 65,
     "metadata": {},
     "output_type": "execute_result"
    }
   ],
   "source": [
    "college.loc['University of Alaska Anchorage']"
   ],
   "metadata": {
    "collapsed": false,
    "pycharm": {
     "name": "#%%\n"
    }
   }
  },
  {
   "cell_type": "code",
   "execution_count": 66,
   "outputs": [
    {
     "data": {
      "text/plain": "                                            CITY STABBR  HBCU  MENONLY  \\\nINSTNM                                                                   \nUniversity of Alaska Anchorage         Anchorage     AK   0.0      0.0   \nInternational Academy of Hair Design       Tempe     AZ   0.0      0.0   \nUniversity of Alabama in Huntsville   Huntsville     AL   0.0      0.0   \n\n                                      WOMENONLY  RELAFFIL  SATVRMID  SATMTMID  \\\nINSTNM                                                                          \nUniversity of Alaska Anchorage              0.0         0       NaN       NaN   \nInternational Academy of Hair Design        0.0         0       NaN       NaN   \nUniversity of Alabama in Huntsville         0.0         0     595.0     590.0   \n\n                                      DISTANCEONLY     UGDS  ...  UGDS_2MOR  \\\nINSTNM                                                       ...              \nUniversity of Alaska Anchorage                 0.0  12865.0  ...     0.0980   \nInternational Academy of Hair Design           0.0    188.0  ...     0.0160   \nUniversity of Alabama in Huntsville            0.0   5451.0  ...     0.0172   \n\n                                      UGDS_NRA  UGDS_UNKN  PPTUG_EF  CURROPER  \\\nINSTNM                                                                          \nUniversity of Alaska Anchorage          0.0181     0.0457    0.4539         1   \nInternational Academy of Hair Design    0.0000     0.0638    0.0000         0   \nUniversity of Alabama in Huntsville     0.0332     0.0350    0.2146         1   \n\n                                      PCTPELL  PCTFLOAN  UG25ABV  \\\nINSTNM                                                             \nUniversity of Alaska Anchorage         0.2385    0.2647   0.4386   \nInternational Academy of Hair Design   0.7185    0.7346   0.3905   \nUniversity of Alabama in Huntsville    0.3072    0.4596   0.2640   \n\n                                      MD_EARN_WNE_P10  GRAD_DEBT_MDN_SUPP  \nINSTNM                                                                     \nUniversity of Alaska Anchorage                  42500             19449.5  \nInternational Academy of Hair Design            22200               10556  \nUniversity of Alabama in Huntsville             45500               24097  \n\n[3 rows x 26 columns]",
      "text/html": "<div>\n<style scoped>\n    .dataframe tbody tr th:only-of-type {\n        vertical-align: middle;\n    }\n\n    .dataframe tbody tr th {\n        vertical-align: top;\n    }\n\n    .dataframe thead th {\n        text-align: right;\n    }\n</style>\n<table border=\"1\" class=\"dataframe\">\n  <thead>\n    <tr style=\"text-align: right;\">\n      <th></th>\n      <th>CITY</th>\n      <th>STABBR</th>\n      <th>HBCU</th>\n      <th>MENONLY</th>\n      <th>WOMENONLY</th>\n      <th>RELAFFIL</th>\n      <th>SATVRMID</th>\n      <th>SATMTMID</th>\n      <th>DISTANCEONLY</th>\n      <th>UGDS</th>\n      <th>...</th>\n      <th>UGDS_2MOR</th>\n      <th>UGDS_NRA</th>\n      <th>UGDS_UNKN</th>\n      <th>PPTUG_EF</th>\n      <th>CURROPER</th>\n      <th>PCTPELL</th>\n      <th>PCTFLOAN</th>\n      <th>UG25ABV</th>\n      <th>MD_EARN_WNE_P10</th>\n      <th>GRAD_DEBT_MDN_SUPP</th>\n    </tr>\n    <tr>\n      <th>INSTNM</th>\n      <th></th>\n      <th></th>\n      <th></th>\n      <th></th>\n      <th></th>\n      <th></th>\n      <th></th>\n      <th></th>\n      <th></th>\n      <th></th>\n      <th></th>\n      <th></th>\n      <th></th>\n      <th></th>\n      <th></th>\n      <th></th>\n      <th></th>\n      <th></th>\n      <th></th>\n      <th></th>\n      <th></th>\n    </tr>\n  </thead>\n  <tbody>\n    <tr>\n      <th>University of Alaska Anchorage</th>\n      <td>Anchorage</td>\n      <td>AK</td>\n      <td>0.0</td>\n      <td>0.0</td>\n      <td>0.0</td>\n      <td>0</td>\n      <td>NaN</td>\n      <td>NaN</td>\n      <td>0.0</td>\n      <td>12865.0</td>\n      <td>...</td>\n      <td>0.0980</td>\n      <td>0.0181</td>\n      <td>0.0457</td>\n      <td>0.4539</td>\n      <td>1</td>\n      <td>0.2385</td>\n      <td>0.2647</td>\n      <td>0.4386</td>\n      <td>42500</td>\n      <td>19449.5</td>\n    </tr>\n    <tr>\n      <th>International Academy of Hair Design</th>\n      <td>Tempe</td>\n      <td>AZ</td>\n      <td>0.0</td>\n      <td>0.0</td>\n      <td>0.0</td>\n      <td>0</td>\n      <td>NaN</td>\n      <td>NaN</td>\n      <td>0.0</td>\n      <td>188.0</td>\n      <td>...</td>\n      <td>0.0160</td>\n      <td>0.0000</td>\n      <td>0.0638</td>\n      <td>0.0000</td>\n      <td>0</td>\n      <td>0.7185</td>\n      <td>0.7346</td>\n      <td>0.3905</td>\n      <td>22200</td>\n      <td>10556</td>\n    </tr>\n    <tr>\n      <th>University of Alabama in Huntsville</th>\n      <td>Huntsville</td>\n      <td>AL</td>\n      <td>0.0</td>\n      <td>0.0</td>\n      <td>0.0</td>\n      <td>0</td>\n      <td>595.0</td>\n      <td>590.0</td>\n      <td>0.0</td>\n      <td>5451.0</td>\n      <td>...</td>\n      <td>0.0172</td>\n      <td>0.0332</td>\n      <td>0.0350</td>\n      <td>0.2146</td>\n      <td>1</td>\n      <td>0.3072</td>\n      <td>0.4596</td>\n      <td>0.2640</td>\n      <td>45500</td>\n      <td>24097</td>\n    </tr>\n  </tbody>\n</table>\n<p>3 rows × 26 columns</p>\n</div>"
     },
     "execution_count": 66,
     "metadata": {},
     "output_type": "execute_result"
    }
   ],
   "source": [
    "labels = ['University of Alaska Anchorage', 'International Academy of Hair Design', 'University of Alabama in Huntsville']\n",
    "college.loc[labels]"
   ],
   "metadata": {
    "collapsed": false,
    "pycharm": {
     "name": "#%%\n"
    }
   }
  },
  {
   "cell_type": "code",
   "execution_count": 67,
   "outputs": [
    {
     "data": {
      "text/plain": "                                         CITY STABBR  HBCU  MENONLY  \\\nINSTNM                                                                \nInternational Academy of Hair Design    Tempe     AZ   0.0      0.0   \nGateWay Community College             Phoenix     AZ   0.0      0.0   \nMesa Community College                   Mesa     AZ   0.0      0.0   \n\n                                      WOMENONLY  RELAFFIL  SATVRMID  SATMTMID  \\\nINSTNM                                                                          \nInternational Academy of Hair Design        0.0         0       NaN       NaN   \nGateWay Community College                   0.0         0       NaN       NaN   \nMesa Community College                      0.0         0       NaN       NaN   \n\n                                      DISTANCEONLY     UGDS  ...  UGDS_2MOR  \\\nINSTNM                                                       ...              \nInternational Academy of Hair Design           0.0    188.0  ...     0.0160   \nGateWay Community College                      0.0   5211.0  ...     0.0127   \nMesa Community College                         0.0  19055.0  ...     0.0205   \n\n                                      UGDS_NRA  UGDS_UNKN  PPTUG_EF  CURROPER  \\\nINSTNM                                                                          \nInternational Academy of Hair Design    0.0000     0.0638    0.0000         0   \nGateWay Community College               0.0161     0.0702    0.7465         1   \nMesa Community College                  0.0257     0.0682    0.6457         1   \n\n                                      PCTPELL  PCTFLOAN  UG25ABV  \\\nINSTNM                                                             \nInternational Academy of Hair Design   0.7185    0.7346   0.3905   \nGateWay Community College              0.3270    0.2189   0.5832   \nMesa Community College                 0.3423    0.2207   0.4010   \n\n                                      MD_EARN_WNE_P10  GRAD_DEBT_MDN_SUPP  \nINSTNM                                                                     \nInternational Academy of Hair Design            22200               10556  \nGateWay Community College                       29800                7283  \nMesa Community College                          35200                8000  \n\n[3 rows x 26 columns]",
      "text/html": "<div>\n<style scoped>\n    .dataframe tbody tr th:only-of-type {\n        vertical-align: middle;\n    }\n\n    .dataframe tbody tr th {\n        vertical-align: top;\n    }\n\n    .dataframe thead th {\n        text-align: right;\n    }\n</style>\n<table border=\"1\" class=\"dataframe\">\n  <thead>\n    <tr style=\"text-align: right;\">\n      <th></th>\n      <th>CITY</th>\n      <th>STABBR</th>\n      <th>HBCU</th>\n      <th>MENONLY</th>\n      <th>WOMENONLY</th>\n      <th>RELAFFIL</th>\n      <th>SATVRMID</th>\n      <th>SATMTMID</th>\n      <th>DISTANCEONLY</th>\n      <th>UGDS</th>\n      <th>...</th>\n      <th>UGDS_2MOR</th>\n      <th>UGDS_NRA</th>\n      <th>UGDS_UNKN</th>\n      <th>PPTUG_EF</th>\n      <th>CURROPER</th>\n      <th>PCTPELL</th>\n      <th>PCTFLOAN</th>\n      <th>UG25ABV</th>\n      <th>MD_EARN_WNE_P10</th>\n      <th>GRAD_DEBT_MDN_SUPP</th>\n    </tr>\n    <tr>\n      <th>INSTNM</th>\n      <th></th>\n      <th></th>\n      <th></th>\n      <th></th>\n      <th></th>\n      <th></th>\n      <th></th>\n      <th></th>\n      <th></th>\n      <th></th>\n      <th></th>\n      <th></th>\n      <th></th>\n      <th></th>\n      <th></th>\n      <th></th>\n      <th></th>\n      <th></th>\n      <th></th>\n      <th></th>\n      <th></th>\n    </tr>\n  </thead>\n  <tbody>\n    <tr>\n      <th>International Academy of Hair Design</th>\n      <td>Tempe</td>\n      <td>AZ</td>\n      <td>0.0</td>\n      <td>0.0</td>\n      <td>0.0</td>\n      <td>0</td>\n      <td>NaN</td>\n      <td>NaN</td>\n      <td>0.0</td>\n      <td>188.0</td>\n      <td>...</td>\n      <td>0.0160</td>\n      <td>0.0000</td>\n      <td>0.0638</td>\n      <td>0.0000</td>\n      <td>0</td>\n      <td>0.7185</td>\n      <td>0.7346</td>\n      <td>0.3905</td>\n      <td>22200</td>\n      <td>10556</td>\n    </tr>\n    <tr>\n      <th>GateWay Community College</th>\n      <td>Phoenix</td>\n      <td>AZ</td>\n      <td>0.0</td>\n      <td>0.0</td>\n      <td>0.0</td>\n      <td>0</td>\n      <td>NaN</td>\n      <td>NaN</td>\n      <td>0.0</td>\n      <td>5211.0</td>\n      <td>...</td>\n      <td>0.0127</td>\n      <td>0.0161</td>\n      <td>0.0702</td>\n      <td>0.7465</td>\n      <td>1</td>\n      <td>0.3270</td>\n      <td>0.2189</td>\n      <td>0.5832</td>\n      <td>29800</td>\n      <td>7283</td>\n    </tr>\n    <tr>\n      <th>Mesa Community College</th>\n      <td>Mesa</td>\n      <td>AZ</td>\n      <td>0.0</td>\n      <td>0.0</td>\n      <td>0.0</td>\n      <td>0</td>\n      <td>NaN</td>\n      <td>NaN</td>\n      <td>0.0</td>\n      <td>19055.0</td>\n      <td>...</td>\n      <td>0.0205</td>\n      <td>0.0257</td>\n      <td>0.0682</td>\n      <td>0.6457</td>\n      <td>1</td>\n      <td>0.3423</td>\n      <td>0.2207</td>\n      <td>0.4010</td>\n      <td>35200</td>\n      <td>8000</td>\n    </tr>\n  </tbody>\n</table>\n<p>3 rows × 26 columns</p>\n</div>"
     },
     "execution_count": 67,
     "metadata": {},
     "output_type": "execute_result"
    }
   ],
   "source": [
    "college.iloc[99:102]\n"
   ],
   "metadata": {
    "collapsed": false,
    "pycharm": {
     "name": "#%%\n"
    }
   }
  },
  {
   "cell_type": "code",
   "execution_count": 68,
   "outputs": [
    {
     "data": {
      "text/plain": "                                         CITY STABBR  HBCU  MENONLY  \\\nINSTNM                                                                \nInternational Academy of Hair Design    Tempe     AZ   0.0      0.0   \nGateWay Community College             Phoenix     AZ   0.0      0.0   \nMesa Community College                   Mesa     AZ   0.0      0.0   \n\n                                      WOMENONLY  RELAFFIL  SATVRMID  SATMTMID  \\\nINSTNM                                                                          \nInternational Academy of Hair Design        0.0         0       NaN       NaN   \nGateWay Community College                   0.0         0       NaN       NaN   \nMesa Community College                      0.0         0       NaN       NaN   \n\n                                      DISTANCEONLY     UGDS  ...  UGDS_2MOR  \\\nINSTNM                                                       ...              \nInternational Academy of Hair Design           0.0    188.0  ...     0.0160   \nGateWay Community College                      0.0   5211.0  ...     0.0127   \nMesa Community College                         0.0  19055.0  ...     0.0205   \n\n                                      UGDS_NRA  UGDS_UNKN  PPTUG_EF  CURROPER  \\\nINSTNM                                                                          \nInternational Academy of Hair Design    0.0000     0.0638    0.0000         0   \nGateWay Community College               0.0161     0.0702    0.7465         1   \nMesa Community College                  0.0257     0.0682    0.6457         1   \n\n                                      PCTPELL  PCTFLOAN  UG25ABV  \\\nINSTNM                                                             \nInternational Academy of Hair Design   0.7185    0.7346   0.3905   \nGateWay Community College              0.3270    0.2189   0.5832   \nMesa Community College                 0.3423    0.2207   0.4010   \n\n                                      MD_EARN_WNE_P10  GRAD_DEBT_MDN_SUPP  \nINSTNM                                                                     \nInternational Academy of Hair Design            22200               10556  \nGateWay Community College                       29800                7283  \nMesa Community College                          35200                8000  \n\n[3 rows x 26 columns]",
      "text/html": "<div>\n<style scoped>\n    .dataframe tbody tr th:only-of-type {\n        vertical-align: middle;\n    }\n\n    .dataframe tbody tr th {\n        vertical-align: top;\n    }\n\n    .dataframe thead th {\n        text-align: right;\n    }\n</style>\n<table border=\"1\" class=\"dataframe\">\n  <thead>\n    <tr style=\"text-align: right;\">\n      <th></th>\n      <th>CITY</th>\n      <th>STABBR</th>\n      <th>HBCU</th>\n      <th>MENONLY</th>\n      <th>WOMENONLY</th>\n      <th>RELAFFIL</th>\n      <th>SATVRMID</th>\n      <th>SATMTMID</th>\n      <th>DISTANCEONLY</th>\n      <th>UGDS</th>\n      <th>...</th>\n      <th>UGDS_2MOR</th>\n      <th>UGDS_NRA</th>\n      <th>UGDS_UNKN</th>\n      <th>PPTUG_EF</th>\n      <th>CURROPER</th>\n      <th>PCTPELL</th>\n      <th>PCTFLOAN</th>\n      <th>UG25ABV</th>\n      <th>MD_EARN_WNE_P10</th>\n      <th>GRAD_DEBT_MDN_SUPP</th>\n    </tr>\n    <tr>\n      <th>INSTNM</th>\n      <th></th>\n      <th></th>\n      <th></th>\n      <th></th>\n      <th></th>\n      <th></th>\n      <th></th>\n      <th></th>\n      <th></th>\n      <th></th>\n      <th></th>\n      <th></th>\n      <th></th>\n      <th></th>\n      <th></th>\n      <th></th>\n      <th></th>\n      <th></th>\n      <th></th>\n      <th></th>\n      <th></th>\n    </tr>\n  </thead>\n  <tbody>\n    <tr>\n      <th>International Academy of Hair Design</th>\n      <td>Tempe</td>\n      <td>AZ</td>\n      <td>0.0</td>\n      <td>0.0</td>\n      <td>0.0</td>\n      <td>0</td>\n      <td>NaN</td>\n      <td>NaN</td>\n      <td>0.0</td>\n      <td>188.0</td>\n      <td>...</td>\n      <td>0.0160</td>\n      <td>0.0000</td>\n      <td>0.0638</td>\n      <td>0.0000</td>\n      <td>0</td>\n      <td>0.7185</td>\n      <td>0.7346</td>\n      <td>0.3905</td>\n      <td>22200</td>\n      <td>10556</td>\n    </tr>\n    <tr>\n      <th>GateWay Community College</th>\n      <td>Phoenix</td>\n      <td>AZ</td>\n      <td>0.0</td>\n      <td>0.0</td>\n      <td>0.0</td>\n      <td>0</td>\n      <td>NaN</td>\n      <td>NaN</td>\n      <td>0.0</td>\n      <td>5211.0</td>\n      <td>...</td>\n      <td>0.0127</td>\n      <td>0.0161</td>\n      <td>0.0702</td>\n      <td>0.7465</td>\n      <td>1</td>\n      <td>0.3270</td>\n      <td>0.2189</td>\n      <td>0.5832</td>\n      <td>29800</td>\n      <td>7283</td>\n    </tr>\n    <tr>\n      <th>Mesa Community College</th>\n      <td>Mesa</td>\n      <td>AZ</td>\n      <td>0.0</td>\n      <td>0.0</td>\n      <td>0.0</td>\n      <td>0</td>\n      <td>NaN</td>\n      <td>NaN</td>\n      <td>0.0</td>\n      <td>19055.0</td>\n      <td>...</td>\n      <td>0.0205</td>\n      <td>0.0257</td>\n      <td>0.0682</td>\n      <td>0.6457</td>\n      <td>1</td>\n      <td>0.3423</td>\n      <td>0.2207</td>\n      <td>0.4010</td>\n      <td>35200</td>\n      <td>8000</td>\n    </tr>\n  </tbody>\n</table>\n<p>3 rows × 26 columns</p>\n</div>"
     },
     "execution_count": 68,
     "metadata": {},
     "output_type": "execute_result"
    }
   ],
   "source": [
    "start = 'International Academy of Hair Design'\n",
    "stop = 'Mesa Community College'\n",
    "college.loc[start:stop]"
   ],
   "metadata": {
    "collapsed": false,
    "pycharm": {
     "name": "#%%\n"
    }
   }
  },
  {
   "cell_type": "markdown",
   "source": [
    "### Encontrando los índices o las etiquetas\n",
    "Para encontrar los nombres de los índices o de las etiquetas usaremos las siguientes instrucciones"
   ],
   "metadata": {
    "collapsed": false
   }
  },
  {
   "cell_type": "code",
   "execution_count": 69,
   "outputs": [
    {
     "data": {
      "text/plain": "['University of Alaska Anchorage',\n 'International Academy of Hair Design',\n 'University of Alabama in Huntsville']"
     },
     "execution_count": 69,
     "metadata": {},
     "output_type": "execute_result"
    }
   ],
   "source": [
    "college.iloc[[60, 99, 3]].index.tolist()"
   ],
   "metadata": {
    "collapsed": false,
    "pycharm": {
     "name": "#%%\n"
    }
   }
  },
  {
   "cell_type": "code",
   "execution_count": 70,
   "outputs": [
    {
     "data": {
      "text/plain": "['CITY',\n 'STABBR',\n 'HBCU',\n 'MENONLY',\n 'WOMENONLY',\n 'RELAFFIL',\n 'SATVRMID',\n 'SATMTMID',\n 'DISTANCEONLY',\n 'UGDS',\n 'UGDS_WHITE',\n 'UGDS_BLACK',\n 'UGDS_HISP',\n 'UGDS_ASIAN',\n 'UGDS_AIAN',\n 'UGDS_NHPI',\n 'UGDS_2MOR',\n 'UGDS_NRA',\n 'UGDS_UNKN',\n 'PPTUG_EF',\n 'CURROPER',\n 'PCTPELL',\n 'PCTFLOAN',\n 'UG25ABV',\n 'MD_EARN_WNE_P10',\n 'GRAD_DEBT_MDN_SUPP']"
     },
     "execution_count": 70,
     "metadata": {},
     "output_type": "execute_result"
    }
   ],
   "source": [
    "college.iloc[[60, 99, 3]].columns.tolist()\n"
   ],
   "metadata": {
    "collapsed": false,
    "pycharm": {
     "name": "#%%\n"
    }
   }
  },
  {
   "cell_type": "markdown",
   "source": [
    "## Seleccionando filas y columnas\n",
    "Para selecionar de forma conjunta filas y columnas se añadirá una coma (,) y la siguiente dimensión a continuación. La\n",
    "primera dimensión hace referencia a las filas y la segunda a las columnas. Se podrán usar en cada dimensión slices,\n",
    "objetos, escalares o boleanos."
   ],
   "metadata": {
    "collapsed": false,
    "pycharm": {
     "name": "#%% md\n"
    }
   }
  },
  {
   "cell_type": "code",
   "execution_count": 71,
   "outputs": [
    {
     "data": {
      "text/plain": "                                           CITY STABBR  HBCU  MENONLY\nINSTNM                                                               \nAlabama A & M University                 Normal     AL   1.0      0.0\nUniversity of Alabama at Birmingham  Birmingham     AL   0.0      0.0\nAmridge University                   Montgomery     AL   0.0      0.0",
      "text/html": "<div>\n<style scoped>\n    .dataframe tbody tr th:only-of-type {\n        vertical-align: middle;\n    }\n\n    .dataframe tbody tr th {\n        vertical-align: top;\n    }\n\n    .dataframe thead th {\n        text-align: right;\n    }\n</style>\n<table border=\"1\" class=\"dataframe\">\n  <thead>\n    <tr style=\"text-align: right;\">\n      <th></th>\n      <th>CITY</th>\n      <th>STABBR</th>\n      <th>HBCU</th>\n      <th>MENONLY</th>\n    </tr>\n    <tr>\n      <th>INSTNM</th>\n      <th></th>\n      <th></th>\n      <th></th>\n      <th></th>\n    </tr>\n  </thead>\n  <tbody>\n    <tr>\n      <th>Alabama A &amp; M University</th>\n      <td>Normal</td>\n      <td>AL</td>\n      <td>1.0</td>\n      <td>0.0</td>\n    </tr>\n    <tr>\n      <th>University of Alabama at Birmingham</th>\n      <td>Birmingham</td>\n      <td>AL</td>\n      <td>0.0</td>\n      <td>0.0</td>\n    </tr>\n    <tr>\n      <th>Amridge University</th>\n      <td>Montgomery</td>\n      <td>AL</td>\n      <td>0.0</td>\n      <td>0.0</td>\n    </tr>\n  </tbody>\n</table>\n</div>"
     },
     "execution_count": 71,
     "metadata": {},
     "output_type": "execute_result"
    }
   ],
   "source": [
    "college.iloc[:3, :4]"
   ],
   "metadata": {
    "collapsed": false,
    "pycharm": {
     "name": "#%%\n"
    }
   }
  },
  {
   "cell_type": "code",
   "execution_count": 72,
   "outputs": [
    {
     "data": {
      "text/plain": "                                             CITY STABBR  HBCU  MENONLY  \\\nINSTNM                                                                    \nAlabama State University               Montgomery     AL   1.0      0.0   \nCentral Alabama Community College  Alexander City     AL   0.0      0.0   \n\n                                   WOMENONLY  RELAFFIL  SATVRMID  SATMTMID  \\\nINSTNM                                                                       \nAlabama State University                 0.0         0     425.0     430.0   \nCentral Alabama Community College        0.0         0       NaN       NaN   \n\n                                   DISTANCEONLY    UGDS  ...  UGDS_2MOR  \\\nINSTNM                                                   ...              \nAlabama State University                    0.0  4811.0  ...     0.0098   \nCentral Alabama Community College           0.0  1592.0  ...     0.0000   \n\n                                   UGDS_NRA  UGDS_UNKN  PPTUG_EF  CURROPER  \\\nINSTNM                                                                       \nAlabama State University             0.0243     0.0137    0.0892         1   \nCentral Alabama Community College    0.0000     0.0019    0.3882         1   \n\n                                   PCTPELL  PCTFLOAN  UG25ABV  \\\nINSTNM                                                          \nAlabama State University            0.7347    0.7554   0.1270   \nCentral Alabama Community College   0.5892    0.3977   0.3153   \n\n                                   MD_EARN_WNE_P10  GRAD_DEBT_MDN_SUPP  \nINSTNM                                                                  \nAlabama State University                     26600             33118.5  \nCentral Alabama Community College            27500               16127  \n\n[2 rows x 26 columns]",
      "text/html": "<div>\n<style scoped>\n    .dataframe tbody tr th:only-of-type {\n        vertical-align: middle;\n    }\n\n    .dataframe tbody tr th {\n        vertical-align: top;\n    }\n\n    .dataframe thead th {\n        text-align: right;\n    }\n</style>\n<table border=\"1\" class=\"dataframe\">\n  <thead>\n    <tr style=\"text-align: right;\">\n      <th></th>\n      <th>CITY</th>\n      <th>STABBR</th>\n      <th>HBCU</th>\n      <th>MENONLY</th>\n      <th>WOMENONLY</th>\n      <th>RELAFFIL</th>\n      <th>SATVRMID</th>\n      <th>SATMTMID</th>\n      <th>DISTANCEONLY</th>\n      <th>UGDS</th>\n      <th>...</th>\n      <th>UGDS_2MOR</th>\n      <th>UGDS_NRA</th>\n      <th>UGDS_UNKN</th>\n      <th>PPTUG_EF</th>\n      <th>CURROPER</th>\n      <th>PCTPELL</th>\n      <th>PCTFLOAN</th>\n      <th>UG25ABV</th>\n      <th>MD_EARN_WNE_P10</th>\n      <th>GRAD_DEBT_MDN_SUPP</th>\n    </tr>\n    <tr>\n      <th>INSTNM</th>\n      <th></th>\n      <th></th>\n      <th></th>\n      <th></th>\n      <th></th>\n      <th></th>\n      <th></th>\n      <th></th>\n      <th></th>\n      <th></th>\n      <th></th>\n      <th></th>\n      <th></th>\n      <th></th>\n      <th></th>\n      <th></th>\n      <th></th>\n      <th></th>\n      <th></th>\n      <th></th>\n      <th></th>\n    </tr>\n  </thead>\n  <tbody>\n    <tr>\n      <th>Alabama State University</th>\n      <td>Montgomery</td>\n      <td>AL</td>\n      <td>1.0</td>\n      <td>0.0</td>\n      <td>0.0</td>\n      <td>0</td>\n      <td>425.0</td>\n      <td>430.0</td>\n      <td>0.0</td>\n      <td>4811.0</td>\n      <td>...</td>\n      <td>0.0098</td>\n      <td>0.0243</td>\n      <td>0.0137</td>\n      <td>0.0892</td>\n      <td>1</td>\n      <td>0.7347</td>\n      <td>0.7554</td>\n      <td>0.1270</td>\n      <td>26600</td>\n      <td>33118.5</td>\n    </tr>\n    <tr>\n      <th>Central Alabama Community College</th>\n      <td>Alexander City</td>\n      <td>AL</td>\n      <td>0.0</td>\n      <td>0.0</td>\n      <td>0.0</td>\n      <td>0</td>\n      <td>NaN</td>\n      <td>NaN</td>\n      <td>0.0</td>\n      <td>1592.0</td>\n      <td>...</td>\n      <td>0.0000</td>\n      <td>0.0000</td>\n      <td>0.0019</td>\n      <td>0.3882</td>\n      <td>1</td>\n      <td>0.5892</td>\n      <td>0.3977</td>\n      <td>0.3153</td>\n      <td>27500</td>\n      <td>16127</td>\n    </tr>\n  </tbody>\n</table>\n<p>2 rows × 26 columns</p>\n</div>"
     },
     "execution_count": 72,
     "metadata": {},
     "output_type": "execute_result"
    }
   ],
   "source": [
    "college.iloc[[4,6], :]"
   ],
   "metadata": {
    "collapsed": false,
    "pycharm": {
     "name": "#%%\n"
    }
   }
  },
  {
   "cell_type": "code",
   "execution_count": 73,
   "outputs": [
    {
     "data": {
      "text/plain": "                                                    WOMENONLY  SATVRMID\nINSTNM                                                                 \nAlabama A & M University                                  0.0     424.0\nUniversity of Alabama at Birmingham                       0.0     570.0\nAmridge University                                        0.0       NaN\nUniversity of Alabama in Huntsville                       0.0     595.0\nAlabama State University                                  0.0     425.0\n...                                                       ...       ...\nSAE Institute of Technology  San Francisco                NaN       NaN\nRasmussen College - Overland Park                         NaN       NaN\nNational Personal Training Institute of Cleveland         NaN       NaN\nBay Area Medical Academy - San Jose Satellite L...        NaN       NaN\nExcel Learning Center-San Antonio South                   NaN       NaN\n\n[7535 rows x 2 columns]",
      "text/html": "<div>\n<style scoped>\n    .dataframe tbody tr th:only-of-type {\n        vertical-align: middle;\n    }\n\n    .dataframe tbody tr th {\n        vertical-align: top;\n    }\n\n    .dataframe thead th {\n        text-align: right;\n    }\n</style>\n<table border=\"1\" class=\"dataframe\">\n  <thead>\n    <tr style=\"text-align: right;\">\n      <th></th>\n      <th>WOMENONLY</th>\n      <th>SATVRMID</th>\n    </tr>\n    <tr>\n      <th>INSTNM</th>\n      <th></th>\n      <th></th>\n    </tr>\n  </thead>\n  <tbody>\n    <tr>\n      <th>Alabama A &amp; M University</th>\n      <td>0.0</td>\n      <td>424.0</td>\n    </tr>\n    <tr>\n      <th>University of Alabama at Birmingham</th>\n      <td>0.0</td>\n      <td>570.0</td>\n    </tr>\n    <tr>\n      <th>Amridge University</th>\n      <td>0.0</td>\n      <td>NaN</td>\n    </tr>\n    <tr>\n      <th>University of Alabama in Huntsville</th>\n      <td>0.0</td>\n      <td>595.0</td>\n    </tr>\n    <tr>\n      <th>Alabama State University</th>\n      <td>0.0</td>\n      <td>425.0</td>\n    </tr>\n    <tr>\n      <th>...</th>\n      <td>...</td>\n      <td>...</td>\n    </tr>\n    <tr>\n      <th>SAE Institute of Technology  San Francisco</th>\n      <td>NaN</td>\n      <td>NaN</td>\n    </tr>\n    <tr>\n      <th>Rasmussen College - Overland Park</th>\n      <td>NaN</td>\n      <td>NaN</td>\n    </tr>\n    <tr>\n      <th>National Personal Training Institute of Cleveland</th>\n      <td>NaN</td>\n      <td>NaN</td>\n    </tr>\n    <tr>\n      <th>Bay Area Medical Academy - San Jose Satellite Location</th>\n      <td>NaN</td>\n      <td>NaN</td>\n    </tr>\n    <tr>\n      <th>Excel Learning Center-San Antonio South</th>\n      <td>NaN</td>\n      <td>NaN</td>\n    </tr>\n  </tbody>\n</table>\n<p>7535 rows × 2 columns</p>\n</div>"
     },
     "execution_count": 73,
     "metadata": {},
     "output_type": "execute_result"
    }
   ],
   "source": [
    "college.iloc[:, [4,6]]"
   ],
   "metadata": {
    "collapsed": false,
    "pycharm": {
     "name": "#%%\n"
    }
   }
  },
  {
   "cell_type": "code",
   "execution_count": 74,
   "outputs": [
    {
     "data": {
      "text/plain": "                                       SATMTMID  UGDS_NHPI\nINSTNM                                                    \nGateWay Community College                   NaN     0.0029\nAmerican Baptist Seminary of the West       NaN        NaN",
      "text/html": "<div>\n<style scoped>\n    .dataframe tbody tr th:only-of-type {\n        vertical-align: middle;\n    }\n\n    .dataframe tbody tr th {\n        vertical-align: top;\n    }\n\n    .dataframe thead th {\n        text-align: right;\n    }\n</style>\n<table border=\"1\" class=\"dataframe\">\n  <thead>\n    <tr style=\"text-align: right;\">\n      <th></th>\n      <th>SATMTMID</th>\n      <th>UGDS_NHPI</th>\n    </tr>\n    <tr>\n      <th>INSTNM</th>\n      <th></th>\n      <th></th>\n    </tr>\n  </thead>\n  <tbody>\n    <tr>\n      <th>GateWay Community College</th>\n      <td>NaN</td>\n      <td>0.0029</td>\n    </tr>\n    <tr>\n      <th>American Baptist Seminary of the West</th>\n      <td>NaN</td>\n      <td>NaN</td>\n    </tr>\n  </tbody>\n</table>\n</div>"
     },
     "execution_count": 74,
     "metadata": {},
     "output_type": "execute_result"
    }
   ],
   "source": [
    "college.iloc[[100, 200], [7, 15]]"
   ],
   "metadata": {
    "collapsed": false,
    "pycharm": {
     "name": "#%%\n"
    }
   }
  },
  {
   "cell_type": "code",
   "execution_count": 75,
   "outputs": [
    {
     "data": {
      "text/plain": "0.401"
     },
     "execution_count": 75,
     "metadata": {},
     "output_type": "execute_result"
    }
   ],
   "source": [
    "college.iloc[5, -4]"
   ],
   "metadata": {
    "collapsed": false,
    "pycharm": {
     "name": "#%%\n"
    }
   }
  },
  {
   "cell_type": "code",
   "execution_count": 76,
   "outputs": [
    {
     "data": {
      "text/plain": "INSTNM\nEmpire Beauty School-Flagstaff     0\nCharles of Italy Beauty College    0\nCentral Arizona College            0\nUniversity of Arizona              0\nArizona State University-Tempe     0\nName: RELAFFIL, dtype: int64"
     },
     "execution_count": 76,
     "metadata": {},
     "output_type": "execute_result"
    }
   ],
   "source": [
    "college.iloc[90:80:-2, 5]"
   ],
   "metadata": {
    "collapsed": false,
    "pycharm": {
     "name": "#%%\n"
    }
   }
  },
  {
   "cell_type": "code",
   "execution_count": 77,
   "outputs": [
    {
     "data": {
      "text/plain": "                                       SATMTMID  UGDS_NHPI\nINSTNM                                                    \nGateWay Community College                   NaN     0.0029\nAmerican Baptist Seminary of the West       NaN        NaN",
      "text/html": "<div>\n<style scoped>\n    .dataframe tbody tr th:only-of-type {\n        vertical-align: middle;\n    }\n\n    .dataframe tbody tr th {\n        vertical-align: top;\n    }\n\n    .dataframe thead th {\n        text-align: right;\n    }\n</style>\n<table border=\"1\" class=\"dataframe\">\n  <thead>\n    <tr style=\"text-align: right;\">\n      <th></th>\n      <th>SATMTMID</th>\n      <th>UGDS_NHPI</th>\n    </tr>\n    <tr>\n      <th>INSTNM</th>\n      <th></th>\n      <th></th>\n    </tr>\n  </thead>\n  <tbody>\n    <tr>\n      <th>GateWay Community College</th>\n      <td>NaN</td>\n      <td>0.0029</td>\n    </tr>\n    <tr>\n      <th>American Baptist Seminary of the West</th>\n      <td>NaN</td>\n      <td>NaN</td>\n    </tr>\n  </tbody>\n</table>\n</div>"
     },
     "execution_count": 77,
     "metadata": {},
     "output_type": "execute_result"
    }
   ],
   "source": [
    "rows = ['GateWay Community College', 'American Baptist Seminary of the West']\n",
    "columns = ['SATMTMID', 'UGDS_NHPI']\n",
    "college.loc[rows, columns]\n"
   ],
   "metadata": {
    "collapsed": false,
    "pycharm": {
     "name": "#%%\n"
    }
   }
  },
  {
   "cell_type": "code",
   "execution_count": 78,
   "outputs": [
    {
     "data": {
      "text/plain": "                                           CITY STABBR  HBCU  MENONLY\nINSTNM                                                               \nAlabama A & M University                 Normal     AL   1.0      0.0\nUniversity of Alabama at Birmingham  Birmingham     AL   0.0      0.0\nAmridge University                   Montgomery     AL   0.0      0.0",
      "text/html": "<div>\n<style scoped>\n    .dataframe tbody tr th:only-of-type {\n        vertical-align: middle;\n    }\n\n    .dataframe tbody tr th {\n        vertical-align: top;\n    }\n\n    .dataframe thead th {\n        text-align: right;\n    }\n</style>\n<table border=\"1\" class=\"dataframe\">\n  <thead>\n    <tr style=\"text-align: right;\">\n      <th></th>\n      <th>CITY</th>\n      <th>STABBR</th>\n      <th>HBCU</th>\n      <th>MENONLY</th>\n    </tr>\n    <tr>\n      <th>INSTNM</th>\n      <th></th>\n      <th></th>\n      <th></th>\n      <th></th>\n    </tr>\n  </thead>\n  <tbody>\n    <tr>\n      <th>Alabama A &amp; M University</th>\n      <td>Normal</td>\n      <td>AL</td>\n      <td>1.0</td>\n      <td>0.0</td>\n    </tr>\n    <tr>\n      <th>University of Alabama at Birmingham</th>\n      <td>Birmingham</td>\n      <td>AL</td>\n      <td>0.0</td>\n      <td>0.0</td>\n    </tr>\n    <tr>\n      <th>Amridge University</th>\n      <td>Montgomery</td>\n      <td>AL</td>\n      <td>0.0</td>\n      <td>0.0</td>\n    </tr>\n  </tbody>\n</table>\n</div>"
     },
     "execution_count": 78,
     "metadata": {},
     "output_type": "execute_result"
    }
   ],
   "source": [
    "college.loc[:'Amridge University', :'MENONLY']"
   ],
   "metadata": {
    "collapsed": false,
    "pycharm": {
     "name": "#%%\n"
    }
   }
  },
  {
   "cell_type": "code",
   "execution_count": 79,
   "outputs": [
    {
     "data": {
      "text/plain": "                                                    WOMENONLY  SATVRMID\nINSTNM                                                                 \nAlabama A & M University                                  0.0     424.0\nUniversity of Alabama at Birmingham                       0.0     570.0\nAmridge University                                        0.0       NaN\nUniversity of Alabama in Huntsville                       0.0     595.0\nAlabama State University                                  0.0     425.0\n...                                                       ...       ...\nSAE Institute of Technology  San Francisco                NaN       NaN\nRasmussen College - Overland Park                         NaN       NaN\nNational Personal Training Institute of Cleveland         NaN       NaN\nBay Area Medical Academy - San Jose Satellite L...        NaN       NaN\nExcel Learning Center-San Antonio South                   NaN       NaN\n\n[7535 rows x 2 columns]",
      "text/html": "<div>\n<style scoped>\n    .dataframe tbody tr th:only-of-type {\n        vertical-align: middle;\n    }\n\n    .dataframe tbody tr th {\n        vertical-align: top;\n    }\n\n    .dataframe thead th {\n        text-align: right;\n    }\n</style>\n<table border=\"1\" class=\"dataframe\">\n  <thead>\n    <tr style=\"text-align: right;\">\n      <th></th>\n      <th>WOMENONLY</th>\n      <th>SATVRMID</th>\n    </tr>\n    <tr>\n      <th>INSTNM</th>\n      <th></th>\n      <th></th>\n    </tr>\n  </thead>\n  <tbody>\n    <tr>\n      <th>Alabama A &amp; M University</th>\n      <td>0.0</td>\n      <td>424.0</td>\n    </tr>\n    <tr>\n      <th>University of Alabama at Birmingham</th>\n      <td>0.0</td>\n      <td>570.0</td>\n    </tr>\n    <tr>\n      <th>Amridge University</th>\n      <td>0.0</td>\n      <td>NaN</td>\n    </tr>\n    <tr>\n      <th>University of Alabama in Huntsville</th>\n      <td>0.0</td>\n      <td>595.0</td>\n    </tr>\n    <tr>\n      <th>Alabama State University</th>\n      <td>0.0</td>\n      <td>425.0</td>\n    </tr>\n    <tr>\n      <th>...</th>\n      <td>...</td>\n      <td>...</td>\n    </tr>\n    <tr>\n      <th>SAE Institute of Technology  San Francisco</th>\n      <td>NaN</td>\n      <td>NaN</td>\n    </tr>\n    <tr>\n      <th>Rasmussen College - Overland Park</th>\n      <td>NaN</td>\n      <td>NaN</td>\n    </tr>\n    <tr>\n      <th>National Personal Training Institute of Cleveland</th>\n      <td>NaN</td>\n      <td>NaN</td>\n    </tr>\n    <tr>\n      <th>Bay Area Medical Academy - San Jose Satellite Location</th>\n      <td>NaN</td>\n      <td>NaN</td>\n    </tr>\n    <tr>\n      <th>Excel Learning Center-San Antonio South</th>\n      <td>NaN</td>\n      <td>NaN</td>\n    </tr>\n  </tbody>\n</table>\n<p>7535 rows × 2 columns</p>\n</div>"
     },
     "execution_count": 79,
     "metadata": {},
     "output_type": "execute_result"
    }
   ],
   "source": [
    "college.loc[:, ['WOMENONLY', 'SATVRMID']]"
   ],
   "metadata": {
    "collapsed": false,
    "pycharm": {
     "name": "#%%\n"
    }
   }
  },
  {
   "cell_type": "code",
   "execution_count": 80,
   "outputs": [
    {
     "data": {
      "text/plain": "0.401"
     },
     "execution_count": 80,
     "metadata": {},
     "output_type": "execute_result"
    }
   ],
   "source": [
    "college.loc['The University of Alabama', 'PCTFLOAN']"
   ],
   "metadata": {
    "collapsed": false,
    "pycharm": {
     "name": "#%%\n"
    }
   }
  },
  {
   "cell_type": "code",
   "execution_count": 81,
   "outputs": [
    {
     "data": {
      "text/plain": "INSTNM\nEmpire Beauty School-Flagstaff     0\nCharles of Italy Beauty College    0\nCentral Arizona College            0\nUniversity of Arizona              0\nArizona State University-Tempe     0\nName: RELAFFIL, dtype: int64"
     },
     "execution_count": 81,
     "metadata": {},
     "output_type": "execute_result"
    }
   ],
   "source": [
    "start = 'Empire Beauty School-Flagstaff'\n",
    "stop = 'Arizona State University-Tempe'\n",
    "college.loc[start:stop:-2, 'RELAFFIL']"
   ],
   "metadata": {
    "collapsed": false,
    "pycharm": {
     "name": "#%%\n"
    }
   }
  },
  {
   "cell_type": "markdown",
   "source": [
    "## Seleccionando datos a través de índices y etiquetas\n",
    "No es posible mezclar ambas notaciones índices y etiquetas en las funciones **loc** y **iloc**"
   ],
   "metadata": {
    "collapsed": false,
    "pycharm": {
     "name": "#%% md\n"
    }
   }
  },
  {
   "cell_type": "markdown",
   "source": [
    "## Acelerando la selección con escalares\n",
    "Paralelamente a las instrucciones **loc** y **iloc** se pueden utilizar **at** y **iat** que tienen las mismas funciones,\n",
    "pero cuyas funciones son más rápidas.\n"
   ],
   "metadata": {
    "collapsed": false,
    "pycharm": {
     "name": "#%% md\n"
    }
   }
  }
 ],
 "metadata": {
  "kernelspec": {
   "display_name": "Python 3",
   "language": "python",
   "name": "python3"
  },
  "language_info": {
   "codemirror_mode": {
    "name": "ipython",
    "version": 2
   },
   "file_extension": ".py",
   "mimetype": "text/x-python",
   "name": "python",
   "nbconvert_exporter": "python",
   "pygments_lexer": "ipython2",
   "version": "2.7.6"
  }
 },
 "nbformat": 4,
 "nbformat_minor": 0
}