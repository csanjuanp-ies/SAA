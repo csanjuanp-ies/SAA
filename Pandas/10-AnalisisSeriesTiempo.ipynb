{
 "cells": [
  {
   "cell_type": "code",
   "execution_count": 1,
   "outputs": [],
   "source": [
    "import pandas as pd\n",
    "import numpy as np\n",
    "import matplotlib.pyplot as plt\n",
    "%matplotlib inline\n"
   ],
   "metadata": {
    "collapsed": false,
    "pycharm": {
     "name": "#%%\n"
    }
   }
  },
  {
   "cell_type": "markdown",
   "source": [
    "# Análisis de Series de Tiempo\n",
    "## Diferencias entre Python y Pandas"
   ],
   "metadata": {
    "collapsed": false,
    "pycharm": {
     "name": "#%% md\n"
    }
   }
  },
  {
   "cell_type": "code",
   "execution_count": 2,
   "outputs": [
    {
     "name": "stdout",
     "output_type": "stream",
     "text": [
      "date is  2013-06-07\n",
      "time is 12:30:19.463198\n",
      "datetime is 2013-06-07 12:30:19.463198\n"
     ]
    }
   ],
   "source": [
    "# Python\n",
    "import datetime\n",
    "date = datetime.date(year=2013, month=6, day=7)\n",
    "time = datetime.time(hour=12, minute=30, second=19, microsecond=463198)\n",
    "dt = datetime.datetime(year=2013, month=6, day=7,\n",
    "                       hour=12, minute=30, second=19, microsecond=463198)\n",
    "\n",
    "print(\"date is \", date)\n",
    "print(\"time is\", time)\n",
    "print(\"datetime is\", dt)"
   ],
   "metadata": {
    "collapsed": false,
    "pycharm": {
     "name": "#%%\n"
    }
   }
  },
  {
   "cell_type": "code",
   "execution_count": 3,
   "outputs": [
    {
     "name": "stdout",
     "output_type": "stream",
     "text": [
      "2016-01-10 00:00:00\n",
      "2014-05-10 00:00:00\n",
      "2019-01-03 20:45:33\n",
      "2016-01-05 05:34:43.123456789\n",
      "2016\n"
     ]
    }
   ],
   "source": [
    "# Pandas\n",
    "print(pd.Timestamp('2016/1/10'))\n",
    "print(pd.Timestamp('2014-5/10'))\n",
    "print(pd.Timestamp('Jan 3, 2019 20:45.56'))\n",
    "print(pd.Timestamp('2016-01-05T05:34:43.123456789'))\n",
    "print(pd.Timestamp('2016-01-05T05:34:43.123456789').year)\n"
   ],
   "metadata": {
    "collapsed": false,
    "pycharm": {
     "name": "#%%\n"
    }
   }
  },
  {
   "cell_type": "code",
   "execution_count": 4,
   "outputs": [
    {
     "data": {
      "text/plain": "0   2015-05-12\n1   2013-01-14\n2   2017-12-20\n3          NaT\ndtype: datetime64[ns]"
     },
     "execution_count": 4,
     "metadata": {},
     "output_type": "execute_result"
    }
   ],
   "source": [
    "#Convirtiendo datos a tiempo Pandas\n",
    "s = pd.Series(['12-5-2015', '14-1-2013', '20/12/2017', '40/23/2017'])\n",
    "pd.to_datetime(s, dayfirst=True, errors='coerce')"
   ],
   "metadata": {
    "collapsed": false,
    "pycharm": {
     "name": "#%%\n"
    }
   }
  },
  {
   "cell_type": "code",
   "execution_count": 5,
   "outputs": [
    {
     "data": {
      "text/plain": "Timestamp('2017-01-25 10:06:00')"
     },
     "execution_count": 5,
     "metadata": {},
     "output_type": "execute_result"
    }
   ],
   "source": [
    "# Sumando tiempos\n",
    "pd.Timestamp('1/1/2017') + pd.Timedelta('12 days 5 hours 3 minutes') * 2"
   ],
   "metadata": {
    "collapsed": false,
    "pycharm": {
     "name": "#%%\n"
    }
   }
  },
  {
   "cell_type": "markdown",
   "source": [
    "## Slicing"
   ],
   "metadata": {
    "collapsed": false,
    "pycharm": {
     "name": "#%% md\n"
    }
   }
  },
  {
   "cell_type": "code",
   "execution_count": 6,
   "outputs": [
    {
     "data": {
      "text/plain": "Open      4.303000e+01\nHigh      4.343000e+01\nLow       4.254000e+01\nClose     4.293000e+01\nVolume    1.198624e+08\nName: 2010-11-17 00:00:00, dtype: float64"
     },
     "execution_count": 6,
     "metadata": {},
     "output_type": "execute_result"
    }
   ],
   "source": [
    "aapl = pd.read_csv('data/aapl_stock.csv')\n",
    "aapl['Date'] = aapl['Date'].astype(np.datetime64)\n",
    "aapl = aapl.set_index('Date')\n",
    "\n",
    "aapl.loc['2010-11-17']"
   ],
   "metadata": {
    "collapsed": false,
    "pycharm": {
     "name": "#%%\n"
    }
   }
  },
  {
   "cell_type": "code",
   "execution_count": 7,
   "outputs": [
    {
     "data": {
      "text/plain": "             Open   High    Low  Close     Volume\nDate                                             \n2010-11-17  43.03  43.43  42.54  42.93  119862407\n2010-11-18  43.60  44.24  43.53  44.06  123622443\n2010-11-19  44.00  44.06  43.61  43.82   96210793\n2010-11-22  43.81  44.77  43.70  44.77   98268492\n2010-11-23  44.35  44.54  43.79  44.10  129861284\n2010-11-24  44.57  45.06  44.54  44.97  103568136\n2010-11-26  44.82  45.39  44.71  45.00   59436237\n2010-11-29  45.07  45.35  44.48  45.27  111439895\n2010-11-30  44.79  44.91  44.41  44.45  125463303\n2010-12-01  45.04  45.39  45.00  45.20  115437672\n2010-12-02  45.36  45.57  44.98  45.45  115912916\n2010-12-03  45.29  45.52  45.19  45.35   85592283\n2010-12-06  45.52  46.05  45.49  45.74  112120127\n2010-12-07  46.26  46.28  45.45  45.46   97863465\n2010-12-08  45.66  45.86  45.30  45.86   80483501\n2010-12-09  46.02  46.07  45.57  45.68   73536526\n2010-12-10  45.66  45.86  45.51  45.79   65644243\n2010-12-13  46.34  46.44  45.86  45.95  109953333\n2010-12-14  45.96  46.08  45.57  45.76   87891762\n2010-12-15  45.71  46.14  45.60  45.77  104327314\n2010-12-16  45.87  46.09  45.73  45.89   80507098\n2010-12-17  45.95  45.97  45.75  45.80   96787068\n2010-12-20  45.94  46.18  45.46  46.03   96402194\n2010-12-21  46.14  46.34  46.01  46.32   64087884\n2010-12-22  46.34  46.53  46.22  46.45   66536029\n2010-12-23  46.43  46.45  46.17  46.23   55875176\n2010-12-27  46.12  46.49  45.93  46.38   62453699\n2010-12-28  46.56  46.67  46.44  46.50   43980797\n2010-12-29  46.60  46.64  46.44  46.47   40817672\n2010-12-30  46.50  46.50  46.15  46.24   39414991\n2010-12-31  46.14  46.21  45.90  46.08   48413827",
      "text/html": "<div>\n<style scoped>\n    .dataframe tbody tr th:only-of-type {\n        vertical-align: middle;\n    }\n\n    .dataframe tbody tr th {\n        vertical-align: top;\n    }\n\n    .dataframe thead th {\n        text-align: right;\n    }\n</style>\n<table border=\"1\" class=\"dataframe\">\n  <thead>\n    <tr style=\"text-align: right;\">\n      <th></th>\n      <th>Open</th>\n      <th>High</th>\n      <th>Low</th>\n      <th>Close</th>\n      <th>Volume</th>\n    </tr>\n    <tr>\n      <th>Date</th>\n      <th></th>\n      <th></th>\n      <th></th>\n      <th></th>\n      <th></th>\n    </tr>\n  </thead>\n  <tbody>\n    <tr>\n      <th>2010-11-17</th>\n      <td>43.03</td>\n      <td>43.43</td>\n      <td>42.54</td>\n      <td>42.93</td>\n      <td>119862407</td>\n    </tr>\n    <tr>\n      <th>2010-11-18</th>\n      <td>43.60</td>\n      <td>44.24</td>\n      <td>43.53</td>\n      <td>44.06</td>\n      <td>123622443</td>\n    </tr>\n    <tr>\n      <th>2010-11-19</th>\n      <td>44.00</td>\n      <td>44.06</td>\n      <td>43.61</td>\n      <td>43.82</td>\n      <td>96210793</td>\n    </tr>\n    <tr>\n      <th>2010-11-22</th>\n      <td>43.81</td>\n      <td>44.77</td>\n      <td>43.70</td>\n      <td>44.77</td>\n      <td>98268492</td>\n    </tr>\n    <tr>\n      <th>2010-11-23</th>\n      <td>44.35</td>\n      <td>44.54</td>\n      <td>43.79</td>\n      <td>44.10</td>\n      <td>129861284</td>\n    </tr>\n    <tr>\n      <th>2010-11-24</th>\n      <td>44.57</td>\n      <td>45.06</td>\n      <td>44.54</td>\n      <td>44.97</td>\n      <td>103568136</td>\n    </tr>\n    <tr>\n      <th>2010-11-26</th>\n      <td>44.82</td>\n      <td>45.39</td>\n      <td>44.71</td>\n      <td>45.00</td>\n      <td>59436237</td>\n    </tr>\n    <tr>\n      <th>2010-11-29</th>\n      <td>45.07</td>\n      <td>45.35</td>\n      <td>44.48</td>\n      <td>45.27</td>\n      <td>111439895</td>\n    </tr>\n    <tr>\n      <th>2010-11-30</th>\n      <td>44.79</td>\n      <td>44.91</td>\n      <td>44.41</td>\n      <td>44.45</td>\n      <td>125463303</td>\n    </tr>\n    <tr>\n      <th>2010-12-01</th>\n      <td>45.04</td>\n      <td>45.39</td>\n      <td>45.00</td>\n      <td>45.20</td>\n      <td>115437672</td>\n    </tr>\n    <tr>\n      <th>2010-12-02</th>\n      <td>45.36</td>\n      <td>45.57</td>\n      <td>44.98</td>\n      <td>45.45</td>\n      <td>115912916</td>\n    </tr>\n    <tr>\n      <th>2010-12-03</th>\n      <td>45.29</td>\n      <td>45.52</td>\n      <td>45.19</td>\n      <td>45.35</td>\n      <td>85592283</td>\n    </tr>\n    <tr>\n      <th>2010-12-06</th>\n      <td>45.52</td>\n      <td>46.05</td>\n      <td>45.49</td>\n      <td>45.74</td>\n      <td>112120127</td>\n    </tr>\n    <tr>\n      <th>2010-12-07</th>\n      <td>46.26</td>\n      <td>46.28</td>\n      <td>45.45</td>\n      <td>45.46</td>\n      <td>97863465</td>\n    </tr>\n    <tr>\n      <th>2010-12-08</th>\n      <td>45.66</td>\n      <td>45.86</td>\n      <td>45.30</td>\n      <td>45.86</td>\n      <td>80483501</td>\n    </tr>\n    <tr>\n      <th>2010-12-09</th>\n      <td>46.02</td>\n      <td>46.07</td>\n      <td>45.57</td>\n      <td>45.68</td>\n      <td>73536526</td>\n    </tr>\n    <tr>\n      <th>2010-12-10</th>\n      <td>45.66</td>\n      <td>45.86</td>\n      <td>45.51</td>\n      <td>45.79</td>\n      <td>65644243</td>\n    </tr>\n    <tr>\n      <th>2010-12-13</th>\n      <td>46.34</td>\n      <td>46.44</td>\n      <td>45.86</td>\n      <td>45.95</td>\n      <td>109953333</td>\n    </tr>\n    <tr>\n      <th>2010-12-14</th>\n      <td>45.96</td>\n      <td>46.08</td>\n      <td>45.57</td>\n      <td>45.76</td>\n      <td>87891762</td>\n    </tr>\n    <tr>\n      <th>2010-12-15</th>\n      <td>45.71</td>\n      <td>46.14</td>\n      <td>45.60</td>\n      <td>45.77</td>\n      <td>104327314</td>\n    </tr>\n    <tr>\n      <th>2010-12-16</th>\n      <td>45.87</td>\n      <td>46.09</td>\n      <td>45.73</td>\n      <td>45.89</td>\n      <td>80507098</td>\n    </tr>\n    <tr>\n      <th>2010-12-17</th>\n      <td>45.95</td>\n      <td>45.97</td>\n      <td>45.75</td>\n      <td>45.80</td>\n      <td>96787068</td>\n    </tr>\n    <tr>\n      <th>2010-12-20</th>\n      <td>45.94</td>\n      <td>46.18</td>\n      <td>45.46</td>\n      <td>46.03</td>\n      <td>96402194</td>\n    </tr>\n    <tr>\n      <th>2010-12-21</th>\n      <td>46.14</td>\n      <td>46.34</td>\n      <td>46.01</td>\n      <td>46.32</td>\n      <td>64087884</td>\n    </tr>\n    <tr>\n      <th>2010-12-22</th>\n      <td>46.34</td>\n      <td>46.53</td>\n      <td>46.22</td>\n      <td>46.45</td>\n      <td>66536029</td>\n    </tr>\n    <tr>\n      <th>2010-12-23</th>\n      <td>46.43</td>\n      <td>46.45</td>\n      <td>46.17</td>\n      <td>46.23</td>\n      <td>55875176</td>\n    </tr>\n    <tr>\n      <th>2010-12-27</th>\n      <td>46.12</td>\n      <td>46.49</td>\n      <td>45.93</td>\n      <td>46.38</td>\n      <td>62453699</td>\n    </tr>\n    <tr>\n      <th>2010-12-28</th>\n      <td>46.56</td>\n      <td>46.67</td>\n      <td>46.44</td>\n      <td>46.50</td>\n      <td>43980797</td>\n    </tr>\n    <tr>\n      <th>2010-12-29</th>\n      <td>46.60</td>\n      <td>46.64</td>\n      <td>46.44</td>\n      <td>46.47</td>\n      <td>40817672</td>\n    </tr>\n    <tr>\n      <th>2010-12-30</th>\n      <td>46.50</td>\n      <td>46.50</td>\n      <td>46.15</td>\n      <td>46.24</td>\n      <td>39414991</td>\n    </tr>\n    <tr>\n      <th>2010-12-31</th>\n      <td>46.14</td>\n      <td>46.21</td>\n      <td>45.90</td>\n      <td>46.08</td>\n      <td>48413827</td>\n    </tr>\n  </tbody>\n</table>\n</div>"
     },
     "execution_count": 7,
     "metadata": {},
     "output_type": "execute_result"
    }
   ],
   "source": [
    "aapl.loc['2010']"
   ],
   "metadata": {
    "collapsed": false,
    "pycharm": {
     "name": "#%%\n"
    }
   }
  },
  {
   "cell_type": "code",
   "execution_count": 8,
   "outputs": [
    {
     "data": {
      "text/plain": "              Open    High     Low   Close    Volume\nDate                                                \n2015-12-01  118.75  118.81  116.86  117.34  34700991\n2015-12-02  117.34  118.11  116.08  116.28  33198964\n2015-12-03  115.24  116.79  114.22  115.20  41569509\n2015-12-04  115.29  119.25  115.11  119.03  57776977\n2015-12-07  118.32  119.86  117.81  118.28  32084249\n2015-12-08  117.52  118.60  116.86  118.23  34309450\n2015-12-09  115.30  117.69  115.08  115.62  46361357\n2015-12-10  116.04  116.94  115.51  116.17  29212727\n2015-12-11  115.19  115.39  112.85  113.18  46886161\n2015-12-14  112.18  112.68  109.79  112.48  64318732\n2015-12-15  111.94  112.80  110.35  110.49  53323105\n2015-12-16  111.07  111.99  108.80  111.34  56238467\n2015-12-17  112.02  112.25  108.98  108.98  44772827\n2015-12-18  108.91  109.52  105.81  106.03  96453327\n2015-12-21  107.28  107.37  105.57  107.33  47590610\n2015-12-22  107.40  107.72  106.45  107.23  32789367\n2015-12-23  107.27  108.85  107.20  108.61  32657354\n2015-12-24  109.00  109.00  107.95  108.03  13596680\n2015-12-28  107.59  107.69  106.18  106.82  26704210\n2015-12-29  106.96  109.43  106.86  108.74  30931243\n2015-12-30  108.58  108.70  107.18  107.32  25213777\n2015-12-31  107.01  107.03  104.82  105.26  40912316",
      "text/html": "<div>\n<style scoped>\n    .dataframe tbody tr th:only-of-type {\n        vertical-align: middle;\n    }\n\n    .dataframe tbody tr th {\n        vertical-align: top;\n    }\n\n    .dataframe thead th {\n        text-align: right;\n    }\n</style>\n<table border=\"1\" class=\"dataframe\">\n  <thead>\n    <tr style=\"text-align: right;\">\n      <th></th>\n      <th>Open</th>\n      <th>High</th>\n      <th>Low</th>\n      <th>Close</th>\n      <th>Volume</th>\n    </tr>\n    <tr>\n      <th>Date</th>\n      <th></th>\n      <th></th>\n      <th></th>\n      <th></th>\n      <th></th>\n    </tr>\n  </thead>\n  <tbody>\n    <tr>\n      <th>2015-12-01</th>\n      <td>118.75</td>\n      <td>118.81</td>\n      <td>116.86</td>\n      <td>117.34</td>\n      <td>34700991</td>\n    </tr>\n    <tr>\n      <th>2015-12-02</th>\n      <td>117.34</td>\n      <td>118.11</td>\n      <td>116.08</td>\n      <td>116.28</td>\n      <td>33198964</td>\n    </tr>\n    <tr>\n      <th>2015-12-03</th>\n      <td>115.24</td>\n      <td>116.79</td>\n      <td>114.22</td>\n      <td>115.20</td>\n      <td>41569509</td>\n    </tr>\n    <tr>\n      <th>2015-12-04</th>\n      <td>115.29</td>\n      <td>119.25</td>\n      <td>115.11</td>\n      <td>119.03</td>\n      <td>57776977</td>\n    </tr>\n    <tr>\n      <th>2015-12-07</th>\n      <td>118.32</td>\n      <td>119.86</td>\n      <td>117.81</td>\n      <td>118.28</td>\n      <td>32084249</td>\n    </tr>\n    <tr>\n      <th>2015-12-08</th>\n      <td>117.52</td>\n      <td>118.60</td>\n      <td>116.86</td>\n      <td>118.23</td>\n      <td>34309450</td>\n    </tr>\n    <tr>\n      <th>2015-12-09</th>\n      <td>115.30</td>\n      <td>117.69</td>\n      <td>115.08</td>\n      <td>115.62</td>\n      <td>46361357</td>\n    </tr>\n    <tr>\n      <th>2015-12-10</th>\n      <td>116.04</td>\n      <td>116.94</td>\n      <td>115.51</td>\n      <td>116.17</td>\n      <td>29212727</td>\n    </tr>\n    <tr>\n      <th>2015-12-11</th>\n      <td>115.19</td>\n      <td>115.39</td>\n      <td>112.85</td>\n      <td>113.18</td>\n      <td>46886161</td>\n    </tr>\n    <tr>\n      <th>2015-12-14</th>\n      <td>112.18</td>\n      <td>112.68</td>\n      <td>109.79</td>\n      <td>112.48</td>\n      <td>64318732</td>\n    </tr>\n    <tr>\n      <th>2015-12-15</th>\n      <td>111.94</td>\n      <td>112.80</td>\n      <td>110.35</td>\n      <td>110.49</td>\n      <td>53323105</td>\n    </tr>\n    <tr>\n      <th>2015-12-16</th>\n      <td>111.07</td>\n      <td>111.99</td>\n      <td>108.80</td>\n      <td>111.34</td>\n      <td>56238467</td>\n    </tr>\n    <tr>\n      <th>2015-12-17</th>\n      <td>112.02</td>\n      <td>112.25</td>\n      <td>108.98</td>\n      <td>108.98</td>\n      <td>44772827</td>\n    </tr>\n    <tr>\n      <th>2015-12-18</th>\n      <td>108.91</td>\n      <td>109.52</td>\n      <td>105.81</td>\n      <td>106.03</td>\n      <td>96453327</td>\n    </tr>\n    <tr>\n      <th>2015-12-21</th>\n      <td>107.28</td>\n      <td>107.37</td>\n      <td>105.57</td>\n      <td>107.33</td>\n      <td>47590610</td>\n    </tr>\n    <tr>\n      <th>2015-12-22</th>\n      <td>107.40</td>\n      <td>107.72</td>\n      <td>106.45</td>\n      <td>107.23</td>\n      <td>32789367</td>\n    </tr>\n    <tr>\n      <th>2015-12-23</th>\n      <td>107.27</td>\n      <td>108.85</td>\n      <td>107.20</td>\n      <td>108.61</td>\n      <td>32657354</td>\n    </tr>\n    <tr>\n      <th>2015-12-24</th>\n      <td>109.00</td>\n      <td>109.00</td>\n      <td>107.95</td>\n      <td>108.03</td>\n      <td>13596680</td>\n    </tr>\n    <tr>\n      <th>2015-12-28</th>\n      <td>107.59</td>\n      <td>107.69</td>\n      <td>106.18</td>\n      <td>106.82</td>\n      <td>26704210</td>\n    </tr>\n    <tr>\n      <th>2015-12-29</th>\n      <td>106.96</td>\n      <td>109.43</td>\n      <td>106.86</td>\n      <td>108.74</td>\n      <td>30931243</td>\n    </tr>\n    <tr>\n      <th>2015-12-30</th>\n      <td>108.58</td>\n      <td>108.70</td>\n      <td>107.18</td>\n      <td>107.32</td>\n      <td>25213777</td>\n    </tr>\n    <tr>\n      <th>2015-12-31</th>\n      <td>107.01</td>\n      <td>107.03</td>\n      <td>104.82</td>\n      <td>105.26</td>\n      <td>40912316</td>\n    </tr>\n  </tbody>\n</table>\n</div>"
     },
     "execution_count": 8,
     "metadata": {},
     "output_type": "execute_result"
    }
   ],
   "source": [
    "aapl.loc['Dec 2015'].sort_index()"
   ],
   "metadata": {
    "collapsed": false,
    "pycharm": {
     "name": "#%%\n"
    }
   }
  },
  {
   "cell_type": "code",
   "execution_count": 9,
   "outputs": [
    {
     "data": {
      "text/plain": "              Open    High     Low   Close    Volume\nDate                                                \n2015-03-05  128.58  128.75  125.76  126.41  56517146\n2015-03-06  128.40  129.37  126.26  126.60  72842060\n2015-03-09  127.96  129.57  125.06  127.14  88528487\n2015-03-10  126.41  127.22  123.80  124.51  68856582\n2015-03-11  124.75  124.77  122.11  122.24  68938974\n...            ...     ...     ...     ...       ...\n2015-12-24  109.00  109.00  107.95  108.03  13596680\n2015-12-28  107.59  107.69  106.18  106.82  26704210\n2015-12-29  106.96  109.43  106.86  108.74  30931243\n2015-12-30  108.58  108.70  107.18  107.32  25213777\n2015-12-31  107.01  107.03  104.82  105.26  40912316\n\n[210 rows x 5 columns]",
      "text/html": "<div>\n<style scoped>\n    .dataframe tbody tr th:only-of-type {\n        vertical-align: middle;\n    }\n\n    .dataframe tbody tr th {\n        vertical-align: top;\n    }\n\n    .dataframe thead th {\n        text-align: right;\n    }\n</style>\n<table border=\"1\" class=\"dataframe\">\n  <thead>\n    <tr style=\"text-align: right;\">\n      <th></th>\n      <th>Open</th>\n      <th>High</th>\n      <th>Low</th>\n      <th>Close</th>\n      <th>Volume</th>\n    </tr>\n    <tr>\n      <th>Date</th>\n      <th></th>\n      <th></th>\n      <th></th>\n      <th></th>\n      <th></th>\n    </tr>\n  </thead>\n  <tbody>\n    <tr>\n      <th>2015-03-05</th>\n      <td>128.58</td>\n      <td>128.75</td>\n      <td>125.76</td>\n      <td>126.41</td>\n      <td>56517146</td>\n    </tr>\n    <tr>\n      <th>2015-03-06</th>\n      <td>128.40</td>\n      <td>129.37</td>\n      <td>126.26</td>\n      <td>126.60</td>\n      <td>72842060</td>\n    </tr>\n    <tr>\n      <th>2015-03-09</th>\n      <td>127.96</td>\n      <td>129.57</td>\n      <td>125.06</td>\n      <td>127.14</td>\n      <td>88528487</td>\n    </tr>\n    <tr>\n      <th>2015-03-10</th>\n      <td>126.41</td>\n      <td>127.22</td>\n      <td>123.80</td>\n      <td>124.51</td>\n      <td>68856582</td>\n    </tr>\n    <tr>\n      <th>2015-03-11</th>\n      <td>124.75</td>\n      <td>124.77</td>\n      <td>122.11</td>\n      <td>122.24</td>\n      <td>68938974</td>\n    </tr>\n    <tr>\n      <th>...</th>\n      <td>...</td>\n      <td>...</td>\n      <td>...</td>\n      <td>...</td>\n      <td>...</td>\n    </tr>\n    <tr>\n      <th>2015-12-24</th>\n      <td>109.00</td>\n      <td>109.00</td>\n      <td>107.95</td>\n      <td>108.03</td>\n      <td>13596680</td>\n    </tr>\n    <tr>\n      <th>2015-12-28</th>\n      <td>107.59</td>\n      <td>107.69</td>\n      <td>106.18</td>\n      <td>106.82</td>\n      <td>26704210</td>\n    </tr>\n    <tr>\n      <th>2015-12-29</th>\n      <td>106.96</td>\n      <td>109.43</td>\n      <td>106.86</td>\n      <td>108.74</td>\n      <td>30931243</td>\n    </tr>\n    <tr>\n      <th>2015-12-30</th>\n      <td>108.58</td>\n      <td>108.70</td>\n      <td>107.18</td>\n      <td>107.32</td>\n      <td>25213777</td>\n    </tr>\n    <tr>\n      <th>2015-12-31</th>\n      <td>107.01</td>\n      <td>107.03</td>\n      <td>104.82</td>\n      <td>105.26</td>\n      <td>40912316</td>\n    </tr>\n  </tbody>\n</table>\n<p>210 rows × 5 columns</p>\n</div>"
     },
     "execution_count": 9,
     "metadata": {},
     "output_type": "execute_result"
    }
   ],
   "source": [
    "aapl.loc['2015-3-4 22':'2016-1-1 23:45:00'].sort_index()\n",
    "\n"
   ],
   "metadata": {
    "collapsed": false,
    "pycharm": {
     "name": "#%%\n"
    }
   }
  }
 ],
 "metadata": {
  "kernelspec": {
   "display_name": "Python 3",
   "language": "python",
   "name": "python3"
  },
  "language_info": {
   "codemirror_mode": {
    "name": "ipython",
    "version": 2
   },
   "file_extension": ".py",
   "mimetype": "text/x-python",
   "name": "python",
   "nbconvert_exporter": "python",
   "pygments_lexer": "ipython2",
   "version": "2.7.6"
  }
 },
 "nbformat": 4,
 "nbformat_minor": 0
}