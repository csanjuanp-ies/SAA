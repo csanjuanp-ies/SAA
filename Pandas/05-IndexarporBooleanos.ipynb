{
 "cells": [
  {
   "cell_type": "markdown",
   "source": [
    "# Indexado por Booleanos\n",
    "Filtrar los datos de un Dataset o una Serie es fundamental para el análisis de datos. Esta sección se basa\n",
    "en crear un lista o un narray de booelanos en los que cada elemento muestre si se selecciona la fila\n",
    "correspondiente (True) o no se selecciona."
   ],
   "metadata": {
    "collapsed": false
   }
  },
  {
   "cell_type": "markdown",
   "source": [
    "## Cálculo de estadísticas booleanas\n",
    "Para poder hacer una selección, primero tenemos que ser capaces de crear esos arrays mediante condiciones.\n",
    "Pandas permite aplicar un operador a una Serie para devolver una Serie de booleanos aplicando la condición\n",
    "a cada compoenente de la serie."
   ],
   "metadata": {
    "collapsed": false
   }
  },
  {
   "cell_type": "code",
   "source": [
    "import pandas as pd\n",
    "import numpy as np\n",
    "import matplotlib.pyplot as plt\n",
    "%matplotlib inline\n",
    "\n",
    "movies = pd.read_csv('data/movie.csv')\n",
    "movies.head()"
   ],
   "metadata": {
    "collapsed": false,
    "pycharm": {
     "name": "#%%\n"
    }
   },
   "execution_count": 1,
   "outputs": [
    {
     "data": {
      "text/plain": "   color      director_name  num_critic_for_reviews  duration  \\\n0  Color      James Cameron                   723.0     178.0   \n1  Color     Gore Verbinski                   302.0     169.0   \n2  Color         Sam Mendes                   602.0     148.0   \n3  Color  Christopher Nolan                   813.0     164.0   \n4    NaN        Doug Walker                     NaN       NaN   \n\n   director_facebook_likes  actor_3_facebook_likes      actor_2_name  \\\n0                      0.0                   855.0  Joel David Moore   \n1                    563.0                  1000.0     Orlando Bloom   \n2                      0.0                   161.0      Rory Kinnear   \n3                  22000.0                 23000.0    Christian Bale   \n4                    131.0                     NaN        Rob Walker   \n\n   actor_1_facebook_likes        gross                           genres  ...  \\\n0                  1000.0  760505847.0  Action|Adventure|Fantasy|Sci-Fi  ...   \n1                 40000.0  309404152.0         Action|Adventure|Fantasy  ...   \n2                 11000.0  200074175.0        Action|Adventure|Thriller  ...   \n3                 27000.0  448130642.0                  Action|Thriller  ...   \n4                   131.0          NaN                      Documentary  ...   \n\n  num_user_for_reviews language  country  content_rating       budget  \\\n0               3054.0  English      USA           PG-13  237000000.0   \n1               1238.0  English      USA           PG-13  300000000.0   \n2                994.0  English       UK           PG-13  245000000.0   \n3               2701.0  English      USA           PG-13  250000000.0   \n4                  NaN      NaN      NaN             NaN          NaN   \n\n   title_year actor_2_facebook_likes imdb_score  aspect_ratio  \\\n0      2009.0                  936.0        7.9          1.78   \n1      2007.0                 5000.0        7.1          2.35   \n2      2015.0                  393.0        6.8          2.35   \n3      2012.0                23000.0        8.5          2.35   \n4         NaN                   12.0        7.1           NaN   \n\n  movie_facebook_likes  \n0                33000  \n1                    0  \n2                85000  \n3               164000  \n4                    0  \n\n[5 rows x 28 columns]",
      "text/html": "<div>\n<style scoped>\n    .dataframe tbody tr th:only-of-type {\n        vertical-align: middle;\n    }\n\n    .dataframe tbody tr th {\n        vertical-align: top;\n    }\n\n    .dataframe thead th {\n        text-align: right;\n    }\n</style>\n<table border=\"1\" class=\"dataframe\">\n  <thead>\n    <tr style=\"text-align: right;\">\n      <th></th>\n      <th>color</th>\n      <th>director_name</th>\n      <th>num_critic_for_reviews</th>\n      <th>duration</th>\n      <th>director_facebook_likes</th>\n      <th>actor_3_facebook_likes</th>\n      <th>actor_2_name</th>\n      <th>actor_1_facebook_likes</th>\n      <th>gross</th>\n      <th>genres</th>\n      <th>...</th>\n      <th>num_user_for_reviews</th>\n      <th>language</th>\n      <th>country</th>\n      <th>content_rating</th>\n      <th>budget</th>\n      <th>title_year</th>\n      <th>actor_2_facebook_likes</th>\n      <th>imdb_score</th>\n      <th>aspect_ratio</th>\n      <th>movie_facebook_likes</th>\n    </tr>\n  </thead>\n  <tbody>\n    <tr>\n      <th>0</th>\n      <td>Color</td>\n      <td>James Cameron</td>\n      <td>723.0</td>\n      <td>178.0</td>\n      <td>0.0</td>\n      <td>855.0</td>\n      <td>Joel David Moore</td>\n      <td>1000.0</td>\n      <td>760505847.0</td>\n      <td>Action|Adventure|Fantasy|Sci-Fi</td>\n      <td>...</td>\n      <td>3054.0</td>\n      <td>English</td>\n      <td>USA</td>\n      <td>PG-13</td>\n      <td>237000000.0</td>\n      <td>2009.0</td>\n      <td>936.0</td>\n      <td>7.9</td>\n      <td>1.78</td>\n      <td>33000</td>\n    </tr>\n    <tr>\n      <th>1</th>\n      <td>Color</td>\n      <td>Gore Verbinski</td>\n      <td>302.0</td>\n      <td>169.0</td>\n      <td>563.0</td>\n      <td>1000.0</td>\n      <td>Orlando Bloom</td>\n      <td>40000.0</td>\n      <td>309404152.0</td>\n      <td>Action|Adventure|Fantasy</td>\n      <td>...</td>\n      <td>1238.0</td>\n      <td>English</td>\n      <td>USA</td>\n      <td>PG-13</td>\n      <td>300000000.0</td>\n      <td>2007.0</td>\n      <td>5000.0</td>\n      <td>7.1</td>\n      <td>2.35</td>\n      <td>0</td>\n    </tr>\n    <tr>\n      <th>2</th>\n      <td>Color</td>\n      <td>Sam Mendes</td>\n      <td>602.0</td>\n      <td>148.0</td>\n      <td>0.0</td>\n      <td>161.0</td>\n      <td>Rory Kinnear</td>\n      <td>11000.0</td>\n      <td>200074175.0</td>\n      <td>Action|Adventure|Thriller</td>\n      <td>...</td>\n      <td>994.0</td>\n      <td>English</td>\n      <td>UK</td>\n      <td>PG-13</td>\n      <td>245000000.0</td>\n      <td>2015.0</td>\n      <td>393.0</td>\n      <td>6.8</td>\n      <td>2.35</td>\n      <td>85000</td>\n    </tr>\n    <tr>\n      <th>3</th>\n      <td>Color</td>\n      <td>Christopher Nolan</td>\n      <td>813.0</td>\n      <td>164.0</td>\n      <td>22000.0</td>\n      <td>23000.0</td>\n      <td>Christian Bale</td>\n      <td>27000.0</td>\n      <td>448130642.0</td>\n      <td>Action|Thriller</td>\n      <td>...</td>\n      <td>2701.0</td>\n      <td>English</td>\n      <td>USA</td>\n      <td>PG-13</td>\n      <td>250000000.0</td>\n      <td>2012.0</td>\n      <td>23000.0</td>\n      <td>8.5</td>\n      <td>2.35</td>\n      <td>164000</td>\n    </tr>\n    <tr>\n      <th>4</th>\n      <td>NaN</td>\n      <td>Doug Walker</td>\n      <td>NaN</td>\n      <td>NaN</td>\n      <td>131.0</td>\n      <td>NaN</td>\n      <td>Rob Walker</td>\n      <td>131.0</td>\n      <td>NaN</td>\n      <td>Documentary</td>\n      <td>...</td>\n      <td>NaN</td>\n      <td>NaN</td>\n      <td>NaN</td>\n      <td>NaN</td>\n      <td>NaN</td>\n      <td>NaN</td>\n      <td>12.0</td>\n      <td>7.1</td>\n      <td>NaN</td>\n      <td>0</td>\n    </tr>\n  </tbody>\n</table>\n<p>5 rows × 28 columns</p>\n</div>"
     },
     "execution_count": 1,
     "metadata": {},
     "output_type": "execute_result"
    }
   ]
  },
  {
   "cell_type": "code",
   "execution_count": 2,
   "outputs": [
    {
     "data": {
      "text/plain": "0     True\n1     True\n2     True\n3     True\n4    False\nName: duration, dtype: bool"
     },
     "execution_count": 2,
     "metadata": {},
     "output_type": "execute_result"
    }
   ],
   "source": [
    "movie_2_hours  = movies['duration'] > 120\n",
    "movie_2_hours.head()"
   ],
   "metadata": {
    "collapsed": false,
    "pycharm": {
     "name": "#%%\n"
    }
   }
  },
  {
   "cell_type": "code",
   "execution_count": 3,
   "outputs": [
    {
     "data": {
      "text/plain": "count      4916\nunique        2\ntop       False\nfreq       3877\nName: duration, dtype: object"
     },
     "execution_count": 3,
     "metadata": {},
     "output_type": "execute_result"
    }
   ],
   "source": [
    "# Se puede realizar las mismas operaciones que sobre una Serie normal\n",
    "movie_2_hours.describe()"
   ],
   "metadata": {
    "collapsed": false,
    "pycharm": {
     "name": "#%%\n"
    }
   }
  },
  {
   "cell_type": "markdown",
   "source": [
    "Hay que tener cuidado, ya que la evaluación de los nulos y los Nan se hace siempre a falso, por lo que\n",
    "habrá que tratarlos antes de cualquier selección.\n"
   ],
   "metadata": {
    "collapsed": false,
    "pycharm": {
     "name": "#%% md\n"
    }
   }
  },
  {
   "cell_type": "code",
   "execution_count": 4,
   "outputs": [
    {
     "data": {
      "text/plain": "True     4794\nFalse     122\ndtype: int64"
     },
     "execution_count": 4,
     "metadata": {},
     "output_type": "execute_result"
    }
   ],
   "source": [
    "(movies['actor_1_facebook_likes'] > movies['actor_2_facebook_likes']).value_counts()"
   ],
   "metadata": {
    "collapsed": false,
    "pycharm": {
     "name": "#%%\n"
    }
   }
  },
  {
   "cell_type": "markdown",
   "source": [
    "## Múltiples condiciones\n",
    "Podemos usar los operadores de comparación sin ningúnproblema, pero para concatenar criterios, deberemos\n",
    "usar los operadore **&, | y ~** en vez de **and, or y not**. El mayor problema es que estos operadores tienen\n",
    "menor precedencia que los operadores de comparación, por lo que hay que usar paréntesis.\n",
    "2 > 3 & 3 > 4 --> primero se evalua 3 & 3 hay que usar: (2 > 3) & (3 > 4)."
   ],
   "metadata": {
    "collapsed": false
   }
  },
  {
   "cell_type": "code",
   "execution_count": 5,
   "outputs": [
    {
     "data": {
      "text/plain": "0    False\n1    False\n2    False\n3     True\n4    False\ndtype: bool"
     },
     "execution_count": 5,
     "metadata": {},
     "output_type": "execute_result"
    }
   ],
   "source": [
    "criteria1 = movies.imdb_score > 8\n",
    "criteria2 = movies.content_rating == 'PG-13'\n",
    "criteria3 = (movies.title_year < 2000) | (movies.title_year >= 2010)\n",
    "criteria_final = criteria1 & criteria2 & criteria3\n",
    "criteria_final.head()\n"
   ],
   "metadata": {
    "collapsed": false,
    "pycharm": {
     "name": "#%%\n"
    }
   }
  },
  {
   "cell_type": "markdown",
   "source": [
    "## Filtrado con indexación booleana\n",
    "Tanto las Series como los Dataset admiten como parámetro de selección un criterio para realizar la selección"
   ],
   "metadata": {
    "collapsed": false,
    "pycharm": {
     "name": "#%% md\n"
    }
   }
  },
  {
   "cell_type": "code",
   "execution_count": 6,
   "outputs": [
    {
     "data": {
      "text/plain": "    color      director_name  num_critic_for_reviews  duration  \\\n3   Color  Christopher Nolan                   813.0     164.0   \n17  Color        Joss Whedon                   703.0     173.0   \n27  Color      Anthony Russo                   516.0     147.0   \n95  Color         James Gunn                   653.0     121.0   \n96  Color  Christopher Nolan                   712.0     169.0   \n\n    director_facebook_likes  actor_3_facebook_likes        actor_2_name  \\\n3                   22000.0                 23000.0      Christian Bale   \n17                      0.0                 19000.0   Robert Downey Jr.   \n27                     94.0                 11000.0  Scarlett Johansson   \n95                    571.0                  3000.0          Vin Diesel   \n96                  22000.0                  6000.0       Anne Hathaway   \n\n    actor_1_facebook_likes        gross                   genres  ...  \\\n3                  27000.0  448130642.0          Action|Thriller  ...   \n17                 26000.0  623279547.0  Action|Adventure|Sci-Fi  ...   \n27                 21000.0  407197282.0  Action|Adventure|Sci-Fi  ...   \n95                 14000.0  333130696.0  Action|Adventure|Sci-Fi  ...   \n96                 11000.0  187991439.0   Adventure|Drama|Sci-Fi  ...   \n\n   num_user_for_reviews language  country  content_rating       budget  \\\n3                2701.0  English      USA           PG-13  250000000.0   \n17               1722.0  English      USA           PG-13  220000000.0   \n27               1022.0  English      USA           PG-13  250000000.0   \n95               1097.0  English      USA           PG-13  170000000.0   \n96               2725.0  English      USA           PG-13  165000000.0   \n\n    title_year actor_2_facebook_likes imdb_score  aspect_ratio  \\\n3       2012.0                23000.0        8.5          2.35   \n17      2012.0                21000.0        8.1          1.85   \n27      2016.0                19000.0        8.2          2.35   \n95      2014.0                14000.0        8.1          2.35   \n96      2014.0                11000.0        8.6          2.35   \n\n   movie_facebook_likes  \n3                164000  \n17               123000  \n27                72000  \n95                96000  \n96               349000  \n\n[5 rows x 28 columns]",
      "text/html": "<div>\n<style scoped>\n    .dataframe tbody tr th:only-of-type {\n        vertical-align: middle;\n    }\n\n    .dataframe tbody tr th {\n        vertical-align: top;\n    }\n\n    .dataframe thead th {\n        text-align: right;\n    }\n</style>\n<table border=\"1\" class=\"dataframe\">\n  <thead>\n    <tr style=\"text-align: right;\">\n      <th></th>\n      <th>color</th>\n      <th>director_name</th>\n      <th>num_critic_for_reviews</th>\n      <th>duration</th>\n      <th>director_facebook_likes</th>\n      <th>actor_3_facebook_likes</th>\n      <th>actor_2_name</th>\n      <th>actor_1_facebook_likes</th>\n      <th>gross</th>\n      <th>genres</th>\n      <th>...</th>\n      <th>num_user_for_reviews</th>\n      <th>language</th>\n      <th>country</th>\n      <th>content_rating</th>\n      <th>budget</th>\n      <th>title_year</th>\n      <th>actor_2_facebook_likes</th>\n      <th>imdb_score</th>\n      <th>aspect_ratio</th>\n      <th>movie_facebook_likes</th>\n    </tr>\n  </thead>\n  <tbody>\n    <tr>\n      <th>3</th>\n      <td>Color</td>\n      <td>Christopher Nolan</td>\n      <td>813.0</td>\n      <td>164.0</td>\n      <td>22000.0</td>\n      <td>23000.0</td>\n      <td>Christian Bale</td>\n      <td>27000.0</td>\n      <td>448130642.0</td>\n      <td>Action|Thriller</td>\n      <td>...</td>\n      <td>2701.0</td>\n      <td>English</td>\n      <td>USA</td>\n      <td>PG-13</td>\n      <td>250000000.0</td>\n      <td>2012.0</td>\n      <td>23000.0</td>\n      <td>8.5</td>\n      <td>2.35</td>\n      <td>164000</td>\n    </tr>\n    <tr>\n      <th>17</th>\n      <td>Color</td>\n      <td>Joss Whedon</td>\n      <td>703.0</td>\n      <td>173.0</td>\n      <td>0.0</td>\n      <td>19000.0</td>\n      <td>Robert Downey Jr.</td>\n      <td>26000.0</td>\n      <td>623279547.0</td>\n      <td>Action|Adventure|Sci-Fi</td>\n      <td>...</td>\n      <td>1722.0</td>\n      <td>English</td>\n      <td>USA</td>\n      <td>PG-13</td>\n      <td>220000000.0</td>\n      <td>2012.0</td>\n      <td>21000.0</td>\n      <td>8.1</td>\n      <td>1.85</td>\n      <td>123000</td>\n    </tr>\n    <tr>\n      <th>27</th>\n      <td>Color</td>\n      <td>Anthony Russo</td>\n      <td>516.0</td>\n      <td>147.0</td>\n      <td>94.0</td>\n      <td>11000.0</td>\n      <td>Scarlett Johansson</td>\n      <td>21000.0</td>\n      <td>407197282.0</td>\n      <td>Action|Adventure|Sci-Fi</td>\n      <td>...</td>\n      <td>1022.0</td>\n      <td>English</td>\n      <td>USA</td>\n      <td>PG-13</td>\n      <td>250000000.0</td>\n      <td>2016.0</td>\n      <td>19000.0</td>\n      <td>8.2</td>\n      <td>2.35</td>\n      <td>72000</td>\n    </tr>\n    <tr>\n      <th>95</th>\n      <td>Color</td>\n      <td>James Gunn</td>\n      <td>653.0</td>\n      <td>121.0</td>\n      <td>571.0</td>\n      <td>3000.0</td>\n      <td>Vin Diesel</td>\n      <td>14000.0</td>\n      <td>333130696.0</td>\n      <td>Action|Adventure|Sci-Fi</td>\n      <td>...</td>\n      <td>1097.0</td>\n      <td>English</td>\n      <td>USA</td>\n      <td>PG-13</td>\n      <td>170000000.0</td>\n      <td>2014.0</td>\n      <td>14000.0</td>\n      <td>8.1</td>\n      <td>2.35</td>\n      <td>96000</td>\n    </tr>\n    <tr>\n      <th>96</th>\n      <td>Color</td>\n      <td>Christopher Nolan</td>\n      <td>712.0</td>\n      <td>169.0</td>\n      <td>22000.0</td>\n      <td>6000.0</td>\n      <td>Anne Hathaway</td>\n      <td>11000.0</td>\n      <td>187991439.0</td>\n      <td>Adventure|Drama|Sci-Fi</td>\n      <td>...</td>\n      <td>2725.0</td>\n      <td>English</td>\n      <td>USA</td>\n      <td>PG-13</td>\n      <td>165000000.0</td>\n      <td>2014.0</td>\n      <td>11000.0</td>\n      <td>8.6</td>\n      <td>2.35</td>\n      <td>349000</td>\n    </tr>\n  </tbody>\n</table>\n<p>5 rows × 28 columns</p>\n</div>"
     },
     "execution_count": 6,
     "metadata": {},
     "output_type": "execute_result"
    }
   ],
   "source": [
    "movies[criteria_final].head()"
   ],
   "metadata": {
    "collapsed": false,
    "pycharm": {
     "name": "#%%\n"
    }
   }
  },
  {
   "cell_type": "code",
   "execution_count": 7,
   "outputs": [
    {
     "data": {
      "text/plain": "3     Christopher Nolan\n17          Joss Whedon\n27        Anthony Russo\n95           James Gunn\n96    Christopher Nolan\nName: director_name, dtype: object"
     },
     "execution_count": 7,
     "metadata": {},
     "output_type": "execute_result"
    }
   ],
   "source": [
    "movies[\"director_name\"][criteria_final].head()\n"
   ],
   "metadata": {
    "collapsed": false,
    "pycharm": {
     "name": "#%%\n"
    }
   }
  },
  {
   "cell_type": "markdown",
   "source": [
    "## Haciendo lo mismo con selección de filas"
   ],
   "metadata": {
    "collapsed": false
   }
  },
  {
   "cell_type": "code",
   "execution_count": 8,
   "outputs": [
    {
     "data": {
      "text/plain": "       director_name  director_facebook_likes\n1     Gore Verbinski                    563.0\n3  Christopher Nolan                  22000.0\n4        Doug Walker                    131.0\n5     Andrew Stanton                    475.0\n9        David Yates                    282.0",
      "text/html": "<div>\n<style scoped>\n    .dataframe tbody tr th:only-of-type {\n        vertical-align: middle;\n    }\n\n    .dataframe tbody tr th {\n        vertical-align: top;\n    }\n\n    .dataframe thead th {\n        text-align: right;\n    }\n</style>\n<table border=\"1\" class=\"dataframe\">\n  <thead>\n    <tr style=\"text-align: right;\">\n      <th></th>\n      <th>director_name</th>\n      <th>director_facebook_likes</th>\n    </tr>\n  </thead>\n  <tbody>\n    <tr>\n      <th>1</th>\n      <td>Gore Verbinski</td>\n      <td>563.0</td>\n    </tr>\n    <tr>\n      <th>3</th>\n      <td>Christopher Nolan</td>\n      <td>22000.0</td>\n    </tr>\n    <tr>\n      <th>4</th>\n      <td>Doug Walker</td>\n      <td>131.0</td>\n    </tr>\n    <tr>\n      <th>5</th>\n      <td>Andrew Stanton</td>\n      <td>475.0</td>\n    </tr>\n    <tr>\n      <th>9</th>\n      <td>David Yates</td>\n      <td>282.0</td>\n    </tr>\n  </tbody>\n</table>\n</div>"
     },
     "execution_count": 8,
     "metadata": {},
     "output_type": "execute_result"
    }
   ],
   "source": [
    "movies[movies['director_facebook_likes'] > 100][['director_name','director_facebook_likes']].head()"
   ],
   "metadata": {
    "collapsed": false,
    "pycharm": {
     "name": "#%%\n"
    }
   }
  },
  {
   "cell_type": "markdown",
   "source": [
    "## Selección con índices ordenados y únicos\n",
    "La selección se acelera drásticamente si el índice de la fila está ordenado es único."
   ],
   "metadata": {
    "collapsed": false
   }
  },
  {
   "cell_type": "code",
   "execution_count": 14,
   "outputs": [
    {
     "data": {
      "text/plain": "False"
     },
     "execution_count": 14,
     "metadata": {},
     "output_type": "execute_result"
    }
   ],
   "source": [
    "college = pd.read_csv('data/college.csv')\n",
    "college2 = college.set_index('STABBR')\n",
    "college2.index.is_monotonic"
   ],
   "metadata": {
    "collapsed": false,
    "pycharm": {
     "name": "#%%\n"
    }
   }
  },
  {
   "cell_type": "code",
   "execution_count": 15,
   "outputs": [
    {
     "data": {
      "text/plain": "True"
     },
     "execution_count": 15,
     "metadata": {},
     "output_type": "execute_result"
    }
   ],
   "source": [
    "college2.sort_index(inplace=True)\n",
    "college2.index.is_monotonic"
   ],
   "metadata": {
    "collapsed": false,
    "pycharm": {
     "name": "#%%\n"
    }
   }
  },
  {
   "cell_type": "code",
   "execution_count": 16,
   "outputs": [
    {
     "name": "stdout",
     "output_type": "stream",
     "text": [
      "796 µs ± 34 µs per loop (mean ± std. dev. of 7 runs, 1000 loops each)\n"
     ]
    }
   ],
   "source": [
    "%timeit college[college['STABBR'] == 'TX']"
   ],
   "metadata": {
    "collapsed": false,
    "pycharm": {
     "name": "#%%\n"
    }
   }
  },
  {
   "cell_type": "code",
   "execution_count": 17,
   "outputs": [
    {
     "name": "stdout",
     "output_type": "stream",
     "text": [
      "59.7 µs ± 3.64 µs per loop (mean ± std. dev. of 7 runs, 10000 loops each)\n"
     ]
    }
   ],
   "source": [
    "%timeit college2.loc['TX']"
   ],
   "metadata": {
    "collapsed": false,
    "pycharm": {
     "name": "#%%\n"
    }
   }
  },
  {
   "cell_type": "markdown",
   "source": [
    "Podemos crear índices complejos"
   ],
   "metadata": {
    "collapsed": false,
    "pycharm": {
     "name": "#%% md\n"
    }
   }
  },
  {
   "cell_type": "code",
   "execution_count": 18,
   "outputs": [
    {
     "data": {
      "text/plain": "                                 INSTNM      CITY STABBR  HBCU  MENONLY  \\\nARTESIA, CA           Angeles Institute   ARTESIA     CA   0.0      0.0   \nAberdeen, SD       Presentation College  Aberdeen     SD   0.0      0.0   \nAberdeen, SD  Northern State University  Aberdeen     SD   0.0      0.0   \nAberdeen, WA       Grays Harbor College  Aberdeen     WA   0.0      0.0   \nAbilene, TX   Hardin-Simmons University   Abilene     TX   0.0      0.0   \n\n              WOMENONLY  RELAFFIL  SATVRMID  SATMTMID  DISTANCEONLY  ...  \\\nARTESIA, CA         0.0         0       NaN       NaN           0.0  ...   \nAberdeen, SD        0.0         1     440.0     480.0           0.0  ...   \nAberdeen, SD        0.0         0     480.0     475.0           0.0  ...   \nAberdeen, WA        0.0         0       NaN       NaN           0.0  ...   \nAbilene, TX         0.0         1     508.0     515.0           0.0  ...   \n\n              UGDS_2MOR  UGDS_NRA  UGDS_UNKN  PPTUG_EF  CURROPER  PCTPELL  \\\nARTESIA, CA      0.0175    0.0088     0.0088    0.0000         1   0.6275   \nAberdeen, SD     0.0284    0.0142     0.0823    0.2865         1   0.4829   \nAberdeen, SD     0.0219    0.0425     0.0024    0.1872         1   0.2272   \nAberdeen, WA     0.0937    0.0009     0.0250    0.1820         1   0.4530   \nAbilene, TX      0.0298    0.0159     0.0102    0.0685         1   0.3256   \n\n              PCTFLOAN  UG25ABV  MD_EARN_WNE_P10  GRAD_DEBT_MDN_SUPP  \nARTESIA, CA     0.8138   0.5429              NaN               16850  \nAberdeen, SD    0.7560   0.3097            35900               25000  \nAberdeen, SD    0.4303   0.1766            33600               24847  \nAberdeen, WA    0.1502   0.5087            27000               11490  \nAbilene, TX     0.5547   0.0982            38700               25864  \n\n[5 rows x 27 columns]",
      "text/html": "<div>\n<style scoped>\n    .dataframe tbody tr th:only-of-type {\n        vertical-align: middle;\n    }\n\n    .dataframe tbody tr th {\n        vertical-align: top;\n    }\n\n    .dataframe thead th {\n        text-align: right;\n    }\n</style>\n<table border=\"1\" class=\"dataframe\">\n  <thead>\n    <tr style=\"text-align: right;\">\n      <th></th>\n      <th>INSTNM</th>\n      <th>CITY</th>\n      <th>STABBR</th>\n      <th>HBCU</th>\n      <th>MENONLY</th>\n      <th>WOMENONLY</th>\n      <th>RELAFFIL</th>\n      <th>SATVRMID</th>\n      <th>SATMTMID</th>\n      <th>DISTANCEONLY</th>\n      <th>...</th>\n      <th>UGDS_2MOR</th>\n      <th>UGDS_NRA</th>\n      <th>UGDS_UNKN</th>\n      <th>PPTUG_EF</th>\n      <th>CURROPER</th>\n      <th>PCTPELL</th>\n      <th>PCTFLOAN</th>\n      <th>UG25ABV</th>\n      <th>MD_EARN_WNE_P10</th>\n      <th>GRAD_DEBT_MDN_SUPP</th>\n    </tr>\n  </thead>\n  <tbody>\n    <tr>\n      <th>ARTESIA, CA</th>\n      <td>Angeles Institute</td>\n      <td>ARTESIA</td>\n      <td>CA</td>\n      <td>0.0</td>\n      <td>0.0</td>\n      <td>0.0</td>\n      <td>0</td>\n      <td>NaN</td>\n      <td>NaN</td>\n      <td>0.0</td>\n      <td>...</td>\n      <td>0.0175</td>\n      <td>0.0088</td>\n      <td>0.0088</td>\n      <td>0.0000</td>\n      <td>1</td>\n      <td>0.6275</td>\n      <td>0.8138</td>\n      <td>0.5429</td>\n      <td>NaN</td>\n      <td>16850</td>\n    </tr>\n    <tr>\n      <th>Aberdeen, SD</th>\n      <td>Presentation College</td>\n      <td>Aberdeen</td>\n      <td>SD</td>\n      <td>0.0</td>\n      <td>0.0</td>\n      <td>0.0</td>\n      <td>1</td>\n      <td>440.0</td>\n      <td>480.0</td>\n      <td>0.0</td>\n      <td>...</td>\n      <td>0.0284</td>\n      <td>0.0142</td>\n      <td>0.0823</td>\n      <td>0.2865</td>\n      <td>1</td>\n      <td>0.4829</td>\n      <td>0.7560</td>\n      <td>0.3097</td>\n      <td>35900</td>\n      <td>25000</td>\n    </tr>\n    <tr>\n      <th>Aberdeen, SD</th>\n      <td>Northern State University</td>\n      <td>Aberdeen</td>\n      <td>SD</td>\n      <td>0.0</td>\n      <td>0.0</td>\n      <td>0.0</td>\n      <td>0</td>\n      <td>480.0</td>\n      <td>475.0</td>\n      <td>0.0</td>\n      <td>...</td>\n      <td>0.0219</td>\n      <td>0.0425</td>\n      <td>0.0024</td>\n      <td>0.1872</td>\n      <td>1</td>\n      <td>0.2272</td>\n      <td>0.4303</td>\n      <td>0.1766</td>\n      <td>33600</td>\n      <td>24847</td>\n    </tr>\n    <tr>\n      <th>Aberdeen, WA</th>\n      <td>Grays Harbor College</td>\n      <td>Aberdeen</td>\n      <td>WA</td>\n      <td>0.0</td>\n      <td>0.0</td>\n      <td>0.0</td>\n      <td>0</td>\n      <td>NaN</td>\n      <td>NaN</td>\n      <td>0.0</td>\n      <td>...</td>\n      <td>0.0937</td>\n      <td>0.0009</td>\n      <td>0.0250</td>\n      <td>0.1820</td>\n      <td>1</td>\n      <td>0.4530</td>\n      <td>0.1502</td>\n      <td>0.5087</td>\n      <td>27000</td>\n      <td>11490</td>\n    </tr>\n    <tr>\n      <th>Abilene, TX</th>\n      <td>Hardin-Simmons University</td>\n      <td>Abilene</td>\n      <td>TX</td>\n      <td>0.0</td>\n      <td>0.0</td>\n      <td>0.0</td>\n      <td>1</td>\n      <td>508.0</td>\n      <td>515.0</td>\n      <td>0.0</td>\n      <td>...</td>\n      <td>0.0298</td>\n      <td>0.0159</td>\n      <td>0.0102</td>\n      <td>0.0685</td>\n      <td>1</td>\n      <td>0.3256</td>\n      <td>0.5547</td>\n      <td>0.0982</td>\n      <td>38700</td>\n      <td>25864</td>\n    </tr>\n  </tbody>\n</table>\n<p>5 rows × 27 columns</p>\n</div>"
     },
     "execution_count": 18,
     "metadata": {},
     "output_type": "execute_result"
    }
   ],
   "source": [
    "college.index = college['CITY'] + ', ' + college['STABBR']\n",
    "college = college.sort_index()\n",
    "college.head()\n"
   ],
   "metadata": {
    "collapsed": false,
    "pycharm": {
     "name": "#%%\n"
    }
   }
  },
  {
   "cell_type": "markdown",
   "source": [
    "## Convirtiendo sentencias Where de SQL\n",
    "SQL es el lenguaje estándar para preguntar a las BBDD relacionales y todo buen analísta de datos debe\n",
    "conocerlo. Las sentencias SQL se pueden trasladar fácilmente a los Dataset."
   ],
   "metadata": {
    "collapsed": false
   }
  },
  {
   "cell_type": "code",
   "execution_count": 21,
   "outputs": [
    {
     "data": {
      "text/plain": "Houston Police Department-HPD     638\nHouston Fire Department (HFD)     384\nPublic Works & Engineering-PWE    343\nHealth & Human Services           110\nHouston Airport System (HAS)      106\nName: DEPARTMENT, dtype: int64"
     },
     "execution_count": 21,
     "metadata": {},
     "output_type": "execute_result"
    }
   ],
   "source": [
    "employee = pd.read_csv('data/employee.csv')\n",
    "employee.DEPARTMENT.value_counts().head()"
   ],
   "metadata": {
    "collapsed": false,
    "pycharm": {
     "name": "#%%\n"
    }
   }
  },
  {
   "cell_type": "code",
   "execution_count": 22,
   "outputs": [
    {
     "data": {
      "text/plain": "     UNIQUE_ID                     DEPARTMENT  GENDER  BASE_SALARY\n61          61  Houston Fire Department (HFD)  Female      96668.0\n136        136  Houston Police Department-HPD  Female      81239.0\n367        367  Houston Police Department-HPD  Female      86534.0\n474        474  Houston Police Department-HPD  Female      91181.0\n513        513  Houston Police Department-HPD  Female      81239.0",
      "text/html": "<div>\n<style scoped>\n    .dataframe tbody tr th:only-of-type {\n        vertical-align: middle;\n    }\n\n    .dataframe tbody tr th {\n        vertical-align: top;\n    }\n\n    .dataframe thead th {\n        text-align: right;\n    }\n</style>\n<table border=\"1\" class=\"dataframe\">\n  <thead>\n    <tr style=\"text-align: right;\">\n      <th></th>\n      <th>UNIQUE_ID</th>\n      <th>DEPARTMENT</th>\n      <th>GENDER</th>\n      <th>BASE_SALARY</th>\n    </tr>\n  </thead>\n  <tbody>\n    <tr>\n      <th>61</th>\n      <td>61</td>\n      <td>Houston Fire Department (HFD)</td>\n      <td>Female</td>\n      <td>96668.0</td>\n    </tr>\n    <tr>\n      <th>136</th>\n      <td>136</td>\n      <td>Houston Police Department-HPD</td>\n      <td>Female</td>\n      <td>81239.0</td>\n    </tr>\n    <tr>\n      <th>367</th>\n      <td>367</td>\n      <td>Houston Police Department-HPD</td>\n      <td>Female</td>\n      <td>86534.0</td>\n    </tr>\n    <tr>\n      <th>474</th>\n      <td>474</td>\n      <td>Houston Police Department-HPD</td>\n      <td>Female</td>\n      <td>91181.0</td>\n    </tr>\n    <tr>\n      <th>513</th>\n      <td>513</td>\n      <td>Houston Police Department-HPD</td>\n      <td>Female</td>\n      <td>81239.0</td>\n    </tr>\n  </tbody>\n</table>\n</div>"
     },
     "execution_count": 22,
     "metadata": {},
     "output_type": "execute_result"
    }
   ],
   "source": [
    "depts = ['Houston Police Department-HPD',\n",
    "             'Houston Fire Department (HFD)']\n",
    "criteria_dept = employee.DEPARTMENT.isin(depts)\n",
    "criteria_gender = employee.GENDER == 'Female'\n",
    "criteria_sal = (employee.BASE_SALARY >= 80000) & \\\n",
    "               (employee.BASE_SALARY <= 120000)\n",
    "criteria_final = criteria_dept & criteria_gender & criteria_sal\n",
    "select_columns = ['UNIQUE_ID', 'DEPARTMENT', 'GENDER', 'BASE_SALARY']\n",
    "employee.loc[criteria_final, select_columns].head()"
   ],
   "metadata": {
    "collapsed": false,
    "pycharm": {
     "name": "#%%\n"
    }
   }
  },
  {
   "cell_type": "code",
   "execution_count": 23,
   "outputs": [
    {
     "data": {
      "text/plain": "    UNIQUE_ID               POSITION_TITLE                   DEPARTMENT  \\\n0           0  ASSISTANT DIRECTOR (EX LVL)  Municipal Courts Department   \n1           1            LIBRARY ASSISTANT                      Library   \n4           4                  ELECTRICIAN  General Services Department   \n18         18     MAINTENANCE MECHANIC III  General Services Department   \n32         32            SENIOR ACCOUNTANT                      Finance   \n\n    BASE_SALARY                       RACE EMPLOYMENT_TYPE  GENDER  \\\n0      121862.0            Hispanic/Latino       Full Time  Female   \n1       26125.0            Hispanic/Latino       Full Time  Female   \n4       56347.0                      White       Full Time    Male   \n18      40581.0            Hispanic/Latino       Full Time    Male   \n32      46963.0  Black or African American       Full Time    Male   \n\n   EMPLOYMENT_STATUS   HIRE_DATE    JOB_DATE  \n0             Active  2006-06-12  2012-10-13  \n1             Active  2000-07-19  2010-09-18  \n4             Active  1989-06-19  1994-10-22  \n18            Active  2008-12-29  2008-12-29  \n32            Active  1991-02-11  2016-02-13  ",
      "text/html": "<div>\n<style scoped>\n    .dataframe tbody tr th:only-of-type {\n        vertical-align: middle;\n    }\n\n    .dataframe tbody tr th {\n        vertical-align: top;\n    }\n\n    .dataframe thead th {\n        text-align: right;\n    }\n</style>\n<table border=\"1\" class=\"dataframe\">\n  <thead>\n    <tr style=\"text-align: right;\">\n      <th></th>\n      <th>UNIQUE_ID</th>\n      <th>POSITION_TITLE</th>\n      <th>DEPARTMENT</th>\n      <th>BASE_SALARY</th>\n      <th>RACE</th>\n      <th>EMPLOYMENT_TYPE</th>\n      <th>GENDER</th>\n      <th>EMPLOYMENT_STATUS</th>\n      <th>HIRE_DATE</th>\n      <th>JOB_DATE</th>\n    </tr>\n  </thead>\n  <tbody>\n    <tr>\n      <th>0</th>\n      <td>0</td>\n      <td>ASSISTANT DIRECTOR (EX LVL)</td>\n      <td>Municipal Courts Department</td>\n      <td>121862.0</td>\n      <td>Hispanic/Latino</td>\n      <td>Full Time</td>\n      <td>Female</td>\n      <td>Active</td>\n      <td>2006-06-12</td>\n      <td>2012-10-13</td>\n    </tr>\n    <tr>\n      <th>1</th>\n      <td>1</td>\n      <td>LIBRARY ASSISTANT</td>\n      <td>Library</td>\n      <td>26125.0</td>\n      <td>Hispanic/Latino</td>\n      <td>Full Time</td>\n      <td>Female</td>\n      <td>Active</td>\n      <td>2000-07-19</td>\n      <td>2010-09-18</td>\n    </tr>\n    <tr>\n      <th>4</th>\n      <td>4</td>\n      <td>ELECTRICIAN</td>\n      <td>General Services Department</td>\n      <td>56347.0</td>\n      <td>White</td>\n      <td>Full Time</td>\n      <td>Male</td>\n      <td>Active</td>\n      <td>1989-06-19</td>\n      <td>1994-10-22</td>\n    </tr>\n    <tr>\n      <th>18</th>\n      <td>18</td>\n      <td>MAINTENANCE MECHANIC III</td>\n      <td>General Services Department</td>\n      <td>40581.0</td>\n      <td>Hispanic/Latino</td>\n      <td>Full Time</td>\n      <td>Male</td>\n      <td>Active</td>\n      <td>2008-12-29</td>\n      <td>2008-12-29</td>\n    </tr>\n    <tr>\n      <th>32</th>\n      <td>32</td>\n      <td>SENIOR ACCOUNTANT</td>\n      <td>Finance</td>\n      <td>46963.0</td>\n      <td>Black or African American</td>\n      <td>Full Time</td>\n      <td>Male</td>\n      <td>Active</td>\n      <td>1991-02-11</td>\n      <td>2016-02-13</td>\n    </tr>\n  </tbody>\n</table>\n</div>"
     },
     "execution_count": 23,
     "metadata": {},
     "output_type": "execute_result"
    }
   ],
   "source": [
    "criteria_sal = employee.BASE_SALARY.between(80000, 120000)\n",
    "top_5_depts = employee.DEPARTMENT.value_counts().index[:5]\n",
    "criteria = ~employee.DEPARTMENT.isin(top_5_depts) # No esté en los cinco primeros\n",
    "employee[criteria].head()"
   ],
   "metadata": {
    "collapsed": false,
    "pycharm": {
     "name": "#%%\n"
    }
   }
  },
  {
   "cell_type": "markdown",
   "source": [
    "## Mejora de la trazabilidad usando el método querry\n",
    "Podemos usar el método query para mejorar la creación de filtros basados en texto."
   ],
   "metadata": {
    "collapsed": false,
    "pycharm": {
     "name": "#%% md\n"
    }
   }
  },
  {
   "cell_type": "code",
   "execution_count": 24,
   "outputs": [
    {
     "data": {
      "text/plain": "     UNIQUE_ID                     DEPARTMENT  GENDER  BASE_SALARY\n61          61  Houston Fire Department (HFD)  Female      96668.0\n136        136  Houston Police Department-HPD  Female      81239.0\n367        367  Houston Police Department-HPD  Female      86534.0\n474        474  Houston Police Department-HPD  Female      91181.0\n513        513  Houston Police Department-HPD  Female      81239.0",
      "text/html": "<div>\n<style scoped>\n    .dataframe tbody tr th:only-of-type {\n        vertical-align: middle;\n    }\n\n    .dataframe tbody tr th {\n        vertical-align: top;\n    }\n\n    .dataframe thead th {\n        text-align: right;\n    }\n</style>\n<table border=\"1\" class=\"dataframe\">\n  <thead>\n    <tr style=\"text-align: right;\">\n      <th></th>\n      <th>UNIQUE_ID</th>\n      <th>DEPARTMENT</th>\n      <th>GENDER</th>\n      <th>BASE_SALARY</th>\n    </tr>\n  </thead>\n  <tbody>\n    <tr>\n      <th>61</th>\n      <td>61</td>\n      <td>Houston Fire Department (HFD)</td>\n      <td>Female</td>\n      <td>96668.0</td>\n    </tr>\n    <tr>\n      <th>136</th>\n      <td>136</td>\n      <td>Houston Police Department-HPD</td>\n      <td>Female</td>\n      <td>81239.0</td>\n    </tr>\n    <tr>\n      <th>367</th>\n      <td>367</td>\n      <td>Houston Police Department-HPD</td>\n      <td>Female</td>\n      <td>86534.0</td>\n    </tr>\n    <tr>\n      <th>474</th>\n      <td>474</td>\n      <td>Houston Police Department-HPD</td>\n      <td>Female</td>\n      <td>91181.0</td>\n    </tr>\n    <tr>\n      <th>513</th>\n      <td>513</td>\n      <td>Houston Police Department-HPD</td>\n      <td>Female</td>\n      <td>81239.0</td>\n    </tr>\n  </tbody>\n</table>\n</div>"
     },
     "execution_count": 24,
     "metadata": {},
     "output_type": "execute_result"
    }
   ],
   "source": [
    "employee = pd.read_csv('data/employee.csv')\n",
    "depts = ['Houston Police Department-HPD', 'Houston Fire Department (HFD)']\n",
    "select_columns = ['UNIQUE_ID', 'DEPARTMENT', 'GENDER', 'BASE_SALARY']\n",
    "qs = \"DEPARTMENT in @depts \" \\\n",
    "         \"and GENDER == 'Female' \" \\\n",
    "         \"and 80000 <= BASE_SALARY <= 120000\"\n",
    "\n",
    "emp_filtered = employee.query(qs)\n",
    "emp_filtered[select_columns].head()"
   ],
   "metadata": {
    "collapsed": false,
    "pycharm": {
     "name": "#%%\n"
    }
   }
  },
  {
   "cell_type": "markdown",
   "source": [
    "## Preservando el tamaño del dataset con where\n",
    "El filtrado generalmente elimina las filas del dataset, con el método **where** preservamos el tamaño del\n",
    "dataaset y seleccionamos solo aquellas filas que cumplen el criterio creando Nands en las que no cumplen\n",
    "el criterio."
   ],
   "metadata": {
    "collapsed": false,
    "pycharm": {
     "name": "#%% md\n"
    }
   }
  },
  {
   "cell_type": "code",
   "execution_count": 25,
   "outputs": [
    {
     "data": {
      "text/plain": "movie_title\nAvatar                                         1000.0\nPirates of the Caribbean: At World's End          NaN\nSpectre                                       11000.0\nThe Dark Knight Rises                             NaN\nStar Wars: Episode VII - The Force Awakens      131.0\nName: actor_1_facebook_likes, dtype: float64"
     },
     "execution_count": 25,
     "metadata": {},
     "output_type": "execute_result"
    }
   ],
   "source": [
    "movies = pd.read_csv('data/movie.csv', index_col='movie_title')\n",
    "fb_likes = movies['actor_1_facebook_likes'].dropna()\n",
    "fb_likes.head()\n",
    "criteria_high = fb_likes < 20000\n",
    "fb_likes.where(criteria_high).head()"
   ],
   "metadata": {
    "collapsed": false,
    "pycharm": {
     "name": "#%%\n"
    }
   }
  },
  {
   "cell_type": "code",
   "execution_count": 26,
   "outputs": [
    {
     "data": {
      "text/plain": "movie_title\nAvatar                                         1000.0\nPirates of the Caribbean: At World's End      20000.0\nSpectre                                       11000.0\nThe Dark Knight Rises                         20000.0\nStar Wars: Episode VII - The Force Awakens      131.0\nName: actor_1_facebook_likes, dtype: float64"
     },
     "execution_count": 26,
     "metadata": {},
     "output_type": "execute_result"
    }
   ],
   "source": [
    "#where permite sustituir los Nan por un valor por defecto\n",
    "fb_likes.where(criteria_high, other=20000).head()"
   ],
   "metadata": {
    "collapsed": false,
    "pycharm": {
     "name": "#%%\n"
    }
   }
  },
  {
   "cell_type": "markdown",
   "source": [
    "Pandas incorpora los mérodos clip, clip_lower y clip_upper para establecer límites de recorte en la selección\n",
    "de filas. https://pandas.pydata.org/docs/reference/api/pandas.DataFrame.clip.html"
   ],
   "metadata": {
    "collapsed": false,
    "pycharm": {
     "name": "#%% md\n"
    }
   }
  },
  {
   "cell_type": "markdown",
   "source": [
    "## Enmascarando filas\n",
    "El método **mask** permite hacer lo contrario que where, es decir crea valores vacíos donde el filtro es True"
   ],
   "metadata": {
    "collapsed": false
   }
  },
  {
   "cell_type": "code",
   "execution_count": 27,
   "outputs": [
    {
     "data": {
      "text/plain": "                                            color   director_name  \\\nmovie_title                                                         \nAvatar                                      Color   James Cameron   \nPirates of the Caribbean: At World's End    Color  Gore Verbinski   \nSpectre                                       NaN             NaN   \nThe Dark Knight Rises                         NaN             NaN   \nStar Wars: Episode VII - The Force Awakens    NaN             NaN   \n\n                                            num_critic_for_reviews  duration  \\\nmovie_title                                                                    \nAvatar                                                       723.0     178.0   \nPirates of the Caribbean: At World's End                     302.0     169.0   \nSpectre                                                        NaN       NaN   \nThe Dark Knight Rises                                          NaN       NaN   \nStar Wars: Episode VII - The Force Awakens                     NaN       NaN   \n\n                                            director_facebook_likes  \\\nmovie_title                                                           \nAvatar                                                          0.0   \nPirates of the Caribbean: At World's End                      563.0   \nSpectre                                                         NaN   \nThe Dark Knight Rises                                           NaN   \nStar Wars: Episode VII - The Force Awakens                      NaN   \n\n                                            actor_3_facebook_likes  \\\nmovie_title                                                          \nAvatar                                                       855.0   \nPirates of the Caribbean: At World's End                    1000.0   \nSpectre                                                        NaN   \nThe Dark Knight Rises                                          NaN   \nStar Wars: Episode VII - The Force Awakens                     NaN   \n\n                                                actor_2_name  \\\nmovie_title                                                    \nAvatar                                      Joel David Moore   \nPirates of the Caribbean: At World's End       Orlando Bloom   \nSpectre                                                  NaN   \nThe Dark Knight Rises                                    NaN   \nStar Wars: Episode VII - The Force Awakens               NaN   \n\n                                            actor_1_facebook_likes  \\\nmovie_title                                                          \nAvatar                                                      1000.0   \nPirates of the Caribbean: At World's End                   40000.0   \nSpectre                                                        NaN   \nThe Dark Knight Rises                                          NaN   \nStar Wars: Episode VII - The Force Awakens                     NaN   \n\n                                                  gross  \\\nmovie_title                                               \nAvatar                                      760505847.0   \nPirates of the Caribbean: At World's End    309404152.0   \nSpectre                                             NaN   \nThe Dark Knight Rises                               NaN   \nStar Wars: Episode VII - The Force Awakens          NaN   \n\n                                                                     genres  \\\nmovie_title                                                                   \nAvatar                                      Action|Adventure|Fantasy|Sci-Fi   \nPirates of the Caribbean: At World's End           Action|Adventure|Fantasy   \nSpectre                                                                 NaN   \nThe Dark Knight Rises                                                   NaN   \nStar Wars: Episode VII - The Force Awakens                              NaN   \n\n                                            ... num_user_for_reviews  \\\nmovie_title                                 ...                        \nAvatar                                      ...               3054.0   \nPirates of the Caribbean: At World's End    ...               1238.0   \nSpectre                                     ...                  NaN   \nThe Dark Knight Rises                       ...                  NaN   \nStar Wars: Episode VII - The Force Awakens  ...                  NaN   \n\n                                            language  country content_rating  \\\nmovie_title                                                                    \nAvatar                                       English      USA          PG-13   \nPirates of the Caribbean: At World's End     English      USA          PG-13   \nSpectre                                          NaN      NaN            NaN   \nThe Dark Knight Rises                            NaN      NaN            NaN   \nStar Wars: Episode VII - The Force Awakens       NaN      NaN            NaN   \n\n                                                 budget title_year  \\\nmovie_title                                                          \nAvatar                                      237000000.0     2009.0   \nPirates of the Caribbean: At World's End    300000000.0     2007.0   \nSpectre                                             NaN        NaN   \nThe Dark Knight Rises                               NaN        NaN   \nStar Wars: Episode VII - The Force Awakens          NaN        NaN   \n\n                                           actor_2_facebook_likes  imdb_score  \\\nmovie_title                                                                     \nAvatar                                                      936.0         7.9   \nPirates of the Caribbean: At World's End                   5000.0         7.1   \nSpectre                                                       NaN         NaN   \nThe Dark Knight Rises                                         NaN         NaN   \nStar Wars: Episode VII - The Force Awakens                    NaN         NaN   \n\n                                           aspect_ratio movie_facebook_likes  \nmovie_title                                                                   \nAvatar                                             1.78              33000.0  \nPirates of the Caribbean: At World's End           2.35                  0.0  \nSpectre                                             NaN                  NaN  \nThe Dark Knight Rises                               NaN                  NaN  \nStar Wars: Episode VII - The Force Awakens          NaN                  NaN  \n\n[5 rows x 27 columns]",
      "text/html": "<div>\n<style scoped>\n    .dataframe tbody tr th:only-of-type {\n        vertical-align: middle;\n    }\n\n    .dataframe tbody tr th {\n        vertical-align: top;\n    }\n\n    .dataframe thead th {\n        text-align: right;\n    }\n</style>\n<table border=\"1\" class=\"dataframe\">\n  <thead>\n    <tr style=\"text-align: right;\">\n      <th></th>\n      <th>color</th>\n      <th>director_name</th>\n      <th>num_critic_for_reviews</th>\n      <th>duration</th>\n      <th>director_facebook_likes</th>\n      <th>actor_3_facebook_likes</th>\n      <th>actor_2_name</th>\n      <th>actor_1_facebook_likes</th>\n      <th>gross</th>\n      <th>genres</th>\n      <th>...</th>\n      <th>num_user_for_reviews</th>\n      <th>language</th>\n      <th>country</th>\n      <th>content_rating</th>\n      <th>budget</th>\n      <th>title_year</th>\n      <th>actor_2_facebook_likes</th>\n      <th>imdb_score</th>\n      <th>aspect_ratio</th>\n      <th>movie_facebook_likes</th>\n    </tr>\n    <tr>\n      <th>movie_title</th>\n      <th></th>\n      <th></th>\n      <th></th>\n      <th></th>\n      <th></th>\n      <th></th>\n      <th></th>\n      <th></th>\n      <th></th>\n      <th></th>\n      <th></th>\n      <th></th>\n      <th></th>\n      <th></th>\n      <th></th>\n      <th></th>\n      <th></th>\n      <th></th>\n      <th></th>\n      <th></th>\n      <th></th>\n    </tr>\n  </thead>\n  <tbody>\n    <tr>\n      <th>Avatar</th>\n      <td>Color</td>\n      <td>James Cameron</td>\n      <td>723.0</td>\n      <td>178.0</td>\n      <td>0.0</td>\n      <td>855.0</td>\n      <td>Joel David Moore</td>\n      <td>1000.0</td>\n      <td>760505847.0</td>\n      <td>Action|Adventure|Fantasy|Sci-Fi</td>\n      <td>...</td>\n      <td>3054.0</td>\n      <td>English</td>\n      <td>USA</td>\n      <td>PG-13</td>\n      <td>237000000.0</td>\n      <td>2009.0</td>\n      <td>936.0</td>\n      <td>7.9</td>\n      <td>1.78</td>\n      <td>33000.0</td>\n    </tr>\n    <tr>\n      <th>Pirates of the Caribbean: At World's End</th>\n      <td>Color</td>\n      <td>Gore Verbinski</td>\n      <td>302.0</td>\n      <td>169.0</td>\n      <td>563.0</td>\n      <td>1000.0</td>\n      <td>Orlando Bloom</td>\n      <td>40000.0</td>\n      <td>309404152.0</td>\n      <td>Action|Adventure|Fantasy</td>\n      <td>...</td>\n      <td>1238.0</td>\n      <td>English</td>\n      <td>USA</td>\n      <td>PG-13</td>\n      <td>300000000.0</td>\n      <td>2007.0</td>\n      <td>5000.0</td>\n      <td>7.1</td>\n      <td>2.35</td>\n      <td>0.0</td>\n    </tr>\n    <tr>\n      <th>Spectre</th>\n      <td>NaN</td>\n      <td>NaN</td>\n      <td>NaN</td>\n      <td>NaN</td>\n      <td>NaN</td>\n      <td>NaN</td>\n      <td>NaN</td>\n      <td>NaN</td>\n      <td>NaN</td>\n      <td>NaN</td>\n      <td>...</td>\n      <td>NaN</td>\n      <td>NaN</td>\n      <td>NaN</td>\n      <td>NaN</td>\n      <td>NaN</td>\n      <td>NaN</td>\n      <td>NaN</td>\n      <td>NaN</td>\n      <td>NaN</td>\n      <td>NaN</td>\n    </tr>\n    <tr>\n      <th>The Dark Knight Rises</th>\n      <td>NaN</td>\n      <td>NaN</td>\n      <td>NaN</td>\n      <td>NaN</td>\n      <td>NaN</td>\n      <td>NaN</td>\n      <td>NaN</td>\n      <td>NaN</td>\n      <td>NaN</td>\n      <td>NaN</td>\n      <td>...</td>\n      <td>NaN</td>\n      <td>NaN</td>\n      <td>NaN</td>\n      <td>NaN</td>\n      <td>NaN</td>\n      <td>NaN</td>\n      <td>NaN</td>\n      <td>NaN</td>\n      <td>NaN</td>\n      <td>NaN</td>\n    </tr>\n    <tr>\n      <th>Star Wars: Episode VII - The Force Awakens</th>\n      <td>NaN</td>\n      <td>NaN</td>\n      <td>NaN</td>\n      <td>NaN</td>\n      <td>NaN</td>\n      <td>NaN</td>\n      <td>NaN</td>\n      <td>NaN</td>\n      <td>NaN</td>\n      <td>NaN</td>\n      <td>...</td>\n      <td>NaN</td>\n      <td>NaN</td>\n      <td>NaN</td>\n      <td>NaN</td>\n      <td>NaN</td>\n      <td>NaN</td>\n      <td>NaN</td>\n      <td>NaN</td>\n      <td>NaN</td>\n      <td>NaN</td>\n    </tr>\n  </tbody>\n</table>\n<p>5 rows × 27 columns</p>\n</div>"
     },
     "execution_count": 27,
     "metadata": {},
     "output_type": "execute_result"
    }
   ],
   "source": [
    "c1 = movies['title_year'] >= 2010\n",
    "c2 = movies['title_year'].isnull()\n",
    "criteria = c1 | c2\n",
    "movies.mask(criteria).head()"
   ],
   "metadata": {
    "collapsed": false,
    "pycharm": {
     "name": "#%%\n"
    }
   }
  },
  {
   "cell_type": "markdown",
   "source": [
    "## Uso de filtros con **loc** e **iloc**\n",
    "Los filtros vistos hasta ahora se pueden usar de la misma manera con la función **loc**. Si usamos la misma\n",
    "técnica con la función **iloc** debemos de tener en cuenta que esta función usa un narray como parámetro con\n",
    "lo que será necesario acceder mediante **.values** al array de filtrado."
   ],
   "metadata": {
    "collapsed": false,
    "pycharm": {
     "name": "#%% md\n"
    }
   }
  },
  {
   "cell_type": "code",
   "execution_count": 28,
   "outputs": [
    {
     "data": {
      "text/plain": "                                color     director_name  \\\nmovie_title                                               \nThe True Story of Puss'N Boots  Color  Jérôme Deschamps   \nDoogal                          Color    Dave Borthwick   \nThomas and the Magic Railroad   Color    Britt Allcroft   \nBarney's Great Adventure        Color       Steve Gomer   \nJustin Bieber: Never Say Never  Color        Jon M. Chu   \n\n                                num_critic_for_reviews  duration  \\\nmovie_title                                                        \nThe True Story of Puss'N Boots                     4.0      80.0   \nDoogal                                            31.0      77.0   \nThomas and the Magic Railroad                     47.0      85.0   \nBarney's Great Adventure                          24.0      76.0   \nJustin Bieber: Never Say Never                    84.0     115.0   \n\n                                director_facebook_likes  \\\nmovie_title                                               \nThe True Story of Puss'N Boots                      0.0   \nDoogal                                              3.0   \nThomas and the Magic Railroad                       2.0   \nBarney's Great Adventure                            9.0   \nJustin Bieber: Never Say Never                    209.0   \n\n                                actor_3_facebook_likes   actor_2_name  \\\nmovie_title                                                             \nThe True Story of Puss'N Boots                     0.0    André Wilms   \nDoogal                                           593.0  Kylie Minogue   \nThomas and the Magic Railroad                    402.0     Colm Feore   \nBarney's Great Adventure                          47.0     Kyla Pratt   \nJustin Bieber: Never Say Never                    41.0  Sean Kingston   \n\n                                actor_1_facebook_likes       gross  \\\nmovie_title                                                          \nThe True Story of Puss'N Boots                    44.0         NaN   \nDoogal                                           787.0   7382993.0   \nThomas and the Magic Railroad                   1000.0  15911333.0   \nBarney's Great Adventure                         595.0  11144518.0   \nJustin Bieber: Never Say Never                   569.0  73000942.0   \n\n                                                                   genres  \\\nmovie_title                                                                 \nThe True Story of Puss'N Boots                 Adventure|Animation|Comedy   \nDoogal                          Adventure|Animation|Comedy|Family|Fantasy   \nThomas and the Magic Railroad       Adventure|Comedy|Drama|Family|Fantasy   \nBarney's Great Adventure                                 Adventure|Family   \nJustin Bieber: Never Say Never                          Documentary|Music   \n\n                                ... num_user_for_reviews  language  country  \\\nmovie_title                     ...                                           \nThe True Story of Puss'N Boots  ...                 24.0   English   France   \nDoogal                          ...                114.0   English      USA   \nThomas and the Magic Railroad   ...                119.0   English       UK   \nBarney's Great Adventure        ...                 53.0   English   Canada   \nJustin Bieber: Never Say Never  ...                233.0   English      USA   \n\n                               content_rating      budget title_year  \\\nmovie_title                                                            \nThe True Story of Puss'N Boots              G  25000000.0     2009.0   \nDoogal                                      G  20000000.0     2006.0   \nThomas and the Magic Railroad               G  19000000.0     2000.0   \nBarney's Great Adventure                    G  15000000.0     1998.0   \nJustin Bieber: Never Say Never              G  13000000.0     2011.0   \n\n                               actor_2_facebook_likes  imdb_score  \\\nmovie_title                                                         \nThe True Story of Puss'N Boots                    9.0         2.9   \nDoogal                                          690.0         2.8   \nThomas and the Magic Railroad                   539.0         3.6   \nBarney's Great Adventure                        417.0         2.8   \nJustin Bieber: Never Say Never                   69.0         1.6   \n\n                               aspect_ratio movie_facebook_likes  \nmovie_title                                                       \nThe True Story of Puss'N Boots          NaN                   90  \nDoogal                                 1.85                  346  \nThomas and the Magic Railroad          1.85                  663  \nBarney's Great Adventure               1.85                  436  \nJustin Bieber: Never Say Never         1.85                62000  \n\n[5 rows x 27 columns]",
      "text/html": "<div>\n<style scoped>\n    .dataframe tbody tr th:only-of-type {\n        vertical-align: middle;\n    }\n\n    .dataframe tbody tr th {\n        vertical-align: top;\n    }\n\n    .dataframe thead th {\n        text-align: right;\n    }\n</style>\n<table border=\"1\" class=\"dataframe\">\n  <thead>\n    <tr style=\"text-align: right;\">\n      <th></th>\n      <th>color</th>\n      <th>director_name</th>\n      <th>num_critic_for_reviews</th>\n      <th>duration</th>\n      <th>director_facebook_likes</th>\n      <th>actor_3_facebook_likes</th>\n      <th>actor_2_name</th>\n      <th>actor_1_facebook_likes</th>\n      <th>gross</th>\n      <th>genres</th>\n      <th>...</th>\n      <th>num_user_for_reviews</th>\n      <th>language</th>\n      <th>country</th>\n      <th>content_rating</th>\n      <th>budget</th>\n      <th>title_year</th>\n      <th>actor_2_facebook_likes</th>\n      <th>imdb_score</th>\n      <th>aspect_ratio</th>\n      <th>movie_facebook_likes</th>\n    </tr>\n    <tr>\n      <th>movie_title</th>\n      <th></th>\n      <th></th>\n      <th></th>\n      <th></th>\n      <th></th>\n      <th></th>\n      <th></th>\n      <th></th>\n      <th></th>\n      <th></th>\n      <th></th>\n      <th></th>\n      <th></th>\n      <th></th>\n      <th></th>\n      <th></th>\n      <th></th>\n      <th></th>\n      <th></th>\n      <th></th>\n      <th></th>\n    </tr>\n  </thead>\n  <tbody>\n    <tr>\n      <th>The True Story of Puss'N Boots</th>\n      <td>Color</td>\n      <td>Jérôme Deschamps</td>\n      <td>4.0</td>\n      <td>80.0</td>\n      <td>0.0</td>\n      <td>0.0</td>\n      <td>André Wilms</td>\n      <td>44.0</td>\n      <td>NaN</td>\n      <td>Adventure|Animation|Comedy</td>\n      <td>...</td>\n      <td>24.0</td>\n      <td>English</td>\n      <td>France</td>\n      <td>G</td>\n      <td>25000000.0</td>\n      <td>2009.0</td>\n      <td>9.0</td>\n      <td>2.9</td>\n      <td>NaN</td>\n      <td>90</td>\n    </tr>\n    <tr>\n      <th>Doogal</th>\n      <td>Color</td>\n      <td>Dave Borthwick</td>\n      <td>31.0</td>\n      <td>77.0</td>\n      <td>3.0</td>\n      <td>593.0</td>\n      <td>Kylie Minogue</td>\n      <td>787.0</td>\n      <td>7382993.0</td>\n      <td>Adventure|Animation|Comedy|Family|Fantasy</td>\n      <td>...</td>\n      <td>114.0</td>\n      <td>English</td>\n      <td>USA</td>\n      <td>G</td>\n      <td>20000000.0</td>\n      <td>2006.0</td>\n      <td>690.0</td>\n      <td>2.8</td>\n      <td>1.85</td>\n      <td>346</td>\n    </tr>\n    <tr>\n      <th>Thomas and the Magic Railroad</th>\n      <td>Color</td>\n      <td>Britt Allcroft</td>\n      <td>47.0</td>\n      <td>85.0</td>\n      <td>2.0</td>\n      <td>402.0</td>\n      <td>Colm Feore</td>\n      <td>1000.0</td>\n      <td>15911333.0</td>\n      <td>Adventure|Comedy|Drama|Family|Fantasy</td>\n      <td>...</td>\n      <td>119.0</td>\n      <td>English</td>\n      <td>UK</td>\n      <td>G</td>\n      <td>19000000.0</td>\n      <td>2000.0</td>\n      <td>539.0</td>\n      <td>3.6</td>\n      <td>1.85</td>\n      <td>663</td>\n    </tr>\n    <tr>\n      <th>Barney's Great Adventure</th>\n      <td>Color</td>\n      <td>Steve Gomer</td>\n      <td>24.0</td>\n      <td>76.0</td>\n      <td>9.0</td>\n      <td>47.0</td>\n      <td>Kyla Pratt</td>\n      <td>595.0</td>\n      <td>11144518.0</td>\n      <td>Adventure|Family</td>\n      <td>...</td>\n      <td>53.0</td>\n      <td>English</td>\n      <td>Canada</td>\n      <td>G</td>\n      <td>15000000.0</td>\n      <td>1998.0</td>\n      <td>417.0</td>\n      <td>2.8</td>\n      <td>1.85</td>\n      <td>436</td>\n    </tr>\n    <tr>\n      <th>Justin Bieber: Never Say Never</th>\n      <td>Color</td>\n      <td>Jon M. Chu</td>\n      <td>84.0</td>\n      <td>115.0</td>\n      <td>209.0</td>\n      <td>41.0</td>\n      <td>Sean Kingston</td>\n      <td>569.0</td>\n      <td>73000942.0</td>\n      <td>Documentary|Music</td>\n      <td>...</td>\n      <td>233.0</td>\n      <td>English</td>\n      <td>USA</td>\n      <td>G</td>\n      <td>13000000.0</td>\n      <td>2011.0</td>\n      <td>69.0</td>\n      <td>1.6</td>\n      <td>1.85</td>\n      <td>62000</td>\n    </tr>\n  </tbody>\n</table>\n<p>5 rows × 27 columns</p>\n</div>"
     },
     "execution_count": 28,
     "metadata": {},
     "output_type": "execute_result"
    }
   ],
   "source": [
    "c1 = movies['content_rating'] == 'G'\n",
    "c2 = movies['imdb_score'] < 4\n",
    "criteria = c1 & c2\n",
    "movie_loc = movies.loc[criteria]\n",
    "movie_loc.head()"
   ],
   "metadata": {
    "collapsed": false,
    "pycharm": {
     "name": "#%%\n"
    }
   }
  },
  {
   "cell_type": "code",
   "execution_count": 30,
   "outputs": [
    {
     "ename": "ValueError",
     "evalue": "iLocation based boolean indexing cannot use an indexable as a mask",
     "output_type": "error",
     "traceback": [
      "\u001B[1;31m---------------------------------------------------------------------------\u001B[0m",
      "\u001B[1;31mValueError\u001B[0m                                Traceback (most recent call last)",
      "\u001B[1;32m<ipython-input-30-46520cca0dc6>\u001B[0m in \u001B[0;36m<module>\u001B[1;34m\u001B[0m\n\u001B[1;32m----> 1\u001B[1;33m \u001B[0mmovies\u001B[0m\u001B[1;33m.\u001B[0m\u001B[0miloc\u001B[0m\u001B[1;33m[\u001B[0m\u001B[0mcriteria\u001B[0m\u001B[1;33m]\u001B[0m\u001B[1;33m\u001B[0m\u001B[1;33m\u001B[0m\u001B[0m\n\u001B[0m\u001B[0;32m      2\u001B[0m \u001B[1;33m\u001B[0m\u001B[0m\n",
      "\u001B[1;32mc:\\python\\proyectos\\venv\\lib\\site-packages\\pandas\\core\\indexing.py\u001B[0m in \u001B[0;36m__getitem__\u001B[1;34m(self, key)\u001B[0m\n\u001B[0;32m    893\u001B[0m \u001B[1;33m\u001B[0m\u001B[0m\n\u001B[0;32m    894\u001B[0m             \u001B[0mmaybe_callable\u001B[0m \u001B[1;33m=\u001B[0m \u001B[0mcom\u001B[0m\u001B[1;33m.\u001B[0m\u001B[0mapply_if_callable\u001B[0m\u001B[1;33m(\u001B[0m\u001B[0mkey\u001B[0m\u001B[1;33m,\u001B[0m \u001B[0mself\u001B[0m\u001B[1;33m.\u001B[0m\u001B[0mobj\u001B[0m\u001B[1;33m)\u001B[0m\u001B[1;33m\u001B[0m\u001B[1;33m\u001B[0m\u001B[0m\n\u001B[1;32m--> 895\u001B[1;33m             \u001B[1;32mreturn\u001B[0m \u001B[0mself\u001B[0m\u001B[1;33m.\u001B[0m\u001B[0m_getitem_axis\u001B[0m\u001B[1;33m(\u001B[0m\u001B[0mmaybe_callable\u001B[0m\u001B[1;33m,\u001B[0m \u001B[0maxis\u001B[0m\u001B[1;33m=\u001B[0m\u001B[0maxis\u001B[0m\u001B[1;33m)\u001B[0m\u001B[1;33m\u001B[0m\u001B[1;33m\u001B[0m\u001B[0m\n\u001B[0m\u001B[0;32m    896\u001B[0m \u001B[1;33m\u001B[0m\u001B[0m\n\u001B[0;32m    897\u001B[0m     \u001B[1;32mdef\u001B[0m \u001B[0m_is_scalar_access\u001B[0m\u001B[1;33m(\u001B[0m\u001B[0mself\u001B[0m\u001B[1;33m,\u001B[0m \u001B[0mkey\u001B[0m\u001B[1;33m:\u001B[0m \u001B[0mTuple\u001B[0m\u001B[1;33m)\u001B[0m\u001B[1;33m:\u001B[0m\u001B[1;33m\u001B[0m\u001B[1;33m\u001B[0m\u001B[0m\n",
      "\u001B[1;32mc:\\python\\proyectos\\venv\\lib\\site-packages\\pandas\\core\\indexing.py\u001B[0m in \u001B[0;36m_getitem_axis\u001B[1;34m(self, key, axis)\u001B[0m\n\u001B[0;32m   1485\u001B[0m \u001B[1;33m\u001B[0m\u001B[0m\n\u001B[0;32m   1486\u001B[0m         \u001B[1;32mif\u001B[0m \u001B[0mcom\u001B[0m\u001B[1;33m.\u001B[0m\u001B[0mis_bool_indexer\u001B[0m\u001B[1;33m(\u001B[0m\u001B[0mkey\u001B[0m\u001B[1;33m)\u001B[0m\u001B[1;33m:\u001B[0m\u001B[1;33m\u001B[0m\u001B[1;33m\u001B[0m\u001B[0m\n\u001B[1;32m-> 1487\u001B[1;33m             \u001B[0mself\u001B[0m\u001B[1;33m.\u001B[0m\u001B[0m_validate_key\u001B[0m\u001B[1;33m(\u001B[0m\u001B[0mkey\u001B[0m\u001B[1;33m,\u001B[0m \u001B[0maxis\u001B[0m\u001B[1;33m)\u001B[0m\u001B[1;33m\u001B[0m\u001B[1;33m\u001B[0m\u001B[0m\n\u001B[0m\u001B[0;32m   1488\u001B[0m             \u001B[1;32mreturn\u001B[0m \u001B[0mself\u001B[0m\u001B[1;33m.\u001B[0m\u001B[0m_getbool_axis\u001B[0m\u001B[1;33m(\u001B[0m\u001B[0mkey\u001B[0m\u001B[1;33m,\u001B[0m \u001B[0maxis\u001B[0m\u001B[1;33m=\u001B[0m\u001B[0maxis\u001B[0m\u001B[1;33m)\u001B[0m\u001B[1;33m\u001B[0m\u001B[1;33m\u001B[0m\u001B[0m\n\u001B[0;32m   1489\u001B[0m \u001B[1;33m\u001B[0m\u001B[0m\n",
      "\u001B[1;32mc:\\python\\proyectos\\venv\\lib\\site-packages\\pandas\\core\\indexing.py\u001B[0m in \u001B[0;36m_validate_key\u001B[1;34m(self, key, axis)\u001B[0m\n\u001B[0;32m   1347\u001B[0m                         \u001B[1;34m\"is not available\"\u001B[0m\u001B[1;33m\u001B[0m\u001B[1;33m\u001B[0m\u001B[0m\n\u001B[0;32m   1348\u001B[0m                     )\n\u001B[1;32m-> 1349\u001B[1;33m                 raise ValueError(\n\u001B[0m\u001B[0;32m   1350\u001B[0m                     \u001B[1;34m\"iLocation based boolean indexing cannot use \"\u001B[0m\u001B[1;33m\u001B[0m\u001B[1;33m\u001B[0m\u001B[0m\n\u001B[0;32m   1351\u001B[0m                     \u001B[1;34m\"an indexable as a mask\"\u001B[0m\u001B[1;33m\u001B[0m\u001B[1;33m\u001B[0m\u001B[0m\n",
      "\u001B[1;31mValueError\u001B[0m: iLocation based boolean indexing cannot use an indexable as a mask"
     ]
    }
   ],
   "source": [
    "movies.iloc[criteria].head()"
   ],
   "metadata": {
    "collapsed": false,
    "pycharm": {
     "name": "#%%\n"
    }
   }
  },
  {
   "cell_type": "code",
   "execution_count": 31,
   "outputs": [
    {
     "data": {
      "text/plain": "                                color     director_name  \\\nmovie_title                                               \nThe True Story of Puss'N Boots  Color  Jérôme Deschamps   \nDoogal                          Color    Dave Borthwick   \nThomas and the Magic Railroad   Color    Britt Allcroft   \nBarney's Great Adventure        Color       Steve Gomer   \nJustin Bieber: Never Say Never  Color        Jon M. Chu   \n\n                                num_critic_for_reviews  duration  \\\nmovie_title                                                        \nThe True Story of Puss'N Boots                     4.0      80.0   \nDoogal                                            31.0      77.0   \nThomas and the Magic Railroad                     47.0      85.0   \nBarney's Great Adventure                          24.0      76.0   \nJustin Bieber: Never Say Never                    84.0     115.0   \n\n                                director_facebook_likes  \\\nmovie_title                                               \nThe True Story of Puss'N Boots                      0.0   \nDoogal                                              3.0   \nThomas and the Magic Railroad                       2.0   \nBarney's Great Adventure                            9.0   \nJustin Bieber: Never Say Never                    209.0   \n\n                                actor_3_facebook_likes   actor_2_name  \\\nmovie_title                                                             \nThe True Story of Puss'N Boots                     0.0    André Wilms   \nDoogal                                           593.0  Kylie Minogue   \nThomas and the Magic Railroad                    402.0     Colm Feore   \nBarney's Great Adventure                          47.0     Kyla Pratt   \nJustin Bieber: Never Say Never                    41.0  Sean Kingston   \n\n                                actor_1_facebook_likes       gross  \\\nmovie_title                                                          \nThe True Story of Puss'N Boots                    44.0         NaN   \nDoogal                                           787.0   7382993.0   \nThomas and the Magic Railroad                   1000.0  15911333.0   \nBarney's Great Adventure                         595.0  11144518.0   \nJustin Bieber: Never Say Never                   569.0  73000942.0   \n\n                                                                   genres  \\\nmovie_title                                                                 \nThe True Story of Puss'N Boots                 Adventure|Animation|Comedy   \nDoogal                          Adventure|Animation|Comedy|Family|Fantasy   \nThomas and the Magic Railroad       Adventure|Comedy|Drama|Family|Fantasy   \nBarney's Great Adventure                                 Adventure|Family   \nJustin Bieber: Never Say Never                          Documentary|Music   \n\n                                ... num_user_for_reviews  language  country  \\\nmovie_title                     ...                                           \nThe True Story of Puss'N Boots  ...                 24.0   English   France   \nDoogal                          ...                114.0   English      USA   \nThomas and the Magic Railroad   ...                119.0   English       UK   \nBarney's Great Adventure        ...                 53.0   English   Canada   \nJustin Bieber: Never Say Never  ...                233.0   English      USA   \n\n                               content_rating      budget title_year  \\\nmovie_title                                                            \nThe True Story of Puss'N Boots              G  25000000.0     2009.0   \nDoogal                                      G  20000000.0     2006.0   \nThomas and the Magic Railroad               G  19000000.0     2000.0   \nBarney's Great Adventure                    G  15000000.0     1998.0   \nJustin Bieber: Never Say Never              G  13000000.0     2011.0   \n\n                               actor_2_facebook_likes  imdb_score  \\\nmovie_title                                                         \nThe True Story of Puss'N Boots                    9.0         2.9   \nDoogal                                          690.0         2.8   \nThomas and the Magic Railroad                   539.0         3.6   \nBarney's Great Adventure                        417.0         2.8   \nJustin Bieber: Never Say Never                   69.0         1.6   \n\n                               aspect_ratio movie_facebook_likes  \nmovie_title                                                       \nThe True Story of Puss'N Boots          NaN                   90  \nDoogal                                 1.85                  346  \nThomas and the Magic Railroad          1.85                  663  \nBarney's Great Adventure               1.85                  436  \nJustin Bieber: Never Say Never         1.85                62000  \n\n[5 rows x 27 columns]",
      "text/html": "<div>\n<style scoped>\n    .dataframe tbody tr th:only-of-type {\n        vertical-align: middle;\n    }\n\n    .dataframe tbody tr th {\n        vertical-align: top;\n    }\n\n    .dataframe thead th {\n        text-align: right;\n    }\n</style>\n<table border=\"1\" class=\"dataframe\">\n  <thead>\n    <tr style=\"text-align: right;\">\n      <th></th>\n      <th>color</th>\n      <th>director_name</th>\n      <th>num_critic_for_reviews</th>\n      <th>duration</th>\n      <th>director_facebook_likes</th>\n      <th>actor_3_facebook_likes</th>\n      <th>actor_2_name</th>\n      <th>actor_1_facebook_likes</th>\n      <th>gross</th>\n      <th>genres</th>\n      <th>...</th>\n      <th>num_user_for_reviews</th>\n      <th>language</th>\n      <th>country</th>\n      <th>content_rating</th>\n      <th>budget</th>\n      <th>title_year</th>\n      <th>actor_2_facebook_likes</th>\n      <th>imdb_score</th>\n      <th>aspect_ratio</th>\n      <th>movie_facebook_likes</th>\n    </tr>\n    <tr>\n      <th>movie_title</th>\n      <th></th>\n      <th></th>\n      <th></th>\n      <th></th>\n      <th></th>\n      <th></th>\n      <th></th>\n      <th></th>\n      <th></th>\n      <th></th>\n      <th></th>\n      <th></th>\n      <th></th>\n      <th></th>\n      <th></th>\n      <th></th>\n      <th></th>\n      <th></th>\n      <th></th>\n      <th></th>\n      <th></th>\n    </tr>\n  </thead>\n  <tbody>\n    <tr>\n      <th>The True Story of Puss'N Boots</th>\n      <td>Color</td>\n      <td>Jérôme Deschamps</td>\n      <td>4.0</td>\n      <td>80.0</td>\n      <td>0.0</td>\n      <td>0.0</td>\n      <td>André Wilms</td>\n      <td>44.0</td>\n      <td>NaN</td>\n      <td>Adventure|Animation|Comedy</td>\n      <td>...</td>\n      <td>24.0</td>\n      <td>English</td>\n      <td>France</td>\n      <td>G</td>\n      <td>25000000.0</td>\n      <td>2009.0</td>\n      <td>9.0</td>\n      <td>2.9</td>\n      <td>NaN</td>\n      <td>90</td>\n    </tr>\n    <tr>\n      <th>Doogal</th>\n      <td>Color</td>\n      <td>Dave Borthwick</td>\n      <td>31.0</td>\n      <td>77.0</td>\n      <td>3.0</td>\n      <td>593.0</td>\n      <td>Kylie Minogue</td>\n      <td>787.0</td>\n      <td>7382993.0</td>\n      <td>Adventure|Animation|Comedy|Family|Fantasy</td>\n      <td>...</td>\n      <td>114.0</td>\n      <td>English</td>\n      <td>USA</td>\n      <td>G</td>\n      <td>20000000.0</td>\n      <td>2006.0</td>\n      <td>690.0</td>\n      <td>2.8</td>\n      <td>1.85</td>\n      <td>346</td>\n    </tr>\n    <tr>\n      <th>Thomas and the Magic Railroad</th>\n      <td>Color</td>\n      <td>Britt Allcroft</td>\n      <td>47.0</td>\n      <td>85.0</td>\n      <td>2.0</td>\n      <td>402.0</td>\n      <td>Colm Feore</td>\n      <td>1000.0</td>\n      <td>15911333.0</td>\n      <td>Adventure|Comedy|Drama|Family|Fantasy</td>\n      <td>...</td>\n      <td>119.0</td>\n      <td>English</td>\n      <td>UK</td>\n      <td>G</td>\n      <td>19000000.0</td>\n      <td>2000.0</td>\n      <td>539.0</td>\n      <td>3.6</td>\n      <td>1.85</td>\n      <td>663</td>\n    </tr>\n    <tr>\n      <th>Barney's Great Adventure</th>\n      <td>Color</td>\n      <td>Steve Gomer</td>\n      <td>24.0</td>\n      <td>76.0</td>\n      <td>9.0</td>\n      <td>47.0</td>\n      <td>Kyla Pratt</td>\n      <td>595.0</td>\n      <td>11144518.0</td>\n      <td>Adventure|Family</td>\n      <td>...</td>\n      <td>53.0</td>\n      <td>English</td>\n      <td>Canada</td>\n      <td>G</td>\n      <td>15000000.0</td>\n      <td>1998.0</td>\n      <td>417.0</td>\n      <td>2.8</td>\n      <td>1.85</td>\n      <td>436</td>\n    </tr>\n    <tr>\n      <th>Justin Bieber: Never Say Never</th>\n      <td>Color</td>\n      <td>Jon M. Chu</td>\n      <td>84.0</td>\n      <td>115.0</td>\n      <td>209.0</td>\n      <td>41.0</td>\n      <td>Sean Kingston</td>\n      <td>569.0</td>\n      <td>73000942.0</td>\n      <td>Documentary|Music</td>\n      <td>...</td>\n      <td>233.0</td>\n      <td>English</td>\n      <td>USA</td>\n      <td>G</td>\n      <td>13000000.0</td>\n      <td>2011.0</td>\n      <td>69.0</td>\n      <td>1.6</td>\n      <td>1.85</td>\n      <td>62000</td>\n    </tr>\n  </tbody>\n</table>\n<p>5 rows × 27 columns</p>\n</div>"
     },
     "execution_count": 31,
     "metadata": {},
     "output_type": "execute_result"
    }
   ],
   "source": [
    "movies.iloc[criteria.values].head()\n"
   ],
   "metadata": {
    "collapsed": false,
    "pycharm": {
     "name": "#%%\n"
    }
   }
  }
 ],
 "metadata": {
  "kernelspec": {
   "display_name": "Python 3",
   "language": "python",
   "name": "python3"
  },
  "language_info": {
   "codemirror_mode": {
    "name": "ipython",
    "version": 2
   },
   "file_extension": ".py",
   "mimetype": "text/x-python",
   "name": "python",
   "nbconvert_exporter": "python",
   "pygments_lexer": "ipython2",
   "version": "2.7.6"
  }
 },
 "nbformat": 4,
 "nbformat_minor": 0
}