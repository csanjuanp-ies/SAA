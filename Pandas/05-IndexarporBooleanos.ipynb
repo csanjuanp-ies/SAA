{
 "cells": [
  {
   "cell_type": "markdown",
   "source": [
    "# Indexado por Booleanos\n",
    "## Calculating boolean statistics\n",
    "## Constructing multiple boolean conditions\n",
    "## Filtering with boolean indexing\n",
    "## Replicating boolean indexing with index selection\n",
    "## Selecting with unique and sorted indexes\n",
    "## Gaining perspective on stock prices\n",
    "## Translating SQL WHERE clauses\n",
    "## Determining the normality of stock market returns\n",
    "## Improving readability of boolean indexing with the query method\n",
    "## Preserving Series with the where method\n",
    "## asking DataFrame rows\n",
    "## Selecting with booleans, integer location, and labels"
   ],
   "metadata": {
    "collapsed": false
   }
  }
 ],
 "metadata": {
  "kernelspec": {
   "display_name": "Python 3",
   "language": "python",
   "name": "python3"
  },
  "language_info": {
   "codemirror_mode": {
    "name": "ipython",
    "version": 2
   },
   "file_extension": ".py",
   "mimetype": "text/x-python",
   "name": "python",
   "nbconvert_exporter": "python",
   "pygments_lexer": "ipython2",
   "version": "2.7.6"
  }
 },
 "nbformat": 4,
 "nbformat_minor": 0
}