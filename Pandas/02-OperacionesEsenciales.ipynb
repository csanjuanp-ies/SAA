{
 "cells": [
  {
   "cell_type": "markdown",
   "source": [
    "# Operaciones esenciales de un DataFrame"
   ],
   "metadata": {
    "collapsed": false,
    "pycharm": {
     "name": "#%% md\n"
    }
   }
  },
  {
   "cell_type": "code",
   "execution_count": 7,
   "outputs": [
    {
     "data": {
      "text/plain": "   color      director_name  num_critic_for_reviews  duration  \\\n0  Color      James Cameron                   723.0     178.0   \n1  Color     Gore Verbinski                   302.0     169.0   \n2  Color         Sam Mendes                   602.0     148.0   \n3  Color  Christopher Nolan                   813.0     164.0   \n4    NaN        Doug Walker                     NaN       NaN   \n\n   director_facebook_likes  actor_3_facebook_likes      actor_2_name  \\\n0                      0.0                   855.0  Joel David Moore   \n1                    563.0                  1000.0     Orlando Bloom   \n2                      0.0                   161.0      Rory Kinnear   \n3                  22000.0                 23000.0    Christian Bale   \n4                    131.0                     NaN        Rob Walker   \n\n   actor_1_facebook_likes        gross                           genres  ...  \\\n0                  1000.0  760505847.0  Action|Adventure|Fantasy|Sci-Fi  ...   \n1                 40000.0  309404152.0         Action|Adventure|Fantasy  ...   \n2                 11000.0  200074175.0        Action|Adventure|Thriller  ...   \n3                 27000.0  448130642.0                  Action|Thriller  ...   \n4                   131.0          NaN                      Documentary  ...   \n\n  num_user_for_reviews language  country  content_rating       budget  \\\n0               3054.0  English      USA           PG-13  237000000.0   \n1               1238.0  English      USA           PG-13  300000000.0   \n2                994.0  English       UK           PG-13  245000000.0   \n3               2701.0  English      USA           PG-13  250000000.0   \n4                  NaN      NaN      NaN             NaN          NaN   \n\n   title_year actor_2_facebook_likes imdb_score  aspect_ratio  \\\n0      2009.0                  936.0        7.9          1.78   \n1      2007.0                 5000.0        7.1          2.35   \n2      2015.0                  393.0        6.8          2.35   \n3      2012.0                23000.0        8.5          2.35   \n4         NaN                   12.0        7.1           NaN   \n\n  movie_facebook_likes  \n0                33000  \n1                    0  \n2                85000  \n3               164000  \n4                    0  \n\n[5 rows x 28 columns]",
      "text/html": "<div>\n<style scoped>\n    .dataframe tbody tr th:only-of-type {\n        vertical-align: middle;\n    }\n\n    .dataframe tbody tr th {\n        vertical-align: top;\n    }\n\n    .dataframe thead th {\n        text-align: right;\n    }\n</style>\n<table border=\"1\" class=\"dataframe\">\n  <thead>\n    <tr style=\"text-align: right;\">\n      <th></th>\n      <th>color</th>\n      <th>director_name</th>\n      <th>num_critic_for_reviews</th>\n      <th>duration</th>\n      <th>director_facebook_likes</th>\n      <th>actor_3_facebook_likes</th>\n      <th>actor_2_name</th>\n      <th>actor_1_facebook_likes</th>\n      <th>gross</th>\n      <th>genres</th>\n      <th>...</th>\n      <th>num_user_for_reviews</th>\n      <th>language</th>\n      <th>country</th>\n      <th>content_rating</th>\n      <th>budget</th>\n      <th>title_year</th>\n      <th>actor_2_facebook_likes</th>\n      <th>imdb_score</th>\n      <th>aspect_ratio</th>\n      <th>movie_facebook_likes</th>\n    </tr>\n  </thead>\n  <tbody>\n    <tr>\n      <th>0</th>\n      <td>Color</td>\n      <td>James Cameron</td>\n      <td>723.0</td>\n      <td>178.0</td>\n      <td>0.0</td>\n      <td>855.0</td>\n      <td>Joel David Moore</td>\n      <td>1000.0</td>\n      <td>760505847.0</td>\n      <td>Action|Adventure|Fantasy|Sci-Fi</td>\n      <td>...</td>\n      <td>3054.0</td>\n      <td>English</td>\n      <td>USA</td>\n      <td>PG-13</td>\n      <td>237000000.0</td>\n      <td>2009.0</td>\n      <td>936.0</td>\n      <td>7.9</td>\n      <td>1.78</td>\n      <td>33000</td>\n    </tr>\n    <tr>\n      <th>1</th>\n      <td>Color</td>\n      <td>Gore Verbinski</td>\n      <td>302.0</td>\n      <td>169.0</td>\n      <td>563.0</td>\n      <td>1000.0</td>\n      <td>Orlando Bloom</td>\n      <td>40000.0</td>\n      <td>309404152.0</td>\n      <td>Action|Adventure|Fantasy</td>\n      <td>...</td>\n      <td>1238.0</td>\n      <td>English</td>\n      <td>USA</td>\n      <td>PG-13</td>\n      <td>300000000.0</td>\n      <td>2007.0</td>\n      <td>5000.0</td>\n      <td>7.1</td>\n      <td>2.35</td>\n      <td>0</td>\n    </tr>\n    <tr>\n      <th>2</th>\n      <td>Color</td>\n      <td>Sam Mendes</td>\n      <td>602.0</td>\n      <td>148.0</td>\n      <td>0.0</td>\n      <td>161.0</td>\n      <td>Rory Kinnear</td>\n      <td>11000.0</td>\n      <td>200074175.0</td>\n      <td>Action|Adventure|Thriller</td>\n      <td>...</td>\n      <td>994.0</td>\n      <td>English</td>\n      <td>UK</td>\n      <td>PG-13</td>\n      <td>245000000.0</td>\n      <td>2015.0</td>\n      <td>393.0</td>\n      <td>6.8</td>\n      <td>2.35</td>\n      <td>85000</td>\n    </tr>\n    <tr>\n      <th>3</th>\n      <td>Color</td>\n      <td>Christopher Nolan</td>\n      <td>813.0</td>\n      <td>164.0</td>\n      <td>22000.0</td>\n      <td>23000.0</td>\n      <td>Christian Bale</td>\n      <td>27000.0</td>\n      <td>448130642.0</td>\n      <td>Action|Thriller</td>\n      <td>...</td>\n      <td>2701.0</td>\n      <td>English</td>\n      <td>USA</td>\n      <td>PG-13</td>\n      <td>250000000.0</td>\n      <td>2012.0</td>\n      <td>23000.0</td>\n      <td>8.5</td>\n      <td>2.35</td>\n      <td>164000</td>\n    </tr>\n    <tr>\n      <th>4</th>\n      <td>NaN</td>\n      <td>Doug Walker</td>\n      <td>NaN</td>\n      <td>NaN</td>\n      <td>131.0</td>\n      <td>NaN</td>\n      <td>Rob Walker</td>\n      <td>131.0</td>\n      <td>NaN</td>\n      <td>Documentary</td>\n      <td>...</td>\n      <td>NaN</td>\n      <td>NaN</td>\n      <td>NaN</td>\n      <td>NaN</td>\n      <td>NaN</td>\n      <td>NaN</td>\n      <td>12.0</td>\n      <td>7.1</td>\n      <td>NaN</td>\n      <td>0</td>\n    </tr>\n  </tbody>\n</table>\n<p>5 rows × 28 columns</p>\n</div>"
     },
     "execution_count": 7,
     "metadata": {},
     "output_type": "execute_result"
    }
   ],
   "source": [
    "import pandas as pd\n",
    "import numpy as np\n",
    "import matplotlib.pyplot as plt\n",
    "%matplotlib inline\n",
    "\n",
    "movies = pd.read_csv('data/movie.csv')\n",
    "movies.head()"
   ],
   "metadata": {
    "collapsed": false,
    "pycharm": {
     "name": "#%%\n"
    }
   }
  },
  {
   "cell_type": "markdown",
   "source": [
    "## Selección de varias columnas\n",
    "Para seleccinar un número variable de columnas por nombre no hay más que almacenar los nombres de estas en una lista\n",
    "y pasársela al dataset en formato corchetes"
   ],
   "metadata": {
    "collapsed": false
   }
  },
  {
   "cell_type": "code",
   "execution_count": 8,
   "outputs": [
    {
     "data": {
      "text/plain": "       director_name  imdb_score                           genres\n0      James Cameron         7.9  Action|Adventure|Fantasy|Sci-Fi\n1     Gore Verbinski         7.1         Action|Adventure|Fantasy\n2         Sam Mendes         6.8        Action|Adventure|Thriller\n3  Christopher Nolan         8.5                  Action|Thriller\n4        Doug Walker         7.1                      Documentary",
      "text/html": "<div>\n<style scoped>\n    .dataframe tbody tr th:only-of-type {\n        vertical-align: middle;\n    }\n\n    .dataframe tbody tr th {\n        vertical-align: top;\n    }\n\n    .dataframe thead th {\n        text-align: right;\n    }\n</style>\n<table border=\"1\" class=\"dataframe\">\n  <thead>\n    <tr style=\"text-align: right;\">\n      <th></th>\n      <th>director_name</th>\n      <th>imdb_score</th>\n      <th>genres</th>\n    </tr>\n  </thead>\n  <tbody>\n    <tr>\n      <th>0</th>\n      <td>James Cameron</td>\n      <td>7.9</td>\n      <td>Action|Adventure|Fantasy|Sci-Fi</td>\n    </tr>\n    <tr>\n      <th>1</th>\n      <td>Gore Verbinski</td>\n      <td>7.1</td>\n      <td>Action|Adventure|Fantasy</td>\n    </tr>\n    <tr>\n      <th>2</th>\n      <td>Sam Mendes</td>\n      <td>6.8</td>\n      <td>Action|Adventure|Thriller</td>\n    </tr>\n    <tr>\n      <th>3</th>\n      <td>Christopher Nolan</td>\n      <td>8.5</td>\n      <td>Action|Thriller</td>\n    </tr>\n    <tr>\n      <th>4</th>\n      <td>Doug Walker</td>\n      <td>7.1</td>\n      <td>Documentary</td>\n    </tr>\n  </tbody>\n</table>\n</div>"
     },
     "execution_count": 8,
     "metadata": {},
     "output_type": "execute_result"
    }
   ],
   "source": [
    "columnas=['director_name', 'imdb_score', 'genres']\n",
    "movies[columnas].head()\n"
   ],
   "metadata": {
    "collapsed": false,
    "pycharm": {
     "name": "#%%\n"
    }
   }
  },
  {
   "cell_type": "markdown",
   "source": [
    "## Selección de columnas con métodos\n",
    "La selección de columnas también se puede hacer mediante métodos específicos: **select_dtypes** y **filter**. La\n",
    "primera función selecciona todas las columnas del tipo que se le indiquen, y la segunda permite realizar filtros\n",
    "avanzados sobre las columnas a partir de expresiones regulares.\n",
    "\n",
    "La función **filter** tiene tres parámetros mútuamente excluyentes: regex, like e items. El parámetro regex recoge\n",
    "una expresión regular, like busca columnas que contengan el valor pasado, e items recoge una lista con los nombres\n",
    "de las columnas."
   ],
   "metadata": {
    "collapsed": false
   }
  },
  {
   "cell_type": "code",
   "execution_count": 9,
   "outputs": [
    {
     "data": {
      "text/plain": "   num_critic_for_reviews  duration  director_facebook_likes  \\\n0                   723.0     178.0                      0.0   \n1                   302.0     169.0                    563.0   \n2                   602.0     148.0                      0.0   \n3                   813.0     164.0                  22000.0   \n4                     NaN       NaN                    131.0   \n\n   actor_3_facebook_likes  actor_1_facebook_likes        gross  \\\n0                   855.0                  1000.0  760505847.0   \n1                  1000.0                 40000.0  309404152.0   \n2                   161.0                 11000.0  200074175.0   \n3                 23000.0                 27000.0  448130642.0   \n4                     NaN                   131.0          NaN   \n\n   facenumber_in_poster  num_user_for_reviews       budget  title_year  \\\n0                   0.0                3054.0  237000000.0      2009.0   \n1                   0.0                1238.0  300000000.0      2007.0   \n2                   1.0                 994.0  245000000.0      2015.0   \n3                   0.0                2701.0  250000000.0      2012.0   \n4                   0.0                   NaN          NaN         NaN   \n\n   actor_2_facebook_likes  imdb_score  aspect_ratio  \n0                   936.0         7.9          1.78  \n1                  5000.0         7.1          2.35  \n2                   393.0         6.8          2.35  \n3                 23000.0         8.5          2.35  \n4                    12.0         7.1           NaN  ",
      "text/html": "<div>\n<style scoped>\n    .dataframe tbody tr th:only-of-type {\n        vertical-align: middle;\n    }\n\n    .dataframe tbody tr th {\n        vertical-align: top;\n    }\n\n    .dataframe thead th {\n        text-align: right;\n    }\n</style>\n<table border=\"1\" class=\"dataframe\">\n  <thead>\n    <tr style=\"text-align: right;\">\n      <th></th>\n      <th>num_critic_for_reviews</th>\n      <th>duration</th>\n      <th>director_facebook_likes</th>\n      <th>actor_3_facebook_likes</th>\n      <th>actor_1_facebook_likes</th>\n      <th>gross</th>\n      <th>facenumber_in_poster</th>\n      <th>num_user_for_reviews</th>\n      <th>budget</th>\n      <th>title_year</th>\n      <th>actor_2_facebook_likes</th>\n      <th>imdb_score</th>\n      <th>aspect_ratio</th>\n    </tr>\n  </thead>\n  <tbody>\n    <tr>\n      <th>0</th>\n      <td>723.0</td>\n      <td>178.0</td>\n      <td>0.0</td>\n      <td>855.0</td>\n      <td>1000.0</td>\n      <td>760505847.0</td>\n      <td>0.0</td>\n      <td>3054.0</td>\n      <td>237000000.0</td>\n      <td>2009.0</td>\n      <td>936.0</td>\n      <td>7.9</td>\n      <td>1.78</td>\n    </tr>\n    <tr>\n      <th>1</th>\n      <td>302.0</td>\n      <td>169.0</td>\n      <td>563.0</td>\n      <td>1000.0</td>\n      <td>40000.0</td>\n      <td>309404152.0</td>\n      <td>0.0</td>\n      <td>1238.0</td>\n      <td>300000000.0</td>\n      <td>2007.0</td>\n      <td>5000.0</td>\n      <td>7.1</td>\n      <td>2.35</td>\n    </tr>\n    <tr>\n      <th>2</th>\n      <td>602.0</td>\n      <td>148.0</td>\n      <td>0.0</td>\n      <td>161.0</td>\n      <td>11000.0</td>\n      <td>200074175.0</td>\n      <td>1.0</td>\n      <td>994.0</td>\n      <td>245000000.0</td>\n      <td>2015.0</td>\n      <td>393.0</td>\n      <td>6.8</td>\n      <td>2.35</td>\n    </tr>\n    <tr>\n      <th>3</th>\n      <td>813.0</td>\n      <td>164.0</td>\n      <td>22000.0</td>\n      <td>23000.0</td>\n      <td>27000.0</td>\n      <td>448130642.0</td>\n      <td>0.0</td>\n      <td>2701.0</td>\n      <td>250000000.0</td>\n      <td>2012.0</td>\n      <td>23000.0</td>\n      <td>8.5</td>\n      <td>2.35</td>\n    </tr>\n    <tr>\n      <th>4</th>\n      <td>NaN</td>\n      <td>NaN</td>\n      <td>131.0</td>\n      <td>NaN</td>\n      <td>131.0</td>\n      <td>NaN</td>\n      <td>0.0</td>\n      <td>NaN</td>\n      <td>NaN</td>\n      <td>NaN</td>\n      <td>12.0</td>\n      <td>7.1</td>\n      <td>NaN</td>\n    </tr>\n  </tbody>\n</table>\n</div>"
     },
     "execution_count": 9,
     "metadata": {},
     "output_type": "execute_result"
    }
   ],
   "source": [
    "movies.select_dtypes(include=[float]).head()"
   ],
   "metadata": {
    "collapsed": false,
    "pycharm": {
     "name": "#%%\n"
    }
   }
  },
  {
   "cell_type": "code",
   "execution_count": 10,
   "outputs": [
    {
     "data": {
      "text/plain": "   actor_3_facebook_likes      actor_2_name  actor_1_facebook_likes  \\\n0                   855.0  Joel David Moore                  1000.0   \n1                  1000.0     Orlando Bloom                 40000.0   \n2                   161.0      Rory Kinnear                 11000.0   \n3                 23000.0    Christian Bale                 27000.0   \n4                     NaN        Rob Walker                   131.0   \n\n      actor_1_name          actor_3_name  actor_2_facebook_likes  \n0      CCH Pounder             Wes Studi                   936.0  \n1      Johnny Depp        Jack Davenport                  5000.0  \n2  Christoph Waltz      Stephanie Sigman                   393.0  \n3        Tom Hardy  Joseph Gordon-Levitt                 23000.0  \n4      Doug Walker                   NaN                    12.0  ",
      "text/html": "<div>\n<style scoped>\n    .dataframe tbody tr th:only-of-type {\n        vertical-align: middle;\n    }\n\n    .dataframe tbody tr th {\n        vertical-align: top;\n    }\n\n    .dataframe thead th {\n        text-align: right;\n    }\n</style>\n<table border=\"1\" class=\"dataframe\">\n  <thead>\n    <tr style=\"text-align: right;\">\n      <th></th>\n      <th>actor_3_facebook_likes</th>\n      <th>actor_2_name</th>\n      <th>actor_1_facebook_likes</th>\n      <th>actor_1_name</th>\n      <th>actor_3_name</th>\n      <th>actor_2_facebook_likes</th>\n    </tr>\n  </thead>\n  <tbody>\n    <tr>\n      <th>0</th>\n      <td>855.0</td>\n      <td>Joel David Moore</td>\n      <td>1000.0</td>\n      <td>CCH Pounder</td>\n      <td>Wes Studi</td>\n      <td>936.0</td>\n    </tr>\n    <tr>\n      <th>1</th>\n      <td>1000.0</td>\n      <td>Orlando Bloom</td>\n      <td>40000.0</td>\n      <td>Johnny Depp</td>\n      <td>Jack Davenport</td>\n      <td>5000.0</td>\n    </tr>\n    <tr>\n      <th>2</th>\n      <td>161.0</td>\n      <td>Rory Kinnear</td>\n      <td>11000.0</td>\n      <td>Christoph Waltz</td>\n      <td>Stephanie Sigman</td>\n      <td>393.0</td>\n    </tr>\n    <tr>\n      <th>3</th>\n      <td>23000.0</td>\n      <td>Christian Bale</td>\n      <td>27000.0</td>\n      <td>Tom Hardy</td>\n      <td>Joseph Gordon-Levitt</td>\n      <td>23000.0</td>\n    </tr>\n    <tr>\n      <th>4</th>\n      <td>NaN</td>\n      <td>Rob Walker</td>\n      <td>131.0</td>\n      <td>Doug Walker</td>\n      <td>NaN</td>\n      <td>12.0</td>\n    </tr>\n  </tbody>\n</table>\n</div>"
     },
     "execution_count": 10,
     "metadata": {},
     "output_type": "execute_result"
    }
   ],
   "source": [
    "movies.filter(regex='\\d').head()  # todas las columnas con un número en el nombre\n"
   ],
   "metadata": {
    "collapsed": false,
    "pycharm": {
     "name": "#%%\n"
    }
   }
  },
  {
   "cell_type": "markdown",
   "source": [
    "## Ordenar los nombres de las columnas\n",
    "Para reordenar las columnas de un dataset no hay más que seleccionarlas por nombres en una lista según el orden deseado."
   ],
   "metadata": {
    "collapsed": false
   }
  },
  {
   "cell_type": "code",
   "execution_count": 11,
   "outputs": [
    {
     "data": {
      "text/plain": "                                  movie_title  title_year content_rating  \\\n0                                      Avatar      2009.0          PG-13   \n1    Pirates of the Caribbean: At World's End      2007.0          PG-13   \n2                                     Spectre      2015.0          PG-13   \n3                       The Dark Knight Rises      2012.0          PG-13   \n4  Star Wars: Episode VII - The Force Awakens         NaN            NaN   \n\n                            genres      director_name     actor_1_name  \\\n0  Action|Adventure|Fantasy|Sci-Fi      James Cameron      CCH Pounder   \n1         Action|Adventure|Fantasy     Gore Verbinski      Johnny Depp   \n2        Action|Adventure|Thriller         Sam Mendes  Christoph Waltz   \n3                  Action|Thriller  Christopher Nolan        Tom Hardy   \n4                      Documentary        Doug Walker      Doug Walker   \n\n       actor_2_name          actor_3_name  color country  ...  \\\n0  Joel David Moore             Wes Studi  Color     USA  ...   \n1     Orlando Bloom        Jack Davenport  Color     USA  ...   \n2      Rory Kinnear      Stephanie Sigman  Color      UK  ...   \n3    Christian Bale  Joseph Gordon-Levitt  Color     USA  ...   \n4        Rob Walker                   NaN    NaN     NaN  ...   \n\n  movie_facebook_likes       budget        gross  num_voted_users  \\\n0                33000  237000000.0  760505847.0           886204   \n1                    0  300000000.0  309404152.0           471220   \n2                85000  245000000.0  200074175.0           275868   \n3               164000  250000000.0  448130642.0          1144337   \n4                    0          NaN          NaN                8   \n\n   num_user_for_reviews  num_critic_for_reviews  imdb_score  duration  \\\n0                3054.0                   723.0         7.9     178.0   \n1                1238.0                   302.0         7.1     169.0   \n2                 994.0                   602.0         6.8     148.0   \n3                2701.0                   813.0         8.5     164.0   \n4                   NaN                     NaN         7.1       NaN   \n\n   aspect_ratio  facenumber_in_poster  \n0          1.78                   0.0  \n1          2.35                   0.0  \n2          2.35                   1.0  \n3          2.35                   0.0  \n4           NaN                   0.0  \n\n[5 rows x 28 columns]",
      "text/html": "<div>\n<style scoped>\n    .dataframe tbody tr th:only-of-type {\n        vertical-align: middle;\n    }\n\n    .dataframe tbody tr th {\n        vertical-align: top;\n    }\n\n    .dataframe thead th {\n        text-align: right;\n    }\n</style>\n<table border=\"1\" class=\"dataframe\">\n  <thead>\n    <tr style=\"text-align: right;\">\n      <th></th>\n      <th>movie_title</th>\n      <th>title_year</th>\n      <th>content_rating</th>\n      <th>genres</th>\n      <th>director_name</th>\n      <th>actor_1_name</th>\n      <th>actor_2_name</th>\n      <th>actor_3_name</th>\n      <th>color</th>\n      <th>country</th>\n      <th>...</th>\n      <th>movie_facebook_likes</th>\n      <th>budget</th>\n      <th>gross</th>\n      <th>num_voted_users</th>\n      <th>num_user_for_reviews</th>\n      <th>num_critic_for_reviews</th>\n      <th>imdb_score</th>\n      <th>duration</th>\n      <th>aspect_ratio</th>\n      <th>facenumber_in_poster</th>\n    </tr>\n  </thead>\n  <tbody>\n    <tr>\n      <th>0</th>\n      <td>Avatar</td>\n      <td>2009.0</td>\n      <td>PG-13</td>\n      <td>Action|Adventure|Fantasy|Sci-Fi</td>\n      <td>James Cameron</td>\n      <td>CCH Pounder</td>\n      <td>Joel David Moore</td>\n      <td>Wes Studi</td>\n      <td>Color</td>\n      <td>USA</td>\n      <td>...</td>\n      <td>33000</td>\n      <td>237000000.0</td>\n      <td>760505847.0</td>\n      <td>886204</td>\n      <td>3054.0</td>\n      <td>723.0</td>\n      <td>7.9</td>\n      <td>178.0</td>\n      <td>1.78</td>\n      <td>0.0</td>\n    </tr>\n    <tr>\n      <th>1</th>\n      <td>Pirates of the Caribbean: At World's End</td>\n      <td>2007.0</td>\n      <td>PG-13</td>\n      <td>Action|Adventure|Fantasy</td>\n      <td>Gore Verbinski</td>\n      <td>Johnny Depp</td>\n      <td>Orlando Bloom</td>\n      <td>Jack Davenport</td>\n      <td>Color</td>\n      <td>USA</td>\n      <td>...</td>\n      <td>0</td>\n      <td>300000000.0</td>\n      <td>309404152.0</td>\n      <td>471220</td>\n      <td>1238.0</td>\n      <td>302.0</td>\n      <td>7.1</td>\n      <td>169.0</td>\n      <td>2.35</td>\n      <td>0.0</td>\n    </tr>\n    <tr>\n      <th>2</th>\n      <td>Spectre</td>\n      <td>2015.0</td>\n      <td>PG-13</td>\n      <td>Action|Adventure|Thriller</td>\n      <td>Sam Mendes</td>\n      <td>Christoph Waltz</td>\n      <td>Rory Kinnear</td>\n      <td>Stephanie Sigman</td>\n      <td>Color</td>\n      <td>UK</td>\n      <td>...</td>\n      <td>85000</td>\n      <td>245000000.0</td>\n      <td>200074175.0</td>\n      <td>275868</td>\n      <td>994.0</td>\n      <td>602.0</td>\n      <td>6.8</td>\n      <td>148.0</td>\n      <td>2.35</td>\n      <td>1.0</td>\n    </tr>\n    <tr>\n      <th>3</th>\n      <td>The Dark Knight Rises</td>\n      <td>2012.0</td>\n      <td>PG-13</td>\n      <td>Action|Thriller</td>\n      <td>Christopher Nolan</td>\n      <td>Tom Hardy</td>\n      <td>Christian Bale</td>\n      <td>Joseph Gordon-Levitt</td>\n      <td>Color</td>\n      <td>USA</td>\n      <td>...</td>\n      <td>164000</td>\n      <td>250000000.0</td>\n      <td>448130642.0</td>\n      <td>1144337</td>\n      <td>2701.0</td>\n      <td>813.0</td>\n      <td>8.5</td>\n      <td>164.0</td>\n      <td>2.35</td>\n      <td>0.0</td>\n    </tr>\n    <tr>\n      <th>4</th>\n      <td>Star Wars: Episode VII - The Force Awakens</td>\n      <td>NaN</td>\n      <td>NaN</td>\n      <td>Documentary</td>\n      <td>Doug Walker</td>\n      <td>Doug Walker</td>\n      <td>Rob Walker</td>\n      <td>NaN</td>\n      <td>NaN</td>\n      <td>NaN</td>\n      <td>...</td>\n      <td>0</td>\n      <td>NaN</td>\n      <td>NaN</td>\n      <td>8</td>\n      <td>NaN</td>\n      <td>NaN</td>\n      <td>7.1</td>\n      <td>NaN</td>\n      <td>NaN</td>\n      <td>0.0</td>\n    </tr>\n  </tbody>\n</table>\n<p>5 rows × 28 columns</p>\n</div>"
     },
     "execution_count": 11,
     "metadata": {},
     "output_type": "execute_result"
    }
   ],
   "source": [
    "disc_core = ['movie_title','title_year', 'content_rating','genres']\n",
    "disc_people = ['director_name','actor_1_name', 'actor_2_name','actor_3_name']\n",
    "disc_other = ['color','country','language','plot_keywords','movie_imdb_link']\n",
    "cont_fb = ['director_facebook_likes','actor_1_facebook_likes','actor_2_facebook_likes',\n",
    "           'actor_3_facebook_likes', 'cast_total_facebook_likes', 'movie_facebook_likes']\n",
    "cont_finance = ['budget','gross']\n",
    "cont_num_reviews = ['num_voted_users','num_user_for_reviews', 'num_critic_for_reviews']\n",
    "cont_other = ['imdb_score','duration', 'aspect_ratio', 'facenumber_in_poster']\n",
    "new_col_order = disc_core + disc_people + disc_other + \\\n",
    "                    cont_fb + cont_finance + cont_num_reviews + cont_other\n",
    "movies2 = movies[new_col_order]\n",
    "movies2.head()\n"
   ],
   "metadata": {
    "collapsed": false,
    "pycharm": {
     "name": "#%%\n"
    }
   }
  },
  {
   "cell_type": "markdown",
   "source": [
    "## Encadenamiento de métodos"
   ],
   "metadata": {
    "collapsed": false
   }
  },
  {
   "cell_type": "code",
   "execution_count": 13,
   "outputs": [
    {
     "data": {
      "text/plain": "color                       19\ndirector_name              102\nnum_critic_for_reviews      49\nduration                    15\ndirector_facebook_likes    102\ndtype: int64"
     },
     "execution_count": 13,
     "metadata": {},
     "output_type": "execute_result"
    }
   ],
   "source": [
    "movies.isnull().sum().head()\n"
   ],
   "metadata": {
    "collapsed": false,
    "pycharm": {
     "name": "#%%\n"
    }
   }
  },
  {
   "cell_type": "code",
   "execution_count": 17,
   "outputs": [
    {
     "data": {
      "text/plain": "21"
     },
     "execution_count": 17,
     "metadata": {},
     "output_type": "execute_result"
    }
   ],
   "source": [
    "movies.isnull().any().sum()"
   ],
   "metadata": {
    "collapsed": false,
    "pycharm": {
     "name": "#%%\n"
    }
   }
  },
  {
   "cell_type": "markdown",
   "source": [
    "## Trabajando con operadores sobre el DataFrame\n",
    "\n",
    "Para realizar operaciones sobre todo el dataset hay que seleccionar primero las columnas numéricas sobre las que\n",
    "queramos operar y realizar las operaciones"
   ],
   "metadata": {
    "collapsed": false
   }
  },
  {
   "cell_type": "code",
   "execution_count": 21,
   "outputs": [
    {
     "data": {
      "text/plain": "   director_facebook_likes  actor_3_facebook_likes  actor_1_facebook_likes  \\\n0                  0.00501               855.00501              1000.00501   \n1                563.00501              1000.00501             40000.00501   \n2                  0.00501               161.00501             11000.00501   \n3              22000.00501             23000.00501             27000.00501   \n4                131.00501                     NaN               131.00501   \n\n   cast_total_facebook_likes  actor_2_facebook_likes  movie_facebook_likes  \n0                 4834.00501               936.00501           33000.00501  \n1                48350.00501              5000.00501               0.00501  \n2                11700.00501               393.00501           85000.00501  \n3               106759.00501             23000.00501          164000.00501  \n4                  143.00501                12.00501               0.00501  ",
      "text/html": "<div>\n<style scoped>\n    .dataframe tbody tr th:only-of-type {\n        vertical-align: middle;\n    }\n\n    .dataframe tbody tr th {\n        vertical-align: top;\n    }\n\n    .dataframe thead th {\n        text-align: right;\n    }\n</style>\n<table border=\"1\" class=\"dataframe\">\n  <thead>\n    <tr style=\"text-align: right;\">\n      <th></th>\n      <th>director_facebook_likes</th>\n      <th>actor_3_facebook_likes</th>\n      <th>actor_1_facebook_likes</th>\n      <th>cast_total_facebook_likes</th>\n      <th>actor_2_facebook_likes</th>\n      <th>movie_facebook_likes</th>\n    </tr>\n  </thead>\n  <tbody>\n    <tr>\n      <th>0</th>\n      <td>0.00501</td>\n      <td>855.00501</td>\n      <td>1000.00501</td>\n      <td>4834.00501</td>\n      <td>936.00501</td>\n      <td>33000.00501</td>\n    </tr>\n    <tr>\n      <th>1</th>\n      <td>563.00501</td>\n      <td>1000.00501</td>\n      <td>40000.00501</td>\n      <td>48350.00501</td>\n      <td>5000.00501</td>\n      <td>0.00501</td>\n    </tr>\n    <tr>\n      <th>2</th>\n      <td>0.00501</td>\n      <td>161.00501</td>\n      <td>11000.00501</td>\n      <td>11700.00501</td>\n      <td>393.00501</td>\n      <td>85000.00501</td>\n    </tr>\n    <tr>\n      <th>3</th>\n      <td>22000.00501</td>\n      <td>23000.00501</td>\n      <td>27000.00501</td>\n      <td>106759.00501</td>\n      <td>23000.00501</td>\n      <td>164000.00501</td>\n    </tr>\n    <tr>\n      <th>4</th>\n      <td>131.00501</td>\n      <td>NaN</td>\n      <td>131.00501</td>\n      <td>143.00501</td>\n      <td>12.00501</td>\n      <td>0.00501</td>\n    </tr>\n  </tbody>\n</table>\n</div>"
     },
     "execution_count": 21,
     "metadata": {},
     "output_type": "execute_result"
    }
   ],
   "source": [
    "movies_likes_ = movies.filter(regex='likes')\n",
    "movies_likes_.head() + .00501"
   ],
   "metadata": {
    "collapsed": false,
    "pycharm": {
     "name": "#%%\n"
    }
   }
  },
  {
   "cell_type": "markdown",
   "source": [
    "## Cambiando la dirección de las operaciones de un DataFrame\n",
    "Los DataFrames tienen dos dimensiones, columnas y filas. Esto se especifica en los métodos mediante el parámetro **axis**\n",
    "pudiendo ser los valores 0 ('index') para las filas y 1 ('columns') para las columnas.\n",
    "Por defecto, los métodos usan el valor 0 (filas) para las operaciones de sus métodos."
   ],
   "metadata": {
    "collapsed": false
   }
  },
  {
   "cell_type": "code",
   "execution_count": 26,
   "outputs": [
    {
     "data": {
      "text/plain": "director_facebook_likes      4814\nactor_3_facebook_likes       4893\nactor_1_facebook_likes       4909\ncast_total_facebook_likes    4916\nactor_2_facebook_likes       4903\nmovie_facebook_likes         4916\ndtype: int64"
     },
     "execution_count": 26,
     "metadata": {},
     "output_type": "execute_result"
    }
   ],
   "source": [
    "# cuenta según el eje de las filas, contarán cuantas filas hay en cada columna\n",
    "movies_likes_.count(axis='index') # valor por defecto, axis=0"
   ],
   "metadata": {
    "collapsed": false,
    "pycharm": {
     "name": "#%%\n"
    }
   }
  },
  {
   "cell_type": "code",
   "execution_count": 27,
   "outputs": [
    {
     "data": {
      "text/plain": "0       6\n1       6\n2       6\n3       6\n4       5\n       ..\n4911    6\n4912    5\n4913    6\n4914    6\n4915    6\nLength: 4916, dtype: int64"
     },
     "execution_count": 27,
     "metadata": {},
     "output_type": "execute_result"
    }
   ],
   "source": [
    "# cuenta según el eje de las columnas, contará cuantas columnas hay en cada fila, axis=1\n",
    "movies_likes_.count(axis='columns')\n"
   ],
   "metadata": {
    "collapsed": false,
    "pycharm": {
     "name": "#%%\n"
    }
   }
  }
 ],
 "metadata": {
  "kernelspec": {
   "display_name": "Python 3",
   "language": "python",
   "name": "python3"
  },
  "language_info": {
   "codemirror_mode": {
    "name": "ipython",
    "version": 2
   },
   "file_extension": ".py",
   "mimetype": "text/x-python",
   "name": "python",
   "nbconvert_exporter": "python",
   "pygments_lexer": "ipython2",
   "version": "2.7.6"
  }
 },
 "nbformat": 4,
 "nbformat_minor": 0
}