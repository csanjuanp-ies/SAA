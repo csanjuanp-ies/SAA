{
 "cells": [
  {
   "cell_type": "code",
   "execution_count": 1,
   "outputs": [
    {
     "data": {
      "text/plain": "   color      director_name  num_critic_for_reviews  duration  \\\n0  Color      James Cameron                   723.0     178.0   \n1  Color     Gore Verbinski                   302.0     169.0   \n2  Color         Sam Mendes                   602.0     148.0   \n3  Color  Christopher Nolan                   813.0     164.0   \n4    NaN        Doug Walker                     NaN       NaN   \n\n   director_facebook_likes  actor_3_facebook_likes      actor_2_name  \\\n0                      0.0                   855.0  Joel David Moore   \n1                    563.0                  1000.0     Orlando Bloom   \n2                      0.0                   161.0      Rory Kinnear   \n3                  22000.0                 23000.0    Christian Bale   \n4                    131.0                     NaN        Rob Walker   \n\n   actor_1_facebook_likes        gross                           genres  ...  \\\n0                  1000.0  760505847.0  Action|Adventure|Fantasy|Sci-Fi  ...   \n1                 40000.0  309404152.0         Action|Adventure|Fantasy  ...   \n2                 11000.0  200074175.0        Action|Adventure|Thriller  ...   \n3                 27000.0  448130642.0                  Action|Thriller  ...   \n4                   131.0          NaN                      Documentary  ...   \n\n  num_user_for_reviews language  country  content_rating       budget  \\\n0               3054.0  English      USA           PG-13  237000000.0   \n1               1238.0  English      USA           PG-13  300000000.0   \n2                994.0  English       UK           PG-13  245000000.0   \n3               2701.0  English      USA           PG-13  250000000.0   \n4                  NaN      NaN      NaN             NaN          NaN   \n\n   title_year actor_2_facebook_likes imdb_score  aspect_ratio  \\\n0      2009.0                  936.0        7.9          1.78   \n1      2007.0                 5000.0        7.1          2.35   \n2      2015.0                  393.0        6.8          2.35   \n3      2012.0                23000.0        8.5          2.35   \n4         NaN                   12.0        7.1           NaN   \n\n  movie_facebook_likes  \n0                33000  \n1                    0  \n2                85000  \n3               164000  \n4                    0  \n\n[5 rows x 28 columns]",
      "text/html": "<div>\n<style scoped>\n    .dataframe tbody tr th:only-of-type {\n        vertical-align: middle;\n    }\n\n    .dataframe tbody tr th {\n        vertical-align: top;\n    }\n\n    .dataframe thead th {\n        text-align: right;\n    }\n</style>\n<table border=\"1\" class=\"dataframe\">\n  <thead>\n    <tr style=\"text-align: right;\">\n      <th></th>\n      <th>color</th>\n      <th>director_name</th>\n      <th>num_critic_for_reviews</th>\n      <th>duration</th>\n      <th>director_facebook_likes</th>\n      <th>actor_3_facebook_likes</th>\n      <th>actor_2_name</th>\n      <th>actor_1_facebook_likes</th>\n      <th>gross</th>\n      <th>genres</th>\n      <th>...</th>\n      <th>num_user_for_reviews</th>\n      <th>language</th>\n      <th>country</th>\n      <th>content_rating</th>\n      <th>budget</th>\n      <th>title_year</th>\n      <th>actor_2_facebook_likes</th>\n      <th>imdb_score</th>\n      <th>aspect_ratio</th>\n      <th>movie_facebook_likes</th>\n    </tr>\n  </thead>\n  <tbody>\n    <tr>\n      <th>0</th>\n      <td>Color</td>\n      <td>James Cameron</td>\n      <td>723.0</td>\n      <td>178.0</td>\n      <td>0.0</td>\n      <td>855.0</td>\n      <td>Joel David Moore</td>\n      <td>1000.0</td>\n      <td>760505847.0</td>\n      <td>Action|Adventure|Fantasy|Sci-Fi</td>\n      <td>...</td>\n      <td>3054.0</td>\n      <td>English</td>\n      <td>USA</td>\n      <td>PG-13</td>\n      <td>237000000.0</td>\n      <td>2009.0</td>\n      <td>936.0</td>\n      <td>7.9</td>\n      <td>1.78</td>\n      <td>33000</td>\n    </tr>\n    <tr>\n      <th>1</th>\n      <td>Color</td>\n      <td>Gore Verbinski</td>\n      <td>302.0</td>\n      <td>169.0</td>\n      <td>563.0</td>\n      <td>1000.0</td>\n      <td>Orlando Bloom</td>\n      <td>40000.0</td>\n      <td>309404152.0</td>\n      <td>Action|Adventure|Fantasy</td>\n      <td>...</td>\n      <td>1238.0</td>\n      <td>English</td>\n      <td>USA</td>\n      <td>PG-13</td>\n      <td>300000000.0</td>\n      <td>2007.0</td>\n      <td>5000.0</td>\n      <td>7.1</td>\n      <td>2.35</td>\n      <td>0</td>\n    </tr>\n    <tr>\n      <th>2</th>\n      <td>Color</td>\n      <td>Sam Mendes</td>\n      <td>602.0</td>\n      <td>148.0</td>\n      <td>0.0</td>\n      <td>161.0</td>\n      <td>Rory Kinnear</td>\n      <td>11000.0</td>\n      <td>200074175.0</td>\n      <td>Action|Adventure|Thriller</td>\n      <td>...</td>\n      <td>994.0</td>\n      <td>English</td>\n      <td>UK</td>\n      <td>PG-13</td>\n      <td>245000000.0</td>\n      <td>2015.0</td>\n      <td>393.0</td>\n      <td>6.8</td>\n      <td>2.35</td>\n      <td>85000</td>\n    </tr>\n    <tr>\n      <th>3</th>\n      <td>Color</td>\n      <td>Christopher Nolan</td>\n      <td>813.0</td>\n      <td>164.0</td>\n      <td>22000.0</td>\n      <td>23000.0</td>\n      <td>Christian Bale</td>\n      <td>27000.0</td>\n      <td>448130642.0</td>\n      <td>Action|Thriller</td>\n      <td>...</td>\n      <td>2701.0</td>\n      <td>English</td>\n      <td>USA</td>\n      <td>PG-13</td>\n      <td>250000000.0</td>\n      <td>2012.0</td>\n      <td>23000.0</td>\n      <td>8.5</td>\n      <td>2.35</td>\n      <td>164000</td>\n    </tr>\n    <tr>\n      <th>4</th>\n      <td>NaN</td>\n      <td>Doug Walker</td>\n      <td>NaN</td>\n      <td>NaN</td>\n      <td>131.0</td>\n      <td>NaN</td>\n      <td>Rob Walker</td>\n      <td>131.0</td>\n      <td>NaN</td>\n      <td>Documentary</td>\n      <td>...</td>\n      <td>NaN</td>\n      <td>NaN</td>\n      <td>NaN</td>\n      <td>NaN</td>\n      <td>NaN</td>\n      <td>NaN</td>\n      <td>12.0</td>\n      <td>7.1</td>\n      <td>NaN</td>\n      <td>0</td>\n    </tr>\n  </tbody>\n</table>\n<p>5 rows × 28 columns</p>\n</div>"
     },
     "execution_count": 1,
     "metadata": {},
     "output_type": "execute_result"
    }
   ],
   "source": [
    "import pandas as pd\n",
    "import numpy as np\n",
    "import matplotlib.pyplot as plt\n",
    "%matplotlib inline\n",
    "\n",
    "movies = pd.read_csv('data/movie.csv')\n",
    "movies.head()"
   ],
   "metadata": {
    "collapsed": false,
    "pycharm": {
     "name": "#%%\n"
    }
   }
  },
  {
   "cell_type": "markdown",
   "source": [
    "# Alineación de índices\n",
    "Antes de realizar ningún tipo de operación entre detasets, los índices de estos deben alinearse\n"
   ],
   "metadata": {
    "collapsed": false,
    "pycharm": {
     "name": "#%% md\n"
    }
   }
  },
  {
   "cell_type": "markdown",
   "source": [
    "## El objeto Index\n",
    "Hay diferentes tipos de índices en los Dataset, Index es el principal usado para filas. Todos\n",
    "ellos comparten comportamientos. Lo general es que sean estructuras de datos unidimensionales\n",
    "que combinan las características de los conjuntos de python y los ndarrays de numpy."
   ],
   "metadata": {
    "collapsed": false
   }
  },
  {
   "cell_type": "code",
   "execution_count": 2,
   "outputs": [
    {
     "data": {
      "text/plain": "Index(['INSTNM', 'CITY', 'STABBR', 'HBCU', 'MENONLY', 'WOMENONLY', 'RELAFFIL',\n       'SATVRMID', 'SATMTMID', 'DISTANCEONLY', 'UGDS', 'UGDS_WHITE',\n       'UGDS_BLACK', 'UGDS_HISP', 'UGDS_ASIAN', 'UGDS_AIAN', 'UGDS_NHPI',\n       'UGDS_2MOR', 'UGDS_NRA', 'UGDS_UNKN', 'PPTUG_EF', 'CURROPER', 'PCTPELL',\n       'PCTFLOAN', 'UG25ABV', 'MD_EARN_WNE_P10', 'GRAD_DEBT_MDN_SUPP'],\n      dtype='object')"
     },
     "execution_count": 2,
     "metadata": {},
     "output_type": "execute_result"
    }
   ],
   "source": [
    "college = pd.read_csv('data/college.csv')\n",
    "columns = college.columns\n",
    "columns"
   ],
   "metadata": {
    "collapsed": false,
    "pycharm": {
     "name": "#%%\n"
    }
   }
  },
  {
   "cell_type": "code",
   "execution_count": 3,
   "outputs": [
    {
     "data": {
      "text/plain": "array(['INSTNM', 'CITY', 'STABBR', 'HBCU', 'MENONLY', 'WOMENONLY',\n       'RELAFFIL', 'SATVRMID', 'SATMTMID', 'DISTANCEONLY', 'UGDS',\n       'UGDS_WHITE', 'UGDS_BLACK', 'UGDS_HISP', 'UGDS_ASIAN', 'UGDS_AIAN',\n       'UGDS_NHPI', 'UGDS_2MOR', 'UGDS_NRA', 'UGDS_UNKN', 'PPTUG_EF',\n       'CURROPER', 'PCTPELL', 'PCTFLOAN', 'UG25ABV', 'MD_EARN_WNE_P10',\n       'GRAD_DEBT_MDN_SUPP'], dtype=object)"
     },
     "execution_count": 3,
     "metadata": {},
     "output_type": "execute_result"
    }
   ],
   "source": [
    "columns.values"
   ],
   "metadata": {
    "collapsed": false,
    "pycharm": {
     "name": "#%%\n"
    }
   }
  },
  {
   "cell_type": "code",
   "execution_count": 4,
   "outputs": [],
   "source": [
    "columns = columns + \"_A\""
   ],
   "metadata": {
    "collapsed": false,
    "pycharm": {
     "name": "#%%\n"
    }
   }
  },
  {
   "cell_type": "code",
   "execution_count": 5,
   "outputs": [
    {
     "data": {
      "text/plain": "                                               INSTNM_A            CITY_A  \\\n0                              Alabama A & M University            Normal   \n1                   University of Alabama at Birmingham        Birmingham   \n2                                    Amridge University        Montgomery   \n3                   University of Alabama in Huntsville        Huntsville   \n4                              Alabama State University        Montgomery   \n...                                                 ...               ...   \n7530         SAE Institute of Technology  San Francisco        Emeryville   \n7531                  Rasmussen College - Overland Park     Overland Park   \n7532  National Personal Training Institute of Cleveland  Highland Heights   \n7533  Bay Area Medical Academy - San Jose Satellite ...          San Jose   \n7534            Excel Learning Center-San Antonio South       San Antonio   \n\n     STABBR_A  HBCU_A  MENONLY_A  WOMENONLY_A  RELAFFIL_A  SATVRMID_A  \\\n0          AL     1.0        0.0          0.0           0       424.0   \n1          AL     0.0        0.0          0.0           0       570.0   \n2          AL     0.0        0.0          0.0           1         NaN   \n3          AL     0.0        0.0          0.0           0       595.0   \n4          AL     1.0        0.0          0.0           0       425.0   \n...       ...     ...        ...          ...         ...         ...   \n7530       CA     NaN        NaN          NaN           1         NaN   \n7531       KS     NaN        NaN          NaN           1         NaN   \n7532       OH     NaN        NaN          NaN           1         NaN   \n7533       CA     NaN        NaN          NaN           1         NaN   \n7534       TX     NaN        NaN          NaN           1         NaN   \n\n      SATMTMID_A  DISTANCEONLY_A  ...  UGDS_2MOR_A  UGDS_NRA_A  UGDS_UNKN_A  \\\n0          420.0             0.0  ...       0.0000      0.0059       0.0138   \n1          565.0             0.0  ...       0.0368      0.0179       0.0100   \n2            NaN             1.0  ...       0.0000      0.0000       0.2715   \n3          590.0             0.0  ...       0.0172      0.0332       0.0350   \n4          430.0             0.0  ...       0.0098      0.0243       0.0137   \n...          ...             ...  ...          ...         ...          ...   \n7530         NaN             NaN  ...          NaN         NaN          NaN   \n7531         NaN             NaN  ...          NaN         NaN          NaN   \n7532         NaN             NaN  ...          NaN         NaN          NaN   \n7533         NaN             NaN  ...          NaN         NaN          NaN   \n7534         NaN             NaN  ...          NaN         NaN          NaN   \n\n      PPTUG_EF_A  CURROPER_A  PCTPELL_A  PCTFLOAN_A  UG25ABV_A  \\\n0         0.0656           1     0.7356      0.8284     0.1049   \n1         0.2607           1     0.3460      0.5214     0.2422   \n2         0.4536           1     0.6801      0.7795     0.8540   \n3         0.2146           1     0.3072      0.4596     0.2640   \n4         0.0892           1     0.7347      0.7554     0.1270   \n...          ...         ...        ...         ...        ...   \n7530         NaN           1        NaN         NaN        NaN   \n7531         NaN           1        NaN         NaN        NaN   \n7532         NaN           1        NaN         NaN        NaN   \n7533         NaN           1        NaN         NaN        NaN   \n7534         NaN           1        NaN         NaN        NaN   \n\n      MD_EARN_WNE_P10_A  GRAD_DEBT_MDN_SUPP_A  \n0                 30300                 33888  \n1                 39700               21941.5  \n2                 40100                 23370  \n3                 45500                 24097  \n4                 26600               33118.5  \n...                 ...                   ...  \n7530                NaN                  9500  \n7531                NaN                 21163  \n7532                NaN                  6333  \n7533                NaN     PrivacySuppressed  \n7534                NaN                 12125  \n\n[7535 rows x 27 columns]",
      "text/html": "<div>\n<style scoped>\n    .dataframe tbody tr th:only-of-type {\n        vertical-align: middle;\n    }\n\n    .dataframe tbody tr th {\n        vertical-align: top;\n    }\n\n    .dataframe thead th {\n        text-align: right;\n    }\n</style>\n<table border=\"1\" class=\"dataframe\">\n  <thead>\n    <tr style=\"text-align: right;\">\n      <th></th>\n      <th>INSTNM_A</th>\n      <th>CITY_A</th>\n      <th>STABBR_A</th>\n      <th>HBCU_A</th>\n      <th>MENONLY_A</th>\n      <th>WOMENONLY_A</th>\n      <th>RELAFFIL_A</th>\n      <th>SATVRMID_A</th>\n      <th>SATMTMID_A</th>\n      <th>DISTANCEONLY_A</th>\n      <th>...</th>\n      <th>UGDS_2MOR_A</th>\n      <th>UGDS_NRA_A</th>\n      <th>UGDS_UNKN_A</th>\n      <th>PPTUG_EF_A</th>\n      <th>CURROPER_A</th>\n      <th>PCTPELL_A</th>\n      <th>PCTFLOAN_A</th>\n      <th>UG25ABV_A</th>\n      <th>MD_EARN_WNE_P10_A</th>\n      <th>GRAD_DEBT_MDN_SUPP_A</th>\n    </tr>\n  </thead>\n  <tbody>\n    <tr>\n      <th>0</th>\n      <td>Alabama A &amp; M University</td>\n      <td>Normal</td>\n      <td>AL</td>\n      <td>1.0</td>\n      <td>0.0</td>\n      <td>0.0</td>\n      <td>0</td>\n      <td>424.0</td>\n      <td>420.0</td>\n      <td>0.0</td>\n      <td>...</td>\n      <td>0.0000</td>\n      <td>0.0059</td>\n      <td>0.0138</td>\n      <td>0.0656</td>\n      <td>1</td>\n      <td>0.7356</td>\n      <td>0.8284</td>\n      <td>0.1049</td>\n      <td>30300</td>\n      <td>33888</td>\n    </tr>\n    <tr>\n      <th>1</th>\n      <td>University of Alabama at Birmingham</td>\n      <td>Birmingham</td>\n      <td>AL</td>\n      <td>0.0</td>\n      <td>0.0</td>\n      <td>0.0</td>\n      <td>0</td>\n      <td>570.0</td>\n      <td>565.0</td>\n      <td>0.0</td>\n      <td>...</td>\n      <td>0.0368</td>\n      <td>0.0179</td>\n      <td>0.0100</td>\n      <td>0.2607</td>\n      <td>1</td>\n      <td>0.3460</td>\n      <td>0.5214</td>\n      <td>0.2422</td>\n      <td>39700</td>\n      <td>21941.5</td>\n    </tr>\n    <tr>\n      <th>2</th>\n      <td>Amridge University</td>\n      <td>Montgomery</td>\n      <td>AL</td>\n      <td>0.0</td>\n      <td>0.0</td>\n      <td>0.0</td>\n      <td>1</td>\n      <td>NaN</td>\n      <td>NaN</td>\n      <td>1.0</td>\n      <td>...</td>\n      <td>0.0000</td>\n      <td>0.0000</td>\n      <td>0.2715</td>\n      <td>0.4536</td>\n      <td>1</td>\n      <td>0.6801</td>\n      <td>0.7795</td>\n      <td>0.8540</td>\n      <td>40100</td>\n      <td>23370</td>\n    </tr>\n    <tr>\n      <th>3</th>\n      <td>University of Alabama in Huntsville</td>\n      <td>Huntsville</td>\n      <td>AL</td>\n      <td>0.0</td>\n      <td>0.0</td>\n      <td>0.0</td>\n      <td>0</td>\n      <td>595.0</td>\n      <td>590.0</td>\n      <td>0.0</td>\n      <td>...</td>\n      <td>0.0172</td>\n      <td>0.0332</td>\n      <td>0.0350</td>\n      <td>0.2146</td>\n      <td>1</td>\n      <td>0.3072</td>\n      <td>0.4596</td>\n      <td>0.2640</td>\n      <td>45500</td>\n      <td>24097</td>\n    </tr>\n    <tr>\n      <th>4</th>\n      <td>Alabama State University</td>\n      <td>Montgomery</td>\n      <td>AL</td>\n      <td>1.0</td>\n      <td>0.0</td>\n      <td>0.0</td>\n      <td>0</td>\n      <td>425.0</td>\n      <td>430.0</td>\n      <td>0.0</td>\n      <td>...</td>\n      <td>0.0098</td>\n      <td>0.0243</td>\n      <td>0.0137</td>\n      <td>0.0892</td>\n      <td>1</td>\n      <td>0.7347</td>\n      <td>0.7554</td>\n      <td>0.1270</td>\n      <td>26600</td>\n      <td>33118.5</td>\n    </tr>\n    <tr>\n      <th>...</th>\n      <td>...</td>\n      <td>...</td>\n      <td>...</td>\n      <td>...</td>\n      <td>...</td>\n      <td>...</td>\n      <td>...</td>\n      <td>...</td>\n      <td>...</td>\n      <td>...</td>\n      <td>...</td>\n      <td>...</td>\n      <td>...</td>\n      <td>...</td>\n      <td>...</td>\n      <td>...</td>\n      <td>...</td>\n      <td>...</td>\n      <td>...</td>\n      <td>...</td>\n      <td>...</td>\n    </tr>\n    <tr>\n      <th>7530</th>\n      <td>SAE Institute of Technology  San Francisco</td>\n      <td>Emeryville</td>\n      <td>CA</td>\n      <td>NaN</td>\n      <td>NaN</td>\n      <td>NaN</td>\n      <td>1</td>\n      <td>NaN</td>\n      <td>NaN</td>\n      <td>NaN</td>\n      <td>...</td>\n      <td>NaN</td>\n      <td>NaN</td>\n      <td>NaN</td>\n      <td>NaN</td>\n      <td>1</td>\n      <td>NaN</td>\n      <td>NaN</td>\n      <td>NaN</td>\n      <td>NaN</td>\n      <td>9500</td>\n    </tr>\n    <tr>\n      <th>7531</th>\n      <td>Rasmussen College - Overland Park</td>\n      <td>Overland Park</td>\n      <td>KS</td>\n      <td>NaN</td>\n      <td>NaN</td>\n      <td>NaN</td>\n      <td>1</td>\n      <td>NaN</td>\n      <td>NaN</td>\n      <td>NaN</td>\n      <td>...</td>\n      <td>NaN</td>\n      <td>NaN</td>\n      <td>NaN</td>\n      <td>NaN</td>\n      <td>1</td>\n      <td>NaN</td>\n      <td>NaN</td>\n      <td>NaN</td>\n      <td>NaN</td>\n      <td>21163</td>\n    </tr>\n    <tr>\n      <th>7532</th>\n      <td>National Personal Training Institute of Cleveland</td>\n      <td>Highland Heights</td>\n      <td>OH</td>\n      <td>NaN</td>\n      <td>NaN</td>\n      <td>NaN</td>\n      <td>1</td>\n      <td>NaN</td>\n      <td>NaN</td>\n      <td>NaN</td>\n      <td>...</td>\n      <td>NaN</td>\n      <td>NaN</td>\n      <td>NaN</td>\n      <td>NaN</td>\n      <td>1</td>\n      <td>NaN</td>\n      <td>NaN</td>\n      <td>NaN</td>\n      <td>NaN</td>\n      <td>6333</td>\n    </tr>\n    <tr>\n      <th>7533</th>\n      <td>Bay Area Medical Academy - San Jose Satellite ...</td>\n      <td>San Jose</td>\n      <td>CA</td>\n      <td>NaN</td>\n      <td>NaN</td>\n      <td>NaN</td>\n      <td>1</td>\n      <td>NaN</td>\n      <td>NaN</td>\n      <td>NaN</td>\n      <td>...</td>\n      <td>NaN</td>\n      <td>NaN</td>\n      <td>NaN</td>\n      <td>NaN</td>\n      <td>1</td>\n      <td>NaN</td>\n      <td>NaN</td>\n      <td>NaN</td>\n      <td>NaN</td>\n      <td>PrivacySuppressed</td>\n    </tr>\n    <tr>\n      <th>7534</th>\n      <td>Excel Learning Center-San Antonio South</td>\n      <td>San Antonio</td>\n      <td>TX</td>\n      <td>NaN</td>\n      <td>NaN</td>\n      <td>NaN</td>\n      <td>1</td>\n      <td>NaN</td>\n      <td>NaN</td>\n      <td>NaN</td>\n      <td>...</td>\n      <td>NaN</td>\n      <td>NaN</td>\n      <td>NaN</td>\n      <td>NaN</td>\n      <td>1</td>\n      <td>NaN</td>\n      <td>NaN</td>\n      <td>NaN</td>\n      <td>NaN</td>\n      <td>12125</td>\n    </tr>\n  </tbody>\n</table>\n<p>7535 rows × 27 columns</p>\n</div>"
     },
     "execution_count": 5,
     "metadata": {},
     "output_type": "execute_result"
    }
   ],
   "source": [
    "college.columns = columns\n",
    "college"
   ],
   "metadata": {
    "collapsed": false,
    "pycharm": {
     "name": "#%%\n"
    }
   }
  },
  {
   "cell_type": "code",
   "execution_count": 6,
   "outputs": [
    {
     "data": {
      "text/plain": "Index(['INSTNM_A', 'CITY_A', 'STABBR_A', 'HBCU_A'], dtype='object')"
     },
     "execution_count": 6,
     "metadata": {},
     "output_type": "execute_result"
    }
   ],
   "source": [
    "c1 = columns[:4]\n",
    "c1"
   ],
   "metadata": {
    "collapsed": false,
    "pycharm": {
     "name": "#%%\n"
    }
   }
  },
  {
   "cell_type": "code",
   "execution_count": 7,
   "outputs": [
    {
     "data": {
      "text/plain": "Index(['STABBR_A', 'HBCU_A', 'MENONLY_A'], dtype='object')"
     },
     "execution_count": 7,
     "metadata": {},
     "output_type": "execute_result"
    }
   ],
   "source": [
    "c2 = columns[2:5]\n",
    "c2"
   ],
   "metadata": {
    "collapsed": false,
    "pycharm": {
     "name": "#%%\n"
    }
   }
  },
  {
   "cell_type": "code",
   "execution_count": 8,
   "outputs": [
    {
     "data": {
      "text/plain": "Index(['CITY_A', 'HBCU_A', 'INSTNM_A', 'MENONLY_A', 'STABBR_A'], dtype='object')"
     },
     "execution_count": 8,
     "metadata": {},
     "output_type": "execute_result"
    }
   ],
   "source": [
    "c1.union(c2)"
   ],
   "metadata": {
    "collapsed": false,
    "pycharm": {
     "name": "#%%\n"
    }
   }
  },
  {
   "cell_type": "code",
   "execution_count": 9,
   "outputs": [
    {
     "name": "stderr",
     "output_type": "stream",
     "text": [
      "<ipython-input-9-8467f57e849f>:1: FutureWarning: Index.__or__ operating as a set operation is deprecated, in the future this will be a logical operation matching Series.__or__.  Use index.union(other) instead\n",
      "  c1 | c2\n"
     ]
    },
    {
     "data": {
      "text/plain": "Index(['CITY_A', 'HBCU_A', 'INSTNM_A', 'MENONLY_A', 'STABBR_A'], dtype='object')"
     },
     "execution_count": 9,
     "metadata": {},
     "output_type": "execute_result"
    }
   ],
   "source": [
    "c1 | c2"
   ],
   "metadata": {
    "collapsed": false,
    "pycharm": {
     "name": "#%%\n"
    }
   }
  },
  {
   "cell_type": "code",
   "execution_count": 10,
   "outputs": [
    {
     "data": {
      "text/plain": "Index(['CITY_A', 'INSTNM_A', 'MENONLY_A'], dtype='object')"
     },
     "execution_count": 10,
     "metadata": {},
     "output_type": "execute_result"
    }
   ],
   "source": [
    "c1.symmetric_difference(c2)"
   ],
   "metadata": {
    "collapsed": false,
    "pycharm": {
     "name": "#%%\n"
    }
   }
  },
  {
   "cell_type": "code",
   "execution_count": 11,
   "outputs": [
    {
     "name": "stderr",
     "output_type": "stream",
     "text": [
      "<ipython-input-11-bf697f735b6f>:1: FutureWarning: Index.__xor__ operating as a set operation is deprecated, in the future this will be a logical operation matching Series.__xor__.  Use index.symmetric_difference(other) instead\n",
      "  c1 ^ c2\n"
     ]
    },
    {
     "data": {
      "text/plain": "Index(['CITY_A', 'INSTNM_A', 'MENONLY_A'], dtype='object')"
     },
     "execution_count": 11,
     "metadata": {},
     "output_type": "execute_result"
    }
   ],
   "source": [
    "c1 ^ c2"
   ],
   "metadata": {
    "collapsed": false,
    "pycharm": {
     "name": "#%%\n"
    }
   }
  },
  {
   "cell_type": "markdown",
   "source": [
    "## Productos cartesianos\n",
    "Cuando operan dos Series o dos Dataframe, se produce un producto cartesiano si el número de elementos de ambos no es\n",
    "el mismo o no coinciden en orden, en caso de que coincidan se opera elemento a elemento.\n",
    "Si en el dataset resultante hay algún elemento Nan la columna se transformará obligatoriamente a float, con el\n",
    "consiguiente aumento de memoria."
   ],
   "metadata": {
    "collapsed": false
   }
  },
  {
   "cell_type": "code",
   "execution_count": 12,
   "outputs": [
    {
     "data": {
      "text/plain": "a    0\na    1\na    2\nb    3\ndtype: int32"
     },
     "execution_count": 12,
     "metadata": {},
     "output_type": "execute_result"
    }
   ],
   "source": [
    "s1 = pd.Series(index=list('aaab'), data=np.arange(4))\n",
    "s1"
   ],
   "metadata": {
    "collapsed": false,
    "pycharm": {
     "name": "#%%\n"
    }
   }
  },
  {
   "cell_type": "code",
   "execution_count": 13,
   "outputs": [
    {
     "data": {
      "text/plain": "c    0\na    1\nb    2\na    3\nb    4\nb    5\ndtype: int32"
     },
     "execution_count": 13,
     "metadata": {},
     "output_type": "execute_result"
    }
   ],
   "source": [
    "s2 = pd.Series(index=list('cababb'), data=np.arange(6))\n",
    "s2"
   ],
   "metadata": {
    "collapsed": false,
    "pycharm": {
     "name": "#%%\n"
    }
   }
  },
  {
   "cell_type": "code",
   "execution_count": 14,
   "outputs": [
    {
     "data": {
      "text/plain": "a    1.0\na    3.0\na    2.0\na    4.0\na    3.0\na    5.0\nb    5.0\nb    7.0\nb    8.0\nc    NaN\ndtype: float64"
     },
     "execution_count": 14,
     "metadata": {},
     "output_type": "execute_result"
    }
   ],
   "source": [
    "s1 + s2"
   ],
   "metadata": {
    "collapsed": false,
    "pycharm": {
     "name": "#%%\n"
    }
   }
  },
  {
   "cell_type": "code",
   "execution_count": 15,
   "outputs": [
    {
     "data": {
      "text/plain": "a    0\na    2\na    4\nb    6\nb    8\ndtype: int32"
     },
     "execution_count": 15,
     "metadata": {},
     "output_type": "execute_result"
    }
   ],
   "source": [
    "s1 = pd.Series(index=list('aaabb'), data=np.arange(5))\n",
    "s2 = pd.Series(index=list('aaabb'), data=np.arange(5))\n",
    "s1 + s2"
   ],
   "metadata": {
    "collapsed": false,
    "pycharm": {
     "name": "#%%\n"
    }
   }
  },
  {
   "cell_type": "code",
   "execution_count": 16,
   "outputs": [
    {
     "data": {
      "text/plain": "a    2\na    3\na    4\na    3\na    4\na    5\na    4\na    5\na    6\nb    3\nb    4\nb    4\nb    5\ndtype: int32"
     },
     "execution_count": 16,
     "metadata": {},
     "output_type": "execute_result"
    }
   ],
   "source": [
    "s1 = pd.Series(index=list('aaabb'), data=np.arange(5))\n",
    "s2 = pd.Series(index=list('bbaaa'), data=np.arange(5))\n",
    "s1 + s2"
   ],
   "metadata": {
    "collapsed": false,
    "pycharm": {
     "name": "#%%\n"
    }
   }
  },
  {
   "cell_type": "markdown",
   "source": [
    "## Rellenar los valores para datos de diferentes dimensiones\n",
    "Cuando se usa el operador + en dos series y un índice no aparece en el otro, el resultado siempre se Nan. Para\n",
    "añadir un valor por defecto para esos casos hay que usar la función **add** en vez de **+**."
   ],
   "metadata": {
    "collapsed": false
   }
  },
  {
   "cell_type": "code",
   "execution_count": 17,
   "outputs": [],
   "source": [
    "s = pd.Series(index=['a', 'b', 'c', 'd'], data=[np.nan, 3, np.nan, 1])"
   ],
   "metadata": {
    "collapsed": false,
    "pycharm": {
     "name": "#%%\n"
    }
   }
  },
  {
   "cell_type": "code",
   "execution_count": 18,
   "outputs": [
    {
     "data": {
      "text/plain": "a     NaN\nb     6.0\nc    10.0\ndtype: float64"
     },
     "execution_count": 18,
     "metadata": {},
     "output_type": "execute_result"
    }
   ],
   "source": [
    "s1 = pd.Series(index=['a', 'b', 'c'], data=[np.nan, 6, 10])\n",
    "s1"
   ],
   "metadata": {
    "collapsed": false,
    "pycharm": {
     "name": "#%%\n"
    }
   }
  },
  {
   "cell_type": "code",
   "execution_count": 19,
   "outputs": [
    {
     "data": {
      "text/plain": "a     NaN\nb     9.0\nc    15.0\nd     6.0\ndtype: float64"
     },
     "execution_count": 19,
     "metadata": {},
     "output_type": "execute_result"
    }
   ],
   "source": [
    "s.add(s1, fill_value=5)"
   ],
   "metadata": {
    "collapsed": false,
    "pycharm": {
     "name": "#%%\n"
    }
   }
  },
  {
   "cell_type": "code",
   "execution_count": 20,
   "outputs": [
    {
     "data": {
      "text/plain": "<pandas.io.formats.style.Styler at 0x1e08c12a610>",
      "text/html": "<style  type=\"text/css\" >\n#T_9750f_row0_col0{\n            background-color:  yellow;\n        }</style><table id=\"T_9750f_\" ><thead>    <tr>        <th class=\"blank level0\" ></th>        <th class=\"col_heading level0 col0\" >0</th>    </tr></thead><tbody>\n                <tr>\n                        <th id=\"T_9750f_level0_row0\" class=\"row_heading level0 row0\" >a</th>\n                        <td id=\"T_9750f_row0_col0\" class=\"data row0 col0\" >nan</td>\n            </tr>\n            <tr>\n                        <th id=\"T_9750f_level0_row1\" class=\"row_heading level0 row1\" >b</th>\n                        <td id=\"T_9750f_row1_col0\" class=\"data row1 col0\" >9.000000</td>\n            </tr>\n            <tr>\n                        <th id=\"T_9750f_level0_row2\" class=\"row_heading level0 row2\" >c</th>\n                        <td id=\"T_9750f_row2_col0\" class=\"data row2 col0\" >15.000000</td>\n            </tr>\n            <tr>\n                        <th id=\"T_9750f_level0_row3\" class=\"row_heading level0 row3\" >d</th>\n                        <td id=\"T_9750f_row3_col0\" class=\"data row3 col0\" >6.000000</td>\n            </tr>\n    </tbody></table>"
     },
     "execution_count": 20,
     "metadata": {},
     "output_type": "execute_result"
    }
   ],
   "source": [
    "s1 = s1.add(s, fill_value=5)\n",
    "# El valor c = 15 porque el mising se rellena a 5, los dos Nans no se rellenan\n",
    "pd.DataFrame(s1).style.highlight_null('yellow')  # Imprimir en amarillo los nulos\n"
   ],
   "metadata": {
    "collapsed": false,
    "pycharm": {
     "name": "#%%\n"
    }
   }
  },
  {
   "cell_type": "markdown",
   "source": [
    "## Añadir columnas de varios Datasets\n",
    "A cualquier dataset podemos añadir columnas calculadas de sus características o de otros dataframes"
   ],
   "metadata": {
    "collapsed": false
   }
  },
  {
   "cell_type": "code",
   "execution_count": 21,
   "outputs": [
    {
     "data": {
      "text/plain": "                               UNIQUE_ID               POSITION_TITLE  \\\nDEPARTMENT                                                              \nMunicipal Courts Department            0  ASSISTANT DIRECTOR (EX LVL)   \nLibrary                                1            LIBRARY ASSISTANT   \nHouston Police Department-HPD          2               POLICE OFFICER   \nHouston Fire Department (HFD)          3            ENGINEER/OPERATOR   \nGeneral Services Department            4                  ELECTRICIAN   \n\n                               BASE_SALARY  ...   HIRE_DATE    JOB_DATE  \\\nDEPARTMENT                                  ...                           \nMunicipal Courts Department       121862.0  ...  2006-06-12  2012-10-13   \nLibrary                            26125.0  ...  2000-07-19  2010-09-18   \nHouston Police Department-HPD      45279.0  ...  2015-02-03  2015-02-03   \nHouston Fire Department (HFD)      63166.0  ...  1982-02-08  1991-05-25   \nGeneral Services Department        56347.0  ...  1989-06-19  1994-10-22   \n\n                              MAX_DEPT_SALARY  \nDEPARTMENT                                     \nMunicipal Courts Department          121862.0  \nLibrary                              107763.0  \nHouston Police Department-HPD        199596.0  \nHouston Fire Department (HFD)        210588.0  \nGeneral Services Department           89194.0  \n\n[5 rows x 10 columns]",
      "text/html": "<div>\n<style scoped>\n    .dataframe tbody tr th:only-of-type {\n        vertical-align: middle;\n    }\n\n    .dataframe tbody tr th {\n        vertical-align: top;\n    }\n\n    .dataframe thead th {\n        text-align: right;\n    }\n</style>\n<table border=\"1\" class=\"dataframe\">\n  <thead>\n    <tr style=\"text-align: right;\">\n      <th></th>\n      <th>UNIQUE_ID</th>\n      <th>POSITION_TITLE</th>\n      <th>BASE_SALARY</th>\n      <th>...</th>\n      <th>HIRE_DATE</th>\n      <th>JOB_DATE</th>\n      <th>MAX_DEPT_SALARY</th>\n    </tr>\n    <tr>\n      <th>DEPARTMENT</th>\n      <th></th>\n      <th></th>\n      <th></th>\n      <th></th>\n      <th></th>\n      <th></th>\n      <th></th>\n    </tr>\n  </thead>\n  <tbody>\n    <tr>\n      <th>Municipal Courts Department</th>\n      <td>0</td>\n      <td>ASSISTANT DIRECTOR (EX LVL)</td>\n      <td>121862.0</td>\n      <td>...</td>\n      <td>2006-06-12</td>\n      <td>2012-10-13</td>\n      <td>121862.0</td>\n    </tr>\n    <tr>\n      <th>Library</th>\n      <td>1</td>\n      <td>LIBRARY ASSISTANT</td>\n      <td>26125.0</td>\n      <td>...</td>\n      <td>2000-07-19</td>\n      <td>2010-09-18</td>\n      <td>107763.0</td>\n    </tr>\n    <tr>\n      <th>Houston Police Department-HPD</th>\n      <td>2</td>\n      <td>POLICE OFFICER</td>\n      <td>45279.0</td>\n      <td>...</td>\n      <td>2015-02-03</td>\n      <td>2015-02-03</td>\n      <td>199596.0</td>\n    </tr>\n    <tr>\n      <th>Houston Fire Department (HFD)</th>\n      <td>3</td>\n      <td>ENGINEER/OPERATOR</td>\n      <td>63166.0</td>\n      <td>...</td>\n      <td>1982-02-08</td>\n      <td>1991-05-25</td>\n      <td>210588.0</td>\n    </tr>\n    <tr>\n      <th>General Services Department</th>\n      <td>4</td>\n      <td>ELECTRICIAN</td>\n      <td>56347.0</td>\n      <td>...</td>\n      <td>1989-06-19</td>\n      <td>1994-10-22</td>\n      <td>89194.0</td>\n    </tr>\n  </tbody>\n</table>\n<p>5 rows × 10 columns</p>\n</div>"
     },
     "execution_count": 21,
     "metadata": {},
     "output_type": "execute_result"
    }
   ],
   "source": [
    "employee = pd.read_csv('data/employee.csv')\n",
    "dept_sal = employee[['DEPARTMENT', 'BASE_SALARY']]\n",
    "dept_sal = dept_sal.sort_values(['DEPARTMENT', 'BASE_SALARY'], ascending=[True, False])\n",
    "max_dept_sal = dept_sal.drop_duplicates(subset='DEPARTMENT')\n",
    "max_dept_sal = max_dept_sal.set_index('DEPARTMENT')\n",
    "employee = employee.set_index('DEPARTMENT')\n",
    "# Creamos la nueva columna\n",
    "employee['MAX_DEPT_SALARY'] = max_dept_sal['BASE_SALARY']\n",
    "pd.options.display.max_columns = 6\n",
    "employee.head()"
   ],
   "metadata": {
    "collapsed": false,
    "pycharm": {
     "name": "#%%\n"
    }
   }
  },
  {
   "cell_type": "code",
   "execution_count": 22,
   "outputs": [
    {
     "data": {
      "text/plain": "<pandas.io.formats.style.Styler at 0x1e08c3d3c10>",
      "text/html": "<style  type=\"text/css\" >\n#T_bc930_row0_col2,#T_bc930_row3_col9,#T_bc930_row4_col0{\n            background-color:  yellow;\n        }</style><table id=\"T_bc930_\" ><thead>    <tr>        <th class=\"blank level0\" ></th>        <th class=\"col_heading level0 col0\" >UNIQUE_ID</th>        <th class=\"col_heading level0 col1\" >POSITION_TITLE</th>        <th class=\"col_heading level0 col2\" >BASE_SALARY</th>        <th class=\"col_heading level0 col3\" >RACE</th>        <th class=\"col_heading level0 col4\" >EMPLOYMENT_TYPE</th>        <th class=\"col_heading level0 col5\" >GENDER</th>        <th class=\"col_heading level0 col6\" >EMPLOYMENT_STATUS</th>        <th class=\"col_heading level0 col7\" >HIRE_DATE</th>        <th class=\"col_heading level0 col8\" >JOB_DATE</th>        <th class=\"col_heading level0 col9\" >MAX_DEPT_SALARY</th>    </tr>    <tr>        <th class=\"index_name level0\" >DEPARTMENT</th>        <th class=\"blank\" ></th>        <th class=\"blank\" ></th>        <th class=\"blank\" ></th>        <th class=\"blank\" ></th>        <th class=\"blank\" ></th>        <th class=\"blank\" ></th>        <th class=\"blank\" ></th>        <th class=\"blank\" ></th>        <th class=\"blank\" ></th>        <th class=\"blank\" ></th>    </tr></thead><tbody>\n                <tr>\n                        <th id=\"T_bc930_level0_row0\" class=\"row_heading level0 row0\" >Municipal Courts Department</th>\n                        <td id=\"T_bc930_row0_col0\" class=\"data row0 col0\" >0</td>\n                        <td id=\"T_bc930_row0_col1\" class=\"data row0 col1\" >ASSISTANT DIRECTOR (EX LVL)</td>\n                        <td id=\"T_bc930_row0_col2\" class=\"data row0 col2\" >121862.000000</td>\n                        <td id=\"T_bc930_row0_col3\" class=\"data row0 col3\" >Hispanic/Latino</td>\n                        <td id=\"T_bc930_row0_col4\" class=\"data row0 col4\" >Full Time</td>\n                        <td id=\"T_bc930_row0_col5\" class=\"data row0 col5\" >Female</td>\n                        <td id=\"T_bc930_row0_col6\" class=\"data row0 col6\" >Active</td>\n                        <td id=\"T_bc930_row0_col7\" class=\"data row0 col7\" >2006-06-12</td>\n                        <td id=\"T_bc930_row0_col8\" class=\"data row0 col8\" >2012-10-13</td>\n                        <td id=\"T_bc930_row0_col9\" class=\"data row0 col9\" >121862.000000</td>\n            </tr>\n            <tr>\n                        <th id=\"T_bc930_level0_row1\" class=\"row_heading level0 row1\" >Library</th>\n                        <td id=\"T_bc930_row1_col0\" class=\"data row1 col0\" >1</td>\n                        <td id=\"T_bc930_row1_col1\" class=\"data row1 col1\" >LIBRARY ASSISTANT</td>\n                        <td id=\"T_bc930_row1_col2\" class=\"data row1 col2\" >26125.000000</td>\n                        <td id=\"T_bc930_row1_col3\" class=\"data row1 col3\" >Hispanic/Latino</td>\n                        <td id=\"T_bc930_row1_col4\" class=\"data row1 col4\" >Full Time</td>\n                        <td id=\"T_bc930_row1_col5\" class=\"data row1 col5\" >Female</td>\n                        <td id=\"T_bc930_row1_col6\" class=\"data row1 col6\" >Active</td>\n                        <td id=\"T_bc930_row1_col7\" class=\"data row1 col7\" >2000-07-19</td>\n                        <td id=\"T_bc930_row1_col8\" class=\"data row1 col8\" >2010-09-18</td>\n                        <td id=\"T_bc930_row1_col9\" class=\"data row1 col9\" >107763.000000</td>\n            </tr>\n            <tr>\n                        <th id=\"T_bc930_level0_row2\" class=\"row_heading level0 row2\" >Houston Police Department-HPD</th>\n                        <td id=\"T_bc930_row2_col0\" class=\"data row2 col0\" >2</td>\n                        <td id=\"T_bc930_row2_col1\" class=\"data row2 col1\" >POLICE OFFICER</td>\n                        <td id=\"T_bc930_row2_col2\" class=\"data row2 col2\" >45279.000000</td>\n                        <td id=\"T_bc930_row2_col3\" class=\"data row2 col3\" >White</td>\n                        <td id=\"T_bc930_row2_col4\" class=\"data row2 col4\" >Full Time</td>\n                        <td id=\"T_bc930_row2_col5\" class=\"data row2 col5\" >Male</td>\n                        <td id=\"T_bc930_row2_col6\" class=\"data row2 col6\" >Active</td>\n                        <td id=\"T_bc930_row2_col7\" class=\"data row2 col7\" >2015-02-03</td>\n                        <td id=\"T_bc930_row2_col8\" class=\"data row2 col8\" >2015-02-03</td>\n                        <td id=\"T_bc930_row2_col9\" class=\"data row2 col9\" >199596.000000</td>\n            </tr>\n            <tr>\n                        <th id=\"T_bc930_level0_row3\" class=\"row_heading level0 row3\" >Houston Fire Department (HFD)</th>\n                        <td id=\"T_bc930_row3_col0\" class=\"data row3 col0\" >3</td>\n                        <td id=\"T_bc930_row3_col1\" class=\"data row3 col1\" >ENGINEER/OPERATOR</td>\n                        <td id=\"T_bc930_row3_col2\" class=\"data row3 col2\" >63166.000000</td>\n                        <td id=\"T_bc930_row3_col3\" class=\"data row3 col3\" >White</td>\n                        <td id=\"T_bc930_row3_col4\" class=\"data row3 col4\" >Full Time</td>\n                        <td id=\"T_bc930_row3_col5\" class=\"data row3 col5\" >Male</td>\n                        <td id=\"T_bc930_row3_col6\" class=\"data row3 col6\" >Active</td>\n                        <td id=\"T_bc930_row3_col7\" class=\"data row3 col7\" >1982-02-08</td>\n                        <td id=\"T_bc930_row3_col8\" class=\"data row3 col8\" >1991-05-25</td>\n                        <td id=\"T_bc930_row3_col9\" class=\"data row3 col9\" >210588.000000</td>\n            </tr>\n            <tr>\n                        <th id=\"T_bc930_level0_row4\" class=\"row_heading level0 row4\" >General Services Department</th>\n                        <td id=\"T_bc930_row4_col0\" class=\"data row4 col0\" >4</td>\n                        <td id=\"T_bc930_row4_col1\" class=\"data row4 col1\" >ELECTRICIAN</td>\n                        <td id=\"T_bc930_row4_col2\" class=\"data row4 col2\" >56347.000000</td>\n                        <td id=\"T_bc930_row4_col3\" class=\"data row4 col3\" >White</td>\n                        <td id=\"T_bc930_row4_col4\" class=\"data row4 col4\" >Full Time</td>\n                        <td id=\"T_bc930_row4_col5\" class=\"data row4 col5\" >Male</td>\n                        <td id=\"T_bc930_row4_col6\" class=\"data row4 col6\" >Active</td>\n                        <td id=\"T_bc930_row4_col7\" class=\"data row4 col7\" >1989-06-19</td>\n                        <td id=\"T_bc930_row4_col8\" class=\"data row4 col8\" >1994-10-22</td>\n                        <td id=\"T_bc930_row4_col9\" class=\"data row4 col9\" >89194.000000</td>\n            </tr>\n    </tbody></table>"
     },
     "execution_count": 22,
     "metadata": {},
     "output_type": "execute_result"
    }
   ],
   "source": [
    "## Resaltando los valores máximos\n",
    "employee.head().style.highlight_max()"
   ],
   "metadata": {
    "collapsed": false,
    "pycharm": {
     "name": "#%%\n"
    }
   }
  }
 ],
 "metadata": {
  "kernelspec": {
   "display_name": "Python 3",
   "language": "python",
   "name": "python3"
  },
  "language_info": {
   "codemirror_mode": {
    "name": "ipython",
    "version": 2
   },
   "file_extension": ".py",
   "mimetype": "text/x-python",
   "name": "python",
   "nbconvert_exporter": "python",
   "pygments_lexer": "ipython2",
   "version": "2.7.6"
  }
 },
 "nbformat": 4,
 "nbformat_minor": 0
}