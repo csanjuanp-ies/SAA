{
 "cells": [
  {
   "cell_type": "code",
   "execution_count": 1,
   "outputs": [
    {
     "data": {
      "text/plain": "   color      director_name  num_critic_for_reviews  duration  \\\n0  Color      James Cameron                   723.0     178.0   \n1  Color     Gore Verbinski                   302.0     169.0   \n2  Color         Sam Mendes                   602.0     148.0   \n3  Color  Christopher Nolan                   813.0     164.0   \n4    NaN        Doug Walker                     NaN       NaN   \n\n   director_facebook_likes  actor_3_facebook_likes      actor_2_name  \\\n0                      0.0                   855.0  Joel David Moore   \n1                    563.0                  1000.0     Orlando Bloom   \n2                      0.0                   161.0      Rory Kinnear   \n3                  22000.0                 23000.0    Christian Bale   \n4                    131.0                     NaN        Rob Walker   \n\n   actor_1_facebook_likes        gross                           genres  ...  \\\n0                  1000.0  760505847.0  Action|Adventure|Fantasy|Sci-Fi  ...   \n1                 40000.0  309404152.0         Action|Adventure|Fantasy  ...   \n2                 11000.0  200074175.0        Action|Adventure|Thriller  ...   \n3                 27000.0  448130642.0                  Action|Thriller  ...   \n4                   131.0          NaN                      Documentary  ...   \n\n  num_user_for_reviews language  country  content_rating       budget  \\\n0               3054.0  English      USA           PG-13  237000000.0   \n1               1238.0  English      USA           PG-13  300000000.0   \n2                994.0  English       UK           PG-13  245000000.0   \n3               2701.0  English      USA           PG-13  250000000.0   \n4                  NaN      NaN      NaN             NaN          NaN   \n\n   title_year actor_2_facebook_likes imdb_score  aspect_ratio  \\\n0      2009.0                  936.0        7.9          1.78   \n1      2007.0                 5000.0        7.1          2.35   \n2      2015.0                  393.0        6.8          2.35   \n3      2012.0                23000.0        8.5          2.35   \n4         NaN                   12.0        7.1           NaN   \n\n  movie_facebook_likes  \n0                33000  \n1                    0  \n2                85000  \n3               164000  \n4                    0  \n\n[5 rows x 28 columns]",
      "text/html": "<div>\n<style scoped>\n    .dataframe tbody tr th:only-of-type {\n        vertical-align: middle;\n    }\n\n    .dataframe tbody tr th {\n        vertical-align: top;\n    }\n\n    .dataframe thead th {\n        text-align: right;\n    }\n</style>\n<table border=\"1\" class=\"dataframe\">\n  <thead>\n    <tr style=\"text-align: right;\">\n      <th></th>\n      <th>color</th>\n      <th>director_name</th>\n      <th>num_critic_for_reviews</th>\n      <th>duration</th>\n      <th>director_facebook_likes</th>\n      <th>actor_3_facebook_likes</th>\n      <th>actor_2_name</th>\n      <th>actor_1_facebook_likes</th>\n      <th>gross</th>\n      <th>genres</th>\n      <th>...</th>\n      <th>num_user_for_reviews</th>\n      <th>language</th>\n      <th>country</th>\n      <th>content_rating</th>\n      <th>budget</th>\n      <th>title_year</th>\n      <th>actor_2_facebook_likes</th>\n      <th>imdb_score</th>\n      <th>aspect_ratio</th>\n      <th>movie_facebook_likes</th>\n    </tr>\n  </thead>\n  <tbody>\n    <tr>\n      <th>0</th>\n      <td>Color</td>\n      <td>James Cameron</td>\n      <td>723.0</td>\n      <td>178.0</td>\n      <td>0.0</td>\n      <td>855.0</td>\n      <td>Joel David Moore</td>\n      <td>1000.0</td>\n      <td>760505847.0</td>\n      <td>Action|Adventure|Fantasy|Sci-Fi</td>\n      <td>...</td>\n      <td>3054.0</td>\n      <td>English</td>\n      <td>USA</td>\n      <td>PG-13</td>\n      <td>237000000.0</td>\n      <td>2009.0</td>\n      <td>936.0</td>\n      <td>7.9</td>\n      <td>1.78</td>\n      <td>33000</td>\n    </tr>\n    <tr>\n      <th>1</th>\n      <td>Color</td>\n      <td>Gore Verbinski</td>\n      <td>302.0</td>\n      <td>169.0</td>\n      <td>563.0</td>\n      <td>1000.0</td>\n      <td>Orlando Bloom</td>\n      <td>40000.0</td>\n      <td>309404152.0</td>\n      <td>Action|Adventure|Fantasy</td>\n      <td>...</td>\n      <td>1238.0</td>\n      <td>English</td>\n      <td>USA</td>\n      <td>PG-13</td>\n      <td>300000000.0</td>\n      <td>2007.0</td>\n      <td>5000.0</td>\n      <td>7.1</td>\n      <td>2.35</td>\n      <td>0</td>\n    </tr>\n    <tr>\n      <th>2</th>\n      <td>Color</td>\n      <td>Sam Mendes</td>\n      <td>602.0</td>\n      <td>148.0</td>\n      <td>0.0</td>\n      <td>161.0</td>\n      <td>Rory Kinnear</td>\n      <td>11000.0</td>\n      <td>200074175.0</td>\n      <td>Action|Adventure|Thriller</td>\n      <td>...</td>\n      <td>994.0</td>\n      <td>English</td>\n      <td>UK</td>\n      <td>PG-13</td>\n      <td>245000000.0</td>\n      <td>2015.0</td>\n      <td>393.0</td>\n      <td>6.8</td>\n      <td>2.35</td>\n      <td>85000</td>\n    </tr>\n    <tr>\n      <th>3</th>\n      <td>Color</td>\n      <td>Christopher Nolan</td>\n      <td>813.0</td>\n      <td>164.0</td>\n      <td>22000.0</td>\n      <td>23000.0</td>\n      <td>Christian Bale</td>\n      <td>27000.0</td>\n      <td>448130642.0</td>\n      <td>Action|Thriller</td>\n      <td>...</td>\n      <td>2701.0</td>\n      <td>English</td>\n      <td>USA</td>\n      <td>PG-13</td>\n      <td>250000000.0</td>\n      <td>2012.0</td>\n      <td>23000.0</td>\n      <td>8.5</td>\n      <td>2.35</td>\n      <td>164000</td>\n    </tr>\n    <tr>\n      <th>4</th>\n      <td>NaN</td>\n      <td>Doug Walker</td>\n      <td>NaN</td>\n      <td>NaN</td>\n      <td>131.0</td>\n      <td>NaN</td>\n      <td>Rob Walker</td>\n      <td>131.0</td>\n      <td>NaN</td>\n      <td>Documentary</td>\n      <td>...</td>\n      <td>NaN</td>\n      <td>NaN</td>\n      <td>NaN</td>\n      <td>NaN</td>\n      <td>NaN</td>\n      <td>NaN</td>\n      <td>12.0</td>\n      <td>7.1</td>\n      <td>NaN</td>\n      <td>0</td>\n    </tr>\n  </tbody>\n</table>\n<p>5 rows × 28 columns</p>\n</div>"
     },
     "execution_count": 1,
     "metadata": {},
     "output_type": "execute_result"
    }
   ],
   "source": [
    "import pandas as pd\n",
    "import numpy as np\n",
    "import matplotlib.pyplot as plt\n",
    "%matplotlib inline\n",
    "\n",
    "movies = pd.read_csv('data/movie.csv')\n",
    "movies.head()"
   ],
   "metadata": {
    "collapsed": false,
    "pycharm": {
     "name": "#%%\n"
    }
   }
  },
  {
   "cell_type": "markdown",
   "source": [
    "# Agrupamiento, filtrado y transformación\n",
    "Para hacer el análisis de datos tendremos que dividir nuestros datos en grupos para poder hacer cálculo sobre dichos\n",
    "grupos. Los grupos se definirán mediante una o varias columnas que crearán un objeto para manejar el grupo.\n",
    "\n",
    "La función que se usa para agrupar es **groupby**."
   ],
   "metadata": {
    "collapsed": false
   }
  },
  {
   "cell_type": "markdown",
   "source": [
    "## Agregación\n",
    "\n",
    "La primera tarea que se nos ocurre es la agregación.  Agragación es coombinar en un único resultado el grupo\n",
    "correspondiente, crando tantos valores como grupos haya creados.\n",
    "\n",
    "Por ejemplo, encontrar el máximo del mes, agrupando todos los datos en meses, por lo que aparecerán 12 valores.\n",
    "\n",
    "La agregación utiliza dos componentes, el primero indicarán la/las columna/s que se van a agrupar para crear los\n",
    "diferentes grupos. El segundo será la función que se usará con cada grupo para generar el valor buscado. Esta función\n",
    "puede ser una predefinida (mean, max, min, etc) o crada por nosotros."
   ],
   "metadata": {
    "collapsed": false,
    "pycharm": {
     "name": "#%% md\n"
    }
   }
  },
  {
   "cell_type": "code",
   "execution_count": 2,
   "outputs": [
    {
     "data": {
      "text/plain": "AIRLINE\nAA    5.542661\nAS   -0.833333\nB6    8.692593\nDL    0.339691\nEV    7.034580\nName: ARR_DELAY, dtype: float64"
     },
     "execution_count": 2,
     "metadata": {},
     "output_type": "execute_result"
    }
   ],
   "source": [
    "flights = pd.read_csv('data/flights.csv')\n",
    "flights.groupby('AIRLINE')['ARR_DELAY'].agg('mean').head()"
   ],
   "metadata": {
    "collapsed": false,
    "pycharm": {
     "name": "#%%\n"
    }
   }
  },
  {
   "cell_type": "code",
   "execution_count": 3,
   "outputs": [
    {
     "data": {
      "text/plain": "AIRLINE\nAA    5.542661\nAS   -0.833333\nB6    8.692593\nDL    0.339691\nEV    7.034580\nName: ARR_DELAY, dtype: float64"
     },
     "execution_count": 3,
     "metadata": {},
     "output_type": "execute_result"
    }
   ],
   "source": [
    "flights.groupby('AIRLINE')['ARR_DELAY'].agg(np.mean).head()"
   ],
   "metadata": {
    "collapsed": false,
    "pycharm": {
     "name": "#%%\n"
    }
   }
  },
  {
   "cell_type": "code",
   "execution_count": 4,
   "outputs": [
    {
     "data": {
      "text/plain": "AIRLINE\nAA    5.542661\nAS   -0.833333\nB6    8.692593\nDL    0.339691\nEV    7.034580\nName: ARR_DELAY, dtype: float64"
     },
     "execution_count": 4,
     "metadata": {},
     "output_type": "execute_result"
    }
   ],
   "source": [
    "flights.groupby('AIRLINE')['ARR_DELAY'].mean().head()\n"
   ],
   "metadata": {
    "collapsed": false,
    "pycharm": {
     "name": "#%%\n"
    }
   }
  },
  {
   "cell_type": "markdown",
   "source": [
    "## Agrupamiento y agregación con varias columnas y funciones\n",
    "Es posible hacer los grupos con varias columnas, siendo un grupo cada conjunto valores de todas las columnas único."
   ],
   "metadata": {
    "collapsed": false
   }
  },
  {
   "cell_type": "code",
   "execution_count": 5,
   "outputs": [
    {
     "data": {
      "text/plain": "AIRLINE  WEEKDAY\nAA       1          41\n         2           9\n         3          16\n         4          20\n         5          18\n                    ..\nWN       3          18\n         4          10\n         5           7\n         6          10\n         7           7\nName: CANCELLED, Length: 98, dtype: int64"
     },
     "execution_count": 5,
     "metadata": {},
     "output_type": "execute_result"
    }
   ],
   "source": [
    "# Varias columnas\n",
    "flights.groupby(['AIRLINE', 'WEEKDAY'])['CANCELLED'].sum()"
   ],
   "metadata": {
    "collapsed": false,
    "pycharm": {
     "name": "#%%\n"
    }
   }
  },
  {
   "cell_type": "code",
   "execution_count": 6,
   "outputs": [
    {
     "data": {
      "text/plain": "                 sum      mean\nAIRLINE WEEKDAY               \nAA      1         41  0.032106\n        2          9  0.007341\n        3         16  0.011949\n        4         20  0.015004\n        5         18  0.014151\n...              ...       ...\nWN      3         18  0.014118\n        4         10  0.007911\n        5          7  0.005828\n        6         10  0.010132\n        7          7  0.006066\n\n[98 rows x 2 columns]",
      "text/html": "<div>\n<style scoped>\n    .dataframe tbody tr th:only-of-type {\n        vertical-align: middle;\n    }\n\n    .dataframe tbody tr th {\n        vertical-align: top;\n    }\n\n    .dataframe thead th {\n        text-align: right;\n    }\n</style>\n<table border=\"1\" class=\"dataframe\">\n  <thead>\n    <tr style=\"text-align: right;\">\n      <th></th>\n      <th></th>\n      <th>sum</th>\n      <th>mean</th>\n    </tr>\n    <tr>\n      <th>AIRLINE</th>\n      <th>WEEKDAY</th>\n      <th></th>\n      <th></th>\n    </tr>\n  </thead>\n  <tbody>\n    <tr>\n      <th rowspan=\"5\" valign=\"top\">AA</th>\n      <th>1</th>\n      <td>41</td>\n      <td>0.032106</td>\n    </tr>\n    <tr>\n      <th>2</th>\n      <td>9</td>\n      <td>0.007341</td>\n    </tr>\n    <tr>\n      <th>3</th>\n      <td>16</td>\n      <td>0.011949</td>\n    </tr>\n    <tr>\n      <th>4</th>\n      <td>20</td>\n      <td>0.015004</td>\n    </tr>\n    <tr>\n      <th>5</th>\n      <td>18</td>\n      <td>0.014151</td>\n    </tr>\n    <tr>\n      <th>...</th>\n      <th>...</th>\n      <td>...</td>\n      <td>...</td>\n    </tr>\n    <tr>\n      <th rowspan=\"5\" valign=\"top\">WN</th>\n      <th>3</th>\n      <td>18</td>\n      <td>0.014118</td>\n    </tr>\n    <tr>\n      <th>4</th>\n      <td>10</td>\n      <td>0.007911</td>\n    </tr>\n    <tr>\n      <th>5</th>\n      <td>7</td>\n      <td>0.005828</td>\n    </tr>\n    <tr>\n      <th>6</th>\n      <td>10</td>\n      <td>0.010132</td>\n    </tr>\n    <tr>\n      <th>7</th>\n      <td>7</td>\n      <td>0.006066</td>\n    </tr>\n  </tbody>\n</table>\n<p>98 rows × 2 columns</p>\n</div>"
     },
     "execution_count": 6,
     "metadata": {},
     "output_type": "execute_result"
    }
   ],
   "source": [
    "#Varias funciones, varias columnas\n",
    "flights.groupby(['AIRLINE', 'WEEKDAY'])['CANCELLED'].agg(['sum', 'mean'])"
   ],
   "metadata": {
    "collapsed": false,
    "pycharm": {
     "name": "#%%\n"
    }
   }
  },
  {
   "cell_type": "code",
   "execution_count": 7,
   "outputs": [
    {
     "data": {
      "text/plain": "                 CANCELLED                   AIR_TIME            \n                       sum      mean size        mean         var\nORG_AIR DEST_AIR                                                 \nATL     ABE              0  0.000000   31   96.387097   45.778495\n        ABQ              0  0.000000   16  170.500000   87.866667\n        ABY              0  0.000000   19   28.578947    6.590643\n        ACY              0  0.000000    6   91.333333   11.466667\n        AEX              0  0.000000   40   78.725000   47.332692\n...                    ...       ...  ...         ...         ...\nSFO     SNA              4  0.032787  122   64.059322   11.338331\n        STL              0  0.000000   20  198.900000  101.042105\n        SUN              0  0.000000   10   78.000000   25.777778\n        TUS              0  0.000000   20  100.200000   35.221053\n        XNA              0  0.000000    2  173.500000    0.500000\n\n[1130 rows x 5 columns]",
      "text/html": "<div>\n<style scoped>\n    .dataframe tbody tr th:only-of-type {\n        vertical-align: middle;\n    }\n\n    .dataframe tbody tr th {\n        vertical-align: top;\n    }\n\n    .dataframe thead tr th {\n        text-align: left;\n    }\n\n    .dataframe thead tr:last-of-type th {\n        text-align: right;\n    }\n</style>\n<table border=\"1\" class=\"dataframe\">\n  <thead>\n    <tr>\n      <th></th>\n      <th></th>\n      <th colspan=\"3\" halign=\"left\">CANCELLED</th>\n      <th colspan=\"2\" halign=\"left\">AIR_TIME</th>\n    </tr>\n    <tr>\n      <th></th>\n      <th></th>\n      <th>sum</th>\n      <th>mean</th>\n      <th>size</th>\n      <th>mean</th>\n      <th>var</th>\n    </tr>\n    <tr>\n      <th>ORG_AIR</th>\n      <th>DEST_AIR</th>\n      <th></th>\n      <th></th>\n      <th></th>\n      <th></th>\n      <th></th>\n    </tr>\n  </thead>\n  <tbody>\n    <tr>\n      <th rowspan=\"5\" valign=\"top\">ATL</th>\n      <th>ABE</th>\n      <td>0</td>\n      <td>0.000000</td>\n      <td>31</td>\n      <td>96.387097</td>\n      <td>45.778495</td>\n    </tr>\n    <tr>\n      <th>ABQ</th>\n      <td>0</td>\n      <td>0.000000</td>\n      <td>16</td>\n      <td>170.500000</td>\n      <td>87.866667</td>\n    </tr>\n    <tr>\n      <th>ABY</th>\n      <td>0</td>\n      <td>0.000000</td>\n      <td>19</td>\n      <td>28.578947</td>\n      <td>6.590643</td>\n    </tr>\n    <tr>\n      <th>ACY</th>\n      <td>0</td>\n      <td>0.000000</td>\n      <td>6</td>\n      <td>91.333333</td>\n      <td>11.466667</td>\n    </tr>\n    <tr>\n      <th>AEX</th>\n      <td>0</td>\n      <td>0.000000</td>\n      <td>40</td>\n      <td>78.725000</td>\n      <td>47.332692</td>\n    </tr>\n    <tr>\n      <th>...</th>\n      <th>...</th>\n      <td>...</td>\n      <td>...</td>\n      <td>...</td>\n      <td>...</td>\n      <td>...</td>\n    </tr>\n    <tr>\n      <th rowspan=\"5\" valign=\"top\">SFO</th>\n      <th>SNA</th>\n      <td>4</td>\n      <td>0.032787</td>\n      <td>122</td>\n      <td>64.059322</td>\n      <td>11.338331</td>\n    </tr>\n    <tr>\n      <th>STL</th>\n      <td>0</td>\n      <td>0.000000</td>\n      <td>20</td>\n      <td>198.900000</td>\n      <td>101.042105</td>\n    </tr>\n    <tr>\n      <th>SUN</th>\n      <td>0</td>\n      <td>0.000000</td>\n      <td>10</td>\n      <td>78.000000</td>\n      <td>25.777778</td>\n    </tr>\n    <tr>\n      <th>TUS</th>\n      <td>0</td>\n      <td>0.000000</td>\n      <td>20</td>\n      <td>100.200000</td>\n      <td>35.221053</td>\n    </tr>\n    <tr>\n      <th>XNA</th>\n      <td>0</td>\n      <td>0.000000</td>\n      <td>2</td>\n      <td>173.500000</td>\n      <td>0.500000</td>\n    </tr>\n  </tbody>\n</table>\n<p>1130 rows × 5 columns</p>\n</div>"
     },
     "execution_count": 7,
     "metadata": {},
     "output_type": "execute_result"
    }
   ],
   "source": [
    "#Varias funciones, varias columnas, diferentes funciones por columnas\n",
    "group_cols = ['ORG_AIR', 'DEST_AIR']\n",
    "agg_dict = {'CANCELLED':['sum', 'mean', 'size'],\n",
    "            'AIR_TIME':['mean', 'var']}\n",
    "flights.groupby(group_cols).agg(agg_dict)"
   ],
   "metadata": {
    "collapsed": false,
    "pycharm": {
     "name": "#%%\n"
    }
   }
  },
  {
   "cell_type": "markdown",
   "source": [
    "## Eliminar el MultiIndex después de agrupar\n",
    "Cuando se agrupa un Dataframe se crea un objeto MultiIndex para la gestión del mismo. Los Datasets con MultiIndex son\n",
    "más difíciles de recorrer y tienen nombres de columnas y filas confusos."
   ],
   "metadata": {
    "collapsed": false
   }
  },
  {
   "cell_type": "code",
   "execution_count": 8,
   "outputs": [
    {
     "data": {
      "text/plain": "                 CANCELLED              AIR_TIME           \n                       sum mean size        mean        var\nORG_AIR DEST_AIR                                           \nATL     ABE              0  0.0   31   96.387097  45.778495\n        ABQ              0  0.0   16  170.500000  87.866667\n        ABY              0  0.0   19   28.578947   6.590643\n        ACY              0  0.0    6   91.333333  11.466667\n        AEX              0  0.0   40   78.725000  47.332692",
      "text/html": "<div>\n<style scoped>\n    .dataframe tbody tr th:only-of-type {\n        vertical-align: middle;\n    }\n\n    .dataframe tbody tr th {\n        vertical-align: top;\n    }\n\n    .dataframe thead tr th {\n        text-align: left;\n    }\n\n    .dataframe thead tr:last-of-type th {\n        text-align: right;\n    }\n</style>\n<table border=\"1\" class=\"dataframe\">\n  <thead>\n    <tr>\n      <th></th>\n      <th></th>\n      <th colspan=\"3\" halign=\"left\">CANCELLED</th>\n      <th colspan=\"2\" halign=\"left\">AIR_TIME</th>\n    </tr>\n    <tr>\n      <th></th>\n      <th></th>\n      <th>sum</th>\n      <th>mean</th>\n      <th>size</th>\n      <th>mean</th>\n      <th>var</th>\n    </tr>\n    <tr>\n      <th>ORG_AIR</th>\n      <th>DEST_AIR</th>\n      <th></th>\n      <th></th>\n      <th></th>\n      <th></th>\n      <th></th>\n    </tr>\n  </thead>\n  <tbody>\n    <tr>\n      <th rowspan=\"5\" valign=\"top\">ATL</th>\n      <th>ABE</th>\n      <td>0</td>\n      <td>0.0</td>\n      <td>31</td>\n      <td>96.387097</td>\n      <td>45.778495</td>\n    </tr>\n    <tr>\n      <th>ABQ</th>\n      <td>0</td>\n      <td>0.0</td>\n      <td>16</td>\n      <td>170.500000</td>\n      <td>87.866667</td>\n    </tr>\n    <tr>\n      <th>ABY</th>\n      <td>0</td>\n      <td>0.0</td>\n      <td>19</td>\n      <td>28.578947</td>\n      <td>6.590643</td>\n    </tr>\n    <tr>\n      <th>ACY</th>\n      <td>0</td>\n      <td>0.0</td>\n      <td>6</td>\n      <td>91.333333</td>\n      <td>11.466667</td>\n    </tr>\n    <tr>\n      <th>AEX</th>\n      <td>0</td>\n      <td>0.0</td>\n      <td>40</td>\n      <td>78.725000</td>\n      <td>47.332692</td>\n    </tr>\n  </tbody>\n</table>\n</div>"
     },
     "execution_count": 8,
     "metadata": {},
     "output_type": "execute_result"
    }
   ],
   "source": [
    "group = flights.groupby(group_cols).agg(agg_dict)\n",
    "group.head()"
   ],
   "metadata": {
    "collapsed": false,
    "pycharm": {
     "name": "#%%\n"
    }
   }
  },
  {
   "cell_type": "code",
   "execution_count": 9,
   "outputs": [
    {
     "data": {
      "text/plain": "  ORG_AIR DEST_AIR  CANCELLED_sum  CANCELLED_mean  CANCELLED_size  \\\n0     ATL      ABE              0             0.0              31   \n1     ATL      ABQ              0             0.0              16   \n2     ATL      ABY              0             0.0              19   \n3     ATL      ACY              0             0.0               6   \n4     ATL      AEX              0             0.0              40   \n\n   AIR_TIME_mean  AIR_TIME_var  \n0      96.387097     45.778495  \n1     170.500000     87.866667  \n2      28.578947      6.590643  \n3      91.333333     11.466667  \n4      78.725000     47.332692  ",
      "text/html": "<div>\n<style scoped>\n    .dataframe tbody tr th:only-of-type {\n        vertical-align: middle;\n    }\n\n    .dataframe tbody tr th {\n        vertical-align: top;\n    }\n\n    .dataframe thead th {\n        text-align: right;\n    }\n</style>\n<table border=\"1\" class=\"dataframe\">\n  <thead>\n    <tr style=\"text-align: right;\">\n      <th></th>\n      <th>ORG_AIR</th>\n      <th>DEST_AIR</th>\n      <th>CANCELLED_sum</th>\n      <th>CANCELLED_mean</th>\n      <th>CANCELLED_size</th>\n      <th>AIR_TIME_mean</th>\n      <th>AIR_TIME_var</th>\n    </tr>\n  </thead>\n  <tbody>\n    <tr>\n      <th>0</th>\n      <td>ATL</td>\n      <td>ABE</td>\n      <td>0</td>\n      <td>0.0</td>\n      <td>31</td>\n      <td>96.387097</td>\n      <td>45.778495</td>\n    </tr>\n    <tr>\n      <th>1</th>\n      <td>ATL</td>\n      <td>ABQ</td>\n      <td>0</td>\n      <td>0.0</td>\n      <td>16</td>\n      <td>170.500000</td>\n      <td>87.866667</td>\n    </tr>\n    <tr>\n      <th>2</th>\n      <td>ATL</td>\n      <td>ABY</td>\n      <td>0</td>\n      <td>0.0</td>\n      <td>19</td>\n      <td>28.578947</td>\n      <td>6.590643</td>\n    </tr>\n    <tr>\n      <th>3</th>\n      <td>ATL</td>\n      <td>ACY</td>\n      <td>0</td>\n      <td>0.0</td>\n      <td>6</td>\n      <td>91.333333</td>\n      <td>11.466667</td>\n    </tr>\n    <tr>\n      <th>4</th>\n      <td>ATL</td>\n      <td>AEX</td>\n      <td>0</td>\n      <td>0.0</td>\n      <td>40</td>\n      <td>78.725000</td>\n      <td>47.332692</td>\n    </tr>\n  </tbody>\n</table>\n</div>"
     },
     "execution_count": 9,
     "metadata": {},
     "output_type": "execute_result"
    }
   ],
   "source": [
    "level0 = group.columns.get_level_values(0)\n",
    "level1 = group.columns.get_level_values(1)\n",
    "group.columns = level0 + '_' + level1\n",
    "group.reset_index(inplace=True)\n",
    "group.head()\n"
   ],
   "metadata": {
    "collapsed": false,
    "pycharm": {
     "name": "#%%\n"
    }
   }
  },
  {
   "cell_type": "markdown",
   "source": [
    "## Funciones de agración propias\n",
    "Podemos crear una función de agragación propia. Esta función debe recoger una Serie para realizar las operaciones\n",
    "necesarias, generando un único valor."
   ],
   "metadata": {
    "collapsed": false
   }
  },
  {
   "cell_type": "code",
   "execution_count": 10,
   "outputs": [
    {
     "data": {
      "text/plain": "ORG_AIR\nATL    8.5\nDEN    7.5\nDFW    6.8\nIAH    6.6\nLAS    3.4\nName: AIR_TIME, dtype: float64"
     },
     "execution_count": 10,
     "metadata": {},
     "output_type": "execute_result"
    }
   ],
   "source": [
    "def max_deviation(s):\n",
    "    std_score = (s - s.mean()) / s.std()\n",
    "    return std_score.abs().max()\n",
    "flights.groupby('ORG_AIR')['AIR_TIME'].agg(max_deviation).round(1).head()\n"
   ],
   "metadata": {
    "collapsed": false,
    "pycharm": {
     "name": "#%%\n"
    }
   }
  },
  {
   "cell_type": "markdown",
   "source": [
    "## Propiedades del objeto groupby"
   ],
   "metadata": {
    "collapsed": false
   }
  },
  {
   "cell_type": "code",
   "execution_count": 11,
   "outputs": [
    {
     "data": {
      "text/plain": "1130"
     },
     "execution_count": 11,
     "metadata": {},
     "output_type": "execute_result"
    }
   ],
   "source": [
    "group = flights.groupby(group_cols)\n",
    "group.ngroups"
   ],
   "metadata": {
    "collapsed": false,
    "pycharm": {
     "name": "#%%\n"
    }
   }
  },
  {
   "cell_type": "code",
   "execution_count": 12,
   "outputs": [
    {
     "data": {
      "text/plain": "[('ATL', 'ABE'),\n ('ATL', 'ABQ'),\n ('ATL', 'ABY'),\n ('ATL', 'ACY'),\n ('ATL', 'AEX'),\n ('ATL', 'AGS')]"
     },
     "execution_count": 12,
     "metadata": {},
     "output_type": "execute_result"
    }
   ],
   "source": [
    "list(group.groups.keys())[:6]\n"
   ],
   "metadata": {
    "collapsed": false,
    "pycharm": {
     "name": "#%%\n"
    }
   }
  },
  {
   "cell_type": "markdown",
   "source": [
    "## Grouping by continuous variables\n",
    "Qué pasa cuando en los valores de una columna no hay repetidos. Para esos casos podemos usar la función **cut** para\n",
    "\"discretizar\" los valores de una columna."
   ],
   "metadata": {
    "collapsed": false,
    "pycharm": {
     "name": "#%% md\n"
    }
   }
  },
  {
   "cell_type": "code",
   "execution_count": 13,
   "outputs": [
    {
     "data": {
      "text/plain": "0     (500.0, 1000.0]\n1    (1000.0, 2000.0]\n2     (500.0, 1000.0]\n3    (1000.0, 2000.0]\n4    (1000.0, 2000.0]\nName: DIST, dtype: category\nCategories (5, interval[float64]): [(-inf, 200.0] < (200.0, 500.0] < (500.0, 1000.0] < (1000.0, 2000.0] < (2000.0, inf]]"
     },
     "execution_count": 13,
     "metadata": {},
     "output_type": "execute_result"
    }
   ],
   "source": [
    "flights = pd.read_csv('data/flights.csv')\n",
    "flights.dropna(subset=['DIST'], inplace=True)\n",
    "bins = [-np.inf, 200, 500, 1000, 2000, np.inf]\n",
    "cuts = pd.cut(flights['DIST'], bins=bins)\n",
    "cuts.head()"
   ],
   "metadata": {
    "collapsed": false,
    "pycharm": {
     "name": "#%%\n"
    }
   }
  },
  {
   "cell_type": "code",
   "execution_count": 14,
   "outputs": [
    {
     "data": {
      "text/plain": "(500.0, 1000.0]     20659\n(200.0, 500.0]      15874\n(1000.0, 2000.0]    14186\n(2000.0, inf]        4054\n(-inf, 200.0]        3719\nName: DIST, dtype: int64"
     },
     "execution_count": 14,
     "metadata": {},
     "output_type": "execute_result"
    }
   ],
   "source": [
    "cuts.value_counts()"
   ],
   "metadata": {
    "collapsed": false,
    "pycharm": {
     "name": "#%%\n"
    }
   }
  },
  {
   "cell_type": "code",
   "execution_count": 15,
   "outputs": [
    {
     "data": {
      "text/plain": "DIST              AIRLINE\n(-inf, 200.0]     OO         0.326\n                  EV         0.289\n                  MQ         0.211\n                  DL         0.086\n                  AA         0.052\n                  UA         0.027\n                  WN         0.009\n(200.0, 500.0]    WN         0.194\n                  DL         0.189\n                  OO         0.159\n                  EV         0.156\n                  MQ         0.100\n                  AA         0.071\n                  UA         0.062\n                  VX         0.028\n                  US         0.016\n                  NK         0.012\n                  B6         0.007\n                  F9         0.005\n                  AS         0.001\n(500.0, 1000.0]   DL         0.206\n                  AA         0.144\n                  WN         0.138\n                  UA         0.131\n                  OO         0.106\n                  EV         0.101\n                  MQ         0.051\n                  F9         0.038\n                  NK         0.030\n                  US         0.025\n                  AS         0.023\n                  VX         0.004\n                  B6         0.003\n(1000.0, 2000.0]  AA         0.264\n                  UA         0.199\n                  DL         0.165\n                  WN         0.160\n                  OO         0.046\n                  NK         0.045\n                  US         0.040\n                  F9         0.031\n                  AS         0.016\n                  EV         0.016\n                  VX         0.012\n                  B6         0.003\n                  MQ         0.003\n(2000.0, inf]     UA         0.289\n                  AA         0.212\n                  DL         0.171\n                  B6         0.080\n                  VX         0.074\n                  US         0.065\n                  WN         0.046\n                  HA         0.028\n                  NK         0.019\n                  AS         0.012\n                  F9         0.004\nName: AIRLINE, dtype: float64"
     },
     "execution_count": 15,
     "metadata": {},
     "output_type": "execute_result"
    }
   ],
   "source": [
    "flights.groupby(cuts)['AIRLINE'].value_counts(normalize=True).round(3)\n",
    "\n",
    "\n"
   ],
   "metadata": {
    "collapsed": false,
    "pycharm": {
     "name": "#%%\n"
    }
   }
  }
 ],
 "metadata": {
  "kernelspec": {
   "display_name": "Python 3",
   "language": "python",
   "name": "python3"
  },
  "language_info": {
   "codemirror_mode": {
    "name": "ipython",
    "version": 2
   },
   "file_extension": ".py",
   "mimetype": "text/x-python",
   "name": "python",
   "nbconvert_exporter": "python",
   "pygments_lexer": "ipython2",
   "version": "2.7.6"
  }
 },
 "nbformat": 4,
 "nbformat_minor": 0
}