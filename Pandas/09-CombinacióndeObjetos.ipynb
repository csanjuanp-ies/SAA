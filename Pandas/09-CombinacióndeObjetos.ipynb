{
 "cells": [
  {
   "cell_type": "code",
   "execution_count": 1,
   "outputs": [],
   "source": [
    "import pandas as pd\n",
    "import numpy as np\n",
    "import matplotlib.pyplot as plt\n",
    "%matplotlib inline\n"
   ],
   "metadata": {
    "collapsed": false,
    "pycharm": {
     "name": "#%%\n"
    }
   }
  },
  {
   "cell_type": "markdown",
   "source": [
    "# Combinación de objetos\n",
    "## Añadir nuevas filas"
   ],
   "metadata": {
    "collapsed": false,
    "pycharm": {
     "name": "#%% md\n"
    }
   }
  },
  {
   "cell_type": "code",
   "execution_count": 2,
   "outputs": [
    {
     "data": {
      "text/plain": "       Name  Age\n0  Cornelia   70\n1     Abbas   69\n2  Penelope    4\n3      Niko    2",
      "text/html": "<div>\n<style scoped>\n    .dataframe tbody tr th:only-of-type {\n        vertical-align: middle;\n    }\n\n    .dataframe tbody tr th {\n        vertical-align: top;\n    }\n\n    .dataframe thead th {\n        text-align: right;\n    }\n</style>\n<table border=\"1\" class=\"dataframe\">\n  <thead>\n    <tr style=\"text-align: right;\">\n      <th></th>\n      <th>Name</th>\n      <th>Age</th>\n    </tr>\n  </thead>\n  <tbody>\n    <tr>\n      <th>0</th>\n      <td>Cornelia</td>\n      <td>70</td>\n    </tr>\n    <tr>\n      <th>1</th>\n      <td>Abbas</td>\n      <td>69</td>\n    </tr>\n    <tr>\n      <th>2</th>\n      <td>Penelope</td>\n      <td>4</td>\n    </tr>\n    <tr>\n      <th>3</th>\n      <td>Niko</td>\n      <td>2</td>\n    </tr>\n  </tbody>\n</table>\n</div>"
     },
     "execution_count": 2,
     "metadata": {},
     "output_type": "execute_result"
    }
   ],
   "source": [
    "names = pd.read_csv('data/names.csv')\n",
    "names"
   ],
   "metadata": {
    "collapsed": false,
    "pycharm": {
     "name": "#%%\n"
    }
   }
  },
  {
   "cell_type": "code",
   "execution_count": 3,
   "outputs": [
    {
     "data": {
      "text/plain": "       Name  Age\n0  Cornelia   70\n1     Abbas   69\n2  Penelope    4\n3      Niko    2\n4      Aria    1",
      "text/html": "<div>\n<style scoped>\n    .dataframe tbody tr th:only-of-type {\n        vertical-align: middle;\n    }\n\n    .dataframe tbody tr th {\n        vertical-align: top;\n    }\n\n    .dataframe thead th {\n        text-align: right;\n    }\n</style>\n<table border=\"1\" class=\"dataframe\">\n  <thead>\n    <tr style=\"text-align: right;\">\n      <th></th>\n      <th>Name</th>\n      <th>Age</th>\n    </tr>\n  </thead>\n  <tbody>\n    <tr>\n      <th>0</th>\n      <td>Cornelia</td>\n      <td>70</td>\n    </tr>\n    <tr>\n      <th>1</th>\n      <td>Abbas</td>\n      <td>69</td>\n    </tr>\n    <tr>\n      <th>2</th>\n      <td>Penelope</td>\n      <td>4</td>\n    </tr>\n    <tr>\n      <th>3</th>\n      <td>Niko</td>\n      <td>2</td>\n    </tr>\n    <tr>\n      <th>4</th>\n      <td>Aria</td>\n      <td>1</td>\n    </tr>\n  </tbody>\n</table>\n</div>"
     },
     "execution_count": 3,
     "metadata": {},
     "output_type": "execute_result"
    }
   ],
   "source": [
    "names.loc[len(names)] = ['Aria', 1]\n",
    "names"
   ],
   "metadata": {
    "collapsed": false,
    "pycharm": {
     "name": "#%%\n"
    }
   }
  },
  {
   "cell_type": "code",
   "execution_count": 4,
   "outputs": [
    {
     "data": {
      "text/plain": "          Name  Age\n0     Cornelia   70\n1        Abbas   69\n2     Penelope    4\n3         Niko    2\n4         Aria    1\nfive      Zach    3",
      "text/html": "<div>\n<style scoped>\n    .dataframe tbody tr th:only-of-type {\n        vertical-align: middle;\n    }\n\n    .dataframe tbody tr th {\n        vertical-align: top;\n    }\n\n    .dataframe thead th {\n        text-align: right;\n    }\n</style>\n<table border=\"1\" class=\"dataframe\">\n  <thead>\n    <tr style=\"text-align: right;\">\n      <th></th>\n      <th>Name</th>\n      <th>Age</th>\n    </tr>\n  </thead>\n  <tbody>\n    <tr>\n      <th>0</th>\n      <td>Cornelia</td>\n      <td>70</td>\n    </tr>\n    <tr>\n      <th>1</th>\n      <td>Abbas</td>\n      <td>69</td>\n    </tr>\n    <tr>\n      <th>2</th>\n      <td>Penelope</td>\n      <td>4</td>\n    </tr>\n    <tr>\n      <th>3</th>\n      <td>Niko</td>\n      <td>2</td>\n    </tr>\n    <tr>\n      <th>4</th>\n      <td>Aria</td>\n      <td>1</td>\n    </tr>\n    <tr>\n      <th>five</th>\n      <td>Zach</td>\n      <td>3</td>\n    </tr>\n  </tbody>\n</table>\n</div>"
     },
     "execution_count": 4,
     "metadata": {},
     "output_type": "execute_result"
    }
   ],
   "source": [
    "names.loc['five'] = ['Zach', 3]\n",
    "names"
   ],
   "metadata": {
    "collapsed": false,
    "pycharm": {
     "name": "#%%\n"
    }
   }
  },
  {
   "cell_type": "code",
   "execution_count": 5,
   "outputs": [
    {
     "data": {
      "text/plain": "          Name  Age\n0     Cornelia   70\n1        Abbas   69\n2     Penelope    4\n3         Niko    2\n4         Aria    1\nfive      Zach    3\n6         Zayd   22",
      "text/html": "<div>\n<style scoped>\n    .dataframe tbody tr th:only-of-type {\n        vertical-align: middle;\n    }\n\n    .dataframe tbody tr th {\n        vertical-align: top;\n    }\n\n    .dataframe thead th {\n        text-align: right;\n    }\n</style>\n<table border=\"1\" class=\"dataframe\">\n  <thead>\n    <tr style=\"text-align: right;\">\n      <th></th>\n      <th>Name</th>\n      <th>Age</th>\n    </tr>\n  </thead>\n  <tbody>\n    <tr>\n      <th>0</th>\n      <td>Cornelia</td>\n      <td>70</td>\n    </tr>\n    <tr>\n      <th>1</th>\n      <td>Abbas</td>\n      <td>69</td>\n    </tr>\n    <tr>\n      <th>2</th>\n      <td>Penelope</td>\n      <td>4</td>\n    </tr>\n    <tr>\n      <th>3</th>\n      <td>Niko</td>\n      <td>2</td>\n    </tr>\n    <tr>\n      <th>4</th>\n      <td>Aria</td>\n      <td>1</td>\n    </tr>\n    <tr>\n      <th>five</th>\n      <td>Zach</td>\n      <td>3</td>\n    </tr>\n    <tr>\n      <th>6</th>\n      <td>Zayd</td>\n      <td>22</td>\n    </tr>\n  </tbody>\n</table>\n</div>"
     },
     "execution_count": 5,
     "metadata": {},
     "output_type": "execute_result"
    }
   ],
   "source": [
    "names.loc[len(names)] = {'Name':'Zayd', 'Age':22}\n",
    "names"
   ],
   "metadata": {
    "collapsed": false,
    "pycharm": {
     "name": "#%%\n"
    }
   }
  },
  {
   "cell_type": "code",
   "execution_count": 6,
   "outputs": [
    {
     "data": {
      "text/plain": "       Name  Age\n0  Cornelia   70\n1     Abbas   69\n2  Penelope    4\n3      Niko    2\n4      Aria    1\n5      Zach    3\n6      Zayd   22\n7      Zayd    4\n8      Zayd    5",
      "text/html": "<div>\n<style scoped>\n    .dataframe tbody tr th:only-of-type {\n        vertical-align: middle;\n    }\n\n    .dataframe tbody tr th {\n        vertical-align: top;\n    }\n\n    .dataframe thead th {\n        text-align: right;\n    }\n</style>\n<table border=\"1\" class=\"dataframe\">\n  <thead>\n    <tr style=\"text-align: right;\">\n      <th></th>\n      <th>Name</th>\n      <th>Age</th>\n    </tr>\n  </thead>\n  <tbody>\n    <tr>\n      <th>0</th>\n      <td>Cornelia</td>\n      <td>70</td>\n    </tr>\n    <tr>\n      <th>1</th>\n      <td>Abbas</td>\n      <td>69</td>\n    </tr>\n    <tr>\n      <th>2</th>\n      <td>Penelope</td>\n      <td>4</td>\n    </tr>\n    <tr>\n      <th>3</th>\n      <td>Niko</td>\n      <td>2</td>\n    </tr>\n    <tr>\n      <th>4</th>\n      <td>Aria</td>\n      <td>1</td>\n    </tr>\n    <tr>\n      <th>5</th>\n      <td>Zach</td>\n      <td>3</td>\n    </tr>\n    <tr>\n      <th>6</th>\n      <td>Zayd</td>\n      <td>22</td>\n    </tr>\n    <tr>\n      <th>7</th>\n      <td>Zayd</td>\n      <td>4</td>\n    </tr>\n    <tr>\n      <th>8</th>\n      <td>Zayd</td>\n      <td>5</td>\n    </tr>\n  </tbody>\n</table>\n</div>"
     },
     "execution_count": 6,
     "metadata": {},
     "output_type": "execute_result"
    }
   ],
   "source": [
    "names.append([{'Name':'Zayd', 'Age':4}, {'Name':'Zayd', 'Age':5}], ignore_index=True)\n",
    "\n"
   ],
   "metadata": {
    "collapsed": false,
    "pycharm": {
     "name": "#%%\n"
    }
   }
  },
  {
   "cell_type": "markdown",
   "source": [
    "## Concatenando Dataframes"
   ],
   "metadata": {
    "collapsed": false
   }
  },
  {
   "cell_type": "code",
   "execution_count": 7,
   "outputs": [
    {
     "data": {
      "text/plain": "        Shares  Low  High\nSymbol                   \nAAPL        80   95   110\nTSLA        50   80   130\nWMT         40   55    70",
      "text/html": "<div>\n<style scoped>\n    .dataframe tbody tr th:only-of-type {\n        vertical-align: middle;\n    }\n\n    .dataframe tbody tr th {\n        vertical-align: top;\n    }\n\n    .dataframe thead th {\n        text-align: right;\n    }\n</style>\n<table border=\"1\" class=\"dataframe\">\n  <thead>\n    <tr style=\"text-align: right;\">\n      <th></th>\n      <th>Shares</th>\n      <th>Low</th>\n      <th>High</th>\n    </tr>\n    <tr>\n      <th>Symbol</th>\n      <th></th>\n      <th></th>\n      <th></th>\n    </tr>\n  </thead>\n  <tbody>\n    <tr>\n      <th>AAPL</th>\n      <td>80</td>\n      <td>95</td>\n      <td>110</td>\n    </tr>\n    <tr>\n      <th>TSLA</th>\n      <td>50</td>\n      <td>80</td>\n      <td>130</td>\n    </tr>\n    <tr>\n      <th>WMT</th>\n      <td>40</td>\n      <td>55</td>\n      <td>70</td>\n    </tr>\n  </tbody>\n</table>\n</div>"
     },
     "execution_count": 7,
     "metadata": {},
     "output_type": "execute_result"
    }
   ],
   "source": [
    "stocks_2016 = pd.read_csv('data/stocks_2016.csv', index_col='Symbol')\n",
    "stocks_2016"
   ],
   "metadata": {
    "collapsed": false,
    "pycharm": {
     "name": "#%%\n"
    }
   }
  },
  {
   "cell_type": "code",
   "execution_count": 8,
   "outputs": [
    {
     "data": {
      "text/plain": "        Shares  Low  High\nSymbol                   \nAAPL        50  120   140\nGE         100   30    40\nIBM         87   75    95\nSLB         20   55    85\nTXN        500   15    23\nTSLA       100  100   300",
      "text/html": "<div>\n<style scoped>\n    .dataframe tbody tr th:only-of-type {\n        vertical-align: middle;\n    }\n\n    .dataframe tbody tr th {\n        vertical-align: top;\n    }\n\n    .dataframe thead th {\n        text-align: right;\n    }\n</style>\n<table border=\"1\" class=\"dataframe\">\n  <thead>\n    <tr style=\"text-align: right;\">\n      <th></th>\n      <th>Shares</th>\n      <th>Low</th>\n      <th>High</th>\n    </tr>\n    <tr>\n      <th>Symbol</th>\n      <th></th>\n      <th></th>\n      <th></th>\n    </tr>\n  </thead>\n  <tbody>\n    <tr>\n      <th>AAPL</th>\n      <td>50</td>\n      <td>120</td>\n      <td>140</td>\n    </tr>\n    <tr>\n      <th>GE</th>\n      <td>100</td>\n      <td>30</td>\n      <td>40</td>\n    </tr>\n    <tr>\n      <th>IBM</th>\n      <td>87</td>\n      <td>75</td>\n      <td>95</td>\n    </tr>\n    <tr>\n      <th>SLB</th>\n      <td>20</td>\n      <td>55</td>\n      <td>85</td>\n    </tr>\n    <tr>\n      <th>TXN</th>\n      <td>500</td>\n      <td>15</td>\n      <td>23</td>\n    </tr>\n    <tr>\n      <th>TSLA</th>\n      <td>100</td>\n      <td>100</td>\n      <td>300</td>\n    </tr>\n  </tbody>\n</table>\n</div>"
     },
     "execution_count": 8,
     "metadata": {},
     "output_type": "execute_result"
    }
   ],
   "source": [
    "stocks_2017 = pd.read_csv('data/stocks_2017.csv', index_col='Symbol')\n",
    "stocks_2017"
   ],
   "metadata": {
    "collapsed": false,
    "pycharm": {
     "name": "#%%\n"
    }
   }
  },
  {
   "cell_type": "code",
   "execution_count": 9,
   "outputs": [
    {
     "data": {
      "text/plain": "        Shares  Low  High\nSymbol                   \nAAPL        80   95   110\nTSLA        50   80   130\nWMT         40   55    70\nAAPL        50  120   140\nGE         100   30    40\nIBM         87   75    95\nSLB         20   55    85\nTXN        500   15    23\nTSLA       100  100   300",
      "text/html": "<div>\n<style scoped>\n    .dataframe tbody tr th:only-of-type {\n        vertical-align: middle;\n    }\n\n    .dataframe tbody tr th {\n        vertical-align: top;\n    }\n\n    .dataframe thead th {\n        text-align: right;\n    }\n</style>\n<table border=\"1\" class=\"dataframe\">\n  <thead>\n    <tr style=\"text-align: right;\">\n      <th></th>\n      <th>Shares</th>\n      <th>Low</th>\n      <th>High</th>\n    </tr>\n    <tr>\n      <th>Symbol</th>\n      <th></th>\n      <th></th>\n      <th></th>\n    </tr>\n  </thead>\n  <tbody>\n    <tr>\n      <th>AAPL</th>\n      <td>80</td>\n      <td>95</td>\n      <td>110</td>\n    </tr>\n    <tr>\n      <th>TSLA</th>\n      <td>50</td>\n      <td>80</td>\n      <td>130</td>\n    </tr>\n    <tr>\n      <th>WMT</th>\n      <td>40</td>\n      <td>55</td>\n      <td>70</td>\n    </tr>\n    <tr>\n      <th>AAPL</th>\n      <td>50</td>\n      <td>120</td>\n      <td>140</td>\n    </tr>\n    <tr>\n      <th>GE</th>\n      <td>100</td>\n      <td>30</td>\n      <td>40</td>\n    </tr>\n    <tr>\n      <th>IBM</th>\n      <td>87</td>\n      <td>75</td>\n      <td>95</td>\n    </tr>\n    <tr>\n      <th>SLB</th>\n      <td>20</td>\n      <td>55</td>\n      <td>85</td>\n    </tr>\n    <tr>\n      <th>TXN</th>\n      <td>500</td>\n      <td>15</td>\n      <td>23</td>\n    </tr>\n    <tr>\n      <th>TSLA</th>\n      <td>100</td>\n      <td>100</td>\n      <td>300</td>\n    </tr>\n  </tbody>\n</table>\n</div>"
     },
     "execution_count": 9,
     "metadata": {},
     "output_type": "execute_result"
    }
   ],
   "source": [
    "s_list = [stocks_2016, stocks_2017]\n",
    "# Uno de bajo del otro, el orden importa de los elementos de la lista\n",
    "pd.concat(s_list)"
   ],
   "metadata": {
    "collapsed": false,
    "pycharm": {
     "name": "#%%\n"
    }
   }
  },
  {
   "cell_type": "code",
   "execution_count": 10,
   "outputs": [
    {
     "data": {
      "text/plain": "             Shares  Low  High\nYear Symbol                   \n2016 AAPL        80   95   110\n     TSLA        50   80   130\n     WMT         40   55    70\n2017 AAPL        50  120   140\n     GE         100   30    40\n     IBM         87   75    95\n     SLB         20   55    85\n     TXN        500   15    23\n     TSLA       100  100   300",
      "text/html": "<div>\n<style scoped>\n    .dataframe tbody tr th:only-of-type {\n        vertical-align: middle;\n    }\n\n    .dataframe tbody tr th {\n        vertical-align: top;\n    }\n\n    .dataframe thead th {\n        text-align: right;\n    }\n</style>\n<table border=\"1\" class=\"dataframe\">\n  <thead>\n    <tr style=\"text-align: right;\">\n      <th></th>\n      <th></th>\n      <th>Shares</th>\n      <th>Low</th>\n      <th>High</th>\n    </tr>\n    <tr>\n      <th>Year</th>\n      <th>Symbol</th>\n      <th></th>\n      <th></th>\n      <th></th>\n    </tr>\n  </thead>\n  <tbody>\n    <tr>\n      <th rowspan=\"3\" valign=\"top\">2016</th>\n      <th>AAPL</th>\n      <td>80</td>\n      <td>95</td>\n      <td>110</td>\n    </tr>\n    <tr>\n      <th>TSLA</th>\n      <td>50</td>\n      <td>80</td>\n      <td>130</td>\n    </tr>\n    <tr>\n      <th>WMT</th>\n      <td>40</td>\n      <td>55</td>\n      <td>70</td>\n    </tr>\n    <tr>\n      <th rowspan=\"6\" valign=\"top\">2017</th>\n      <th>AAPL</th>\n      <td>50</td>\n      <td>120</td>\n      <td>140</td>\n    </tr>\n    <tr>\n      <th>GE</th>\n      <td>100</td>\n      <td>30</td>\n      <td>40</td>\n    </tr>\n    <tr>\n      <th>IBM</th>\n      <td>87</td>\n      <td>75</td>\n      <td>95</td>\n    </tr>\n    <tr>\n      <th>SLB</th>\n      <td>20</td>\n      <td>55</td>\n      <td>85</td>\n    </tr>\n    <tr>\n      <th>TXN</th>\n      <td>500</td>\n      <td>15</td>\n      <td>23</td>\n    </tr>\n    <tr>\n      <th>TSLA</th>\n      <td>100</td>\n      <td>100</td>\n      <td>300</td>\n    </tr>\n  </tbody>\n</table>\n</div>"
     },
     "execution_count": 10,
     "metadata": {},
     "output_type": "execute_result"
    }
   ],
   "source": [
    "# Añadiendo dos niveles de índices, uno año y otro symbol el índice del original\n",
    "# Uno a continuación de otro\n",
    "pd_concat =  pd.concat(s_list, keys=['2016', '2017'], names=['Year', 'Symbol'])\n",
    "pd_concat"
   ],
   "metadata": {
    "collapsed": false,
    "pycharm": {
     "name": "#%%\n"
    }
   }
  },
  {
   "cell_type": "code",
   "execution_count": 11,
   "outputs": [
    {
     "data": {
      "text/plain": "    Year Symbol    Type  Values\n0   2016   AAPL  Shares      80\n1   2016   AAPL     Low      95\n2   2016   AAPL    High     110\n3   2016   TSLA  Shares      50\n4   2016   TSLA     Low      80\n5   2016   TSLA    High     130\n6   2016    WMT  Shares      40\n7   2016    WMT     Low      55\n8   2016    WMT    High      70\n9   2017   AAPL  Shares      50\n10  2017   AAPL     Low     120\n11  2017   AAPL    High     140\n12  2017     GE  Shares     100\n13  2017     GE     Low      30\n14  2017     GE    High      40\n15  2017    IBM  Shares      87\n16  2017    IBM     Low      75\n17  2017    IBM    High      95\n18  2017    SLB  Shares      20\n19  2017    SLB     Low      55\n20  2017    SLB    High      85\n21  2017    TXN  Shares     500\n22  2017    TXN     Low      15\n23  2017    TXN    High      23\n24  2017   TSLA  Shares     100\n25  2017   TSLA     Low     100\n26  2017   TSLA    High     300",
      "text/html": "<div>\n<style scoped>\n    .dataframe tbody tr th:only-of-type {\n        vertical-align: middle;\n    }\n\n    .dataframe tbody tr th {\n        vertical-align: top;\n    }\n\n    .dataframe thead th {\n        text-align: right;\n    }\n</style>\n<table border=\"1\" class=\"dataframe\">\n  <thead>\n    <tr style=\"text-align: right;\">\n      <th></th>\n      <th>Year</th>\n      <th>Symbol</th>\n      <th>Type</th>\n      <th>Values</th>\n    </tr>\n  </thead>\n  <tbody>\n    <tr>\n      <th>0</th>\n      <td>2016</td>\n      <td>AAPL</td>\n      <td>Shares</td>\n      <td>80</td>\n    </tr>\n    <tr>\n      <th>1</th>\n      <td>2016</td>\n      <td>AAPL</td>\n      <td>Low</td>\n      <td>95</td>\n    </tr>\n    <tr>\n      <th>2</th>\n      <td>2016</td>\n      <td>AAPL</td>\n      <td>High</td>\n      <td>110</td>\n    </tr>\n    <tr>\n      <th>3</th>\n      <td>2016</td>\n      <td>TSLA</td>\n      <td>Shares</td>\n      <td>50</td>\n    </tr>\n    <tr>\n      <th>4</th>\n      <td>2016</td>\n      <td>TSLA</td>\n      <td>Low</td>\n      <td>80</td>\n    </tr>\n    <tr>\n      <th>5</th>\n      <td>2016</td>\n      <td>TSLA</td>\n      <td>High</td>\n      <td>130</td>\n    </tr>\n    <tr>\n      <th>6</th>\n      <td>2016</td>\n      <td>WMT</td>\n      <td>Shares</td>\n      <td>40</td>\n    </tr>\n    <tr>\n      <th>7</th>\n      <td>2016</td>\n      <td>WMT</td>\n      <td>Low</td>\n      <td>55</td>\n    </tr>\n    <tr>\n      <th>8</th>\n      <td>2016</td>\n      <td>WMT</td>\n      <td>High</td>\n      <td>70</td>\n    </tr>\n    <tr>\n      <th>9</th>\n      <td>2017</td>\n      <td>AAPL</td>\n      <td>Shares</td>\n      <td>50</td>\n    </tr>\n    <tr>\n      <th>10</th>\n      <td>2017</td>\n      <td>AAPL</td>\n      <td>Low</td>\n      <td>120</td>\n    </tr>\n    <tr>\n      <th>11</th>\n      <td>2017</td>\n      <td>AAPL</td>\n      <td>High</td>\n      <td>140</td>\n    </tr>\n    <tr>\n      <th>12</th>\n      <td>2017</td>\n      <td>GE</td>\n      <td>Shares</td>\n      <td>100</td>\n    </tr>\n    <tr>\n      <th>13</th>\n      <td>2017</td>\n      <td>GE</td>\n      <td>Low</td>\n      <td>30</td>\n    </tr>\n    <tr>\n      <th>14</th>\n      <td>2017</td>\n      <td>GE</td>\n      <td>High</td>\n      <td>40</td>\n    </tr>\n    <tr>\n      <th>15</th>\n      <td>2017</td>\n      <td>IBM</td>\n      <td>Shares</td>\n      <td>87</td>\n    </tr>\n    <tr>\n      <th>16</th>\n      <td>2017</td>\n      <td>IBM</td>\n      <td>Low</td>\n      <td>75</td>\n    </tr>\n    <tr>\n      <th>17</th>\n      <td>2017</td>\n      <td>IBM</td>\n      <td>High</td>\n      <td>95</td>\n    </tr>\n    <tr>\n      <th>18</th>\n      <td>2017</td>\n      <td>SLB</td>\n      <td>Shares</td>\n      <td>20</td>\n    </tr>\n    <tr>\n      <th>19</th>\n      <td>2017</td>\n      <td>SLB</td>\n      <td>Low</td>\n      <td>55</td>\n    </tr>\n    <tr>\n      <th>20</th>\n      <td>2017</td>\n      <td>SLB</td>\n      <td>High</td>\n      <td>85</td>\n    </tr>\n    <tr>\n      <th>21</th>\n      <td>2017</td>\n      <td>TXN</td>\n      <td>Shares</td>\n      <td>500</td>\n    </tr>\n    <tr>\n      <th>22</th>\n      <td>2017</td>\n      <td>TXN</td>\n      <td>Low</td>\n      <td>15</td>\n    </tr>\n    <tr>\n      <th>23</th>\n      <td>2017</td>\n      <td>TXN</td>\n      <td>High</td>\n      <td>23</td>\n    </tr>\n    <tr>\n      <th>24</th>\n      <td>2017</td>\n      <td>TSLA</td>\n      <td>Shares</td>\n      <td>100</td>\n    </tr>\n    <tr>\n      <th>25</th>\n      <td>2017</td>\n      <td>TSLA</td>\n      <td>Low</td>\n      <td>100</td>\n    </tr>\n    <tr>\n      <th>26</th>\n      <td>2017</td>\n      <td>TSLA</td>\n      <td>High</td>\n      <td>300</td>\n    </tr>\n  </tbody>\n</table>\n</div>"
     },
     "execution_count": 11,
     "metadata": {},
     "output_type": "execute_result"
    }
   ],
   "source": [
    "#Deshaciendo\n",
    "pd_concat.rename({2: \"Type\"}, axis='columns')\n",
    "pd_concat.stack().rename_axis(['Year', 'Symbol', 'Type']).reset_index(name='Values')"
   ],
   "metadata": {
    "collapsed": false,
    "pycharm": {
     "name": "#%%\n"
    }
   }
  },
  {
   "cell_type": "code",
   "execution_count": 12,
   "outputs": [
    {
     "data": {
      "text/plain": "Year     2016                2017              \n       Shares   Low   High Shares    Low   High\nSymbol                                         \nAAPL     80.0  95.0  110.0   50.0  120.0  140.0\nTSLA     50.0  80.0  130.0  100.0  100.0  300.0\nWMT      40.0  55.0   70.0    NaN    NaN    NaN\nGE        NaN   NaN    NaN  100.0   30.0   40.0\nIBM       NaN   NaN    NaN   87.0   75.0   95.0\nSLB       NaN   NaN    NaN   20.0   55.0   85.0\nTXN       NaN   NaN    NaN  500.0   15.0   23.0",
      "text/html": "<div>\n<style scoped>\n    .dataframe tbody tr th:only-of-type {\n        vertical-align: middle;\n    }\n\n    .dataframe tbody tr th {\n        vertical-align: top;\n    }\n\n    .dataframe thead tr th {\n        text-align: left;\n    }\n\n    .dataframe thead tr:last-of-type th {\n        text-align: right;\n    }\n</style>\n<table border=\"1\" class=\"dataframe\">\n  <thead>\n    <tr>\n      <th>Year</th>\n      <th colspan=\"3\" halign=\"left\">2016</th>\n      <th colspan=\"3\" halign=\"left\">2017</th>\n    </tr>\n    <tr>\n      <th></th>\n      <th>Shares</th>\n      <th>Low</th>\n      <th>High</th>\n      <th>Shares</th>\n      <th>Low</th>\n      <th>High</th>\n    </tr>\n    <tr>\n      <th>Symbol</th>\n      <th></th>\n      <th></th>\n      <th></th>\n      <th></th>\n      <th></th>\n      <th></th>\n    </tr>\n  </thead>\n  <tbody>\n    <tr>\n      <th>AAPL</th>\n      <td>80.0</td>\n      <td>95.0</td>\n      <td>110.0</td>\n      <td>50.0</td>\n      <td>120.0</td>\n      <td>140.0</td>\n    </tr>\n    <tr>\n      <th>TSLA</th>\n      <td>50.0</td>\n      <td>80.0</td>\n      <td>130.0</td>\n      <td>100.0</td>\n      <td>100.0</td>\n      <td>300.0</td>\n    </tr>\n    <tr>\n      <th>WMT</th>\n      <td>40.0</td>\n      <td>55.0</td>\n      <td>70.0</td>\n      <td>NaN</td>\n      <td>NaN</td>\n      <td>NaN</td>\n    </tr>\n    <tr>\n      <th>GE</th>\n      <td>NaN</td>\n      <td>NaN</td>\n      <td>NaN</td>\n      <td>100.0</td>\n      <td>30.0</td>\n      <td>40.0</td>\n    </tr>\n    <tr>\n      <th>IBM</th>\n      <td>NaN</td>\n      <td>NaN</td>\n      <td>NaN</td>\n      <td>87.0</td>\n      <td>75.0</td>\n      <td>95.0</td>\n    </tr>\n    <tr>\n      <th>SLB</th>\n      <td>NaN</td>\n      <td>NaN</td>\n      <td>NaN</td>\n      <td>20.0</td>\n      <td>55.0</td>\n      <td>85.0</td>\n    </tr>\n    <tr>\n      <th>TXN</th>\n      <td>NaN</td>\n      <td>NaN</td>\n      <td>NaN</td>\n      <td>500.0</td>\n      <td>15.0</td>\n      <td>23.0</td>\n    </tr>\n  </tbody>\n</table>\n</div>"
     },
     "execution_count": 12,
     "metadata": {},
     "output_type": "execute_result"
    }
   ],
   "source": [
    "# Sinnmilar al anterior, pero el nuevo nivel de índice en las columnas\n",
    "pd.concat(s_list, keys=['2016', '2017'], axis='columns', names=['Year', None])\n"
   ],
   "metadata": {
    "collapsed": false,
    "pycharm": {
     "name": "#%%\n"
    }
   }
  },
  {
   "cell_type": "markdown",
   "source": [
    "## Uniendo varios datasets por columnas"
   ],
   "metadata": {
    "collapsed": false,
    "pycharm": {
     "name": "#%% md\n"
    }
   }
  },
  {
   "cell_type": "code",
   "execution_count": 13,
   "outputs": [],
   "source": [
    "names = ['prices', 'transactions']\n",
    "food_tables = [pd.read_csv('data/food_{}.csv'.format(name)) for name in names]\n",
    "food_prices, food_transactions = food_tables"
   ],
   "metadata": {
    "collapsed": false,
    "pycharm": {
     "name": "#%%\n"
    }
   }
  },
  {
   "cell_type": "code",
   "execution_count": 14,
   "outputs": [
    {
     "data": {
      "text/plain": "     item store  price  Date\n0    pear     A   0.99  2017\n1    pear     B   1.99  2017\n2   peach     A   2.99  2017\n3   peach     B   3.49  2017\n4  banana     A   0.39  2017\n5  banana     B   0.49  2017\n6   steak     A   5.99  2017\n7   steak     B   6.99  2017\n8   steak     B   4.99  2015",
      "text/html": "<div>\n<style scoped>\n    .dataframe tbody tr th:only-of-type {\n        vertical-align: middle;\n    }\n\n    .dataframe tbody tr th {\n        vertical-align: top;\n    }\n\n    .dataframe thead th {\n        text-align: right;\n    }\n</style>\n<table border=\"1\" class=\"dataframe\">\n  <thead>\n    <tr style=\"text-align: right;\">\n      <th></th>\n      <th>item</th>\n      <th>store</th>\n      <th>price</th>\n      <th>Date</th>\n    </tr>\n  </thead>\n  <tbody>\n    <tr>\n      <th>0</th>\n      <td>pear</td>\n      <td>A</td>\n      <td>0.99</td>\n      <td>2017</td>\n    </tr>\n    <tr>\n      <th>1</th>\n      <td>pear</td>\n      <td>B</td>\n      <td>1.99</td>\n      <td>2017</td>\n    </tr>\n    <tr>\n      <th>2</th>\n      <td>peach</td>\n      <td>A</td>\n      <td>2.99</td>\n      <td>2017</td>\n    </tr>\n    <tr>\n      <th>3</th>\n      <td>peach</td>\n      <td>B</td>\n      <td>3.49</td>\n      <td>2017</td>\n    </tr>\n    <tr>\n      <th>4</th>\n      <td>banana</td>\n      <td>A</td>\n      <td>0.39</td>\n      <td>2017</td>\n    </tr>\n    <tr>\n      <th>5</th>\n      <td>banana</td>\n      <td>B</td>\n      <td>0.49</td>\n      <td>2017</td>\n    </tr>\n    <tr>\n      <th>6</th>\n      <td>steak</td>\n      <td>A</td>\n      <td>5.99</td>\n      <td>2017</td>\n    </tr>\n    <tr>\n      <th>7</th>\n      <td>steak</td>\n      <td>B</td>\n      <td>6.99</td>\n      <td>2017</td>\n    </tr>\n    <tr>\n      <th>8</th>\n      <td>steak</td>\n      <td>B</td>\n      <td>4.99</td>\n      <td>2015</td>\n    </tr>\n  </tbody>\n</table>\n</div>"
     },
     "execution_count": 14,
     "metadata": {},
     "output_type": "execute_result"
    }
   ],
   "source": [
    "food_prices"
   ],
   "metadata": {
    "collapsed": false,
    "pycharm": {
     "name": "#%%\n"
    }
   }
  },
  {
   "cell_type": "code",
   "execution_count": 15,
   "outputs": [
    {
     "data": {
      "text/plain": "   custid     item store  quantity\n0       1     pear     A         5\n1       1   banana     A        10\n2       2    steak     B         3\n3       2     pear     B         1\n4       2    peach     B         2\n5       2    steak     B         1\n6       2  coconut     B         4",
      "text/html": "<div>\n<style scoped>\n    .dataframe tbody tr th:only-of-type {\n        vertical-align: middle;\n    }\n\n    .dataframe tbody tr th {\n        vertical-align: top;\n    }\n\n    .dataframe thead th {\n        text-align: right;\n    }\n</style>\n<table border=\"1\" class=\"dataframe\">\n  <thead>\n    <tr style=\"text-align: right;\">\n      <th></th>\n      <th>custid</th>\n      <th>item</th>\n      <th>store</th>\n      <th>quantity</th>\n    </tr>\n  </thead>\n  <tbody>\n    <tr>\n      <th>0</th>\n      <td>1</td>\n      <td>pear</td>\n      <td>A</td>\n      <td>5</td>\n    </tr>\n    <tr>\n      <th>1</th>\n      <td>1</td>\n      <td>banana</td>\n      <td>A</td>\n      <td>10</td>\n    </tr>\n    <tr>\n      <th>2</th>\n      <td>2</td>\n      <td>steak</td>\n      <td>B</td>\n      <td>3</td>\n    </tr>\n    <tr>\n      <th>3</th>\n      <td>2</td>\n      <td>pear</td>\n      <td>B</td>\n      <td>1</td>\n    </tr>\n    <tr>\n      <th>4</th>\n      <td>2</td>\n      <td>peach</td>\n      <td>B</td>\n      <td>2</td>\n    </tr>\n    <tr>\n      <th>5</th>\n      <td>2</td>\n      <td>steak</td>\n      <td>B</td>\n      <td>1</td>\n    </tr>\n    <tr>\n      <th>6</th>\n      <td>2</td>\n      <td>coconut</td>\n      <td>B</td>\n      <td>4</td>\n    </tr>\n  </tbody>\n</table>\n</div>"
     },
     "execution_count": 15,
     "metadata": {},
     "output_type": "execute_result"
    }
   ],
   "source": [
    "food_transactions"
   ],
   "metadata": {
    "collapsed": false,
    "pycharm": {
     "name": "#%%\n"
    }
   }
  },
  {
   "cell_type": "code",
   "execution_count": 16,
   "outputs": [
    {
     "data": {
      "text/plain": "   custid    item store  quantity  price  Date\n0       1    pear     A         5   0.99  2017\n1       1  banana     A        10   0.39  2017\n2       2   steak     B         3   6.99  2017\n3       2   steak     B         3   4.99  2015\n4       2   steak     B         1   6.99  2017\n5       2   steak     B         1   4.99  2015\n6       2    pear     B         1   1.99  2017\n7       2   peach     B         2   3.49  2017",
      "text/html": "<div>\n<style scoped>\n    .dataframe tbody tr th:only-of-type {\n        vertical-align: middle;\n    }\n\n    .dataframe tbody tr th {\n        vertical-align: top;\n    }\n\n    .dataframe thead th {\n        text-align: right;\n    }\n</style>\n<table border=\"1\" class=\"dataframe\">\n  <thead>\n    <tr style=\"text-align: right;\">\n      <th></th>\n      <th>custid</th>\n      <th>item</th>\n      <th>store</th>\n      <th>quantity</th>\n      <th>price</th>\n      <th>Date</th>\n    </tr>\n  </thead>\n  <tbody>\n    <tr>\n      <th>0</th>\n      <td>1</td>\n      <td>pear</td>\n      <td>A</td>\n      <td>5</td>\n      <td>0.99</td>\n      <td>2017</td>\n    </tr>\n    <tr>\n      <th>1</th>\n      <td>1</td>\n      <td>banana</td>\n      <td>A</td>\n      <td>10</td>\n      <td>0.39</td>\n      <td>2017</td>\n    </tr>\n    <tr>\n      <th>2</th>\n      <td>2</td>\n      <td>steak</td>\n      <td>B</td>\n      <td>3</td>\n      <td>6.99</td>\n      <td>2017</td>\n    </tr>\n    <tr>\n      <th>3</th>\n      <td>2</td>\n      <td>steak</td>\n      <td>B</td>\n      <td>3</td>\n      <td>4.99</td>\n      <td>2015</td>\n    </tr>\n    <tr>\n      <th>4</th>\n      <td>2</td>\n      <td>steak</td>\n      <td>B</td>\n      <td>1</td>\n      <td>6.99</td>\n      <td>2017</td>\n    </tr>\n    <tr>\n      <th>5</th>\n      <td>2</td>\n      <td>steak</td>\n      <td>B</td>\n      <td>1</td>\n      <td>4.99</td>\n      <td>2015</td>\n    </tr>\n    <tr>\n      <th>6</th>\n      <td>2</td>\n      <td>pear</td>\n      <td>B</td>\n      <td>1</td>\n      <td>1.99</td>\n      <td>2017</td>\n    </tr>\n    <tr>\n      <th>7</th>\n      <td>2</td>\n      <td>peach</td>\n      <td>B</td>\n      <td>2</td>\n      <td>3.49</td>\n      <td>2017</td>\n    </tr>\n  </tbody>\n</table>\n</div>"
     },
     "execution_count": 16,
     "metadata": {},
     "output_type": "execute_result"
    }
   ],
   "source": [
    "food_transactions.merge(food_prices, on=['item', 'store'])\n",
    "\n",
    "\n",
    "## Connecting to SQL databases"
   ],
   "metadata": {
    "collapsed": false,
    "pycharm": {
     "name": "#%%\n"
    }
   }
  }
 ],
 "metadata": {
  "kernelspec": {
   "display_name": "Python 3",
   "language": "python",
   "name": "python3"
  },
  "language_info": {
   "codemirror_mode": {
    "name": "ipython",
    "version": 2
   },
   "file_extension": ".py",
   "mimetype": "text/x-python",
   "name": "python",
   "nbconvert_exporter": "python",
   "pygments_lexer": "ipython2",
   "version": "2.7.6"
  }
 },
 "nbformat": 4,
 "nbformat_minor": 0
}